{
 "cells": [
  {
   "cell_type": "markdown",
   "metadata": {},
   "source": [
    "### Data Science Lab - #2"
   ]
  },
  {
   "cell_type": "markdown",
   "metadata": {},
   "source": [
    "__1.1 Matplotlib availability__"
   ]
  },
  {
   "cell_type": "code",
   "execution_count": 1,
   "metadata": {},
   "outputs": [],
   "source": [
    "from random import gauss\n",
    "import matplotlib.pyplot as plt\n",
    "%matplotlib inline\n"
   ]
  },
  {
   "cell_type": "code",
   "execution_count": null,
   "metadata": {},
   "outputs": [],
   "source": [
    "l = [gauss(0, 1) for _ in range(500)]\n",
    "plt.hist(l, bins = 20)\n",
    "plt.title('Gaussian distribution (mu=0, sigma=1)')\n",
    "plt.show()\n"
   ]
  },
  {
   "cell_type": "markdown",
   "metadata": {},
   "source": [
    "__Global Land Temperature__<br>\n",
    "The Global Land Temperature (GLT) dataset is a large collection of measurements actively maintained\n",
    "by Berkeley Earth. It contains the raw source data measured with stations all around the globe, plus an intermediate format and several formatted output files.<br>Data span from ∼1750 up to recent days with monthly and daily availability. <br>Measurements are provided by hemispheres, states, countries, cities and more. <br>You can read more about the dataset at the Berkeley Earth website.<br>\n",
    "For the purpose of this laboratory you will work on a modified, smaller but dirtier, version of the\n",
    "original GLT dataset, to stress the importance of data preprocessing. <br>More specifically, this didactic version\n",
    "contains the formatted output files of the major cities of the globe with monthly granularity. <br>For the sake of\n",
    "simplicity, the analysis will range between almost two centuries (i.e. between the years 1817 and 2012).\n",
    "<br>The dataset is composed of ∼200k rows corresponding to the measurements taken the first day of the\n",
    "month in a given city. <br>Each measurement is then described by 7 values:\n",
    "- Date, when the measurement was taken\n",
    "- AverageTemperature\n",
    "- AverageTemperatureUncertainty\n",
    "- City, from which the measurement was taken\n",
    "- Country\n",
    "- Latitude\n",
    "- Longitude<br>\n",
    "\n",
    "The dataset is available in CSV format. You can find it at the following URL\n",
    "https://raw.githubusercontent.com/dbdmg/data-science-lab/master/datasets/GLT_filtered.csv"
   ]
  },
  {
   "cell_type": "code",
   "execution_count": null,
   "metadata": {},
   "outputs": [],
   "source": [
    "! python -m wget https://raw.githubusercontent.com/dbdmg/data-science-lab/master/datasets/GLT_filtered.csv -o GLT_filtered.csv"
   ]
  },
  {
   "cell_type": "markdown",
   "metadata": {},
   "source": [
    "IMDb reviews\n",
    "Internet Movie Database (IMDb) is a popular online platform that gathers many information related to\n",
    "multimed like movies, tv shows, video games and many more.<br><br>You can navigate to its website to explore\n",
    "the huge amount of updated content it offers.<br><br>The only difference with the previously used CSV datasets\n",
    "is that, in this one, the first row of the file contains a “header” (i.e.<br>the name of each column).<br>You should skip the first row and start reading from the second one on.\n",
    "IMDb has soon become a rich data source for the scientific community.<br>Among the others, people’s\n",
    "reviews are one of the most important types of data that can be retrieved from the platform.<br>The collection of reviews on a specific movie, for example, contains intrinsic information about its approval rating.\n",
    "Therefore, a considerable amount of recent science works has addressed the identification of the sentiment\n",
    "within textual reviews and surveys.<br>In the context of movie reviews, the sentiment analysis would seek to\n",
    "discover if the reviewer liked the movie or not based on the content of the text, with the sentiment being\n",
    "represented as numerical value (e.g.<br>a score between 1 and 10) or a binary one (e.g Positive or Negative).\n",
    "Wikipedia provides a general overview on the topic of sentiment analysis.\n",
    "During this laboratory you will work on the dataset collected and used by Maas et al.<br>2011.<br>We will\n",
    "focus on a smaller portion of the whole dataset, known as the training data (you will learn more on\n",
    "training and test datasets).<br>It contains 25, 000 user reviews collected from IMDb for different movies.\n",
    "Since each review has also a numerical score between 1 and 10, the authors considered the ones with\n",
    "a score lower than 4 to have a negative sentiment, while the ones with a score higher than 6 to have a\n",
    "positive sentiment.<br>The dataset includes 12, 500 positive and 12, 500 negative reviews.<br>For the purpose of\n",
    "this laboratory, reviews, which originally came in different files, have been organized in a single CSV file.\n",
    "Each line of the file refers to a single review and has two fields:\n",
    "1.<br>the textual comment;\n",
    "Info: you do not have to handle commas inside the text.<br>Each comment comes surrounded by\n",
    "the ¨ character which helps the csv module to properly split the fields for you.\n",
    "i\n",
    "2.<br>a binary value indicating either the positive or negative sentiment, represented respectively by a ’1’ and a ’0’.\n",
    "Here it is a pseudo-representation of the first lines of your dataset:\n",
    "- review,label\n",
    "- <review_text>,1\n",
    "- <review_text>,1\n",
    "- <review_text>,0\n"
   ]
  },
  {
   "cell_type": "code",
   "execution_count": null,
   "metadata": {},
   "outputs": [],
   "source": [
    "! python -m wget https://raw.githubusercontent.com/dbdmg/data-science-lab/master/datasets/aclimdb_reviews_train.txt -o imdb_rev_train.txt"
   ]
  },
  {
   "cell_type": "markdown",
   "metadata": {},
   "source": [
    "### 2.1 Data preprocessing on Global Land Temperature\n"
   ]
  },
  {
   "cell_type": "markdown",
   "metadata": {},
   "source": [
    "1. Load the Global Land Temperature dataset as a list of lists. Before starting, take a moment to better inspect the attributes you are going to work on. How many of them are nominal, how many\n",
    "continuous or discrete?"
   ]
  },
  {
   "cell_type": "code",
   "execution_count": 2,
   "metadata": {},
   "outputs": [],
   "source": [
    "import csv\n",
    "import numpy as np\n",
    "import pandas as pd\n",
    "from pprint import pprint"
   ]
  },
  {
   "cell_type": "code",
   "execution_count": null,
   "metadata": {},
   "outputs": [],
   "source": [
    "temp_data = []\n",
    "file = 'GLT_filtered.csv'\n",
    "with open(file, encoding= \"utf8\", mode= \"r\") as f:\n",
    "    #labels = next(f)\n",
    "    next(f)\n",
    "    temp_data = [row for row in csv.reader(f)]\n"
   ]
  },
  {
   "cell_type": "code",
   "execution_count": null,
   "metadata": {},
   "outputs": [],
   "source": [
    "pprint(temp_data[:10], indent = 2, compact = True)"
   ]
  },
  {
   "source": [
    "__Variable Types__\n",
    "\n",
    "![](vars.png)"
   ],
   "cell_type": "markdown",
   "metadata": {}
  },
  {
   "source": [
    "__Discrete data:__ when the variable is restricted to specific defined values<br>For example, \"male\" or \"female\" are categorical discrete data values<br>Mortality (eg 20 patients dead at 6 months) is an example of numerical discrete data values<br>There can be no 20.5 dead patients<br> \n",
    "\n",
    "__Continuous  data:__ when the variable is unrestricted and can have any value from a potentially infinite range, eg<br>\"blue\" and \"red\" might be the categorical data range but the true value can be any subtle shade of purple<br>An example of numeric continuous data is weight - i.e. one does not have to be exactly 65 or 70 kg; one may easily be 67.5567kg."
   ],
   "cell_type": "markdown",
   "metadata": {}
  },
  {
   "source": [
    "Continuous Variables of our data:\n",
    "\n",
    "    AverageTemperature\n",
    "    AverageTemperatureUncertainty\n",
    "    Latitude\n",
    "    Longitude\n",
    "    \n",
    "Categorical/nominal Variables of our data:\n",
    "\n",
    "    City\n",
    "    Country\n",
    "\n",
    "Ratio Variables\n",
    "\n",
    "    AverageTemperature\n",
    "    AverageTemperatureUncertainty\n",
    "\n",
    "Interval Variables\n",
    "\n",
    "    Latitude\n",
    "    Longitude\n"
   ],
   "cell_type": "markdown",
   "metadata": {}
  },
  {
   "source": [
    "Nominal data: the range of values is not ordered in any sense, but simply named (hence the nom). Again, blood groups, gender, etc. This is a form of categorical data.\n",
    "\n",
    "Ordinal data: the range of values is ordered along a scale, e.g. disease staging (advanced, moderate, mild) or degree of pain (severe, moderate, mild, none). "
   ],
   "cell_type": "markdown",
   "metadata": {}
  },
  {
   "source": [
    "- Qualitative data: described by a characteristic\n",
    "  - Categorical (i.e. described as a category)\n",
    "    - Nominal data: an unordered list of categories\n",
    "- Quantitative data: described by a numerical scale\n",
    "  - Numerical (i.e. described as a number)\n",
    "    - Ordinal (in a scale, or ordered by magnitide)\n",
    "    - Discrete (where the data plugs into a limited range of values)\n",
    "    - Continuous (where there is an infinite range of possible values)\n",
    "        - Interval (no true zero value)\n",
    "        - Ratio (there is a true zero value)"
   ],
   "cell_type": "markdown",
   "metadata": {}
  },
  {
   "source": [
    "2. Analyze the attribute AverageTemperature, which contains missing values.  \n",
    "Fill any gap with the arithmetic mean among the closest antecedent and the closest successive measurements in time, taken in the same city.  \n",
    "Assume the following rules for edge cases:  \n",
    "\n",
    "__(a)__ it can happen that a missing value does not have a preceding (or successive) measurement.\n",
    "This happens when the missing value is the first (or last) value of the dataset.  \n",
    "If this is the case, consider the missing value to be preceded (or followed) by a 0, then compute the mean\n",
    "accordingly.\n",
    "```\n",
    "    original_list = [ '', 5, 6, '' ]  \n",
    "    step_1 = [ 2.5, 5, 6, '' ] # (0 + 5) / 2  \n",
    "    step_2 = [ 2.5, 5, 6, 3 ] # (6 + 0) / 2  \n",
    "```\n",
    "__(b)__ if there are consecutive missing values, just compute them in temporal order and use the newly\n",
    "inserted values to evaluate the following ones.  \n",
    "Here it is an example with a simple list where both (a) and (b) rules have been applied:\n",
    "```\n",
    "    original_list = [ '', '', 24, 28.9 ]\n",
    "    step_1 = [ 12, '', 24, 28.9 ] # (0 + 24) / 2\n",
    "    step_2 = [ 12, 18, 24, 28.9 ] # (12 + 24) / 2\n",
    "```"
   ],
   "cell_type": "markdown",
   "metadata": {}
  },
  {
   "cell_type": "code",
   "execution_count": null,
   "metadata": {},
   "outputs": [],
   "source": [
    "labels = {i:x for i,x in enumerate(labels.strip().split(\",\"))}\n"
   ]
  },
  {
   "cell_type": "code",
   "execution_count": 35,
   "metadata": {},
   "outputs": [
    {
     "output_type": "execute_result",
     "data": {
      "text/plain": [
       "{0: 'Date',\n",
       " 1: 'AverageTemperature',\n",
       " 2: 'AverageTemperatureUncertainty',\n",
       " 3: 'City',\n",
       " 4: 'Country',\n",
       " 5: 'Latitude',\n",
       " 6: 'Longitude'}"
      ]
     },
     "metadata": {},
     "execution_count": 35
    }
   ],
   "source": [
    "labels"
   ]
  },
  {
   "cell_type": "code",
   "execution_count": 3,
   "metadata": {},
   "outputs": [],
   "source": [
    "from copy import deepcopy"
   ]
  },
  {
   "cell_type": "code",
   "execution_count": null,
   "metadata": {},
   "outputs": [],
   "source": [
    "? deepcopy"
   ]
  },
  {
   "cell_type": "code",
   "execution_count": null,
   "metadata": {},
   "outputs": [],
   "source": [
    "temp_data_copy = deepcopy(temp_data)"
   ]
  },
  {
   "cell_type": "code",
   "execution_count": null,
   "metadata": {},
   "outputs": [],
   "source": [
    "# Total missing values\n",
    "sum([x[1] == \"\" for x in temp_data])"
   ]
  },
  {
   "cell_type": "code",
   "execution_count": 36,
   "metadata": {},
   "outputs": [],
   "source": [
    "temp_data = deepcopy(temp_data_copy)"
   ]
  },
  {
   "cell_type": "code",
   "execution_count": 37,
   "metadata": {},
   "outputs": [],
   "source": [
    "def prev_next_temp(temp_data, i):\n",
    "    prev_temp, next_temp = \"_\",\"_\"\n",
    "    if i == 0 or temp_data[i - 1][3] != temp_data[i][3]:\n",
    "        #starting line of file, or city\n",
    "        prev_temp = \"0\"\n",
    "    else:\n",
    "        prev_temp = temp_data[i - 1][1]\n",
    "\n",
    "    while temp_data[i][1] == \"\":\n",
    "        i += 1\n",
    "        if i == len(temp_data) - 1 or temp_data[i - 1][3] != temp_data[i][3]:\n",
    "            # last line of file or a new city started\n",
    "            return (prev_temp, \"0\")\n",
    "\n",
    "    return prev_temp, temp_data[i][1]\n",
    "\n",
    "for i in range(len(temp_data)):\n",
    "    if temp_data[i][1] == \"\":\n",
    "        # Avg Temprature is missing\n",
    "        prev_temp, next_temp = prev_next_temp(temp_data, i)\n",
    "        avg_temp = eval(f\"({prev_temp} + {next_temp})/2\")\n",
    "        temp_data[i][1] = str(avg_temp)\n",
    "        #print(prev_temp, next_temp, avg_temp)"
   ]
  },
  {
   "cell_type": "code",
   "execution_count": 38,
   "metadata": {},
   "outputs": [
    {
     "output_type": "execute_result",
     "data": {
      "text/plain": [
       "0"
      ]
     },
     "metadata": {},
     "execution_count": 38
    }
   ],
   "source": [
    "# Total missing values\n",
    "sum([x[1] == \"\" for x in temp_data])"
   ]
  },
  {
   "source": [
    "It means that we have a non empty value for all Cities as their Avg Temprature.  \n",
    "lets convert Them to floating point with a decent precision."
   ],
   "cell_type": "markdown",
   "metadata": {}
  },
  {
   "cell_type": "code",
   "execution_count": 68,
   "metadata": {},
   "outputs": [],
   "source": [
    "for i in range(len(temp_data)):\n",
    "    temp_data[i][1] = float(temp_data[i][1]).__round__(5)"
   ]
  },
  {
   "source": [
    "3. Define a function that, given the name of a city and an integer N > 0,  \n",
    "prints:  \n",
    "- the top N hottest measurements;\n",
    "- the top N coldest measurements."
   ],
   "cell_type": "markdown",
   "metadata": {}
  },
  {
   "cell_type": "code",
   "execution_count": 76,
   "metadata": {},
   "outputs": [],
   "source": [
    "def find_N_min_max_temps(temp_data, city, N):\n",
    "    # filter on the base of city\n",
    "    city_temps = [x for x in temp_data if x[3] == city]\n",
    "    city_temps.sort(key = lambda x: x[1])\n",
    "    print(f\"the top {N} coldest measurements for {city} are:\")\n",
    "    pprint(city_temps[:N+1], compact= True, width= 100)\n",
    "    print(f\"\\n\\n the top {N} hottest measurements for {city} are:\")\n",
    "    pprint(city_temps[-N:], compact= True, width= 100)\n",
    "    \n"
   ]
  },
  {
   "cell_type": "code",
   "execution_count": 77,
   "metadata": {},
   "outputs": [
    {
     "output_type": "stream",
     "name": "stdout",
     "text": [
      "the top 5 coldest measurements for Lahore are:\n[['1905-02-01', 9.343, '0.493', 'Lahore', 'Pakistan', '31.35N', '73.51E'],\n ['1964-01-01', 9.864, '0.24600000000000002', 'Lahore', 'Pakistan', '31.35N', '73.51E'],\n ['1934-01-01', 9.936, '0.4970000000000001', 'Lahore', 'Pakistan', '31.35N', '73.51E'],\n ['1899-01-01', 10.202, '0.722', 'Lahore', 'Pakistan', '31.35N', '73.51E'],\n ['1819-01-01', 10.219, '2.306', 'Lahore', 'Pakistan', '31.35N', '73.51E'],\n ['1905-01-01', 10.261, '0.7609999999999999', 'Lahore', 'Pakistan', '31.35N', '73.51E']]\n\n\n the top 5 hottest measurements for Lahore are:\n[['1984-06-01', 35.596, '0.319', 'Lahore', 'Pakistan', '31.35N', '73.51E'],\n ['2012-06-01', 35.649, '0.245', 'Lahore', 'Pakistan', '31.35N', '73.51E'],\n ['1995-06-01', 35.878, '0.384', 'Lahore', 'Pakistan', '31.35N', '73.51E'],\n ['1919-06-01', 36.211, '0.768', 'Lahore', 'Pakistan', '31.35N', '73.51E'],\n ['1947-06-01', 36.346, '0.299', 'Lahore', 'Pakistan', '31.35N', '73.51E']]\n"
     ]
    }
   ],
   "source": [
    "city = \"Lahore\"\n",
    "N = 5\n",
    "find_N_min_max_temps(temp_data, city, N)"
   ]
  },
  {
   "source": [
    "4. (*) Let’s search for other anomalies in data distribution with the help of matplotlib.  \n",
    "Plot the distribution of the average land temperatures for Rome and Bangkok using the aforementioned histogram\n",
    "plotting function.  \n",
    "Info: calling the plt.hist() method twice will draw the second histogram onto the canvas  \n",
    "generated by the first call.\n",
    "\n",
    "As you can see, Rome and Bangkok have very different temperature distributions, but this seems\n",
    "plausible. What it looks strange is the large difference in their temperatures’ magnitude. Is it possible\n",
    "that all sensors from Bangkok stations, along the entire time-span, were faulty? Could they were\n",
    "configured to use another representation of the temperature measurement? Can you figure out a\n",
    "data cleaning step to solve it?\n",
    "Before continuing, try to answer to these questions"
   ],
   "cell_type": "markdown",
   "metadata": {}
  },
  {
   "cell_type": "code",
   "execution_count": 79,
   "metadata": {},
   "outputs": [
    {
     "output_type": "execute_result",
     "data": {
      "text/plain": [
       "(2352, 2352)"
      ]
     },
     "metadata": {},
     "execution_count": 79
    }
   ],
   "source": [
    "rome_temps = [x[1] for x in temp_data if x[3] == \"Rome\"]\n",
    "Bangkok_temps = [x[1] for x in temp_data if x[3] == \"Bangkok\"]\n",
    "len(rome_temps), len(Bangkok_temps)"
   ]
  },
  {
   "cell_type": "code",
   "execution_count": 82,
   "metadata": {},
   "outputs": [
    {
     "output_type": "display_data",
     "data": {
      "text/plain": "<Figure size 432x288 with 1 Axes>",
      "image/svg+xml": "<?xml version=\"1.0\" encoding=\"utf-8\" standalone=\"no\"?>\r\n<!DOCTYPE svg PUBLIC \"-//W3C//DTD SVG 1.1//EN\"\r\n  \"http://www.w3.org/Graphics/SVG/1.1/DTD/svg11.dtd\">\r\n<!-- Created with matplotlib (https://matplotlib.org/) -->\r\n<svg height=\"248.518125pt\" version=\"1.1\" viewBox=\"0 0 375.2875 248.518125\" width=\"375.2875pt\" xmlns=\"http://www.w3.org/2000/svg\" xmlns:xlink=\"http://www.w3.org/1999/xlink\">\r\n <metadata>\r\n  <rdf:RDF xmlns:cc=\"http://creativecommons.org/ns#\" xmlns:dc=\"http://purl.org/dc/elements/1.1/\" xmlns:rdf=\"http://www.w3.org/1999/02/22-rdf-syntax-ns#\">\r\n   <cc:Work>\r\n    <dc:type rdf:resource=\"http://purl.org/dc/dcmitype/StillImage\"/>\r\n    <dc:date>2020-10-18T19:09:36.189962</dc:date>\r\n    <dc:format>image/svg+xml</dc:format>\r\n    <dc:creator>\r\n     <cc:Agent>\r\n      <dc:title>Matplotlib v3.3.2, https://matplotlib.org/</dc:title>\r\n     </cc:Agent>\r\n    </dc:creator>\r\n   </cc:Work>\r\n  </rdf:RDF>\r\n </metadata>\r\n <defs>\r\n  <style type=\"text/css\">*{stroke-linecap:butt;stroke-linejoin:round;}</style>\r\n </defs>\r\n <g id=\"figure_1\">\r\n  <g id=\"patch_1\">\r\n   <path d=\"M 0 248.518125 \r\nL 375.2875 248.518125 \r\nL 375.2875 0 \r\nL 0 0 \r\nz\r\n\" style=\"fill:none;\"/>\r\n  </g>\r\n  <g id=\"axes_1\">\r\n   <g id=\"patch_2\">\r\n    <path d=\"M 33.2875 224.64 \r\nL 368.0875 224.64 \r\nL 368.0875 7.2 \r\nL 33.2875 7.2 \r\nz\r\n\" style=\"fill:#ffffff;\"/>\r\n   </g>\r\n   <g id=\"patch_3\">\r\n    <path clip-path=\"url(#pa4e0ff9646)\" d=\"M 48.505682 224.64 \r\nL 50.36981 224.64 \r\nL 50.36981 220.138137 \r\nL 48.505682 220.138137 \r\nz\r\n\" style=\"fill:#1f77b4;\"/>\r\n   </g>\r\n   <g id=\"patch_4\">\r\n    <path clip-path=\"url(#pa4e0ff9646)\" d=\"M 50.36981 224.64 \r\nL 52.233939 224.64 \r\nL 52.233939 218.637516 \r\nL 50.36981 218.637516 \r\nz\r\n\" style=\"fill:#1f77b4;\"/>\r\n   </g>\r\n   <g id=\"patch_5\">\r\n    <path clip-path=\"url(#pa4e0ff9646)\" d=\"M 52.233939 224.64 \r\nL 54.098068 224.64 \r\nL 54.098068 214.135652 \r\nL 52.233939 214.135652 \r\nz\r\n\" style=\"fill:#1f77b4;\"/>\r\n   </g>\r\n   <g id=\"patch_6\">\r\n    <path clip-path=\"url(#pa4e0ff9646)\" d=\"M 54.098068 224.64 \r\nL 55.962196 224.64 \r\nL 55.962196 209.633789 \r\nL 54.098068 209.633789 \r\nz\r\n\" style=\"fill:#1f77b4;\"/>\r\n   </g>\r\n   <g id=\"patch_7\">\r\n    <path clip-path=\"url(#pa4e0ff9646)\" d=\"M 55.962196 224.64 \r\nL 57.826325 224.64 \r\nL 57.826325 197.62882 \r\nL 55.962196 197.62882 \r\nz\r\n\" style=\"fill:#1f77b4;\"/>\r\n   </g>\r\n   <g id=\"patch_8\">\r\n    <path clip-path=\"url(#pa4e0ff9646)\" d=\"M 57.826325 224.64 \r\nL 59.690453 224.64 \r\nL 59.690453 190.125714 \r\nL 57.826325 190.125714 \r\nz\r\n\" style=\"fill:#1f77b4;\"/>\r\n   </g>\r\n   <g id=\"patch_9\">\r\n    <path clip-path=\"url(#pa4e0ff9646)\" d=\"M 59.690453 224.64 \r\nL 61.554582 224.64 \r\nL 61.554582 158.612671 \r\nL 59.690453 158.612671 \r\nz\r\n\" style=\"fill:#1f77b4;\"/>\r\n   </g>\r\n   <g id=\"patch_10\">\r\n    <path clip-path=\"url(#pa4e0ff9646)\" d=\"M 61.554582 224.64 \r\nL 63.418711 224.64 \r\nL 63.418711 151.109565 \r\nL 61.554582 151.109565 \r\nz\r\n\" style=\"fill:#1f77b4;\"/>\r\n   </g>\r\n   <g id=\"patch_11\">\r\n    <path clip-path=\"url(#pa4e0ff9646)\" d=\"M 63.418711 224.64 \r\nL 65.282839 224.64 \r\nL 65.282839 127.099627 \r\nL 63.418711 127.099627 \r\nz\r\n\" style=\"fill:#1f77b4;\"/>\r\n   </g>\r\n   <g id=\"patch_12\">\r\n    <path clip-path=\"url(#pa4e0ff9646)\" d=\"M 65.282839 224.64 \r\nL 67.146968 224.64 \r\nL 67.146968 88.083478 \r\nL 65.282839 88.083478 \r\nz\r\n\" style=\"fill:#1f77b4;\"/>\r\n   </g>\r\n   <g id=\"patch_13\">\r\n    <path clip-path=\"url(#pa4e0ff9646)\" d=\"M 67.146968 224.64 \r\nL 69.011096 224.64 \r\nL 69.011096 103.089689 \r\nL 67.146968 103.089689 \r\nz\r\n\" style=\"fill:#1f77b4;\"/>\r\n   </g>\r\n   <g id=\"patch_14\">\r\n    <path clip-path=\"url(#pa4e0ff9646)\" d=\"M 69.011096 224.64 \r\nL 70.875225 224.64 \r\nL 70.875225 104.590311 \r\nL 69.011096 104.590311 \r\nz\r\n\" style=\"fill:#1f77b4;\"/>\r\n   </g>\r\n   <g id=\"patch_15\">\r\n    <path clip-path=\"url(#pa4e0ff9646)\" d=\"M 70.875225 224.64 \r\nL 72.739354 224.64 \r\nL 72.739354 110.592795 \r\nL 70.875225 110.592795 \r\nz\r\n\" style=\"fill:#1f77b4;\"/>\r\n   </g>\r\n   <g id=\"patch_16\">\r\n    <path clip-path=\"url(#pa4e0ff9646)\" d=\"M 72.739354 224.64 \r\nL 74.603482 224.64 \r\nL 74.603482 110.592795 \r\nL 72.739354 110.592795 \r\nz\r\n\" style=\"fill:#1f77b4;\"/>\r\n   </g>\r\n   <g id=\"patch_17\">\r\n    <path clip-path=\"url(#pa4e0ff9646)\" d=\"M 74.603482 224.64 \r\nL 76.467611 224.64 \r\nL 76.467611 127.099627 \r\nL 74.603482 127.099627 \r\nz\r\n\" style=\"fill:#1f77b4;\"/>\r\n   </g>\r\n   <g id=\"patch_18\">\r\n    <path clip-path=\"url(#pa4e0ff9646)\" d=\"M 76.467611 224.64 \r\nL 78.331739 224.64 \r\nL 78.331739 112.093416 \r\nL 76.467611 112.093416 \r\nz\r\n\" style=\"fill:#1f77b4;\"/>\r\n   </g>\r\n   <g id=\"patch_19\">\r\n    <path clip-path=\"url(#pa4e0ff9646)\" d=\"M 78.331739 224.64 \r\nL 80.195868 224.64 \r\nL 80.195868 119.596522 \r\nL 78.331739 119.596522 \r\nz\r\n\" style=\"fill:#1f77b4;\"/>\r\n   </g>\r\n   <g id=\"patch_20\">\r\n    <path clip-path=\"url(#pa4e0ff9646)\" d=\"M 80.195868 224.64 \r\nL 82.059997 224.64 \r\nL 82.059997 136.103354 \r\nL 80.195868 136.103354 \r\nz\r\n\" style=\"fill:#1f77b4;\"/>\r\n   </g>\r\n   <g id=\"patch_21\">\r\n    <path clip-path=\"url(#pa4e0ff9646)\" d=\"M 82.059997 224.64 \r\nL 83.924125 224.64 \r\nL 83.924125 133.102112 \r\nL 82.059997 133.102112 \r\nz\r\n\" style=\"fill:#1f77b4;\"/>\r\n   </g>\r\n   <g id=\"patch_22\">\r\n    <path clip-path=\"url(#pa4e0ff9646)\" d=\"M 83.924125 224.64 \r\nL 85.788254 224.64 \r\nL 85.788254 148.108323 \r\nL 83.924125 148.108323 \r\nz\r\n\" style=\"fill:#1f77b4;\"/>\r\n   </g>\r\n   <g id=\"patch_23\">\r\n    <path clip-path=\"url(#pa4e0ff9646)\" d=\"M 85.788254 224.64 \r\nL 87.652382 224.64 \r\nL 87.652382 164.615155 \r\nL 85.788254 164.615155 \r\nz\r\n\" style=\"fill:#1f77b4;\"/>\r\n   </g>\r\n   <g id=\"patch_24\">\r\n    <path clip-path=\"url(#pa4e0ff9646)\" d=\"M 87.652382 224.64 \r\nL 89.516511 224.64 \r\nL 89.516511 146.607702 \r\nL 87.652382 146.607702 \r\nz\r\n\" style=\"fill:#1f77b4;\"/>\r\n   </g>\r\n   <g id=\"patch_25\">\r\n    <path clip-path=\"url(#pa4e0ff9646)\" d=\"M 89.516511 224.64 \r\nL 91.380639 224.64 \r\nL 91.380639 146.607702 \r\nL 89.516511 146.607702 \r\nz\r\n\" style=\"fill:#1f77b4;\"/>\r\n   </g>\r\n   <g id=\"patch_26\">\r\n    <path clip-path=\"url(#pa4e0ff9646)\" d=\"M 91.380639 224.64 \r\nL 93.244768 224.64 \r\nL 93.244768 161.613913 \r\nL 91.380639 161.613913 \r\nz\r\n\" style=\"fill:#1f77b4;\"/>\r\n   </g>\r\n   <g id=\"patch_27\">\r\n    <path clip-path=\"url(#pa4e0ff9646)\" d=\"M 93.244768 224.64 \r\nL 95.108897 224.64 \r\nL 95.108897 164.615155 \r\nL 93.244768 164.615155 \r\nz\r\n\" style=\"fill:#1f77b4;\"/>\r\n   </g>\r\n   <g id=\"patch_28\">\r\n    <path clip-path=\"url(#pa4e0ff9646)\" d=\"M 95.108897 224.64 \r\nL 96.973025 224.64 \r\nL 96.973025 170.61764 \r\nL 95.108897 170.61764 \r\nz\r\n\" style=\"fill:#1f77b4;\"/>\r\n   </g>\r\n   <g id=\"patch_29\">\r\n    <path clip-path=\"url(#pa4e0ff9646)\" d=\"M 96.973025 224.64 \r\nL 98.837154 224.64 \r\nL 98.837154 137.603975 \r\nL 96.973025 137.603975 \r\nz\r\n\" style=\"fill:#1f77b4;\"/>\r\n   </g>\r\n   <g id=\"patch_30\">\r\n    <path clip-path=\"url(#pa4e0ff9646)\" d=\"M 98.837154 224.64 \r\nL 100.701282 224.64 \r\nL 100.701282 152.610186 \r\nL 98.837154 152.610186 \r\nz\r\n\" style=\"fill:#1f77b4;\"/>\r\n   </g>\r\n   <g id=\"patch_31\">\r\n    <path clip-path=\"url(#pa4e0ff9646)\" d=\"M 100.701282 224.64 \r\nL 102.565411 224.64 \r\nL 102.565411 133.102112 \r\nL 100.701282 133.102112 \r\nz\r\n\" style=\"fill:#1f77b4;\"/>\r\n   </g>\r\n   <g id=\"patch_32\">\r\n    <path clip-path=\"url(#pa4e0ff9646)\" d=\"M 102.565411 224.64 \r\nL 104.42954 224.64 \r\nL 104.42954 163.114534 \r\nL 102.565411 163.114534 \r\nz\r\n\" style=\"fill:#1f77b4;\"/>\r\n   </g>\r\n   <g id=\"patch_33\">\r\n    <path clip-path=\"url(#pa4e0ff9646)\" d=\"M 104.42954 224.64 \r\nL 106.293668 224.64 \r\nL 106.293668 163.114534 \r\nL 104.42954 163.114534 \r\nz\r\n\" style=\"fill:#1f77b4;\"/>\r\n   </g>\r\n   <g id=\"patch_34\">\r\n    <path clip-path=\"url(#pa4e0ff9646)\" d=\"M 106.293668 224.64 \r\nL 108.157797 224.64 \r\nL 108.157797 167.616398 \r\nL 106.293668 167.616398 \r\nz\r\n\" style=\"fill:#1f77b4;\"/>\r\n   </g>\r\n   <g id=\"patch_35\">\r\n    <path clip-path=\"url(#pa4e0ff9646)\" d=\"M 108.157797 224.64 \r\nL 110.021925 224.64 \r\nL 110.021925 169.117019 \r\nL 108.157797 169.117019 \r\nz\r\n\" style=\"fill:#1f77b4;\"/>\r\n   </g>\r\n   <g id=\"patch_36\">\r\n    <path clip-path=\"url(#pa4e0ff9646)\" d=\"M 110.021925 224.64 \r\nL 111.886054 224.64 \r\nL 111.886054 167.616398 \r\nL 110.021925 167.616398 \r\nz\r\n\" style=\"fill:#1f77b4;\"/>\r\n   </g>\r\n   <g id=\"patch_37\">\r\n    <path clip-path=\"url(#pa4e0ff9646)\" d=\"M 111.886054 224.64 \r\nL 113.750183 224.64 \r\nL 113.750183 134.602733 \r\nL 111.886054 134.602733 \r\nz\r\n\" style=\"fill:#1f77b4;\"/>\r\n   </g>\r\n   <g id=\"patch_38\">\r\n    <path clip-path=\"url(#pa4e0ff9646)\" d=\"M 113.750183 224.64 \r\nL 115.614311 224.64 \r\nL 115.614311 118.095901 \r\nL 113.750183 118.095901 \r\nz\r\n\" style=\"fill:#1f77b4;\"/>\r\n   </g>\r\n   <g id=\"patch_39\">\r\n    <path clip-path=\"url(#pa4e0ff9646)\" d=\"M 115.614311 224.64 \r\nL 117.47844 224.64 \r\nL 117.47844 115.094658 \r\nL 115.614311 115.094658 \r\nz\r\n\" style=\"fill:#1f77b4;\"/>\r\n   </g>\r\n   <g id=\"patch_40\">\r\n    <path clip-path=\"url(#pa4e0ff9646)\" d=\"M 117.47844 224.64 \r\nL 119.342568 224.64 \r\nL 119.342568 143.60646 \r\nL 117.47844 143.60646 \r\nz\r\n\" style=\"fill:#1f77b4;\"/>\r\n   </g>\r\n   <g id=\"patch_41\">\r\n    <path clip-path=\"url(#pa4e0ff9646)\" d=\"M 119.342568 224.64 \r\nL 121.206697 224.64 \r\nL 121.206697 128.600248 \r\nL 119.342568 128.600248 \r\nz\r\n\" style=\"fill:#1f77b4;\"/>\r\n   </g>\r\n   <g id=\"patch_42\">\r\n    <path clip-path=\"url(#pa4e0ff9646)\" d=\"M 121.206697 224.64 \r\nL 123.070826 224.64 \r\nL 123.070826 139.104596 \r\nL 121.206697 139.104596 \r\nz\r\n\" style=\"fill:#1f77b4;\"/>\r\n   </g>\r\n   <g id=\"patch_43\">\r\n    <path clip-path=\"url(#pa4e0ff9646)\" d=\"M 123.070826 224.64 \r\nL 124.934954 224.64 \r\nL 124.934954 125.599006 \r\nL 123.070826 125.599006 \r\nz\r\n\" style=\"fill:#1f77b4;\"/>\r\n   </g>\r\n   <g id=\"patch_44\">\r\n    <path clip-path=\"url(#pa4e0ff9646)\" d=\"M 124.934954 224.64 \r\nL 126.799083 224.64 \r\nL 126.799083 100.088447 \r\nL 124.934954 100.088447 \r\nz\r\n\" style=\"fill:#1f77b4;\"/>\r\n   </g>\r\n   <g id=\"patch_45\">\r\n    <path clip-path=\"url(#pa4e0ff9646)\" d=\"M 126.799083 224.64 \r\nL 128.663211 224.64 \r\nL 128.663211 110.592795 \r\nL 126.799083 110.592795 \r\nz\r\n\" style=\"fill:#1f77b4;\"/>\r\n   </g>\r\n   <g id=\"patch_46\">\r\n    <path clip-path=\"url(#pa4e0ff9646)\" d=\"M 128.663211 224.64 \r\nL 130.52734 224.64 \r\nL 130.52734 157.11205 \r\nL 128.663211 157.11205 \r\nz\r\n\" style=\"fill:#1f77b4;\"/>\r\n   </g>\r\n   <g id=\"patch_47\">\r\n    <path clip-path=\"url(#pa4e0ff9646)\" d=\"M 130.52734 224.64 \r\nL 132.391469 224.64 \r\nL 132.391469 176.620124 \r\nL 130.52734 176.620124 \r\nz\r\n\" style=\"fill:#1f77b4;\"/>\r\n   </g>\r\n   <g id=\"patch_48\">\r\n    <path clip-path=\"url(#pa4e0ff9646)\" d=\"M 132.391469 224.64 \r\nL 134.255597 224.64 \r\nL 134.255597 199.129441 \r\nL 132.391469 199.129441 \r\nz\r\n\" style=\"fill:#1f77b4;\"/>\r\n   </g>\r\n   <g id=\"patch_49\">\r\n    <path clip-path=\"url(#pa4e0ff9646)\" d=\"M 134.255597 224.64 \r\nL 136.119726 224.64 \r\nL 136.119726 200.630062 \r\nL 134.255597 200.630062 \r\nz\r\n\" style=\"fill:#1f77b4;\"/>\r\n   </g>\r\n   <g id=\"patch_50\">\r\n    <path clip-path=\"url(#pa4e0ff9646)\" d=\"M 136.119726 224.64 \r\nL 137.983854 224.64 \r\nL 137.983854 220.138137 \r\nL 136.119726 220.138137 \r\nz\r\n\" style=\"fill:#1f77b4;\"/>\r\n   </g>\r\n   <g id=\"patch_51\">\r\n    <path clip-path=\"url(#pa4e0ff9646)\" d=\"M 137.983854 224.64 \r\nL 139.847983 224.64 \r\nL 139.847983 221.638758 \r\nL 137.983854 221.638758 \r\nz\r\n\" style=\"fill:#1f77b4;\"/>\r\n   </g>\r\n   <g id=\"patch_52\">\r\n    <path clip-path=\"url(#pa4e0ff9646)\" d=\"M 139.847983 224.64 \r\nL 141.712112 224.64 \r\nL 141.712112 223.139379 \r\nL 139.847983 223.139379 \r\nz\r\n\" style=\"fill:#1f77b4;\"/>\r\n   </g>\r\n   <g id=\"patch_53\">\r\n    <path clip-path=\"url(#pa4e0ff9646)\" d=\"M 296.392183 224.64 \r\nL 297.521726 224.64 \r\nL 297.521726 221.638758 \r\nL 296.392183 221.638758 \r\nz\r\n\" style=\"fill:#ff7f0e;\"/>\r\n   </g>\r\n   <g id=\"patch_54\">\r\n    <path clip-path=\"url(#pa4e0ff9646)\" d=\"M 297.521726 224.64 \r\nL 298.651269 224.64 \r\nL 298.651269 223.139379 \r\nL 297.521726 223.139379 \r\nz\r\n\" style=\"fill:#ff7f0e;\"/>\r\n   </g>\r\n   <g id=\"patch_55\">\r\n    <path clip-path=\"url(#pa4e0ff9646)\" d=\"M 298.651269 224.64 \r\nL 299.780811 224.64 \r\nL 299.780811 223.139379 \r\nL 298.651269 223.139379 \r\nz\r\n\" style=\"fill:#ff7f0e;\"/>\r\n   </g>\r\n   <g id=\"patch_56\">\r\n    <path clip-path=\"url(#pa4e0ff9646)\" d=\"M 299.780811 224.64 \r\nL 300.910354 224.64 \r\nL 300.910354 221.638758 \r\nL 299.780811 221.638758 \r\nz\r\n\" style=\"fill:#ff7f0e;\"/>\r\n   </g>\r\n   <g id=\"patch_57\">\r\n    <path clip-path=\"url(#pa4e0ff9646)\" d=\"M 300.910354 224.64 \r\nL 302.039897 224.64 \r\nL 302.039897 212.635031 \r\nL 300.910354 212.635031 \r\nz\r\n\" style=\"fill:#ff7f0e;\"/>\r\n   </g>\r\n   <g id=\"patch_58\">\r\n    <path clip-path=\"url(#pa4e0ff9646)\" d=\"M 302.039897 224.64 \r\nL 303.169439 224.64 \r\nL 303.169439 212.635031 \r\nL 302.039897 212.635031 \r\nz\r\n\" style=\"fill:#ff7f0e;\"/>\r\n   </g>\r\n   <g id=\"patch_59\">\r\n    <path clip-path=\"url(#pa4e0ff9646)\" d=\"M 303.169439 224.64 \r\nL 304.298982 224.64 \r\nL 304.298982 214.135652 \r\nL 303.169439 214.135652 \r\nz\r\n\" style=\"fill:#ff7f0e;\"/>\r\n   </g>\r\n   <g id=\"patch_60\">\r\n    <path clip-path=\"url(#pa4e0ff9646)\" d=\"M 304.298982 224.64 \r\nL 305.428525 224.64 \r\nL 305.428525 205.131925 \r\nL 304.298982 205.131925 \r\nz\r\n\" style=\"fill:#ff7f0e;\"/>\r\n   </g>\r\n   <g id=\"patch_61\">\r\n    <path clip-path=\"url(#pa4e0ff9646)\" d=\"M 305.428525 224.64 \r\nL 306.558068 224.64 \r\nL 306.558068 214.135652 \r\nL 305.428525 214.135652 \r\nz\r\n\" style=\"fill:#ff7f0e;\"/>\r\n   </g>\r\n   <g id=\"patch_62\">\r\n    <path clip-path=\"url(#pa4e0ff9646)\" d=\"M 306.558068 224.64 \r\nL 307.68761 224.64 \r\nL 307.68761 205.131925 \r\nL 306.558068 205.131925 \r\nz\r\n\" style=\"fill:#ff7f0e;\"/>\r\n   </g>\r\n   <g id=\"patch_63\">\r\n    <path clip-path=\"url(#pa4e0ff9646)\" d=\"M 307.68761 224.64 \r\nL 308.817153 224.64 \r\nL 308.817153 193.126957 \r\nL 307.68761 193.126957 \r\nz\r\n\" style=\"fill:#ff7f0e;\"/>\r\n   </g>\r\n   <g id=\"patch_64\">\r\n    <path clip-path=\"url(#pa4e0ff9646)\" d=\"M 308.817153 224.64 \r\nL 309.946696 224.64 \r\nL 309.946696 179.621366 \r\nL 308.817153 179.621366 \r\nz\r\n\" style=\"fill:#ff7f0e;\"/>\r\n   </g>\r\n   <g id=\"patch_65\">\r\n    <path clip-path=\"url(#pa4e0ff9646)\" d=\"M 309.946696 224.64 \r\nL 311.076238 224.64 \r\nL 311.076238 170.61764 \r\nL 309.946696 170.61764 \r\nz\r\n\" style=\"fill:#ff7f0e;\"/>\r\n   </g>\r\n   <g id=\"patch_66\">\r\n    <path clip-path=\"url(#pa4e0ff9646)\" d=\"M 311.076238 224.64 \r\nL 312.205781 224.64 \r\nL 312.205781 191.626335 \r\nL 311.076238 191.626335 \r\nz\r\n\" style=\"fill:#ff7f0e;\"/>\r\n   </g>\r\n   <g id=\"patch_67\">\r\n    <path clip-path=\"url(#pa4e0ff9646)\" d=\"M 312.205781 224.64 \r\nL 313.335324 224.64 \r\nL 313.335324 152.610186 \r\nL 312.205781 152.610186 \r\nz\r\n\" style=\"fill:#ff7f0e;\"/>\r\n   </g>\r\n   <g id=\"patch_68\">\r\n    <path clip-path=\"url(#pa4e0ff9646)\" d=\"M 313.335324 224.64 \r\nL 314.464866 224.64 \r\nL 314.464866 151.109565 \r\nL 313.335324 151.109565 \r\nz\r\n\" style=\"fill:#ff7f0e;\"/>\r\n   </g>\r\n   <g id=\"patch_69\">\r\n    <path clip-path=\"url(#pa4e0ff9646)\" d=\"M 314.464866 224.64 \r\nL 315.594409 224.64 \r\nL 315.594409 157.11205 \r\nL 314.464866 157.11205 \r\nz\r\n\" style=\"fill:#ff7f0e;\"/>\r\n   </g>\r\n   <g id=\"patch_70\">\r\n    <path clip-path=\"url(#pa4e0ff9646)\" d=\"M 315.594409 224.64 \r\nL 316.723952 224.64 \r\nL 316.723952 17.554286 \r\nL 315.594409 17.554286 \r\nz\r\n\" style=\"fill:#ff7f0e;\"/>\r\n   </g>\r\n   <g id=\"patch_71\">\r\n    <path clip-path=\"url(#pa4e0ff9646)\" d=\"M 316.723952 224.64 \r\nL 317.853495 224.64 \r\nL 317.853495 154.110807 \r\nL 316.723952 154.110807 \r\nz\r\n\" style=\"fill:#ff7f0e;\"/>\r\n   </g>\r\n   <g id=\"patch_72\">\r\n    <path clip-path=\"url(#pa4e0ff9646)\" d=\"M 317.853495 224.64 \r\nL 318.983037 224.64 \r\nL 318.983037 160.113292 \r\nL 317.853495 160.113292 \r\nz\r\n\" style=\"fill:#ff7f0e;\"/>\r\n   </g>\r\n   <g id=\"patch_73\">\r\n    <path clip-path=\"url(#pa4e0ff9646)\" d=\"M 318.983037 224.64 \r\nL 320.11258 224.64 \r\nL 320.11258 167.616398 \r\nL 318.983037 167.616398 \r\nz\r\n\" style=\"fill:#ff7f0e;\"/>\r\n   </g>\r\n   <g id=\"patch_74\">\r\n    <path clip-path=\"url(#pa4e0ff9646)\" d=\"M 320.11258 224.64 \r\nL 321.242123 224.64 \r\nL 321.242123 148.108323 \r\nL 320.11258 148.108323 \r\nz\r\n\" style=\"fill:#ff7f0e;\"/>\r\n   </g>\r\n   <g id=\"patch_75\">\r\n    <path clip-path=\"url(#pa4e0ff9646)\" d=\"M 321.242123 224.64 \r\nL 322.371665 224.64 \r\nL 322.371665 158.612671 \r\nL 321.242123 158.612671 \r\nz\r\n\" style=\"fill:#ff7f0e;\"/>\r\n   </g>\r\n   <g id=\"patch_76\">\r\n    <path clip-path=\"url(#pa4e0ff9646)\" d=\"M 322.371665 224.64 \r\nL 323.501208 224.64 \r\nL 323.501208 148.108323 \r\nL 322.371665 148.108323 \r\nz\r\n\" style=\"fill:#ff7f0e;\"/>\r\n   </g>\r\n   <g id=\"patch_77\">\r\n    <path clip-path=\"url(#pa4e0ff9646)\" d=\"M 323.501208 224.64 \r\nL 324.630751 224.64 \r\nL 324.630751 116.59528 \r\nL 323.501208 116.59528 \r\nz\r\n\" style=\"fill:#ff7f0e;\"/>\r\n   </g>\r\n   <g id=\"patch_78\">\r\n    <path clip-path=\"url(#pa4e0ff9646)\" d=\"M 324.630751 224.64 \r\nL 325.760293 224.64 \r\nL 325.760293 113.594037 \r\nL 324.630751 113.594037 \r\nz\r\n\" style=\"fill:#ff7f0e;\"/>\r\n   </g>\r\n   <g id=\"patch_79\">\r\n    <path clip-path=\"url(#pa4e0ff9646)\" d=\"M 325.760293 224.64 \r\nL 326.889836 224.64 \r\nL 326.889836 89.584099 \r\nL 325.760293 89.584099 \r\nz\r\n\" style=\"fill:#ff7f0e;\"/>\r\n   </g>\r\n   <g id=\"patch_80\">\r\n    <path clip-path=\"url(#pa4e0ff9646)\" d=\"M 326.889836 224.64 \r\nL 328.019379 224.64 \r\nL 328.019379 110.592795 \r\nL 326.889836 110.592795 \r\nz\r\n\" style=\"fill:#ff7f0e;\"/>\r\n   </g>\r\n   <g id=\"patch_81\">\r\n    <path clip-path=\"url(#pa4e0ff9646)\" d=\"M 328.019379 224.64 \r\nL 329.148922 224.64 \r\nL 329.148922 100.088447 \r\nL 328.019379 100.088447 \r\nz\r\n\" style=\"fill:#ff7f0e;\"/>\r\n   </g>\r\n   <g id=\"patch_82\">\r\n    <path clip-path=\"url(#pa4e0ff9646)\" d=\"M 329.148922 224.64 \r\nL 330.278464 224.64 \r\nL 330.278464 80.580373 \r\nL 329.148922 80.580373 \r\nz\r\n\" style=\"fill:#ff7f0e;\"/>\r\n   </g>\r\n   <g id=\"patch_83\">\r\n    <path clip-path=\"url(#pa4e0ff9646)\" d=\"M 330.278464 224.64 \r\nL 331.408007 224.64 \r\nL 331.408007 38.562981 \r\nL 330.278464 38.562981 \r\nz\r\n\" style=\"fill:#ff7f0e;\"/>\r\n   </g>\r\n   <g id=\"patch_84\">\r\n    <path clip-path=\"url(#pa4e0ff9646)\" d=\"M 331.408007 224.64 \r\nL 332.53755 224.64 \r\nL 332.53755 40.063602 \r\nL 331.408007 40.063602 \r\nz\r\n\" style=\"fill:#ff7f0e;\"/>\r\n   </g>\r\n   <g id=\"patch_85\">\r\n    <path clip-path=\"url(#pa4e0ff9646)\" d=\"M 332.53755 224.64 \r\nL 333.667092 224.64 \r\nL 333.667092 23.55677 \r\nL 332.53755 23.55677 \r\nz\r\n\" style=\"fill:#ff7f0e;\"/>\r\n   </g>\r\n   <g id=\"patch_86\">\r\n    <path clip-path=\"url(#pa4e0ff9646)\" d=\"M 333.667092 224.64 \r\nL 334.796635 224.64 \r\nL 334.796635 50.56795 \r\nL 333.667092 50.56795 \r\nz\r\n\" style=\"fill:#ff7f0e;\"/>\r\n   </g>\r\n   <g id=\"patch_87\">\r\n    <path clip-path=\"url(#pa4e0ff9646)\" d=\"M 334.796635 224.64 \r\nL 335.926178 224.64 \r\nL 335.926178 77.57913 \r\nL 334.796635 77.57913 \r\nz\r\n\" style=\"fill:#ff7f0e;\"/>\r\n   </g>\r\n   <g id=\"patch_88\">\r\n    <path clip-path=\"url(#pa4e0ff9646)\" d=\"M 335.926178 224.64 \r\nL 337.05572 224.64 \r\nL 337.05572 92.585342 \r\nL 335.926178 92.585342 \r\nz\r\n\" style=\"fill:#ff7f0e;\"/>\r\n   </g>\r\n   <g id=\"patch_89\">\r\n    <path clip-path=\"url(#pa4e0ff9646)\" d=\"M 337.05572 224.64 \r\nL 338.185263 224.64 \r\nL 338.185263 103.089689 \r\nL 337.05572 103.089689 \r\nz\r\n\" style=\"fill:#ff7f0e;\"/>\r\n   </g>\r\n   <g id=\"patch_90\">\r\n    <path clip-path=\"url(#pa4e0ff9646)\" d=\"M 338.185263 224.64 \r\nL 339.314806 224.64 \r\nL 339.314806 119.596522 \r\nL 338.185263 119.596522 \r\nz\r\n\" style=\"fill:#ff7f0e;\"/>\r\n   </g>\r\n   <g id=\"patch_91\">\r\n    <path clip-path=\"url(#pa4e0ff9646)\" d=\"M 339.314806 224.64 \r\nL 340.444349 224.64 \r\nL 340.444349 134.602733 \r\nL 339.314806 134.602733 \r\nz\r\n\" style=\"fill:#ff7f0e;\"/>\r\n   </g>\r\n   <g id=\"patch_92\">\r\n    <path clip-path=\"url(#pa4e0ff9646)\" d=\"M 340.444349 224.64 \r\nL 341.573891 224.64 \r\nL 341.573891 137.603975 \r\nL 340.444349 137.603975 \r\nz\r\n\" style=\"fill:#ff7f0e;\"/>\r\n   </g>\r\n   <g id=\"patch_93\">\r\n    <path clip-path=\"url(#pa4e0ff9646)\" d=\"M 341.573891 224.64 \r\nL 342.703434 224.64 \r\nL 342.703434 170.61764 \r\nL 341.573891 170.61764 \r\nz\r\n\" style=\"fill:#ff7f0e;\"/>\r\n   </g>\r\n   <g id=\"patch_94\">\r\n    <path clip-path=\"url(#pa4e0ff9646)\" d=\"M 342.703434 224.64 \r\nL 343.832977 224.64 \r\nL 343.832977 181.121988 \r\nL 342.703434 181.121988 \r\nz\r\n\" style=\"fill:#ff7f0e;\"/>\r\n   </g>\r\n   <g id=\"patch_95\">\r\n    <path clip-path=\"url(#pa4e0ff9646)\" d=\"M 343.832977 224.64 \r\nL 344.962519 224.64 \r\nL 344.962519 181.121988 \r\nL 343.832977 181.121988 \r\nz\r\n\" style=\"fill:#ff7f0e;\"/>\r\n   </g>\r\n   <g id=\"patch_96\">\r\n    <path clip-path=\"url(#pa4e0ff9646)\" d=\"M 344.962519 224.64 \r\nL 346.092062 224.64 \r\nL 346.092062 178.120745 \r\nL 344.962519 178.120745 \r\nz\r\n\" style=\"fill:#ff7f0e;\"/>\r\n   </g>\r\n   <g id=\"patch_97\">\r\n    <path clip-path=\"url(#pa4e0ff9646)\" d=\"M 346.092062 224.64 \r\nL 347.221605 224.64 \r\nL 347.221605 202.130683 \r\nL 346.092062 202.130683 \r\nz\r\n\" style=\"fill:#ff7f0e;\"/>\r\n   </g>\r\n   <g id=\"patch_98\">\r\n    <path clip-path=\"url(#pa4e0ff9646)\" d=\"M 347.221605 224.64 \r\nL 348.351147 224.64 \r\nL 348.351147 206.632547 \r\nL 347.221605 206.632547 \r\nz\r\n\" style=\"fill:#ff7f0e;\"/>\r\n   </g>\r\n   <g id=\"patch_99\">\r\n    <path clip-path=\"url(#pa4e0ff9646)\" d=\"M 348.351147 224.64 \r\nL 349.48069 224.64 \r\nL 349.48069 203.631304 \r\nL 348.351147 203.631304 \r\nz\r\n\" style=\"fill:#ff7f0e;\"/>\r\n   </g>\r\n   <g id=\"patch_100\">\r\n    <path clip-path=\"url(#pa4e0ff9646)\" d=\"M 349.48069 224.64 \r\nL 350.610233 224.64 \r\nL 350.610233 217.136894 \r\nL 349.48069 217.136894 \r\nz\r\n\" style=\"fill:#ff7f0e;\"/>\r\n   </g>\r\n   <g id=\"patch_101\">\r\n    <path clip-path=\"url(#pa4e0ff9646)\" d=\"M 350.610233 224.64 \r\nL 351.739775 224.64 \r\nL 351.739775 212.635031 \r\nL 350.610233 212.635031 \r\nz\r\n\" style=\"fill:#ff7f0e;\"/>\r\n   </g>\r\n   <g id=\"patch_102\">\r\n    <path clip-path=\"url(#pa4e0ff9646)\" d=\"M 351.739775 224.64 \r\nL 352.869318 224.64 \r\nL 352.869318 217.136894 \r\nL 351.739775 217.136894 \r\nz\r\n\" style=\"fill:#ff7f0e;\"/>\r\n   </g>\r\n   <g id=\"matplotlib.axis_1\">\r\n    <g id=\"xtick_1\">\r\n     <g id=\"line2d_1\">\r\n      <defs>\r\n       <path d=\"M 0 0 \r\nL 0 3.5 \r\n\" id=\"maf5e3de5b1\" style=\"stroke:#000000;stroke-width:0.8;\"/>\r\n      </defs>\r\n      <g>\r\n       <use style=\"stroke:#000000;stroke-width:0.8;\" x=\"53.408955\" xlink:href=\"#maf5e3de5b1\" y=\"224.64\"/>\r\n      </g>\r\n     </g>\r\n     <g id=\"text_1\">\r\n      <!-- 0 -->\r\n      <g transform=\"translate(50.227705 239.238437)scale(0.1 -0.1)\">\r\n       <defs>\r\n        <path d=\"M 31.78125 66.40625 \r\nQ 24.171875 66.40625 20.328125 58.90625 \r\nQ 16.5 51.421875 16.5 36.375 \r\nQ 16.5 21.390625 20.328125 13.890625 \r\nQ 24.171875 6.390625 31.78125 6.390625 \r\nQ 39.453125 6.390625 43.28125 13.890625 \r\nQ 47.125 21.390625 47.125 36.375 \r\nQ 47.125 51.421875 43.28125 58.90625 \r\nQ 39.453125 66.40625 31.78125 66.40625 \r\nz\r\nM 31.78125 74.21875 \r\nQ 44.046875 74.21875 50.515625 64.515625 \r\nQ 56.984375 54.828125 56.984375 36.375 \r\nQ 56.984375 17.96875 50.515625 8.265625 \r\nQ 44.046875 -1.421875 31.78125 -1.421875 \r\nQ 19.53125 -1.421875 13.0625 8.265625 \r\nQ 6.59375 17.96875 6.59375 36.375 \r\nQ 6.59375 54.828125 13.0625 64.515625 \r\nQ 19.53125 74.21875 31.78125 74.21875 \r\nz\r\n\" id=\"DejaVuSans-48\"/>\r\n       </defs>\r\n       <use xlink:href=\"#DejaVuSans-48\"/>\r\n      </g>\r\n     </g>\r\n    </g>\r\n    <g id=\"xtick_2\">\r\n     <g id=\"line2d_2\">\r\n      <g>\r\n       <use style=\"stroke:#000000;stroke-width:0.8;\" x=\"121.462715\" xlink:href=\"#maf5e3de5b1\" y=\"224.64\"/>\r\n      </g>\r\n     </g>\r\n     <g id=\"text_2\">\r\n      <!-- 20 -->\r\n      <g transform=\"translate(115.100215 239.238437)scale(0.1 -0.1)\">\r\n       <defs>\r\n        <path d=\"M 19.1875 8.296875 \r\nL 53.609375 8.296875 \r\nL 53.609375 0 \r\nL 7.328125 0 \r\nL 7.328125 8.296875 \r\nQ 12.9375 14.109375 22.625 23.890625 \r\nQ 32.328125 33.6875 34.8125 36.53125 \r\nQ 39.546875 41.84375 41.421875 45.53125 \r\nQ 43.3125 49.21875 43.3125 52.78125 \r\nQ 43.3125 58.59375 39.234375 62.25 \r\nQ 35.15625 65.921875 28.609375 65.921875 \r\nQ 23.96875 65.921875 18.8125 64.3125 \r\nQ 13.671875 62.703125 7.8125 59.421875 \r\nL 7.8125 69.390625 \r\nQ 13.765625 71.78125 18.9375 73 \r\nQ 24.125 74.21875 28.421875 74.21875 \r\nQ 39.75 74.21875 46.484375 68.546875 \r\nQ 53.21875 62.890625 53.21875 53.421875 \r\nQ 53.21875 48.921875 51.53125 44.890625 \r\nQ 49.859375 40.875 45.40625 35.40625 \r\nQ 44.1875 33.984375 37.640625 27.21875 \r\nQ 31.109375 20.453125 19.1875 8.296875 \r\nz\r\n\" id=\"DejaVuSans-50\"/>\r\n       </defs>\r\n       <use xlink:href=\"#DejaVuSans-50\"/>\r\n       <use x=\"63.623047\" xlink:href=\"#DejaVuSans-48\"/>\r\n      </g>\r\n     </g>\r\n    </g>\r\n    <g id=\"xtick_3\">\r\n     <g id=\"line2d_3\">\r\n      <g>\r\n       <use style=\"stroke:#000000;stroke-width:0.8;\" x=\"189.516475\" xlink:href=\"#maf5e3de5b1\" y=\"224.64\"/>\r\n      </g>\r\n     </g>\r\n     <g id=\"text_3\">\r\n      <!-- 40 -->\r\n      <g transform=\"translate(183.153975 239.238437)scale(0.1 -0.1)\">\r\n       <defs>\r\n        <path d=\"M 37.796875 64.3125 \r\nL 12.890625 25.390625 \r\nL 37.796875 25.390625 \r\nz\r\nM 35.203125 72.90625 \r\nL 47.609375 72.90625 \r\nL 47.609375 25.390625 \r\nL 58.015625 25.390625 \r\nL 58.015625 17.1875 \r\nL 47.609375 17.1875 \r\nL 47.609375 0 \r\nL 37.796875 0 \r\nL 37.796875 17.1875 \r\nL 4.890625 17.1875 \r\nL 4.890625 26.703125 \r\nz\r\n\" id=\"DejaVuSans-52\"/>\r\n       </defs>\r\n       <use xlink:href=\"#DejaVuSans-52\"/>\r\n       <use x=\"63.623047\" xlink:href=\"#DejaVuSans-48\"/>\r\n      </g>\r\n     </g>\r\n    </g>\r\n    <g id=\"xtick_4\">\r\n     <g id=\"line2d_4\">\r\n      <g>\r\n       <use style=\"stroke:#000000;stroke-width:0.8;\" x=\"257.570235\" xlink:href=\"#maf5e3de5b1\" y=\"224.64\"/>\r\n      </g>\r\n     </g>\r\n     <g id=\"text_4\">\r\n      <!-- 60 -->\r\n      <g transform=\"translate(251.207735 239.238437)scale(0.1 -0.1)\">\r\n       <defs>\r\n        <path d=\"M 33.015625 40.375 \r\nQ 26.375 40.375 22.484375 35.828125 \r\nQ 18.609375 31.296875 18.609375 23.390625 \r\nQ 18.609375 15.53125 22.484375 10.953125 \r\nQ 26.375 6.390625 33.015625 6.390625 \r\nQ 39.65625 6.390625 43.53125 10.953125 \r\nQ 47.40625 15.53125 47.40625 23.390625 \r\nQ 47.40625 31.296875 43.53125 35.828125 \r\nQ 39.65625 40.375 33.015625 40.375 \r\nz\r\nM 52.59375 71.296875 \r\nL 52.59375 62.3125 \r\nQ 48.875 64.0625 45.09375 64.984375 \r\nQ 41.3125 65.921875 37.59375 65.921875 \r\nQ 27.828125 65.921875 22.671875 59.328125 \r\nQ 17.53125 52.734375 16.796875 39.40625 \r\nQ 19.671875 43.65625 24.015625 45.921875 \r\nQ 28.375 48.1875 33.59375 48.1875 \r\nQ 44.578125 48.1875 50.953125 41.515625 \r\nQ 57.328125 34.859375 57.328125 23.390625 \r\nQ 57.328125 12.15625 50.6875 5.359375 \r\nQ 44.046875 -1.421875 33.015625 -1.421875 \r\nQ 20.359375 -1.421875 13.671875 8.265625 \r\nQ 6.984375 17.96875 6.984375 36.375 \r\nQ 6.984375 53.65625 15.1875 63.9375 \r\nQ 23.390625 74.21875 37.203125 74.21875 \r\nQ 40.921875 74.21875 44.703125 73.484375 \r\nQ 48.484375 72.75 52.59375 71.296875 \r\nz\r\n\" id=\"DejaVuSans-54\"/>\r\n       </defs>\r\n       <use xlink:href=\"#DejaVuSans-54\"/>\r\n       <use x=\"63.623047\" xlink:href=\"#DejaVuSans-48\"/>\r\n      </g>\r\n     </g>\r\n    </g>\r\n    <g id=\"xtick_5\">\r\n     <g id=\"line2d_5\">\r\n      <g>\r\n       <use style=\"stroke:#000000;stroke-width:0.8;\" x=\"325.623995\" xlink:href=\"#maf5e3de5b1\" y=\"224.64\"/>\r\n      </g>\r\n     </g>\r\n     <g id=\"text_5\">\r\n      <!-- 80 -->\r\n      <g transform=\"translate(319.261495 239.238437)scale(0.1 -0.1)\">\r\n       <defs>\r\n        <path d=\"M 31.78125 34.625 \r\nQ 24.75 34.625 20.71875 30.859375 \r\nQ 16.703125 27.09375 16.703125 20.515625 \r\nQ 16.703125 13.921875 20.71875 10.15625 \r\nQ 24.75 6.390625 31.78125 6.390625 \r\nQ 38.8125 6.390625 42.859375 10.171875 \r\nQ 46.921875 13.96875 46.921875 20.515625 \r\nQ 46.921875 27.09375 42.890625 30.859375 \r\nQ 38.875 34.625 31.78125 34.625 \r\nz\r\nM 21.921875 38.8125 \r\nQ 15.578125 40.375 12.03125 44.71875 \r\nQ 8.5 49.078125 8.5 55.328125 \r\nQ 8.5 64.0625 14.71875 69.140625 \r\nQ 20.953125 74.21875 31.78125 74.21875 \r\nQ 42.671875 74.21875 48.875 69.140625 \r\nQ 55.078125 64.0625 55.078125 55.328125 \r\nQ 55.078125 49.078125 51.53125 44.71875 \r\nQ 48 40.375 41.703125 38.8125 \r\nQ 48.828125 37.15625 52.796875 32.3125 \r\nQ 56.78125 27.484375 56.78125 20.515625 \r\nQ 56.78125 9.90625 50.3125 4.234375 \r\nQ 43.84375 -1.421875 31.78125 -1.421875 \r\nQ 19.734375 -1.421875 13.25 4.234375 \r\nQ 6.78125 9.90625 6.78125 20.515625 \r\nQ 6.78125 27.484375 10.78125 32.3125 \r\nQ 14.796875 37.15625 21.921875 38.8125 \r\nz\r\nM 18.3125 54.390625 \r\nQ 18.3125 48.734375 21.84375 45.5625 \r\nQ 25.390625 42.390625 31.78125 42.390625 \r\nQ 38.140625 42.390625 41.71875 45.5625 \r\nQ 45.3125 48.734375 45.3125 54.390625 \r\nQ 45.3125 60.0625 41.71875 63.234375 \r\nQ 38.140625 66.40625 31.78125 66.40625 \r\nQ 25.390625 66.40625 21.84375 63.234375 \r\nQ 18.3125 60.0625 18.3125 54.390625 \r\nz\r\n\" id=\"DejaVuSans-56\"/>\r\n       </defs>\r\n       <use xlink:href=\"#DejaVuSans-56\"/>\r\n       <use x=\"63.623047\" xlink:href=\"#DejaVuSans-48\"/>\r\n      </g>\r\n     </g>\r\n    </g>\r\n   </g>\r\n   <g id=\"matplotlib.axis_2\">\r\n    <g id=\"ytick_1\">\r\n     <g id=\"line2d_6\">\r\n      <defs>\r\n       <path d=\"M 0 0 \r\nL -3.5 0 \r\n\" id=\"me26ccd51cf\" style=\"stroke:#000000;stroke-width:0.8;\"/>\r\n      </defs>\r\n      <g>\r\n       <use style=\"stroke:#000000;stroke-width:0.8;\" x=\"33.2875\" xlink:href=\"#me26ccd51cf\" y=\"224.64\"/>\r\n      </g>\r\n     </g>\r\n     <g id=\"text_6\">\r\n      <!-- 0 -->\r\n      <g transform=\"translate(19.925 228.439219)scale(0.1 -0.1)\">\r\n       <use xlink:href=\"#DejaVuSans-48\"/>\r\n      </g>\r\n     </g>\r\n    </g>\r\n    <g id=\"ytick_2\">\r\n     <g id=\"line2d_7\">\r\n      <g>\r\n       <use style=\"stroke:#000000;stroke-width:0.8;\" x=\"33.2875\" xlink:href=\"#me26ccd51cf\" y=\"194.627578\"/>\r\n      </g>\r\n     </g>\r\n     <g id=\"text_7\">\r\n      <!-- 20 -->\r\n      <g transform=\"translate(13.5625 198.426796)scale(0.1 -0.1)\">\r\n       <use xlink:href=\"#DejaVuSans-50\"/>\r\n       <use x=\"63.623047\" xlink:href=\"#DejaVuSans-48\"/>\r\n      </g>\r\n     </g>\r\n    </g>\r\n    <g id=\"ytick_3\">\r\n     <g id=\"line2d_8\">\r\n      <g>\r\n       <use style=\"stroke:#000000;stroke-width:0.8;\" x=\"33.2875\" xlink:href=\"#me26ccd51cf\" y=\"164.615155\"/>\r\n      </g>\r\n     </g>\r\n     <g id=\"text_8\">\r\n      <!-- 40 -->\r\n      <g transform=\"translate(13.5625 168.414374)scale(0.1 -0.1)\">\r\n       <use xlink:href=\"#DejaVuSans-52\"/>\r\n       <use x=\"63.623047\" xlink:href=\"#DejaVuSans-48\"/>\r\n      </g>\r\n     </g>\r\n    </g>\r\n    <g id=\"ytick_4\">\r\n     <g id=\"line2d_9\">\r\n      <g>\r\n       <use style=\"stroke:#000000;stroke-width:0.8;\" x=\"33.2875\" xlink:href=\"#me26ccd51cf\" y=\"134.602733\"/>\r\n      </g>\r\n     </g>\r\n     <g id=\"text_9\">\r\n      <!-- 60 -->\r\n      <g transform=\"translate(13.5625 138.401952)scale(0.1 -0.1)\">\r\n       <use xlink:href=\"#DejaVuSans-54\"/>\r\n       <use x=\"63.623047\" xlink:href=\"#DejaVuSans-48\"/>\r\n      </g>\r\n     </g>\r\n    </g>\r\n    <g id=\"ytick_5\">\r\n     <g id=\"line2d_10\">\r\n      <g>\r\n       <use style=\"stroke:#000000;stroke-width:0.8;\" x=\"33.2875\" xlink:href=\"#me26ccd51cf\" y=\"104.590311\"/>\r\n      </g>\r\n     </g>\r\n     <g id=\"text_10\">\r\n      <!-- 80 -->\r\n      <g transform=\"translate(13.5625 108.389529)scale(0.1 -0.1)\">\r\n       <use xlink:href=\"#DejaVuSans-56\"/>\r\n       <use x=\"63.623047\" xlink:href=\"#DejaVuSans-48\"/>\r\n      </g>\r\n     </g>\r\n    </g>\r\n    <g id=\"ytick_6\">\r\n     <g id=\"line2d_11\">\r\n      <g>\r\n       <use style=\"stroke:#000000;stroke-width:0.8;\" x=\"33.2875\" xlink:href=\"#me26ccd51cf\" y=\"74.577888\"/>\r\n      </g>\r\n     </g>\r\n     <g id=\"text_11\">\r\n      <!-- 100 -->\r\n      <g transform=\"translate(7.2 78.377107)scale(0.1 -0.1)\">\r\n       <defs>\r\n        <path d=\"M 12.40625 8.296875 \r\nL 28.515625 8.296875 \r\nL 28.515625 63.921875 \r\nL 10.984375 60.40625 \r\nL 10.984375 69.390625 \r\nL 28.421875 72.90625 \r\nL 38.28125 72.90625 \r\nL 38.28125 8.296875 \r\nL 54.390625 8.296875 \r\nL 54.390625 0 \r\nL 12.40625 0 \r\nz\r\n\" id=\"DejaVuSans-49\"/>\r\n       </defs>\r\n       <use xlink:href=\"#DejaVuSans-49\"/>\r\n       <use x=\"63.623047\" xlink:href=\"#DejaVuSans-48\"/>\r\n       <use x=\"127.246094\" xlink:href=\"#DejaVuSans-48\"/>\r\n      </g>\r\n     </g>\r\n    </g>\r\n    <g id=\"ytick_7\">\r\n     <g id=\"line2d_12\">\r\n      <g>\r\n       <use style=\"stroke:#000000;stroke-width:0.8;\" x=\"33.2875\" xlink:href=\"#me26ccd51cf\" y=\"44.565466\"/>\r\n      </g>\r\n     </g>\r\n     <g id=\"text_12\">\r\n      <!-- 120 -->\r\n      <g transform=\"translate(7.2 48.364685)scale(0.1 -0.1)\">\r\n       <use xlink:href=\"#DejaVuSans-49\"/>\r\n       <use x=\"63.623047\" xlink:href=\"#DejaVuSans-50\"/>\r\n       <use x=\"127.246094\" xlink:href=\"#DejaVuSans-48\"/>\r\n      </g>\r\n     </g>\r\n    </g>\r\n    <g id=\"ytick_8\">\r\n     <g id=\"line2d_13\">\r\n      <g>\r\n       <use style=\"stroke:#000000;stroke-width:0.8;\" x=\"33.2875\" xlink:href=\"#me26ccd51cf\" y=\"14.553043\"/>\r\n      </g>\r\n     </g>\r\n     <g id=\"text_13\">\r\n      <!-- 140 -->\r\n      <g transform=\"translate(7.2 18.352262)scale(0.1 -0.1)\">\r\n       <use xlink:href=\"#DejaVuSans-49\"/>\r\n       <use x=\"63.623047\" xlink:href=\"#DejaVuSans-52\"/>\r\n       <use x=\"127.246094\" xlink:href=\"#DejaVuSans-48\"/>\r\n      </g>\r\n     </g>\r\n    </g>\r\n   </g>\r\n   <g id=\"patch_103\">\r\n    <path d=\"M 33.2875 224.64 \r\nL 33.2875 7.2 \r\n\" style=\"fill:none;stroke:#000000;stroke-linecap:square;stroke-linejoin:miter;stroke-width:0.8;\"/>\r\n   </g>\r\n   <g id=\"patch_104\">\r\n    <path d=\"M 368.0875 224.64 \r\nL 368.0875 7.2 \r\n\" style=\"fill:none;stroke:#000000;stroke-linecap:square;stroke-linejoin:miter;stroke-width:0.8;\"/>\r\n   </g>\r\n   <g id=\"patch_105\">\r\n    <path d=\"M 33.2875 224.64 \r\nL 368.0875 224.64 \r\n\" style=\"fill:none;stroke:#000000;stroke-linecap:square;stroke-linejoin:miter;stroke-width:0.8;\"/>\r\n   </g>\r\n   <g id=\"patch_106\">\r\n    <path d=\"M 33.2875 7.2 \r\nL 368.0875 7.2 \r\n\" style=\"fill:none;stroke:#000000;stroke-linecap:square;stroke-linejoin:miter;stroke-width:0.8;\"/>\r\n   </g>\r\n  </g>\r\n </g>\r\n <defs>\r\n  <clipPath id=\"pa4e0ff9646\">\r\n   <rect height=\"217.44\" width=\"334.8\" x=\"33.2875\" y=\"7.2\"/>\r\n  </clipPath>\r\n </defs>\r\n</svg>\r\n",
      "image/png": "[encoded data removed]"
     },
     "metadata": {
      "needs_background": "light"
     }
    }
   ],
   "source": [
    "plt.hist(rome_temps, bins = 50)\n",
    "plt.hist(Bangkok_temps, bins = 50);"
   ]
  },
  {
   "source": [
    "It seems like the dataset from Bangkok has the tempratures represented as °F.  \n",
    "let's convert them to °C."
   ],
   "cell_type": "markdown",
   "metadata": {}
  },
  {
   "source": [
    "5. (*) One might think that Bangkok sensors provide temperature samples in degrees Fahrenheit while\n",
    "the ones located in Rome use the Celsius notation, which is the common representation in the whole\n",
    "dataset. Write a function to transform Fahrenheit measurements back to Celsius, apply it to your\n",
    "data and plot the two distribution again.  \n",
    "Info: remember that the mapping function from Celsius to Fahrenheit is the following\n",
    "TF = 1.8 · TC + 32\n"
   ],
   "cell_type": "markdown",
   "metadata": {}
  },
  {
   "cell_type": "code",
   "execution_count": 86,
   "metadata": {},
   "outputs": [],
   "source": [
    "fh_to_cs = lambda x: ((x - 32) * 5) / 9\n",
    "Bangkok_temps_cs = [fh_to_cs(x) for x in Bangkok_temps]"
   ]
  },
  {
   "cell_type": "code",
   "execution_count": 117,
   "metadata": {},
   "outputs": [
    {
     "output_type": "display_data",
     "data": {
      "text/plain": "<Figure size 432x288 with 1 Axes>",
      "image/svg+xml": "<?xml version=\"1.0\" encoding=\"utf-8\" standalone=\"no\"?>\r\n<!DOCTYPE svg PUBLIC \"-//W3C//DTD SVG 1.1//EN\"\r\n  \"http://www.w3.org/Graphics/SVG/1.1/DTD/svg11.dtd\">\r\n<!-- Created with matplotlib (https://matplotlib.org/) -->\r\n<svg height=\"263.63625pt\" version=\"1.1\" viewBox=\"0 0 375.2875 263.63625\" width=\"375.2875pt\" xmlns=\"http://www.w3.org/2000/svg\" xmlns:xlink=\"http://www.w3.org/1999/xlink\">\r\n <metadata>\r\n  <rdf:RDF xmlns:cc=\"http://creativecommons.org/ns#\" xmlns:dc=\"http://purl.org/dc/elements/1.1/\" xmlns:rdf=\"http://www.w3.org/1999/02/22-rdf-syntax-ns#\">\r\n   <cc:Work>\r\n    <dc:type rdf:resource=\"http://purl.org/dc/dcmitype/StillImage\"/>\r\n    <dc:date>2020-10-18T23:45:10.599659</dc:date>\r\n    <dc:format>image/svg+xml</dc:format>\r\n    <dc:creator>\r\n     <cc:Agent>\r\n      <dc:title>Matplotlib v3.3.2, https://matplotlib.org/</dc:title>\r\n     </cc:Agent>\r\n    </dc:creator>\r\n   </cc:Work>\r\n  </rdf:RDF>\r\n </metadata>\r\n <defs>\r\n  <style type=\"text/css\">*{stroke-linecap:butt;stroke-linejoin:round;}</style>\r\n </defs>\r\n <g id=\"figure_1\">\r\n  <g id=\"patch_1\">\r\n   <path d=\"M 0 263.63625 \r\nL 375.2875 263.63625 \r\nL 375.2875 0 \r\nL 0 0 \r\nz\r\n\" style=\"fill:none;\"/>\r\n  </g>\r\n  <g id=\"axes_1\">\r\n   <g id=\"patch_2\">\r\n    <path d=\"M 33.2875 239.758125 \r\nL 368.0875 239.758125 \r\nL 368.0875 22.318125 \r\nL 33.2875 22.318125 \r\nz\r\n\" style=\"fill:#ffffff;\"/>\r\n   </g>\r\n   <g id=\"patch_3\">\r\n    <path clip-path=\"url(#p0b4cd29ce4)\" d=\"M 48.505682 239.758125 \r\nL 54.717185 239.758125 \r\nL 54.717185 239.758125 \r\nL 48.505682 239.758125 \r\nz\r\n\" style=\"fill:#1f77b4;opacity:0.5;\"/>\r\n   </g>\r\n   <g id=\"patch_4\">\r\n    <path clip-path=\"url(#p0b4cd29ce4)\" d=\"M 54.717185 239.758125 \r\nL 60.928687 239.758125 \r\nL 60.928687 239.758125 \r\nL 54.717185 239.758125 \r\nz\r\n\" style=\"fill:#1f77b4;opacity:0.5;\"/>\r\n   </g>\r\n   <g id=\"patch_5\">\r\n    <path clip-path=\"url(#p0b4cd29ce4)\" d=\"M 60.928687 239.758125 \r\nL 67.14019 239.758125 \r\nL 67.14019 239.758125 \r\nL 60.928687 239.758125 \r\nz\r\n\" style=\"fill:#1f77b4;opacity:0.5;\"/>\r\n   </g>\r\n   <g id=\"patch_6\">\r\n    <path clip-path=\"url(#p0b4cd29ce4)\" d=\"M 67.14019 239.758125 \r\nL 73.351693 239.758125 \r\nL 73.351693 239.402308 \r\nL 67.14019 239.402308 \r\nz\r\n\" style=\"fill:#1f77b4;opacity:0.5;\"/>\r\n   </g>\r\n   <g id=\"patch_7\">\r\n    <path clip-path=\"url(#p0b4cd29ce4)\" d=\"M 73.351693 239.758125 \r\nL 79.563196 239.758125 \r\nL 79.563196 237.623221 \r\nL 73.351693 237.623221 \r\nz\r\n\" style=\"fill:#1f77b4;opacity:0.5;\"/>\r\n   </g>\r\n   <g id=\"patch_8\">\r\n    <path clip-path=\"url(#p0b4cd29ce4)\" d=\"M 79.563196 239.758125 \r\nL 85.774699 239.758125 \r\nL 85.774699 235.488316 \r\nL 79.563196 235.488316 \r\nz\r\n\" style=\"fill:#1f77b4;opacity:0.5;\"/>\r\n   </g>\r\n   <g id=\"patch_9\">\r\n    <path clip-path=\"url(#p0b4cd29ce4)\" d=\"M 85.774699 239.758125 \r\nL 91.986201 239.758125 \r\nL 91.986201 230.151056 \r\nL 85.774699 230.151056 \r\nz\r\n\" style=\"fill:#1f77b4;opacity:0.5;\"/>\r\n   </g>\r\n   <g id=\"patch_10\">\r\n    <path clip-path=\"url(#p0b4cd29ce4)\" d=\"M 91.986201 239.758125 \r\nL 98.197704 239.758125 \r\nL 98.197704 218.409082 \r\nL 91.986201 218.409082 \r\nz\r\n\" style=\"fill:#1f77b4;opacity:0.5;\"/>\r\n   </g>\r\n   <g id=\"patch_11\">\r\n    <path clip-path=\"url(#p0b4cd29ce4)\" d=\"M 98.197704 239.758125 \r\nL 104.409207 239.758125 \r\nL 104.409207 207.378744 \r\nL 98.197704 207.378744 \r\nz\r\n\" style=\"fill:#1f77b4;opacity:0.5;\"/>\r\n   </g>\r\n   <g id=\"patch_12\">\r\n    <path clip-path=\"url(#p0b4cd29ce4)\" d=\"M 104.409207 239.758125 \r\nL 110.62071 239.758125 \r\nL 110.62071 190.655327 \r\nL 104.409207 190.655327 \r\nz\r\n\" style=\"fill:#1f77b4;opacity:0.5;\"/>\r\n   </g>\r\n   <g id=\"patch_13\">\r\n    <path clip-path=\"url(#p0b4cd29ce4)\" d=\"M 110.62071 239.758125 \r\nL 116.832212 239.758125 \r\nL 116.832212 193.146048 \r\nL 110.62071 193.146048 \r\nz\r\n\" style=\"fill:#1f77b4;opacity:0.5;\"/>\r\n   </g>\r\n   <g id=\"patch_14\">\r\n    <path clip-path=\"url(#p0b4cd29ce4)\" d=\"M 116.832212 239.758125 \r\nL 123.043715 239.758125 \r\nL 123.043715 192.434414 \r\nL 116.832212 192.434414 \r\nz\r\n\" style=\"fill:#1f77b4;opacity:0.5;\"/>\r\n   </g>\r\n   <g id=\"patch_15\">\r\n    <path clip-path=\"url(#p0b4cd29ce4)\" d=\"M 123.043715 239.758125 \r\nL 129.255218 239.758125 \r\nL 129.255218 198.839126 \r\nL 123.043715 198.839126 \r\nz\r\n\" style=\"fill:#1f77b4;opacity:0.5;\"/>\r\n   </g>\r\n   <g id=\"patch_16\">\r\n    <path clip-path=\"url(#p0b4cd29ce4)\" d=\"M 129.255218 239.758125 \r\nL 135.466721 239.758125 \r\nL 135.466721 196.704222 \r\nL 129.255218 196.704222 \r\nz\r\n\" style=\"fill:#1f77b4;opacity:0.5;\"/>\r\n   </g>\r\n   <g id=\"patch_17\">\r\n    <path clip-path=\"url(#p0b4cd29ce4)\" d=\"M 135.466721 239.758125 \r\nL 141.678224 239.758125 \r\nL 141.678224 203.464752 \r\nL 135.466721 203.464752 \r\nz\r\n\" style=\"fill:#1f77b4;opacity:0.5;\"/>\r\n   </g>\r\n   <g id=\"patch_18\">\r\n    <path clip-path=\"url(#p0b4cd29ce4)\" d=\"M 141.678224 239.758125 \r\nL 147.889726 239.758125 \r\nL 147.889726 208.446196 \r\nL 141.678224 208.446196 \r\nz\r\n\" style=\"fill:#1f77b4;opacity:0.5;\"/>\r\n   </g>\r\n   <g id=\"patch_19\">\r\n    <path clip-path=\"url(#p0b4cd29ce4)\" d=\"M 147.889726 239.758125 \r\nL 154.101229 239.758125 \r\nL 154.101229 213.071822 \r\nL 147.889726 213.071822 \r\nz\r\n\" style=\"fill:#1f77b4;opacity:0.5;\"/>\r\n   </g>\r\n   <g id=\"patch_20\">\r\n    <path clip-path=\"url(#p0b4cd29ce4)\" d=\"M 154.101229 239.758125 \r\nL 160.312732 239.758125 \r\nL 160.312732 210.5811 \r\nL 154.101229 210.5811 \r\nz\r\n\" style=\"fill:#1f77b4;opacity:0.5;\"/>\r\n   </g>\r\n   <g id=\"patch_21\">\r\n    <path clip-path=\"url(#p0b4cd29ce4)\" d=\"M 160.312732 239.758125 \r\nL 166.524235 239.758125 \r\nL 166.524235 217.697448 \r\nL 160.312732 217.697448 \r\nz\r\n\" style=\"fill:#1f77b4;opacity:0.5;\"/>\r\n   </g>\r\n   <g id=\"patch_22\">\r\n    <path clip-path=\"url(#p0b4cd29ce4)\" d=\"M 166.524235 239.758125 \r\nL 172.735737 239.758125 \r\nL 172.735737 209.513648 \r\nL 166.524235 209.513648 \r\nz\r\n\" style=\"fill:#1f77b4;opacity:0.5;\"/>\r\n   </g>\r\n   <g id=\"patch_23\">\r\n    <path clip-path=\"url(#p0b4cd29ce4)\" d=\"M 172.735737 239.758125 \r\nL 178.94724 239.758125 \r\nL 178.94724 205.955474 \r\nL 172.735737 205.955474 \r\nz\r\n\" style=\"fill:#1f77b4;opacity:0.5;\"/>\r\n   </g>\r\n   <g id=\"patch_24\">\r\n    <path clip-path=\"url(#p0b4cd29ce4)\" d=\"M 178.94724 239.758125 \r\nL 185.158743 239.758125 \r\nL 185.158743 214.495091 \r\nL 178.94724 214.495091 \r\nz\r\n\" style=\"fill:#1f77b4;opacity:0.5;\"/>\r\n   </g>\r\n   <g id=\"patch_25\">\r\n    <path clip-path=\"url(#p0b4cd29ce4)\" d=\"M 185.158743 239.758125 \r\nL 191.370246 239.758125 \r\nL 191.370246 216.985813 \r\nL 185.158743 216.985813 \r\nz\r\n\" style=\"fill:#1f77b4;opacity:0.5;\"/>\r\n   </g>\r\n   <g id=\"patch_26\">\r\n    <path clip-path=\"url(#p0b4cd29ce4)\" d=\"M 191.370246 239.758125 \r\nL 197.581749 239.758125 \r\nL 197.581749 216.274178 \r\nL 191.370246 216.274178 \r\nz\r\n\" style=\"fill:#1f77b4;opacity:0.5;\"/>\r\n   </g>\r\n   <g id=\"patch_27\">\r\n    <path clip-path=\"url(#p0b4cd29ce4)\" d=\"M 197.581749 239.758125 \r\nL 203.793251 239.758125 \r\nL 203.793251 207.022926 \r\nL 197.581749 207.022926 \r\nz\r\n\" style=\"fill:#1f77b4;opacity:0.5;\"/>\r\n   </g>\r\n   <g id=\"patch_28\">\r\n    <path clip-path=\"url(#p0b4cd29ce4)\" d=\"M 203.793251 239.758125 \r\nL 210.004754 239.758125 \r\nL 210.004754 196.348405 \r\nL 203.793251 196.348405 \r\nz\r\n\" style=\"fill:#1f77b4;opacity:0.5;\"/>\r\n   </g>\r\n   <g id=\"patch_29\">\r\n    <path clip-path=\"url(#p0b4cd29ce4)\" d=\"M 210.004754 239.758125 \r\nL 216.216257 239.758125 \r\nL 216.216257 204.532205 \r\nL 210.004754 204.532205 \r\nz\r\n\" style=\"fill:#1f77b4;opacity:0.5;\"/>\r\n   </g>\r\n   <g id=\"patch_30\">\r\n    <path clip-path=\"url(#p0b4cd29ce4)\" d=\"M 216.216257 239.758125 \r\nL 222.42776 239.758125 \r\nL 222.42776 202.753118 \r\nL 216.216257 202.753118 \r\nz\r\n\" style=\"fill:#1f77b4;opacity:0.5;\"/>\r\n   </g>\r\n   <g id=\"patch_31\">\r\n    <path clip-path=\"url(#p0b4cd29ce4)\" d=\"M 222.42776 239.758125 \r\nL 228.639263 239.758125 \r\nL 228.639263 195.63677 \r\nL 222.42776 195.63677 \r\nz\r\n\" style=\"fill:#1f77b4;opacity:0.5;\"/>\r\n   </g>\r\n   <g id=\"patch_32\">\r\n    <path clip-path=\"url(#p0b4cd29ce4)\" d=\"M 228.639263 239.758125 \r\nL 234.850765 239.758125 \r\nL 234.850765 201.329848 \r\nL 228.639263 201.329848 \r\nz\r\n\" style=\"fill:#1f77b4;opacity:0.5;\"/>\r\n   </g>\r\n   <g id=\"patch_33\">\r\n    <path clip-path=\"url(#p0b4cd29ce4)\" d=\"M 234.850765 239.758125 \r\nL 241.062268 239.758125 \r\nL 241.062268 222.323073 \r\nL 234.850765 222.323073 \r\nz\r\n\" style=\"fill:#1f77b4;opacity:0.5;\"/>\r\n   </g>\r\n   <g id=\"patch_34\">\r\n    <path clip-path=\"url(#p0b4cd29ce4)\" d=\"M 241.062268 239.758125 \r\nL 247.273771 239.758125 \r\nL 247.273771 231.218508 \r\nL 241.062268 231.218508 \r\nz\r\n\" style=\"fill:#1f77b4;opacity:0.5;\"/>\r\n   </g>\r\n   <g id=\"patch_35\">\r\n    <path clip-path=\"url(#p0b4cd29ce4)\" d=\"M 247.273771 239.758125 \r\nL 253.485274 239.758125 \r\nL 253.485274 238.334855 \r\nL 247.273771 238.334855 \r\nz\r\n\" style=\"fill:#1f77b4;opacity:0.5;\"/>\r\n   </g>\r\n   <g id=\"patch_36\">\r\n    <path clip-path=\"url(#p0b4cd29ce4)\" d=\"M 253.485274 239.758125 \r\nL 259.696776 239.758125 \r\nL 259.696776 239.402308 \r\nL 253.485274 239.402308 \r\nz\r\n\" style=\"fill:#1f77b4;opacity:0.5;\"/>\r\n   </g>\r\n   <g id=\"patch_37\">\r\n    <path clip-path=\"url(#p0b4cd29ce4)\" d=\"M 259.696776 239.758125 \r\nL 265.908279 239.758125 \r\nL 265.908279 239.758125 \r\nL 259.696776 239.758125 \r\nz\r\n\" style=\"fill:#1f77b4;opacity:0.5;\"/>\r\n   </g>\r\n   <g id=\"patch_38\">\r\n    <path clip-path=\"url(#p0b4cd29ce4)\" d=\"M 265.908279 239.758125 \r\nL 272.119782 239.758125 \r\nL 272.119782 239.758125 \r\nL 265.908279 239.758125 \r\nz\r\n\" style=\"fill:#1f77b4;opacity:0.5;\"/>\r\n   </g>\r\n   <g id=\"patch_39\">\r\n    <path clip-path=\"url(#p0b4cd29ce4)\" d=\"M 272.119782 239.758125 \r\nL 278.331285 239.758125 \r\nL 278.331285 239.758125 \r\nL 272.119782 239.758125 \r\nz\r\n\" style=\"fill:#1f77b4;opacity:0.5;\"/>\r\n   </g>\r\n   <g id=\"patch_40\">\r\n    <path clip-path=\"url(#p0b4cd29ce4)\" d=\"M 278.331285 239.758125 \r\nL 284.542788 239.758125 \r\nL 284.542788 239.758125 \r\nL 278.331285 239.758125 \r\nz\r\n\" style=\"fill:#1f77b4;opacity:0.5;\"/>\r\n   </g>\r\n   <g id=\"patch_41\">\r\n    <path clip-path=\"url(#p0b4cd29ce4)\" d=\"M 284.542788 239.758125 \r\nL 290.75429 239.758125 \r\nL 290.75429 239.758125 \r\nL 284.542788 239.758125 \r\nz\r\n\" style=\"fill:#1f77b4;opacity:0.5;\"/>\r\n   </g>\r\n   <g id=\"patch_42\">\r\n    <path clip-path=\"url(#p0b4cd29ce4)\" d=\"M 290.75429 239.758125 \r\nL 296.965793 239.758125 \r\nL 296.965793 239.758125 \r\nL 290.75429 239.758125 \r\nz\r\n\" style=\"fill:#1f77b4;opacity:0.5;\"/>\r\n   </g>\r\n   <g id=\"patch_43\">\r\n    <path clip-path=\"url(#p0b4cd29ce4)\" d=\"M 296.965793 239.758125 \r\nL 303.177296 239.758125 \r\nL 303.177296 239.758125 \r\nL 296.965793 239.758125 \r\nz\r\n\" style=\"fill:#1f77b4;opacity:0.5;\"/>\r\n   </g>\r\n   <g id=\"patch_44\">\r\n    <path clip-path=\"url(#p0b4cd29ce4)\" d=\"M 303.177296 239.758125 \r\nL 309.388799 239.758125 \r\nL 309.388799 239.758125 \r\nL 303.177296 239.758125 \r\nz\r\n\" style=\"fill:#1f77b4;opacity:0.5;\"/>\r\n   </g>\r\n   <g id=\"patch_45\">\r\n    <path clip-path=\"url(#p0b4cd29ce4)\" d=\"M 309.388799 239.758125 \r\nL 315.600301 239.758125 \r\nL 315.600301 239.758125 \r\nL 309.388799 239.758125 \r\nz\r\n\" style=\"fill:#1f77b4;opacity:0.5;\"/>\r\n   </g>\r\n   <g id=\"patch_46\">\r\n    <path clip-path=\"url(#p0b4cd29ce4)\" d=\"M 315.600301 239.758125 \r\nL 321.811804 239.758125 \r\nL 321.811804 239.758125 \r\nL 315.600301 239.758125 \r\nz\r\n\" style=\"fill:#1f77b4;opacity:0.5;\"/>\r\n   </g>\r\n   <g id=\"patch_47\">\r\n    <path clip-path=\"url(#p0b4cd29ce4)\" d=\"M 321.811804 239.758125 \r\nL 328.023307 239.758125 \r\nL 328.023307 239.758125 \r\nL 321.811804 239.758125 \r\nz\r\n\" style=\"fill:#1f77b4;opacity:0.5;\"/>\r\n   </g>\r\n   <g id=\"patch_48\">\r\n    <path clip-path=\"url(#p0b4cd29ce4)\" d=\"M 328.023307 239.758125 \r\nL 334.23481 239.758125 \r\nL 334.23481 239.758125 \r\nL 328.023307 239.758125 \r\nz\r\n\" style=\"fill:#1f77b4;opacity:0.5;\"/>\r\n   </g>\r\n   <g id=\"patch_49\">\r\n    <path clip-path=\"url(#p0b4cd29ce4)\" d=\"M 334.23481 239.758125 \r\nL 340.446313 239.758125 \r\nL 340.446313 239.758125 \r\nL 334.23481 239.758125 \r\nz\r\n\" style=\"fill:#1f77b4;opacity:0.5;\"/>\r\n   </g>\r\n   <g id=\"patch_50\">\r\n    <path clip-path=\"url(#p0b4cd29ce4)\" d=\"M 340.446313 239.758125 \r\nL 346.657815 239.758125 \r\nL 346.657815 239.758125 \r\nL 340.446313 239.758125 \r\nz\r\n\" style=\"fill:#1f77b4;opacity:0.5;\"/>\r\n   </g>\r\n   <g id=\"patch_51\">\r\n    <path clip-path=\"url(#p0b4cd29ce4)\" d=\"M 346.657815 239.758125 \r\nL 352.869318 239.758125 \r\nL 352.869318 239.758125 \r\nL 346.657815 239.758125 \r\nz\r\n\" style=\"fill:#1f77b4;opacity:0.5;\"/>\r\n   </g>\r\n   <g id=\"patch_52\">\r\n    <path clip-path=\"url(#p0b4cd29ce4)\" d=\"M 48.505682 239.758125 \r\nL 54.717185 239.758125 \r\nL 54.717185 239.758125 \r\nL 48.505682 239.758125 \r\nz\r\n\" style=\"fill:#ff7f0e;opacity:0.5;\"/>\r\n   </g>\r\n   <g id=\"patch_53\">\r\n    <path clip-path=\"url(#p0b4cd29ce4)\" d=\"M 54.717185 239.758125 \r\nL 60.928687 239.758125 \r\nL 60.928687 239.758125 \r\nL 54.717185 239.758125 \r\nz\r\n\" style=\"fill:#ff7f0e;opacity:0.5;\"/>\r\n   </g>\r\n   <g id=\"patch_54\">\r\n    <path clip-path=\"url(#p0b4cd29ce4)\" d=\"M 60.928687 239.758125 \r\nL 67.14019 239.758125 \r\nL 67.14019 239.758125 \r\nL 60.928687 239.758125 \r\nz\r\n\" style=\"fill:#ff7f0e;opacity:0.5;\"/>\r\n   </g>\r\n   <g id=\"patch_55\">\r\n    <path clip-path=\"url(#p0b4cd29ce4)\" d=\"M 67.14019 239.758125 \r\nL 73.351693 239.758125 \r\nL 73.351693 239.758125 \r\nL 67.14019 239.758125 \r\nz\r\n\" style=\"fill:#ff7f0e;opacity:0.5;\"/>\r\n   </g>\r\n   <g id=\"patch_56\">\r\n    <path clip-path=\"url(#p0b4cd29ce4)\" d=\"M 73.351693 239.758125 \r\nL 79.563196 239.758125 \r\nL 79.563196 239.758125 \r\nL 73.351693 239.758125 \r\nz\r\n\" style=\"fill:#ff7f0e;opacity:0.5;\"/>\r\n   </g>\r\n   <g id=\"patch_57\">\r\n    <path clip-path=\"url(#p0b4cd29ce4)\" d=\"M 79.563196 239.758125 \r\nL 85.774699 239.758125 \r\nL 85.774699 239.758125 \r\nL 79.563196 239.758125 \r\nz\r\n\" style=\"fill:#ff7f0e;opacity:0.5;\"/>\r\n   </g>\r\n   <g id=\"patch_58\">\r\n    <path clip-path=\"url(#p0b4cd29ce4)\" d=\"M 85.774699 239.758125 \r\nL 91.986201 239.758125 \r\nL 91.986201 239.758125 \r\nL 85.774699 239.758125 \r\nz\r\n\" style=\"fill:#ff7f0e;opacity:0.5;\"/>\r\n   </g>\r\n   <g id=\"patch_59\">\r\n    <path clip-path=\"url(#p0b4cd29ce4)\" d=\"M 91.986201 239.758125 \r\nL 98.197704 239.758125 \r\nL 98.197704 239.758125 \r\nL 91.986201 239.758125 \r\nz\r\n\" style=\"fill:#ff7f0e;opacity:0.5;\"/>\r\n   </g>\r\n   <g id=\"patch_60\">\r\n    <path clip-path=\"url(#p0b4cd29ce4)\" d=\"M 98.197704 239.758125 \r\nL 104.409207 239.758125 \r\nL 104.409207 239.758125 \r\nL 98.197704 239.758125 \r\nz\r\n\" style=\"fill:#ff7f0e;opacity:0.5;\"/>\r\n   </g>\r\n   <g id=\"patch_61\">\r\n    <path clip-path=\"url(#p0b4cd29ce4)\" d=\"M 104.409207 239.758125 \r\nL 110.62071 239.758125 \r\nL 110.62071 239.758125 \r\nL 104.409207 239.758125 \r\nz\r\n\" style=\"fill:#ff7f0e;opacity:0.5;\"/>\r\n   </g>\r\n   <g id=\"patch_62\">\r\n    <path clip-path=\"url(#p0b4cd29ce4)\" d=\"M 110.62071 239.758125 \r\nL 116.832212 239.758125 \r\nL 116.832212 239.758125 \r\nL 110.62071 239.758125 \r\nz\r\n\" style=\"fill:#ff7f0e;opacity:0.5;\"/>\r\n   </g>\r\n   <g id=\"patch_63\">\r\n    <path clip-path=\"url(#p0b4cd29ce4)\" d=\"M 116.832212 239.758125 \r\nL 123.043715 239.758125 \r\nL 123.043715 239.758125 \r\nL 116.832212 239.758125 \r\nz\r\n\" style=\"fill:#ff7f0e;opacity:0.5;\"/>\r\n   </g>\r\n   <g id=\"patch_64\">\r\n    <path clip-path=\"url(#p0b4cd29ce4)\" d=\"M 123.043715 239.758125 \r\nL 129.255218 239.758125 \r\nL 129.255218 239.758125 \r\nL 123.043715 239.758125 \r\nz\r\n\" style=\"fill:#ff7f0e;opacity:0.5;\"/>\r\n   </g>\r\n   <g id=\"patch_65\">\r\n    <path clip-path=\"url(#p0b4cd29ce4)\" d=\"M 129.255218 239.758125 \r\nL 135.466721 239.758125 \r\nL 135.466721 239.758125 \r\nL 129.255218 239.758125 \r\nz\r\n\" style=\"fill:#ff7f0e;opacity:0.5;\"/>\r\n   </g>\r\n   <g id=\"patch_66\">\r\n    <path clip-path=\"url(#p0b4cd29ce4)\" d=\"M 135.466721 239.758125 \r\nL 141.678224 239.758125 \r\nL 141.678224 239.758125 \r\nL 135.466721 239.758125 \r\nz\r\n\" style=\"fill:#ff7f0e;opacity:0.5;\"/>\r\n   </g>\r\n   <g id=\"patch_67\">\r\n    <path clip-path=\"url(#p0b4cd29ce4)\" d=\"M 141.678224 239.758125 \r\nL 147.889726 239.758125 \r\nL 147.889726 239.758125 \r\nL 141.678224 239.758125 \r\nz\r\n\" style=\"fill:#ff7f0e;opacity:0.5;\"/>\r\n   </g>\r\n   <g id=\"patch_68\">\r\n    <path clip-path=\"url(#p0b4cd29ce4)\" d=\"M 147.889726 239.758125 \r\nL 154.101229 239.758125 \r\nL 154.101229 239.758125 \r\nL 147.889726 239.758125 \r\nz\r\n\" style=\"fill:#ff7f0e;opacity:0.5;\"/>\r\n   </g>\r\n   <g id=\"patch_69\">\r\n    <path clip-path=\"url(#p0b4cd29ce4)\" d=\"M 154.101229 239.758125 \r\nL 160.312732 239.758125 \r\nL 160.312732 239.758125 \r\nL 154.101229 239.758125 \r\nz\r\n\" style=\"fill:#ff7f0e;opacity:0.5;\"/>\r\n   </g>\r\n   <g id=\"patch_70\">\r\n    <path clip-path=\"url(#p0b4cd29ce4)\" d=\"M 160.312732 239.758125 \r\nL 166.524235 239.758125 \r\nL 166.524235 239.758125 \r\nL 160.312732 239.758125 \r\nz\r\n\" style=\"fill:#ff7f0e;opacity:0.5;\"/>\r\n   </g>\r\n   <g id=\"patch_71\">\r\n    <path clip-path=\"url(#p0b4cd29ce4)\" d=\"M 166.524235 239.758125 \r\nL 172.735737 239.758125 \r\nL 172.735737 239.758125 \r\nL 166.524235 239.758125 \r\nz\r\n\" style=\"fill:#ff7f0e;opacity:0.5;\"/>\r\n   </g>\r\n   <g id=\"patch_72\">\r\n    <path clip-path=\"url(#p0b4cd29ce4)\" d=\"M 172.735737 239.758125 \r\nL 178.94724 239.758125 \r\nL 178.94724 239.758125 \r\nL 172.735737 239.758125 \r\nz\r\n\" style=\"fill:#ff7f0e;opacity:0.5;\"/>\r\n   </g>\r\n   <g id=\"patch_73\">\r\n    <path clip-path=\"url(#p0b4cd29ce4)\" d=\"M 178.94724 239.758125 \r\nL 185.158743 239.758125 \r\nL 185.158743 239.758125 \r\nL 178.94724 239.758125 \r\nz\r\n\" style=\"fill:#ff7f0e;opacity:0.5;\"/>\r\n   </g>\r\n   <g id=\"patch_74\">\r\n    <path clip-path=\"url(#p0b4cd29ce4)\" d=\"M 185.158743 239.758125 \r\nL 191.370246 239.758125 \r\nL 191.370246 239.758125 \r\nL 185.158743 239.758125 \r\nz\r\n\" style=\"fill:#ff7f0e;opacity:0.5;\"/>\r\n   </g>\r\n   <g id=\"patch_75\">\r\n    <path clip-path=\"url(#p0b4cd29ce4)\" d=\"M 191.370246 239.758125 \r\nL 197.581749 239.758125 \r\nL 197.581749 239.758125 \r\nL 191.370246 239.758125 \r\nz\r\n\" style=\"fill:#ff7f0e;opacity:0.5;\"/>\r\n   </g>\r\n   <g id=\"patch_76\">\r\n    <path clip-path=\"url(#p0b4cd29ce4)\" d=\"M 197.581749 239.758125 \r\nL 203.793251 239.758125 \r\nL 203.793251 239.758125 \r\nL 197.581749 239.758125 \r\nz\r\n\" style=\"fill:#ff7f0e;opacity:0.5;\"/>\r\n   </g>\r\n   <g id=\"patch_77\">\r\n    <path clip-path=\"url(#p0b4cd29ce4)\" d=\"M 203.793251 239.758125 \r\nL 210.004754 239.758125 \r\nL 210.004754 239.758125 \r\nL 203.793251 239.758125 \r\nz\r\n\" style=\"fill:#ff7f0e;opacity:0.5;\"/>\r\n   </g>\r\n   <g id=\"patch_78\">\r\n    <path clip-path=\"url(#p0b4cd29ce4)\" d=\"M 210.004754 239.758125 \r\nL 216.216257 239.758125 \r\nL 216.216257 239.758125 \r\nL 210.004754 239.758125 \r\nz\r\n\" style=\"fill:#ff7f0e;opacity:0.5;\"/>\r\n   </g>\r\n   <g id=\"patch_79\">\r\n    <path clip-path=\"url(#p0b4cd29ce4)\" d=\"M 216.216257 239.758125 \r\nL 222.42776 239.758125 \r\nL 222.42776 239.758125 \r\nL 216.216257 239.758125 \r\nz\r\n\" style=\"fill:#ff7f0e;opacity:0.5;\"/>\r\n   </g>\r\n   <g id=\"patch_80\">\r\n    <path clip-path=\"url(#p0b4cd29ce4)\" d=\"M 222.42776 239.758125 \r\nL 228.639263 239.758125 \r\nL 228.639263 239.758125 \r\nL 222.42776 239.758125 \r\nz\r\n\" style=\"fill:#ff7f0e;opacity:0.5;\"/>\r\n   </g>\r\n   <g id=\"patch_81\">\r\n    <path clip-path=\"url(#p0b4cd29ce4)\" d=\"M 228.639263 239.758125 \r\nL 234.850765 239.758125 \r\nL 234.850765 237.979038 \r\nL 228.639263 237.979038 \r\nz\r\n\" style=\"fill:#ff7f0e;opacity:0.5;\"/>\r\n   </g>\r\n   <g id=\"patch_82\">\r\n    <path clip-path=\"url(#p0b4cd29ce4)\" d=\"M 234.850765 239.758125 \r\nL 241.062268 239.758125 \r\nL 241.062268 225.169612 \r\nL 234.850765 225.169612 \r\nz\r\n\" style=\"fill:#ff7f0e;opacity:0.5;\"/>\r\n   </g>\r\n   <g id=\"patch_83\">\r\n    <path clip-path=\"url(#p0b4cd29ce4)\" d=\"M 241.062268 239.758125 \r\nL 247.273771 239.758125 \r\nL 247.273771 198.839126 \r\nL 241.062268 198.839126 \r\nz\r\n\" style=\"fill:#ff7f0e;opacity:0.5;\"/>\r\n   </g>\r\n   <g id=\"patch_84\">\r\n    <path clip-path=\"url(#p0b4cd29ce4)\" d=\"M 247.273771 239.758125 \r\nL 253.485274 239.758125 \r\nL 253.485274 129.810555 \r\nL 247.273771 129.810555 \r\nz\r\n\" style=\"fill:#ff7f0e;opacity:0.5;\"/>\r\n   </g>\r\n   <g id=\"patch_85\">\r\n    <path clip-path=\"url(#p0b4cd29ce4)\" d=\"M 253.485274 239.758125 \r\nL 259.696776 239.758125 \r\nL 259.696776 159.699215 \r\nL 253.485274 159.699215 \r\nz\r\n\" style=\"fill:#ff7f0e;opacity:0.5;\"/>\r\n   </g>\r\n   <g id=\"patch_86\">\r\n    <path clip-path=\"url(#p0b4cd29ce4)\" d=\"M 259.696776 239.758125 \r\nL 265.908279 239.758125 \r\nL 265.908279 105.970791 \r\nL 259.696776 105.970791 \r\nz\r\n\" style=\"fill:#ff7f0e;opacity:0.5;\"/>\r\n   </g>\r\n   <g id=\"patch_87\">\r\n    <path clip-path=\"url(#p0b4cd29ce4)\" d=\"M 265.908279 239.758125 \r\nL 272.119782 239.758125 \r\nL 272.119782 32.672411 \r\nL 265.908279 32.672411 \r\nz\r\n\" style=\"fill:#ff7f0e;opacity:0.5;\"/>\r\n   </g>\r\n   <g id=\"patch_88\">\r\n    <path clip-path=\"url(#p0b4cd29ce4)\" d=\"M 272.119782 239.758125 \r\nL 278.331285 239.758125 \r\nL 278.331285 91.382278 \r\nL 272.119782 91.382278 \r\nz\r\n\" style=\"fill:#ff7f0e;opacity:0.5;\"/>\r\n   </g>\r\n   <g id=\"patch_89\">\r\n    <path clip-path=\"url(#p0b4cd29ce4)\" d=\"M 278.331285 239.758125 \r\nL 284.542788 239.758125 \r\nL 284.542788 166.815562 \r\nL 278.331285 166.815562 \r\nz\r\n\" style=\"fill:#ff7f0e;opacity:0.5;\"/>\r\n   </g>\r\n   <g id=\"patch_90\">\r\n    <path clip-path=\"url(#p0b4cd29ce4)\" d=\"M 284.542788 239.758125 \r\nL 290.75429 239.758125 \r\nL 290.75429 215.918361 \r\nL 284.542788 215.918361 \r\nz\r\n\" style=\"fill:#ff7f0e;opacity:0.5;\"/>\r\n   </g>\r\n   <g id=\"patch_91\">\r\n    <path clip-path=\"url(#p0b4cd29ce4)\" d=\"M 290.75429 239.758125 \r\nL 296.965793 239.758125 \r\nL 296.965793 236.199951 \r\nL 290.75429 236.199951 \r\nz\r\n\" style=\"fill:#ff7f0e;opacity:0.5;\"/>\r\n   </g>\r\n   <g id=\"patch_92\">\r\n    <path clip-path=\"url(#p0b4cd29ce4)\" d=\"M 296.965793 239.758125 \r\nL 303.177296 239.758125 \r\nL 303.177296 239.758125 \r\nL 296.965793 239.758125 \r\nz\r\n\" style=\"fill:#ff7f0e;opacity:0.5;\"/>\r\n   </g>\r\n   <g id=\"patch_93\">\r\n    <path clip-path=\"url(#p0b4cd29ce4)\" d=\"M 303.177296 239.758125 \r\nL 309.388799 239.758125 \r\nL 309.388799 239.758125 \r\nL 303.177296 239.758125 \r\nz\r\n\" style=\"fill:#ff7f0e;opacity:0.5;\"/>\r\n   </g>\r\n   <g id=\"patch_94\">\r\n    <path clip-path=\"url(#p0b4cd29ce4)\" d=\"M 309.388799 239.758125 \r\nL 315.600301 239.758125 \r\nL 315.600301 239.758125 \r\nL 309.388799 239.758125 \r\nz\r\n\" style=\"fill:#ff7f0e;opacity:0.5;\"/>\r\n   </g>\r\n   <g id=\"patch_95\">\r\n    <path clip-path=\"url(#p0b4cd29ce4)\" d=\"M 315.600301 239.758125 \r\nL 321.811804 239.758125 \r\nL 321.811804 239.758125 \r\nL 315.600301 239.758125 \r\nz\r\n\" style=\"fill:#ff7f0e;opacity:0.5;\"/>\r\n   </g>\r\n   <g id=\"patch_96\">\r\n    <path clip-path=\"url(#p0b4cd29ce4)\" d=\"M 321.811804 239.758125 \r\nL 328.023307 239.758125 \r\nL 328.023307 239.758125 \r\nL 321.811804 239.758125 \r\nz\r\n\" style=\"fill:#ff7f0e;opacity:0.5;\"/>\r\n   </g>\r\n   <g id=\"patch_97\">\r\n    <path clip-path=\"url(#p0b4cd29ce4)\" d=\"M 328.023307 239.758125 \r\nL 334.23481 239.758125 \r\nL 334.23481 239.758125 \r\nL 328.023307 239.758125 \r\nz\r\n\" style=\"fill:#ff7f0e;opacity:0.5;\"/>\r\n   </g>\r\n   <g id=\"patch_98\">\r\n    <path clip-path=\"url(#p0b4cd29ce4)\" d=\"M 334.23481 239.758125 \r\nL 340.446313 239.758125 \r\nL 340.446313 239.758125 \r\nL 334.23481 239.758125 \r\nz\r\n\" style=\"fill:#ff7f0e;opacity:0.5;\"/>\r\n   </g>\r\n   <g id=\"patch_99\">\r\n    <path clip-path=\"url(#p0b4cd29ce4)\" d=\"M 340.446313 239.758125 \r\nL 346.657815 239.758125 \r\nL 346.657815 239.758125 \r\nL 340.446313 239.758125 \r\nz\r\n\" style=\"fill:#ff7f0e;opacity:0.5;\"/>\r\n   </g>\r\n   <g id=\"patch_100\">\r\n    <path clip-path=\"url(#p0b4cd29ce4)\" d=\"M 346.657815 239.758125 \r\nL 352.869318 239.758125 \r\nL 352.869318 239.758125 \r\nL 346.657815 239.758125 \r\nz\r\n\" style=\"fill:#ff7f0e;opacity:0.5;\"/>\r\n   </g>\r\n   <g id=\"matplotlib.axis_1\">\r\n    <g id=\"xtick_1\">\r\n     <g id=\"line2d_1\">\r\n      <defs>\r\n       <path d=\"M 0 0 \r\nL 0 3.5 \r\n\" id=\"m76b088b243\" style=\"stroke:#000000;stroke-width:0.8;\"/>\r\n      </defs>\r\n      <g>\r\n       <use style=\"stroke:#000000;stroke-width:0.8;\" x=\"82.323864\" xlink:href=\"#m76b088b243\" y=\"239.758125\"/>\r\n      </g>\r\n     </g>\r\n     <g id=\"text_1\">\r\n      <!-- 0 -->\r\n      <g transform=\"translate(79.142614 254.356563)scale(0.1 -0.1)\">\r\n       <defs>\r\n        <path d=\"M 31.78125 66.40625 \r\nQ 24.171875 66.40625 20.328125 58.90625 \r\nQ 16.5 51.421875 16.5 36.375 \r\nQ 16.5 21.390625 20.328125 13.890625 \r\nQ 24.171875 6.390625 31.78125 6.390625 \r\nQ 39.453125 6.390625 43.28125 13.890625 \r\nQ 47.125 21.390625 47.125 36.375 \r\nQ 47.125 51.421875 43.28125 58.90625 \r\nQ 39.453125 66.40625 31.78125 66.40625 \r\nz\r\nM 31.78125 74.21875 \r\nQ 44.046875 74.21875 50.515625 64.515625 \r\nQ 56.984375 54.828125 56.984375 36.375 \r\nQ 56.984375 17.96875 50.515625 8.265625 \r\nQ 44.046875 -1.421875 31.78125 -1.421875 \r\nQ 19.53125 -1.421875 13.0625 8.265625 \r\nQ 6.59375 17.96875 6.59375 36.375 \r\nQ 6.59375 54.828125 13.0625 64.515625 \r\nQ 19.53125 74.21875 31.78125 74.21875 \r\nz\r\n\" id=\"DejaVuSans-48\"/>\r\n       </defs>\r\n       <use xlink:href=\"#DejaVuSans-48\"/>\r\n      </g>\r\n     </g>\r\n    </g>\r\n    <g id=\"xtick_2\">\r\n     <g id=\"line2d_2\">\r\n      <g>\r\n       <use style=\"stroke:#000000;stroke-width:0.8;\" x=\"149.960227\" xlink:href=\"#m76b088b243\" y=\"239.758125\"/>\r\n      </g>\r\n     </g>\r\n     <g id=\"text_2\">\r\n      <!-- 10 -->\r\n      <g transform=\"translate(143.597727 254.356563)scale(0.1 -0.1)\">\r\n       <defs>\r\n        <path d=\"M 12.40625 8.296875 \r\nL 28.515625 8.296875 \r\nL 28.515625 63.921875 \r\nL 10.984375 60.40625 \r\nL 10.984375 69.390625 \r\nL 28.421875 72.90625 \r\nL 38.28125 72.90625 \r\nL 38.28125 8.296875 \r\nL 54.390625 8.296875 \r\nL 54.390625 0 \r\nL 12.40625 0 \r\nz\r\n\" id=\"DejaVuSans-49\"/>\r\n       </defs>\r\n       <use xlink:href=\"#DejaVuSans-49\"/>\r\n       <use x=\"63.623047\" xlink:href=\"#DejaVuSans-48\"/>\r\n      </g>\r\n     </g>\r\n    </g>\r\n    <g id=\"xtick_3\">\r\n     <g id=\"line2d_3\">\r\n      <g>\r\n       <use style=\"stroke:#000000;stroke-width:0.8;\" x=\"217.596591\" xlink:href=\"#m76b088b243\" y=\"239.758125\"/>\r\n      </g>\r\n     </g>\r\n     <g id=\"text_3\">\r\n      <!-- 20 -->\r\n      <g transform=\"translate(211.234091 254.356563)scale(0.1 -0.1)\">\r\n       <defs>\r\n        <path d=\"M 19.1875 8.296875 \r\nL 53.609375 8.296875 \r\nL 53.609375 0 \r\nL 7.328125 0 \r\nL 7.328125 8.296875 \r\nQ 12.9375 14.109375 22.625 23.890625 \r\nQ 32.328125 33.6875 34.8125 36.53125 \r\nQ 39.546875 41.84375 41.421875 45.53125 \r\nQ 43.3125 49.21875 43.3125 52.78125 \r\nQ 43.3125 58.59375 39.234375 62.25 \r\nQ 35.15625 65.921875 28.609375 65.921875 \r\nQ 23.96875 65.921875 18.8125 64.3125 \r\nQ 13.671875 62.703125 7.8125 59.421875 \r\nL 7.8125 69.390625 \r\nQ 13.765625 71.78125 18.9375 73 \r\nQ 24.125 74.21875 28.421875 74.21875 \r\nQ 39.75 74.21875 46.484375 68.546875 \r\nQ 53.21875 62.890625 53.21875 53.421875 \r\nQ 53.21875 48.921875 51.53125 44.890625 \r\nQ 49.859375 40.875 45.40625 35.40625 \r\nQ 44.1875 33.984375 37.640625 27.21875 \r\nQ 31.109375 20.453125 19.1875 8.296875 \r\nz\r\n\" id=\"DejaVuSans-50\"/>\r\n       </defs>\r\n       <use xlink:href=\"#DejaVuSans-50\"/>\r\n       <use x=\"63.623047\" xlink:href=\"#DejaVuSans-48\"/>\r\n      </g>\r\n     </g>\r\n    </g>\r\n    <g id=\"xtick_4\">\r\n     <g id=\"line2d_4\">\r\n      <g>\r\n       <use style=\"stroke:#000000;stroke-width:0.8;\" x=\"285.232955\" xlink:href=\"#m76b088b243\" y=\"239.758125\"/>\r\n      </g>\r\n     </g>\r\n     <g id=\"text_4\">\r\n      <!-- 30 -->\r\n      <g transform=\"translate(278.870455 254.356563)scale(0.1 -0.1)\">\r\n       <defs>\r\n        <path d=\"M 40.578125 39.3125 \r\nQ 47.65625 37.796875 51.625 33 \r\nQ 55.609375 28.21875 55.609375 21.1875 \r\nQ 55.609375 10.40625 48.1875 4.484375 \r\nQ 40.765625 -1.421875 27.09375 -1.421875 \r\nQ 22.515625 -1.421875 17.65625 -0.515625 \r\nQ 12.796875 0.390625 7.625 2.203125 \r\nL 7.625 11.71875 \r\nQ 11.71875 9.328125 16.59375 8.109375 \r\nQ 21.484375 6.890625 26.8125 6.890625 \r\nQ 36.078125 6.890625 40.9375 10.546875 \r\nQ 45.796875 14.203125 45.796875 21.1875 \r\nQ 45.796875 27.640625 41.28125 31.265625 \r\nQ 36.765625 34.90625 28.71875 34.90625 \r\nL 20.21875 34.90625 \r\nL 20.21875 43.015625 \r\nL 29.109375 43.015625 \r\nQ 36.375 43.015625 40.234375 45.921875 \r\nQ 44.09375 48.828125 44.09375 54.296875 \r\nQ 44.09375 59.90625 40.109375 62.90625 \r\nQ 36.140625 65.921875 28.71875 65.921875 \r\nQ 24.65625 65.921875 20.015625 65.03125 \r\nQ 15.375 64.15625 9.8125 62.3125 \r\nL 9.8125 71.09375 \r\nQ 15.4375 72.65625 20.34375 73.4375 \r\nQ 25.25 74.21875 29.59375 74.21875 \r\nQ 40.828125 74.21875 47.359375 69.109375 \r\nQ 53.90625 64.015625 53.90625 55.328125 \r\nQ 53.90625 49.265625 50.4375 45.09375 \r\nQ 46.96875 40.921875 40.578125 39.3125 \r\nz\r\n\" id=\"DejaVuSans-51\"/>\r\n       </defs>\r\n       <use xlink:href=\"#DejaVuSans-51\"/>\r\n       <use x=\"63.623047\" xlink:href=\"#DejaVuSans-48\"/>\r\n      </g>\r\n     </g>\r\n    </g>\r\n    <g id=\"xtick_5\">\r\n     <g id=\"line2d_5\">\r\n      <g>\r\n       <use style=\"stroke:#000000;stroke-width:0.8;\" x=\"352.869318\" xlink:href=\"#m76b088b243\" y=\"239.758125\"/>\r\n      </g>\r\n     </g>\r\n     <g id=\"text_5\">\r\n      <!-- 40 -->\r\n      <g transform=\"translate(346.506818 254.356563)scale(0.1 -0.1)\">\r\n       <defs>\r\n        <path d=\"M 37.796875 64.3125 \r\nL 12.890625 25.390625 \r\nL 37.796875 25.390625 \r\nz\r\nM 35.203125 72.90625 \r\nL 47.609375 72.90625 \r\nL 47.609375 25.390625 \r\nL 58.015625 25.390625 \r\nL 58.015625 17.1875 \r\nL 47.609375 17.1875 \r\nL 47.609375 0 \r\nL 37.796875 0 \r\nL 37.796875 17.1875 \r\nL 4.890625 17.1875 \r\nL 4.890625 26.703125 \r\nz\r\n\" id=\"DejaVuSans-52\"/>\r\n       </defs>\r\n       <use xlink:href=\"#DejaVuSans-52\"/>\r\n       <use x=\"63.623047\" xlink:href=\"#DejaVuSans-48\"/>\r\n      </g>\r\n     </g>\r\n    </g>\r\n   </g>\r\n   <g id=\"matplotlib.axis_2\">\r\n    <g id=\"ytick_1\">\r\n     <g id=\"line2d_6\">\r\n      <defs>\r\n       <path d=\"M 0 0 \r\nL -3.5 0 \r\n\" id=\"m6b223b5ae1\" style=\"stroke:#000000;stroke-width:0.8;\"/>\r\n      </defs>\r\n      <g>\r\n       <use style=\"stroke:#000000;stroke-width:0.8;\" x=\"33.2875\" xlink:href=\"#m6b223b5ae1\" y=\"239.758125\"/>\r\n      </g>\r\n     </g>\r\n     <g id=\"text_6\">\r\n      <!-- 0 -->\r\n      <g transform=\"translate(19.925 243.557344)scale(0.1 -0.1)\">\r\n       <use xlink:href=\"#DejaVuSans-48\"/>\r\n      </g>\r\n     </g>\r\n    </g>\r\n    <g id=\"ytick_2\">\r\n     <g id=\"line2d_7\">\r\n      <g>\r\n       <use style=\"stroke:#000000;stroke-width:0.8;\" x=\"33.2875\" xlink:href=\"#m6b223b5ae1\" y=\"204.176387\"/>\r\n      </g>\r\n     </g>\r\n     <g id=\"text_7\">\r\n      <!-- 100 -->\r\n      <g transform=\"translate(7.2 207.975606)scale(0.1 -0.1)\">\r\n       <use xlink:href=\"#DejaVuSans-49\"/>\r\n       <use x=\"63.623047\" xlink:href=\"#DejaVuSans-48\"/>\r\n       <use x=\"127.246094\" xlink:href=\"#DejaVuSans-48\"/>\r\n      </g>\r\n     </g>\r\n    </g>\r\n    <g id=\"ytick_3\">\r\n     <g id=\"line2d_8\">\r\n      <g>\r\n       <use style=\"stroke:#000000;stroke-width:0.8;\" x=\"33.2875\" xlink:href=\"#m6b223b5ae1\" y=\"168.594649\"/>\r\n      </g>\r\n     </g>\r\n     <g id=\"text_8\">\r\n      <!-- 200 -->\r\n      <g transform=\"translate(7.2 172.393868)scale(0.1 -0.1)\">\r\n       <use xlink:href=\"#DejaVuSans-50\"/>\r\n       <use x=\"63.623047\" xlink:href=\"#DejaVuSans-48\"/>\r\n       <use x=\"127.246094\" xlink:href=\"#DejaVuSans-48\"/>\r\n      </g>\r\n     </g>\r\n    </g>\r\n    <g id=\"ytick_4\">\r\n     <g id=\"line2d_9\">\r\n      <g>\r\n       <use style=\"stroke:#000000;stroke-width:0.8;\" x=\"33.2875\" xlink:href=\"#m6b223b5ae1\" y=\"133.012911\"/>\r\n      </g>\r\n     </g>\r\n     <g id=\"text_9\">\r\n      <!-- 300 -->\r\n      <g transform=\"translate(7.2 136.81213)scale(0.1 -0.1)\">\r\n       <use xlink:href=\"#DejaVuSans-51\"/>\r\n       <use x=\"63.623047\" xlink:href=\"#DejaVuSans-48\"/>\r\n       <use x=\"127.246094\" xlink:href=\"#DejaVuSans-48\"/>\r\n      </g>\r\n     </g>\r\n    </g>\r\n    <g id=\"ytick_5\">\r\n     <g id=\"line2d_10\">\r\n      <g>\r\n       <use style=\"stroke:#000000;stroke-width:0.8;\" x=\"33.2875\" xlink:href=\"#m6b223b5ae1\" y=\"97.431174\"/>\r\n      </g>\r\n     </g>\r\n     <g id=\"text_10\">\r\n      <!-- 400 -->\r\n      <g transform=\"translate(7.2 101.230392)scale(0.1 -0.1)\">\r\n       <use xlink:href=\"#DejaVuSans-52\"/>\r\n       <use x=\"63.623047\" xlink:href=\"#DejaVuSans-48\"/>\r\n       <use x=\"127.246094\" xlink:href=\"#DejaVuSans-48\"/>\r\n      </g>\r\n     </g>\r\n    </g>\r\n    <g id=\"ytick_6\">\r\n     <g id=\"line2d_11\">\r\n      <g>\r\n       <use style=\"stroke:#000000;stroke-width:0.8;\" x=\"33.2875\" xlink:href=\"#m6b223b5ae1\" y=\"61.849436\"/>\r\n      </g>\r\n     </g>\r\n     <g id=\"text_11\">\r\n      <!-- 500 -->\r\n      <g transform=\"translate(7.2 65.648655)scale(0.1 -0.1)\">\r\n       <defs>\r\n        <path d=\"M 10.796875 72.90625 \r\nL 49.515625 72.90625 \r\nL 49.515625 64.59375 \r\nL 19.828125 64.59375 \r\nL 19.828125 46.734375 \r\nQ 21.96875 47.46875 24.109375 47.828125 \r\nQ 26.265625 48.1875 28.421875 48.1875 \r\nQ 40.625 48.1875 47.75 41.5 \r\nQ 54.890625 34.8125 54.890625 23.390625 \r\nQ 54.890625 11.625 47.5625 5.09375 \r\nQ 40.234375 -1.421875 26.90625 -1.421875 \r\nQ 22.3125 -1.421875 17.546875 -0.640625 \r\nQ 12.796875 0.140625 7.71875 1.703125 \r\nL 7.71875 11.625 \r\nQ 12.109375 9.234375 16.796875 8.0625 \r\nQ 21.484375 6.890625 26.703125 6.890625 \r\nQ 35.15625 6.890625 40.078125 11.328125 \r\nQ 45.015625 15.765625 45.015625 23.390625 \r\nQ 45.015625 31 40.078125 35.4375 \r\nQ 35.15625 39.890625 26.703125 39.890625 \r\nQ 22.75 39.890625 18.8125 39.015625 \r\nQ 14.890625 38.140625 10.796875 36.28125 \r\nz\r\n\" id=\"DejaVuSans-53\"/>\r\n       </defs>\r\n       <use xlink:href=\"#DejaVuSans-53\"/>\r\n       <use x=\"63.623047\" xlink:href=\"#DejaVuSans-48\"/>\r\n       <use x=\"127.246094\" xlink:href=\"#DejaVuSans-48\"/>\r\n      </g>\r\n     </g>\r\n    </g>\r\n    <g id=\"ytick_7\">\r\n     <g id=\"line2d_12\">\r\n      <g>\r\n       <use style=\"stroke:#000000;stroke-width:0.8;\" x=\"33.2875\" xlink:href=\"#m6b223b5ae1\" y=\"26.267698\"/>\r\n      </g>\r\n     </g>\r\n     <g id=\"text_12\">\r\n      <!-- 600 -->\r\n      <g transform=\"translate(7.2 30.066917)scale(0.1 -0.1)\">\r\n       <defs>\r\n        <path d=\"M 33.015625 40.375 \r\nQ 26.375 40.375 22.484375 35.828125 \r\nQ 18.609375 31.296875 18.609375 23.390625 \r\nQ 18.609375 15.53125 22.484375 10.953125 \r\nQ 26.375 6.390625 33.015625 6.390625 \r\nQ 39.65625 6.390625 43.53125 10.953125 \r\nQ 47.40625 15.53125 47.40625 23.390625 \r\nQ 47.40625 31.296875 43.53125 35.828125 \r\nQ 39.65625 40.375 33.015625 40.375 \r\nz\r\nM 52.59375 71.296875 \r\nL 52.59375 62.3125 \r\nQ 48.875 64.0625 45.09375 64.984375 \r\nQ 41.3125 65.921875 37.59375 65.921875 \r\nQ 27.828125 65.921875 22.671875 59.328125 \r\nQ 17.53125 52.734375 16.796875 39.40625 \r\nQ 19.671875 43.65625 24.015625 45.921875 \r\nQ 28.375 48.1875 33.59375 48.1875 \r\nQ 44.578125 48.1875 50.953125 41.515625 \r\nQ 57.328125 34.859375 57.328125 23.390625 \r\nQ 57.328125 12.15625 50.6875 5.359375 \r\nQ 44.046875 -1.421875 33.015625 -1.421875 \r\nQ 20.359375 -1.421875 13.671875 8.265625 \r\nQ 6.984375 17.96875 6.984375 36.375 \r\nQ 6.984375 53.65625 15.1875 63.9375 \r\nQ 23.390625 74.21875 37.203125 74.21875 \r\nQ 40.921875 74.21875 44.703125 73.484375 \r\nQ 48.484375 72.75 52.59375 71.296875 \r\nz\r\n\" id=\"DejaVuSans-54\"/>\r\n       </defs>\r\n       <use xlink:href=\"#DejaVuSans-54\"/>\r\n       <use x=\"63.623047\" xlink:href=\"#DejaVuSans-48\"/>\r\n       <use x=\"127.246094\" xlink:href=\"#DejaVuSans-48\"/>\r\n      </g>\r\n     </g>\r\n    </g>\r\n   </g>\r\n   <g id=\"patch_101\">\r\n    <path d=\"M 33.2875 239.758125 \r\nL 33.2875 22.318125 \r\n\" style=\"fill:none;stroke:#000000;stroke-linecap:square;stroke-linejoin:miter;stroke-width:0.8;\"/>\r\n   </g>\r\n   <g id=\"patch_102\">\r\n    <path d=\"M 368.0875 239.758125 \r\nL 368.0875 22.318125 \r\n\" style=\"fill:none;stroke:#000000;stroke-linecap:square;stroke-linejoin:miter;stroke-width:0.8;\"/>\r\n   </g>\r\n   <g id=\"patch_103\">\r\n    <path d=\"M 33.2875 239.758125 \r\nL 368.0875 239.758125 \r\n\" style=\"fill:none;stroke:#000000;stroke-linecap:square;stroke-linejoin:miter;stroke-width:0.8;\"/>\r\n   </g>\r\n   <g id=\"patch_104\">\r\n    <path d=\"M 33.2875 22.318125 \r\nL 368.0875 22.318125 \r\n\" style=\"fill:none;stroke:#000000;stroke-linecap:square;stroke-linejoin:miter;stroke-width:0.8;\"/>\r\n   </g>\r\n   <g id=\"text_13\">\r\n    <!-- Rome vs Bangkok, Tempratures in °C -->\r\n    <g transform=\"translate(89.559063 16.318125)scale(0.12 -0.12)\">\r\n     <defs>\r\n      <path d=\"M 44.390625 34.1875 \r\nQ 47.5625 33.109375 50.5625 29.59375 \r\nQ 53.5625 26.078125 56.59375 19.921875 \r\nL 66.609375 0 \r\nL 56 0 \r\nL 46.6875 18.703125 \r\nQ 43.0625 26.03125 39.671875 28.421875 \r\nQ 36.28125 30.8125 30.421875 30.8125 \r\nL 19.671875 30.8125 \r\nL 19.671875 0 \r\nL 9.8125 0 \r\nL 9.8125 72.90625 \r\nL 32.078125 72.90625 \r\nQ 44.578125 72.90625 50.734375 67.671875 \r\nQ 56.890625 62.453125 56.890625 51.90625 \r\nQ 56.890625 45.015625 53.6875 40.46875 \r\nQ 50.484375 35.9375 44.390625 34.1875 \r\nz\r\nM 19.671875 64.796875 \r\nL 19.671875 38.921875 \r\nL 32.078125 38.921875 \r\nQ 39.203125 38.921875 42.84375 42.21875 \r\nQ 46.484375 45.515625 46.484375 51.90625 \r\nQ 46.484375 58.296875 42.84375 61.546875 \r\nQ 39.203125 64.796875 32.078125 64.796875 \r\nz\r\n\" id=\"DejaVuSans-82\"/>\r\n      <path d=\"M 30.609375 48.390625 \r\nQ 23.390625 48.390625 19.1875 42.75 \r\nQ 14.984375 37.109375 14.984375 27.296875 \r\nQ 14.984375 17.484375 19.15625 11.84375 \r\nQ 23.34375 6.203125 30.609375 6.203125 \r\nQ 37.796875 6.203125 41.984375 11.859375 \r\nQ 46.1875 17.53125 46.1875 27.296875 \r\nQ 46.1875 37.015625 41.984375 42.703125 \r\nQ 37.796875 48.390625 30.609375 48.390625 \r\nz\r\nM 30.609375 56 \r\nQ 42.328125 56 49.015625 48.375 \r\nQ 55.71875 40.765625 55.71875 27.296875 \r\nQ 55.71875 13.875 49.015625 6.21875 \r\nQ 42.328125 -1.421875 30.609375 -1.421875 \r\nQ 18.84375 -1.421875 12.171875 6.21875 \r\nQ 5.515625 13.875 5.515625 27.296875 \r\nQ 5.515625 40.765625 12.171875 48.375 \r\nQ 18.84375 56 30.609375 56 \r\nz\r\n\" id=\"DejaVuSans-111\"/>\r\n      <path d=\"M 52 44.1875 \r\nQ 55.375 50.25 60.0625 53.125 \r\nQ 64.75 56 71.09375 56 \r\nQ 79.640625 56 84.28125 50.015625 \r\nQ 88.921875 44.046875 88.921875 33.015625 \r\nL 88.921875 0 \r\nL 79.890625 0 \r\nL 79.890625 32.71875 \r\nQ 79.890625 40.578125 77.09375 44.375 \r\nQ 74.3125 48.1875 68.609375 48.1875 \r\nQ 61.625 48.1875 57.5625 43.546875 \r\nQ 53.515625 38.921875 53.515625 30.90625 \r\nL 53.515625 0 \r\nL 44.484375 0 \r\nL 44.484375 32.71875 \r\nQ 44.484375 40.625 41.703125 44.40625 \r\nQ 38.921875 48.1875 33.109375 48.1875 \r\nQ 26.21875 48.1875 22.15625 43.53125 \r\nQ 18.109375 38.875 18.109375 30.90625 \r\nL 18.109375 0 \r\nL 9.078125 0 \r\nL 9.078125 54.6875 \r\nL 18.109375 54.6875 \r\nL 18.109375 46.1875 \r\nQ 21.1875 51.21875 25.484375 53.609375 \r\nQ 29.78125 56 35.6875 56 \r\nQ 41.65625 56 45.828125 52.96875 \r\nQ 50 49.953125 52 44.1875 \r\nz\r\n\" id=\"DejaVuSans-109\"/>\r\n      <path d=\"M 56.203125 29.59375 \r\nL 56.203125 25.203125 \r\nL 14.890625 25.203125 \r\nQ 15.484375 15.921875 20.484375 11.0625 \r\nQ 25.484375 6.203125 34.421875 6.203125 \r\nQ 39.59375 6.203125 44.453125 7.46875 \r\nQ 49.3125 8.734375 54.109375 11.28125 \r\nL 54.109375 2.78125 \r\nQ 49.265625 0.734375 44.1875 -0.34375 \r\nQ 39.109375 -1.421875 33.890625 -1.421875 \r\nQ 20.796875 -1.421875 13.15625 6.1875 \r\nQ 5.515625 13.8125 5.515625 26.8125 \r\nQ 5.515625 40.234375 12.765625 48.109375 \r\nQ 20.015625 56 32.328125 56 \r\nQ 43.359375 56 49.78125 48.890625 \r\nQ 56.203125 41.796875 56.203125 29.59375 \r\nz\r\nM 47.21875 32.234375 \r\nQ 47.125 39.59375 43.09375 43.984375 \r\nQ 39.0625 48.390625 32.421875 48.390625 \r\nQ 24.90625 48.390625 20.390625 44.140625 \r\nQ 15.875 39.890625 15.1875 32.171875 \r\nz\r\n\" id=\"DejaVuSans-101\"/>\r\n      <path id=\"DejaVuSans-32\"/>\r\n      <path d=\"M 2.984375 54.6875 \r\nL 12.5 54.6875 \r\nL 29.59375 8.796875 \r\nL 46.6875 54.6875 \r\nL 56.203125 54.6875 \r\nL 35.6875 0 \r\nL 23.484375 0 \r\nz\r\n\" id=\"DejaVuSans-118\"/>\r\n      <path d=\"M 44.28125 53.078125 \r\nL 44.28125 44.578125 \r\nQ 40.484375 46.53125 36.375 47.5 \r\nQ 32.28125 48.484375 27.875 48.484375 \r\nQ 21.1875 48.484375 17.84375 46.4375 \r\nQ 14.5 44.390625 14.5 40.28125 \r\nQ 14.5 37.15625 16.890625 35.375 \r\nQ 19.28125 33.59375 26.515625 31.984375 \r\nL 29.59375 31.296875 \r\nQ 39.15625 29.25 43.1875 25.515625 \r\nQ 47.21875 21.78125 47.21875 15.09375 \r\nQ 47.21875 7.46875 41.1875 3.015625 \r\nQ 35.15625 -1.421875 24.609375 -1.421875 \r\nQ 20.21875 -1.421875 15.453125 -0.5625 \r\nQ 10.6875 0.296875 5.421875 2 \r\nL 5.421875 11.28125 \r\nQ 10.40625 8.6875 15.234375 7.390625 \r\nQ 20.0625 6.109375 24.8125 6.109375 \r\nQ 31.15625 6.109375 34.5625 8.28125 \r\nQ 37.984375 10.453125 37.984375 14.40625 \r\nQ 37.984375 18.0625 35.515625 20.015625 \r\nQ 33.0625 21.96875 24.703125 23.78125 \r\nL 21.578125 24.515625 \r\nQ 13.234375 26.265625 9.515625 29.90625 \r\nQ 5.8125 33.546875 5.8125 39.890625 \r\nQ 5.8125 47.609375 11.28125 51.796875 \r\nQ 16.75 56 26.8125 56 \r\nQ 31.78125 56 36.171875 55.265625 \r\nQ 40.578125 54.546875 44.28125 53.078125 \r\nz\r\n\" id=\"DejaVuSans-115\"/>\r\n      <path d=\"M 19.671875 34.8125 \r\nL 19.671875 8.109375 \r\nL 35.5 8.109375 \r\nQ 43.453125 8.109375 47.28125 11.40625 \r\nQ 51.125 14.703125 51.125 21.484375 \r\nQ 51.125 28.328125 47.28125 31.5625 \r\nQ 43.453125 34.8125 35.5 34.8125 \r\nz\r\nM 19.671875 64.796875 \r\nL 19.671875 42.828125 \r\nL 34.28125 42.828125 \r\nQ 41.5 42.828125 45.03125 45.53125 \r\nQ 48.578125 48.25 48.578125 53.8125 \r\nQ 48.578125 59.328125 45.03125 62.0625 \r\nQ 41.5 64.796875 34.28125 64.796875 \r\nz\r\nM 9.8125 72.90625 \r\nL 35.015625 72.90625 \r\nQ 46.296875 72.90625 52.390625 68.21875 \r\nQ 58.5 63.53125 58.5 54.890625 \r\nQ 58.5 48.1875 55.375 44.234375 \r\nQ 52.25 40.28125 46.1875 39.3125 \r\nQ 53.46875 37.75 57.5 32.78125 \r\nQ 61.53125 27.828125 61.53125 20.40625 \r\nQ 61.53125 10.640625 54.890625 5.3125 \r\nQ 48.25 0 35.984375 0 \r\nL 9.8125 0 \r\nz\r\n\" id=\"DejaVuSans-66\"/>\r\n      <path d=\"M 34.28125 27.484375 \r\nQ 23.390625 27.484375 19.1875 25 \r\nQ 14.984375 22.515625 14.984375 16.5 \r\nQ 14.984375 11.71875 18.140625 8.90625 \r\nQ 21.296875 6.109375 26.703125 6.109375 \r\nQ 34.1875 6.109375 38.703125 11.40625 \r\nQ 43.21875 16.703125 43.21875 25.484375 \r\nL 43.21875 27.484375 \r\nz\r\nM 52.203125 31.203125 \r\nL 52.203125 0 \r\nL 43.21875 0 \r\nL 43.21875 8.296875 \r\nQ 40.140625 3.328125 35.546875 0.953125 \r\nQ 30.953125 -1.421875 24.3125 -1.421875 \r\nQ 15.921875 -1.421875 10.953125 3.296875 \r\nQ 6 8.015625 6 15.921875 \r\nQ 6 25.140625 12.171875 29.828125 \r\nQ 18.359375 34.515625 30.609375 34.515625 \r\nL 43.21875 34.515625 \r\nL 43.21875 35.40625 \r\nQ 43.21875 41.609375 39.140625 45 \r\nQ 35.0625 48.390625 27.6875 48.390625 \r\nQ 23 48.390625 18.546875 47.265625 \r\nQ 14.109375 46.140625 10.015625 43.890625 \r\nL 10.015625 52.203125 \r\nQ 14.9375 54.109375 19.578125 55.046875 \r\nQ 24.21875 56 28.609375 56 \r\nQ 40.484375 56 46.34375 49.84375 \r\nQ 52.203125 43.703125 52.203125 31.203125 \r\nz\r\n\" id=\"DejaVuSans-97\"/>\r\n      <path d=\"M 54.890625 33.015625 \r\nL 54.890625 0 \r\nL 45.90625 0 \r\nL 45.90625 32.71875 \r\nQ 45.90625 40.484375 42.875 44.328125 \r\nQ 39.84375 48.1875 33.796875 48.1875 \r\nQ 26.515625 48.1875 22.3125 43.546875 \r\nQ 18.109375 38.921875 18.109375 30.90625 \r\nL 18.109375 0 \r\nL 9.078125 0 \r\nL 9.078125 54.6875 \r\nL 18.109375 54.6875 \r\nL 18.109375 46.1875 \r\nQ 21.34375 51.125 25.703125 53.5625 \r\nQ 30.078125 56 35.796875 56 \r\nQ 45.21875 56 50.046875 50.171875 \r\nQ 54.890625 44.34375 54.890625 33.015625 \r\nz\r\n\" id=\"DejaVuSans-110\"/>\r\n      <path d=\"M 45.40625 27.984375 \r\nQ 45.40625 37.75 41.375 43.109375 \r\nQ 37.359375 48.484375 30.078125 48.484375 \r\nQ 22.859375 48.484375 18.828125 43.109375 \r\nQ 14.796875 37.75 14.796875 27.984375 \r\nQ 14.796875 18.265625 18.828125 12.890625 \r\nQ 22.859375 7.515625 30.078125 7.515625 \r\nQ 37.359375 7.515625 41.375 12.890625 \r\nQ 45.40625 18.265625 45.40625 27.984375 \r\nz\r\nM 54.390625 6.78125 \r\nQ 54.390625 -7.171875 48.1875 -13.984375 \r\nQ 42 -20.796875 29.203125 -20.796875 \r\nQ 24.46875 -20.796875 20.265625 -20.09375 \r\nQ 16.0625 -19.390625 12.109375 -17.921875 \r\nL 12.109375 -9.1875 \r\nQ 16.0625 -11.328125 19.921875 -12.34375 \r\nQ 23.78125 -13.375 27.78125 -13.375 \r\nQ 36.625 -13.375 41.015625 -8.765625 \r\nQ 45.40625 -4.15625 45.40625 5.171875 \r\nL 45.40625 9.625 \r\nQ 42.625 4.78125 38.28125 2.390625 \r\nQ 33.9375 0 27.875 0 \r\nQ 17.828125 0 11.671875 7.65625 \r\nQ 5.515625 15.328125 5.515625 27.984375 \r\nQ 5.515625 40.671875 11.671875 48.328125 \r\nQ 17.828125 56 27.875 56 \r\nQ 33.9375 56 38.28125 53.609375 \r\nQ 42.625 51.21875 45.40625 46.390625 \r\nL 45.40625 54.6875 \r\nL 54.390625 54.6875 \r\nz\r\n\" id=\"DejaVuSans-103\"/>\r\n      <path d=\"M 9.078125 75.984375 \r\nL 18.109375 75.984375 \r\nL 18.109375 31.109375 \r\nL 44.921875 54.6875 \r\nL 56.390625 54.6875 \r\nL 27.390625 29.109375 \r\nL 57.625 0 \r\nL 45.90625 0 \r\nL 18.109375 26.703125 \r\nL 18.109375 0 \r\nL 9.078125 0 \r\nz\r\n\" id=\"DejaVuSans-107\"/>\r\n      <path d=\"M 11.71875 12.40625 \r\nL 22.015625 12.40625 \r\nL 22.015625 4 \r\nL 14.015625 -11.625 \r\nL 7.71875 -11.625 \r\nL 11.71875 4 \r\nz\r\n\" id=\"DejaVuSans-44\"/>\r\n      <path d=\"M -0.296875 72.90625 \r\nL 61.375 72.90625 \r\nL 61.375 64.59375 \r\nL 35.5 64.59375 \r\nL 35.5 0 \r\nL 25.59375 0 \r\nL 25.59375 64.59375 \r\nL -0.296875 64.59375 \r\nz\r\n\" id=\"DejaVuSans-84\"/>\r\n      <path d=\"M 18.109375 8.203125 \r\nL 18.109375 -20.796875 \r\nL 9.078125 -20.796875 \r\nL 9.078125 54.6875 \r\nL 18.109375 54.6875 \r\nL 18.109375 46.390625 \r\nQ 20.953125 51.265625 25.265625 53.625 \r\nQ 29.59375 56 35.59375 56 \r\nQ 45.5625 56 51.78125 48.09375 \r\nQ 58.015625 40.1875 58.015625 27.296875 \r\nQ 58.015625 14.40625 51.78125 6.484375 \r\nQ 45.5625 -1.421875 35.59375 -1.421875 \r\nQ 29.59375 -1.421875 25.265625 0.953125 \r\nQ 20.953125 3.328125 18.109375 8.203125 \r\nz\r\nM 48.6875 27.296875 \r\nQ 48.6875 37.203125 44.609375 42.84375 \r\nQ 40.53125 48.484375 33.40625 48.484375 \r\nQ 26.265625 48.484375 22.1875 42.84375 \r\nQ 18.109375 37.203125 18.109375 27.296875 \r\nQ 18.109375 17.390625 22.1875 11.75 \r\nQ 26.265625 6.109375 33.40625 6.109375 \r\nQ 40.53125 6.109375 44.609375 11.75 \r\nQ 48.6875 17.390625 48.6875 27.296875 \r\nz\r\n\" id=\"DejaVuSans-112\"/>\r\n      <path d=\"M 41.109375 46.296875 \r\nQ 39.59375 47.171875 37.8125 47.578125 \r\nQ 36.03125 48 33.890625 48 \r\nQ 26.265625 48 22.1875 43.046875 \r\nQ 18.109375 38.09375 18.109375 28.8125 \r\nL 18.109375 0 \r\nL 9.078125 0 \r\nL 9.078125 54.6875 \r\nL 18.109375 54.6875 \r\nL 18.109375 46.1875 \r\nQ 20.953125 51.171875 25.484375 53.578125 \r\nQ 30.03125 56 36.53125 56 \r\nQ 37.453125 56 38.578125 55.875 \r\nQ 39.703125 55.765625 41.0625 55.515625 \r\nz\r\n\" id=\"DejaVuSans-114\"/>\r\n      <path d=\"M 18.3125 70.21875 \r\nL 18.3125 54.6875 \r\nL 36.8125 54.6875 \r\nL 36.8125 47.703125 \r\nL 18.3125 47.703125 \r\nL 18.3125 18.015625 \r\nQ 18.3125 11.328125 20.140625 9.421875 \r\nQ 21.96875 7.515625 27.59375 7.515625 \r\nL 36.8125 7.515625 \r\nL 36.8125 0 \r\nL 27.59375 0 \r\nQ 17.1875 0 13.234375 3.875 \r\nQ 9.28125 7.765625 9.28125 18.015625 \r\nL 9.28125 47.703125 \r\nL 2.6875 47.703125 \r\nL 2.6875 54.6875 \r\nL 9.28125 54.6875 \r\nL 9.28125 70.21875 \r\nz\r\n\" id=\"DejaVuSans-116\"/>\r\n      <path d=\"M 8.5 21.578125 \r\nL 8.5 54.6875 \r\nL 17.484375 54.6875 \r\nL 17.484375 21.921875 \r\nQ 17.484375 14.15625 20.5 10.265625 \r\nQ 23.53125 6.390625 29.59375 6.390625 \r\nQ 36.859375 6.390625 41.078125 11.03125 \r\nQ 45.3125 15.671875 45.3125 23.6875 \r\nL 45.3125 54.6875 \r\nL 54.296875 54.6875 \r\nL 54.296875 0 \r\nL 45.3125 0 \r\nL 45.3125 8.40625 \r\nQ 42.046875 3.421875 37.71875 1 \r\nQ 33.40625 -1.421875 27.6875 -1.421875 \r\nQ 18.265625 -1.421875 13.375 4.4375 \r\nQ 8.5 10.296875 8.5 21.578125 \r\nz\r\nM 31.109375 56 \r\nz\r\n\" id=\"DejaVuSans-117\"/>\r\n      <path d=\"M 9.421875 54.6875 \r\nL 18.40625 54.6875 \r\nL 18.40625 0 \r\nL 9.421875 0 \r\nz\r\nM 9.421875 75.984375 \r\nL 18.40625 75.984375 \r\nL 18.40625 64.59375 \r\nL 9.421875 64.59375 \r\nz\r\n\" id=\"DejaVuSans-105\"/>\r\n      <path d=\"M 25 67.921875 \r\nQ 21.09375 67.921875 18.40625 65.203125 \r\nQ 15.71875 62.5 15.71875 58.59375 \r\nQ 15.71875 54.734375 18.40625 52.078125 \r\nQ 21.09375 49.421875 25 49.421875 \r\nQ 28.90625 49.421875 31.59375 52.078125 \r\nQ 34.28125 54.734375 34.28125 58.59375 \r\nQ 34.28125 62.453125 31.5625 65.1875 \r\nQ 28.859375 67.921875 25 67.921875 \r\nz\r\nM 25 74.21875 \r\nQ 28.125 74.21875 31 73.015625 \r\nQ 33.890625 71.828125 35.984375 69.578125 \r\nQ 38.234375 67.390625 39.359375 64.59375 \r\nQ 40.484375 61.8125 40.484375 58.59375 \r\nQ 40.484375 52.15625 35.96875 47.6875 \r\nQ 31.453125 43.21875 24.90625 43.21875 \r\nQ 18.3125 43.21875 13.90625 47.609375 \r\nQ 9.515625 52 9.515625 58.59375 \r\nQ 9.515625 65.140625 14 69.671875 \r\nQ 18.5 74.21875 25 74.21875 \r\nz\r\n\" id=\"DejaVuSans-176\"/>\r\n      <path d=\"M 64.40625 67.28125 \r\nL 64.40625 56.890625 \r\nQ 59.421875 61.53125 53.78125 63.8125 \r\nQ 48.140625 66.109375 41.796875 66.109375 \r\nQ 29.296875 66.109375 22.65625 58.46875 \r\nQ 16.015625 50.828125 16.015625 36.375 \r\nQ 16.015625 21.96875 22.65625 14.328125 \r\nQ 29.296875 6.6875 41.796875 6.6875 \r\nQ 48.140625 6.6875 53.78125 8.984375 \r\nQ 59.421875 11.28125 64.40625 15.921875 \r\nL 64.40625 5.609375 \r\nQ 59.234375 2.09375 53.4375 0.328125 \r\nQ 47.65625 -1.421875 41.21875 -1.421875 \r\nQ 24.65625 -1.421875 15.125 8.703125 \r\nQ 5.609375 18.84375 5.609375 36.375 \r\nQ 5.609375 53.953125 15.125 64.078125 \r\nQ 24.65625 74.21875 41.21875 74.21875 \r\nQ 47.75 74.21875 53.53125 72.484375 \r\nQ 59.328125 70.75 64.40625 67.28125 \r\nz\r\n\" id=\"DejaVuSans-67\"/>\r\n     </defs>\r\n     <use xlink:href=\"#DejaVuSans-82\"/>\r\n     <use x=\"64.982422\" xlink:href=\"#DejaVuSans-111\"/>\r\n     <use x=\"126.164062\" xlink:href=\"#DejaVuSans-109\"/>\r\n     <use x=\"223.576172\" xlink:href=\"#DejaVuSans-101\"/>\r\n     <use x=\"285.099609\" xlink:href=\"#DejaVuSans-32\"/>\r\n     <use x=\"316.886719\" xlink:href=\"#DejaVuSans-118\"/>\r\n     <use x=\"376.066406\" xlink:href=\"#DejaVuSans-115\"/>\r\n     <use x=\"428.166016\" xlink:href=\"#DejaVuSans-32\"/>\r\n     <use x=\"459.953125\" xlink:href=\"#DejaVuSans-66\"/>\r\n     <use x=\"528.556641\" xlink:href=\"#DejaVuSans-97\"/>\r\n     <use x=\"589.835938\" xlink:href=\"#DejaVuSans-110\"/>\r\n     <use x=\"653.214844\" xlink:href=\"#DejaVuSans-103\"/>\r\n     <use x=\"716.691406\" xlink:href=\"#DejaVuSans-107\"/>\r\n     <use x=\"770.976562\" xlink:href=\"#DejaVuSans-111\"/>\r\n     <use x=\"832.158203\" xlink:href=\"#DejaVuSans-107\"/>\r\n     <use x=\"890.068359\" xlink:href=\"#DejaVuSans-44\"/>\r\n     <use x=\"921.855469\" xlink:href=\"#DejaVuSans-32\"/>\r\n     <use x=\"953.642578\" xlink:href=\"#DejaVuSans-84\"/>\r\n     <use x=\"997.726562\" xlink:href=\"#DejaVuSans-101\"/>\r\n     <use x=\"1059.25\" xlink:href=\"#DejaVuSans-109\"/>\r\n     <use x=\"1156.662109\" xlink:href=\"#DejaVuSans-112\"/>\r\n     <use x=\"1220.138672\" xlink:href=\"#DejaVuSans-114\"/>\r\n     <use x=\"1261.251953\" xlink:href=\"#DejaVuSans-97\"/>\r\n     <use x=\"1322.53125\" xlink:href=\"#DejaVuSans-116\"/>\r\n     <use x=\"1361.740234\" xlink:href=\"#DejaVuSans-117\"/>\r\n     <use x=\"1425.119141\" xlink:href=\"#DejaVuSans-114\"/>\r\n     <use x=\"1463.982422\" xlink:href=\"#DejaVuSans-101\"/>\r\n     <use x=\"1525.505859\" xlink:href=\"#DejaVuSans-115\"/>\r\n     <use x=\"1577.605469\" xlink:href=\"#DejaVuSans-32\"/>\r\n     <use x=\"1609.392578\" xlink:href=\"#DejaVuSans-105\"/>\r\n     <use x=\"1637.175781\" xlink:href=\"#DejaVuSans-110\"/>\r\n     <use x=\"1700.554688\" xlink:href=\"#DejaVuSans-32\"/>\r\n     <use x=\"1732.341797\" xlink:href=\"#DejaVuSans-176\"/>\r\n     <use x=\"1782.341797\" xlink:href=\"#DejaVuSans-67\"/>\r\n    </g>\r\n   </g>\r\n   <g id=\"legend_1\">\r\n    <g id=\"patch_105\">\r\n     <path d=\"M 40.2875 59.674375 \r\nL 115.3 59.674375 \r\nQ 117.3 59.674375 117.3 57.674375 \r\nL 117.3 29.318125 \r\nQ 117.3 27.318125 115.3 27.318125 \r\nL 40.2875 27.318125 \r\nQ 38.2875 27.318125 38.2875 29.318125 \r\nL 38.2875 57.674375 \r\nQ 38.2875 59.674375 40.2875 59.674375 \r\nz\r\n\" style=\"fill:#ffffff;opacity:0.8;stroke:#cccccc;stroke-linejoin:miter;\"/>\r\n    </g>\r\n    <g id=\"patch_106\">\r\n     <path d=\"M 42.2875 38.916562 \r\nL 62.2875 38.916562 \r\nL 62.2875 31.916562 \r\nL 42.2875 31.916562 \r\nz\r\n\" style=\"fill:#1f77b4;opacity:0.5;\"/>\r\n    </g>\r\n    <g id=\"text_14\">\r\n     <!-- Rome -->\r\n     <g transform=\"translate(70.2875 38.916562)scale(0.1 -0.1)\">\r\n      <use xlink:href=\"#DejaVuSans-82\"/>\r\n      <use x=\"64.982422\" xlink:href=\"#DejaVuSans-111\"/>\r\n      <use x=\"126.164062\" xlink:href=\"#DejaVuSans-109\"/>\r\n      <use x=\"223.576172\" xlink:href=\"#DejaVuSans-101\"/>\r\n     </g>\r\n    </g>\r\n    <g id=\"patch_107\">\r\n     <path d=\"M 42.2875 53.594687 \r\nL 62.2875 53.594687 \r\nL 62.2875 46.594687 \r\nL 42.2875 46.594687 \r\nz\r\n\" style=\"fill:#ff7f0e;opacity:0.5;\"/>\r\n    </g>\r\n    <g id=\"text_15\">\r\n     <!-- Bangkok -->\r\n     <g transform=\"translate(70.2875 53.594687)scale(0.1 -0.1)\">\r\n      <use xlink:href=\"#DejaVuSans-66\"/>\r\n      <use x=\"68.603516\" xlink:href=\"#DejaVuSans-97\"/>\r\n      <use x=\"129.882812\" xlink:href=\"#DejaVuSans-110\"/>\r\n      <use x=\"193.261719\" xlink:href=\"#DejaVuSans-103\"/>\r\n      <use x=\"256.738281\" xlink:href=\"#DejaVuSans-107\"/>\r\n      <use x=\"311.023438\" xlink:href=\"#DejaVuSans-111\"/>\r\n      <use x=\"372.205078\" xlink:href=\"#DejaVuSans-107\"/>\r\n     </g>\r\n    </g>\r\n   </g>\r\n  </g>\r\n </g>\r\n <defs>\r\n  <clipPath id=\"p0b4cd29ce4\">\r\n   <rect height=\"217.44\" width=\"334.8\" x=\"33.2875\" y=\"22.318125\"/>\r\n  </clipPath>\r\n </defs>\r\n</svg>\r\n",
      "image/png": "[encoded data removed]"
     },
     "metadata": {
      "needs_background": "light"
     }
    }
   ],
   "source": [
    "bins = np.linspace(-5,40,50)\n",
    "plt.hist(rome_temps, bins = bins, alpha = 0.5, label = \"Rome\")\n",
    "plt.hist(Bangkok_temps_cs, bins = bins, alpha = 0.5, label = \"Bangkok\")\n",
    "plt.title(\"Rome vs Bangkok, Tempratures in °C\")\n",
    "plt.legend(loc = \"upper left\");"
   ]
  },
  {
   "cell_type": "code",
   "execution_count": 114,
   "metadata": {},
   "outputs": [
    {
     "output_type": "display_data",
     "data": {
      "text/plain": "<Figure size 432x288 with 1 Axes>",
      "image/svg+xml": "<?xml version=\"1.0\" encoding=\"utf-8\" standalone=\"no\"?>\r\n<!DOCTYPE svg PUBLIC \"-//W3C//DTD SVG 1.1//EN\"\r\n  \"http://www.w3.org/Graphics/SVG/1.1/DTD/svg11.dtd\">\r\n<!-- Created with matplotlib (https://matplotlib.org/) -->\r\n<svg height=\"248.518125pt\" version=\"1.1\" viewBox=\"0 0 368.925 248.518125\" width=\"368.925pt\" xmlns=\"http://www.w3.org/2000/svg\" xmlns:xlink=\"http://www.w3.org/1999/xlink\">\r\n <metadata>\r\n  <rdf:RDF xmlns:cc=\"http://creativecommons.org/ns#\" xmlns:dc=\"http://purl.org/dc/elements/1.1/\" xmlns:rdf=\"http://www.w3.org/1999/02/22-rdf-syntax-ns#\">\r\n   <cc:Work>\r\n    <dc:type rdf:resource=\"http://purl.org/dc/dcmitype/StillImage\"/>\r\n    <dc:date>2020-10-18T19:32:23.531842</dc:date>\r\n    <dc:format>image/svg+xml</dc:format>\r\n    <dc:creator>\r\n     <cc:Agent>\r\n      <dc:title>Matplotlib v3.3.2, https://matplotlib.org/</dc:title>\r\n     </cc:Agent>\r\n    </dc:creator>\r\n   </cc:Work>\r\n  </rdf:RDF>\r\n </metadata>\r\n <defs>\r\n  <style type=\"text/css\">*{stroke-linecap:butt;stroke-linejoin:round;}</style>\r\n </defs>\r\n <g id=\"figure_1\">\r\n  <g id=\"patch_1\">\r\n   <path d=\"M -0 248.518125 \r\nL 368.925 248.518125 \r\nL 368.925 0 \r\nL -0 0 \r\nz\r\n\" style=\"fill:none;\"/>\r\n  </g>\r\n  <g id=\"axes_1\">\r\n   <g id=\"patch_2\">\r\n    <path d=\"M 26.925 224.64 \r\nL 361.725 224.64 \r\nL 361.725 7.2 \r\nL 26.925 7.2 \r\nz\r\n\" style=\"fill:#ffffff;\"/>\r\n   </g>\r\n   <g id=\"matplotlib.axis_1\">\r\n    <g id=\"xtick_1\">\r\n     <g id=\"line2d_1\">\r\n      <path clip-path=\"url(#p876370f93e)\" d=\"M 194.325 224.64 \r\nL 194.325 7.2 \r\n\" style=\"fill:none;stroke:#b0b0b0;stroke-dasharray:2.96,1.28;stroke-dashoffset:0;stroke-width:0.8;\"/>\r\n     </g>\r\n     <g id=\"line2d_2\">\r\n      <defs>\r\n       <path d=\"M 0 0 \r\nL 0 3.5 \r\n\" id=\"m7724cf6ff0\" style=\"stroke:#000000;stroke-width:0.8;\"/>\r\n      </defs>\r\n      <g>\r\n       <use style=\"stroke:#000000;stroke-width:0.8;\" x=\"194.325\" xlink:href=\"#m7724cf6ff0\" y=\"224.64\"/>\r\n      </g>\r\n     </g>\r\n     <g id=\"text_1\">\r\n      <!-- 1 -->\r\n      <g transform=\"translate(191.14375 239.238437)scale(0.1 -0.1)\">\r\n       <defs>\r\n        <path d=\"M 12.40625 8.296875 \r\nL 28.515625 8.296875 \r\nL 28.515625 63.921875 \r\nL 10.984375 60.40625 \r\nL 10.984375 69.390625 \r\nL 28.421875 72.90625 \r\nL 38.28125 72.90625 \r\nL 38.28125 8.296875 \r\nL 54.390625 8.296875 \r\nL 54.390625 0 \r\nL 12.40625 0 \r\nz\r\n\" id=\"DejaVuSans-49\"/>\r\n       </defs>\r\n       <use xlink:href=\"#DejaVuSans-49\"/>\r\n      </g>\r\n     </g>\r\n    </g>\r\n    <g id=\"xtick_2\">\r\n     <g id=\"line2d_3\">\r\n      <path clip-path=\"url(#p876370f93e)\" d=\"M 194.325 224.64 \r\nL 194.325 7.2 \r\n\" style=\"fill:none;stroke:#b0b0b0;stroke-dasharray:2.96,1.28;stroke-dashoffset:0;stroke-width:0.8;\"/>\r\n     </g>\r\n     <g id=\"line2d_4\">\r\n      <g>\r\n       <use style=\"stroke:#000000;stroke-width:0.8;\" x=\"194.325\" xlink:href=\"#m7724cf6ff0\" y=\"224.64\"/>\r\n      </g>\r\n     </g>\r\n     <g id=\"text_2\">\r\n      <!-- 1 -->\r\n      <g transform=\"translate(191.14375 239.238437)scale(0.1 -0.1)\">\r\n       <use xlink:href=\"#DejaVuSans-49\"/>\r\n      </g>\r\n     </g>\r\n    </g>\r\n    <g id=\"xtick_3\">\r\n     <g id=\"line2d_5\">\r\n      <path clip-path=\"url(#p876370f93e)\" d=\"M 194.325 224.64 \r\nL 194.325 7.2 \r\n\" style=\"fill:none;stroke:#b0b0b0;stroke-dasharray:2.96,1.28;stroke-dashoffset:0;stroke-width:0.8;\"/>\r\n     </g>\r\n     <g id=\"line2d_6\">\r\n      <g>\r\n       <use style=\"stroke:#000000;stroke-width:0.8;\" x=\"194.325\" xlink:href=\"#m7724cf6ff0\" y=\"224.64\"/>\r\n      </g>\r\n     </g>\r\n     <g id=\"text_3\">\r\n      <!-- 1 -->\r\n      <g transform=\"translate(191.14375 239.238437)scale(0.1 -0.1)\">\r\n       <use xlink:href=\"#DejaVuSans-49\"/>\r\n      </g>\r\n     </g>\r\n    </g>\r\n   </g>\r\n   <g id=\"matplotlib.axis_2\">\r\n    <g id=\"ytick_1\">\r\n     <g id=\"line2d_7\">\r\n      <path clip-path=\"url(#p876370f93e)\" d=\"M 26.925 211.571872 \r\nL 361.725 211.571872 \r\n\" style=\"fill:none;stroke:#b0b0b0;stroke-dasharray:2.96,1.28;stroke-dashoffset:0;stroke-width:0.8;\"/>\r\n     </g>\r\n     <g id=\"line2d_8\">\r\n      <defs>\r\n       <path d=\"M 0 0 \r\nL -3.5 0 \r\n\" id=\"mdc54f17ffe\" style=\"stroke:#000000;stroke-width:0.8;\"/>\r\n      </defs>\r\n      <g>\r\n       <use style=\"stroke:#000000;stroke-width:0.8;\" x=\"26.925\" xlink:href=\"#mdc54f17ffe\" y=\"211.571872\"/>\r\n      </g>\r\n     </g>\r\n     <g id=\"text_4\">\r\n      <!-- 0 -->\r\n      <g transform=\"translate(13.5625 215.371091)scale(0.1 -0.1)\">\r\n       <defs>\r\n        <path d=\"M 31.78125 66.40625 \r\nQ 24.171875 66.40625 20.328125 58.90625 \r\nQ 16.5 51.421875 16.5 36.375 \r\nQ 16.5 21.390625 20.328125 13.890625 \r\nQ 24.171875 6.390625 31.78125 6.390625 \r\nQ 39.453125 6.390625 43.28125 13.890625 \r\nQ 47.125 21.390625 47.125 36.375 \r\nQ 47.125 51.421875 43.28125 58.90625 \r\nQ 39.453125 66.40625 31.78125 66.40625 \r\nz\r\nM 31.78125 74.21875 \r\nQ 44.046875 74.21875 50.515625 64.515625 \r\nQ 56.984375 54.828125 56.984375 36.375 \r\nQ 56.984375 17.96875 50.515625 8.265625 \r\nQ 44.046875 -1.421875 31.78125 -1.421875 \r\nQ 19.53125 -1.421875 13.0625 8.265625 \r\nQ 6.59375 17.96875 6.59375 36.375 \r\nQ 6.59375 54.828125 13.0625 64.515625 \r\nQ 19.53125 74.21875 31.78125 74.21875 \r\nz\r\n\" id=\"DejaVuSans-48\"/>\r\n       </defs>\r\n       <use xlink:href=\"#DejaVuSans-48\"/>\r\n      </g>\r\n     </g>\r\n    </g>\r\n    <g id=\"ytick_2\">\r\n     <g id=\"line2d_9\">\r\n      <path clip-path=\"url(#p876370f93e)\" d=\"M 26.925 167.373516 \r\nL 361.725 167.373516 \r\n\" style=\"fill:none;stroke:#b0b0b0;stroke-dasharray:2.96,1.28;stroke-dashoffset:0;stroke-width:0.8;\"/>\r\n     </g>\r\n     <g id=\"line2d_10\">\r\n      <g>\r\n       <use style=\"stroke:#000000;stroke-width:0.8;\" x=\"26.925\" xlink:href=\"#mdc54f17ffe\" y=\"167.373516\"/>\r\n      </g>\r\n     </g>\r\n     <g id=\"text_5\">\r\n      <!-- 20 -->\r\n      <g transform=\"translate(7.2 171.172735)scale(0.1 -0.1)\">\r\n       <defs>\r\n        <path d=\"M 19.1875 8.296875 \r\nL 53.609375 8.296875 \r\nL 53.609375 0 \r\nL 7.328125 0 \r\nL 7.328125 8.296875 \r\nQ 12.9375 14.109375 22.625 23.890625 \r\nQ 32.328125 33.6875 34.8125 36.53125 \r\nQ 39.546875 41.84375 41.421875 45.53125 \r\nQ 43.3125 49.21875 43.3125 52.78125 \r\nQ 43.3125 58.59375 39.234375 62.25 \r\nQ 35.15625 65.921875 28.609375 65.921875 \r\nQ 23.96875 65.921875 18.8125 64.3125 \r\nQ 13.671875 62.703125 7.8125 59.421875 \r\nL 7.8125 69.390625 \r\nQ 13.765625 71.78125 18.9375 73 \r\nQ 24.125 74.21875 28.421875 74.21875 \r\nQ 39.75 74.21875 46.484375 68.546875 \r\nQ 53.21875 62.890625 53.21875 53.421875 \r\nQ 53.21875 48.921875 51.53125 44.890625 \r\nQ 49.859375 40.875 45.40625 35.40625 \r\nQ 44.1875 33.984375 37.640625 27.21875 \r\nQ 31.109375 20.453125 19.1875 8.296875 \r\nz\r\n\" id=\"DejaVuSans-50\"/>\r\n       </defs>\r\n       <use xlink:href=\"#DejaVuSans-50\"/>\r\n       <use x=\"63.623047\" xlink:href=\"#DejaVuSans-48\"/>\r\n      </g>\r\n     </g>\r\n    </g>\r\n    <g id=\"ytick_3\">\r\n     <g id=\"line2d_11\">\r\n      <path clip-path=\"url(#p876370f93e)\" d=\"M 26.925 123.17516 \r\nL 361.725 123.17516 \r\n\" style=\"fill:none;stroke:#b0b0b0;stroke-dasharray:2.96,1.28;stroke-dashoffset:0;stroke-width:0.8;\"/>\r\n     </g>\r\n     <g id=\"line2d_12\">\r\n      <g>\r\n       <use style=\"stroke:#000000;stroke-width:0.8;\" x=\"26.925\" xlink:href=\"#mdc54f17ffe\" y=\"123.17516\"/>\r\n      </g>\r\n     </g>\r\n     <g id=\"text_6\">\r\n      <!-- 40 -->\r\n      <g transform=\"translate(7.2 126.974379)scale(0.1 -0.1)\">\r\n       <defs>\r\n        <path d=\"M 37.796875 64.3125 \r\nL 12.890625 25.390625 \r\nL 37.796875 25.390625 \r\nz\r\nM 35.203125 72.90625 \r\nL 47.609375 72.90625 \r\nL 47.609375 25.390625 \r\nL 58.015625 25.390625 \r\nL 58.015625 17.1875 \r\nL 47.609375 17.1875 \r\nL 47.609375 0 \r\nL 37.796875 0 \r\nL 37.796875 17.1875 \r\nL 4.890625 17.1875 \r\nL 4.890625 26.703125 \r\nz\r\n\" id=\"DejaVuSans-52\"/>\r\n       </defs>\r\n       <use xlink:href=\"#DejaVuSans-52\"/>\r\n       <use x=\"63.623047\" xlink:href=\"#DejaVuSans-48\"/>\r\n      </g>\r\n     </g>\r\n    </g>\r\n    <g id=\"ytick_4\">\r\n     <g id=\"line2d_13\">\r\n      <path clip-path=\"url(#p876370f93e)\" d=\"M 26.925 78.976804 \r\nL 361.725 78.976804 \r\n\" style=\"fill:none;stroke:#b0b0b0;stroke-dasharray:2.96,1.28;stroke-dashoffset:0;stroke-width:0.8;\"/>\r\n     </g>\r\n     <g id=\"line2d_14\">\r\n      <g>\r\n       <use style=\"stroke:#000000;stroke-width:0.8;\" x=\"26.925\" xlink:href=\"#mdc54f17ffe\" y=\"78.976804\"/>\r\n      </g>\r\n     </g>\r\n     <g id=\"text_7\">\r\n      <!-- 60 -->\r\n      <g transform=\"translate(7.2 82.776023)scale(0.1 -0.1)\">\r\n       <defs>\r\n        <path d=\"M 33.015625 40.375 \r\nQ 26.375 40.375 22.484375 35.828125 \r\nQ 18.609375 31.296875 18.609375 23.390625 \r\nQ 18.609375 15.53125 22.484375 10.953125 \r\nQ 26.375 6.390625 33.015625 6.390625 \r\nQ 39.65625 6.390625 43.53125 10.953125 \r\nQ 47.40625 15.53125 47.40625 23.390625 \r\nQ 47.40625 31.296875 43.53125 35.828125 \r\nQ 39.65625 40.375 33.015625 40.375 \r\nz\r\nM 52.59375 71.296875 \r\nL 52.59375 62.3125 \r\nQ 48.875 64.0625 45.09375 64.984375 \r\nQ 41.3125 65.921875 37.59375 65.921875 \r\nQ 27.828125 65.921875 22.671875 59.328125 \r\nQ 17.53125 52.734375 16.796875 39.40625 \r\nQ 19.671875 43.65625 24.015625 45.921875 \r\nQ 28.375 48.1875 33.59375 48.1875 \r\nQ 44.578125 48.1875 50.953125 41.515625 \r\nQ 57.328125 34.859375 57.328125 23.390625 \r\nQ 57.328125 12.15625 50.6875 5.359375 \r\nQ 44.046875 -1.421875 33.015625 -1.421875 \r\nQ 20.359375 -1.421875 13.671875 8.265625 \r\nQ 6.984375 17.96875 6.984375 36.375 \r\nQ 6.984375 53.65625 15.1875 63.9375 \r\nQ 23.390625 74.21875 37.203125 74.21875 \r\nQ 40.921875 74.21875 44.703125 73.484375 \r\nQ 48.484375 72.75 52.59375 71.296875 \r\nz\r\n\" id=\"DejaVuSans-54\"/>\r\n       </defs>\r\n       <use xlink:href=\"#DejaVuSans-54\"/>\r\n       <use x=\"63.623047\" xlink:href=\"#DejaVuSans-48\"/>\r\n      </g>\r\n     </g>\r\n    </g>\r\n    <g id=\"ytick_5\">\r\n     <g id=\"line2d_15\">\r\n      <path clip-path=\"url(#p876370f93e)\" d=\"M 26.925 34.778448 \r\nL 361.725 34.778448 \r\n\" style=\"fill:none;stroke:#b0b0b0;stroke-dasharray:2.96,1.28;stroke-dashoffset:0;stroke-width:0.8;\"/>\r\n     </g>\r\n     <g id=\"line2d_16\">\r\n      <g>\r\n       <use style=\"stroke:#000000;stroke-width:0.8;\" x=\"26.925\" xlink:href=\"#mdc54f17ffe\" y=\"34.778448\"/>\r\n      </g>\r\n     </g>\r\n     <g id=\"text_8\">\r\n      <!-- 80 -->\r\n      <g transform=\"translate(7.2 38.577667)scale(0.1 -0.1)\">\r\n       <defs>\r\n        <path d=\"M 31.78125 34.625 \r\nQ 24.75 34.625 20.71875 30.859375 \r\nQ 16.703125 27.09375 16.703125 20.515625 \r\nQ 16.703125 13.921875 20.71875 10.15625 \r\nQ 24.75 6.390625 31.78125 6.390625 \r\nQ 38.8125 6.390625 42.859375 10.171875 \r\nQ 46.921875 13.96875 46.921875 20.515625 \r\nQ 46.921875 27.09375 42.890625 30.859375 \r\nQ 38.875 34.625 31.78125 34.625 \r\nz\r\nM 21.921875 38.8125 \r\nQ 15.578125 40.375 12.03125 44.71875 \r\nQ 8.5 49.078125 8.5 55.328125 \r\nQ 8.5 64.0625 14.71875 69.140625 \r\nQ 20.953125 74.21875 31.78125 74.21875 \r\nQ 42.671875 74.21875 48.875 69.140625 \r\nQ 55.078125 64.0625 55.078125 55.328125 \r\nQ 55.078125 49.078125 51.53125 44.71875 \r\nQ 48 40.375 41.703125 38.8125 \r\nQ 48.828125 37.15625 52.796875 32.3125 \r\nQ 56.78125 27.484375 56.78125 20.515625 \r\nQ 56.78125 9.90625 50.3125 4.234375 \r\nQ 43.84375 -1.421875 31.78125 -1.421875 \r\nQ 19.734375 -1.421875 13.25 4.234375 \r\nQ 6.78125 9.90625 6.78125 20.515625 \r\nQ 6.78125 27.484375 10.78125 32.3125 \r\nQ 14.796875 37.15625 21.921875 38.8125 \r\nz\r\nM 18.3125 54.390625 \r\nQ 18.3125 48.734375 21.84375 45.5625 \r\nQ 25.390625 42.390625 31.78125 42.390625 \r\nQ 38.140625 42.390625 41.71875 45.5625 \r\nQ 45.3125 48.734375 45.3125 54.390625 \r\nQ 45.3125 60.0625 41.71875 63.234375 \r\nQ 38.140625 66.40625 31.78125 66.40625 \r\nQ 25.390625 66.40625 21.84375 63.234375 \r\nQ 18.3125 60.0625 18.3125 54.390625 \r\nz\r\n\" id=\"DejaVuSans-56\"/>\r\n       </defs>\r\n       <use xlink:href=\"#DejaVuSans-56\"/>\r\n       <use x=\"63.623047\" xlink:href=\"#DejaVuSans-48\"/>\r\n      </g>\r\n     </g>\r\n    </g>\r\n   </g>\r\n   <g id=\"line2d_17\">\r\n    <path clip-path=\"url(#p876370f93e)\" d=\"M 169.215 198.377005 \r\nL 219.435 198.377005 \r\nL 219.435 171.138664 \r\nL 169.215 171.138664 \r\nL 169.215 198.377005 \r\n\" style=\"fill:none;stroke:#000000;stroke-linecap:square;\"/>\r\n   </g>\r\n   <g id=\"line2d_18\">\r\n    <path clip-path=\"url(#p876370f93e)\" d=\"M 194.325 198.377005 \r\nL 194.325 214.756364 \r\n\" style=\"fill:none;stroke:#000000;stroke-linecap:square;\"/>\r\n   </g>\r\n   <g id=\"line2d_19\">\r\n    <path clip-path=\"url(#p876370f93e)\" d=\"M 194.325 171.138664 \r\nL 194.325 154.222295 \r\n\" style=\"fill:none;stroke:#000000;stroke-linecap:square;\"/>\r\n   </g>\r\n   <g id=\"line2d_20\">\r\n    <path clip-path=\"url(#p876370f93e)\" d=\"M 181.77 214.756364 \r\nL 206.88 214.756364 \r\n\" style=\"fill:none;stroke:#000000;stroke-linecap:square;\"/>\r\n   </g>\r\n   <g id=\"line2d_21\">\r\n    <path clip-path=\"url(#p876370f93e)\" d=\"M 181.77 154.222295 \r\nL 206.88 154.222295 \r\n\" style=\"fill:none;stroke:#000000;stroke-linecap:square;\"/>\r\n   </g>\r\n   <g id=\"line2d_22\"/>\r\n   <g id=\"line2d_23\">\r\n    <path clip-path=\"url(#p876370f93e)\" d=\"M 169.215 38.185147 \r\nL 219.435 38.185147 \r\nL 219.435 28.41057 \r\nL 169.215 28.41057 \r\nL 169.215 38.185147 \r\n\" style=\"fill:none;stroke:#000000;stroke-linecap:square;\"/>\r\n   </g>\r\n   <g id=\"line2d_24\">\r\n    <path clip-path=\"url(#p876370f93e)\" d=\"M 194.325 38.185147 \r\nL 194.325 52.335361 \r\n\" style=\"fill:none;stroke:#000000;stroke-linecap:square;\"/>\r\n   </g>\r\n   <g id=\"line2d_25\">\r\n    <path clip-path=\"url(#p876370f93e)\" d=\"M 194.325 28.41057 \r\nL 194.325 17.083636 \r\n\" style=\"fill:none;stroke:#000000;stroke-linecap:square;\"/>\r\n   </g>\r\n   <g id=\"line2d_26\">\r\n    <path clip-path=\"url(#p876370f93e)\" d=\"M 181.77 52.335361 \r\nL 206.88 52.335361 \r\n\" style=\"fill:none;stroke:#000000;stroke-linecap:square;\"/>\r\n   </g>\r\n   <g id=\"line2d_27\">\r\n    <path clip-path=\"url(#p876370f93e)\" d=\"M 181.77 17.083636 \r\nL 206.88 17.083636 \r\n\" style=\"fill:none;stroke:#000000;stroke-linecap:square;\"/>\r\n   </g>\r\n   <g id=\"line2d_28\">\r\n    <defs>\r\n     <path d=\"M 0 3 \r\nC 0.795609 3 1.55874 2.683901 2.12132 2.12132 \r\nC 2.683901 1.55874 3 0.795609 3 0 \r\nC 3 -0.795609 2.683901 -1.55874 2.12132 -2.12132 \r\nC 1.55874 -2.683901 0.795609 -3 0 -3 \r\nC -0.795609 -3 -1.55874 -2.683901 -2.12132 -2.12132 \r\nC -2.683901 -1.55874 -3 -0.795609 -3 0 \r\nC -3 0.795609 -2.683901 1.55874 -2.12132 2.12132 \r\nC -1.55874 2.683901 -0.795609 3 0 3 \r\nz\r\n\" id=\"mf104b68dec\" style=\"stroke:#000000;\"/>\r\n    </defs>\r\n    <g clip-path=\"url(#p876370f93e)\">\r\n     <use style=\"fill-opacity:0;stroke:#000000;\" x=\"194.325\" xlink:href=\"#mf104b68dec\" y=\"53.632141\"/>\r\n     <use style=\"fill-opacity:0;stroke:#000000;\" x=\"194.325\" xlink:href=\"#mf104b68dec\" y=\"53.76341\"/>\r\n    </g>\r\n   </g>\r\n   <g id=\"line2d_29\">\r\n    <path clip-path=\"url(#p876370f93e)\" d=\"M 169.215 154.533341 \r\nL 219.435 154.533341 \r\nL 219.435 149.103021 \r\nL 169.215 149.103021 \r\nL 169.215 154.533341 \r\n\" style=\"fill:none;stroke:#000000;stroke-linecap:square;\"/>\r\n   </g>\r\n   <g id=\"line2d_30\">\r\n    <path clip-path=\"url(#p876370f93e)\" d=\"M 194.325 154.533341 \r\nL 194.325 162.394571 \r\n\" style=\"fill:none;stroke:#000000;stroke-linecap:square;\"/>\r\n   </g>\r\n   <g id=\"line2d_31\">\r\n    <path clip-path=\"url(#p876370f93e)\" d=\"M 194.325 149.103021 \r\nL 194.325 142.81028 \r\n\" style=\"fill:none;stroke:#000000;stroke-linecap:square;\"/>\r\n   </g>\r\n   <g id=\"line2d_32\">\r\n    <path clip-path=\"url(#p876370f93e)\" d=\"M 181.77 162.394571 \r\nL 206.88 162.394571 \r\n\" style=\"fill:none;stroke:#000000;stroke-linecap:square;\"/>\r\n   </g>\r\n   <g id=\"line2d_33\">\r\n    <path clip-path=\"url(#p876370f93e)\" d=\"M 181.77 142.81028 \r\nL 206.88 142.81028 \r\n\" style=\"fill:none;stroke:#000000;stroke-linecap:square;\"/>\r\n   </g>\r\n   <g id=\"line2d_34\">\r\n    <g clip-path=\"url(#p876370f93e)\">\r\n     <use style=\"fill-opacity:0;stroke:#000000;\" x=\"194.325\" xlink:href=\"#mf104b68dec\" y=\"163.115005\"/>\r\n     <use style=\"fill-opacity:0;stroke:#000000;\" x=\"194.325\" xlink:href=\"#mf104b68dec\" y=\"163.187932\"/>\r\n    </g>\r\n   </g>\r\n   <g id=\"line2d_35\">\r\n    <path clip-path=\"url(#p876370f93e)\" d=\"M 169.215 186.342346 \r\nL 219.435 186.342346 \r\n\" style=\"fill:none;stroke:#ff7f0e;stroke-linecap:square;\"/>\r\n   </g>\r\n   <g id=\"line2d_36\">\r\n    <path clip-path=\"url(#p876370f93e)\" d=\"M 169.215 31.996604 \r\nL 219.435 31.996604 \r\n\" style=\"fill:none;stroke:#ff7f0e;stroke-linecap:square;\"/>\r\n   </g>\r\n   <g id=\"line2d_37\">\r\n    <path clip-path=\"url(#p876370f93e)\" d=\"M 169.215 151.095262 \r\nL 219.435 151.095262 \r\n\" style=\"fill:none;stroke:#ff7f0e;stroke-linecap:square;\"/>\r\n   </g>\r\n   <g id=\"patch_3\">\r\n    <path d=\"M 26.925 224.64 \r\nL 26.925 7.2 \r\n\" style=\"fill:none;stroke:#000000;stroke-linecap:square;stroke-linejoin:miter;stroke-width:0.8;\"/>\r\n   </g>\r\n   <g id=\"patch_4\">\r\n    <path d=\"M 361.725 224.64 \r\nL 361.725 7.2 \r\n\" style=\"fill:none;stroke:#000000;stroke-linecap:square;stroke-linejoin:miter;stroke-width:0.8;\"/>\r\n   </g>\r\n   <g id=\"patch_5\">\r\n    <path d=\"M 26.925 224.64 \r\nL 361.725 224.64 \r\n\" style=\"fill:none;stroke:#000000;stroke-linecap:square;stroke-linejoin:miter;stroke-width:0.8;\"/>\r\n   </g>\r\n   <g id=\"patch_6\">\r\n    <path d=\"M 26.925 7.2 \r\nL 361.725 7.2 \r\n\" style=\"fill:none;stroke:#000000;stroke-linecap:square;stroke-linejoin:miter;stroke-width:0.8;\"/>\r\n   </g>\r\n  </g>\r\n </g>\r\n <defs>\r\n  <clipPath id=\"p876370f93e\">\r\n   <rect height=\"217.44\" width=\"334.8\" x=\"26.925\" y=\"7.2\"/>\r\n  </clipPath>\r\n </defs>\r\n</svg>\r\n",
      "image/png": "[encoded data removed]"
     },
     "metadata": {
      "needs_background": "light"
     }
    }
   ],
   "source": [
    "plt.boxplot(rome_temps)\n",
    "plt.boxplot(Bangkok_temps)\n",
    "plt.boxplot(Bangkok_temps_cs)\n",
    "plt.grid(linestyle='--');"
   ]
  },
  {
   "source": [],
   "cell_type": "markdown",
   "metadata": {}
  },
  {
   "source": [
    "__2.2 Textual data preparation on IMDB reviews__  \n",
    "This exercise is meant to get you acquainted with the preprocessing of textual data.  \n",
    "You can find useful\n",
    "information about Information Retrieval theory in the book \"Introduction to Information Retrieval\" (Manning, Raghavan, and Schütze 2008) also available at Introduction to Information Retrieval Stanford web\n",
    "page.\n"
   ],
   "cell_type": "markdown",
   "metadata": {}
  },
  {
   "source": [
    "1. Load the IMDb dataset as a list of lists"
   ],
   "cell_type": "markdown",
   "metadata": {}
  },
  {
   "cell_type": "code",
   "execution_count": 7,
   "metadata": {},
   "outputs": [],
   "source": [
    "file = \"imdb_rev_train.txt\"\n",
    "with open(file, encoding= \"utf8\") as f:\n",
    "    next(f)\n",
    "    imdb_data = [row for row in csv.reader(f)]"
   ]
  },
  {
   "cell_type": "code",
   "execution_count": 8,
   "metadata": {},
   "outputs": [
    {
     "output_type": "execute_result",
     "data": {
      "text/plain": [
       "25000"
      ]
     },
     "metadata": {},
     "execution_count": 8
    }
   ],
   "source": [
    "len(imdb_data)"
   ]
  },
  {
   "cell_type": "code",
   "execution_count": 10,
   "metadata": {},
   "outputs": [
    {
     "output_type": "execute_result",
     "data": {
      "text/plain": [
       "[['For a movie that gets no respect there sure are a lot of memorable quotes listed for this gem. Imagine a movie where Joe Piscopo is actually funny! Maureen Stapleton is a scene stealer. The Moroni character is an absolute scream. Watch for Alan \"The Skipper\" Hale jr. as a police Sgt.',\n",
       "  '1'],\n",
       " [\"Working with one of the best Shakespeare sources, this film manages to be creditable to it's source, whilst still appealing to a wider audience.<br /><br />Branagh steals the film from under Fishburne's nose, and there's a talented cast on good form.\",\n",
       "  '0']]"
      ]
     },
     "metadata": {},
     "execution_count": 10
    }
   ],
   "source": [
    "imdb_data[:2]"
   ]
  },
  {
   "source": [
    "Apply the tokenization function listed below to your reviews.  \n",
    "Please refer to the function’s docstring for the input and output parameters.  \n",
    "The tokenization procedure splits each comment in tokens (i.e. separate words).\n"
   ],
   "cell_type": "markdown",
   "metadata": {}
  },
  {
   "cell_type": "code",
   "execution_count": 11,
   "metadata": {},
   "outputs": [],
   "source": [
    "import string\n",
    "def tokenize(docs):\n",
    "    \"\"\"Compute the tokens for each document.\n",
    "    Input: a list of strings. Each item is a document to tokenize.\n",
    "    Output: a list of lists. Each item is a list containing the tokens of the\n",
    "    relative document.\n",
    "    \"\"\"\n",
    "    tokens = []\n",
    "    for doc in docs:\n",
    "        for punct in string.punctuation:\n",
    "            doc = doc.replace(punct, \" \")\n",
    "        split_doc = [ token.lower() for token in doc.split(\" \") if token ]\n",
    "        tokens.append(split_doc)\n",
    "    return tokens"
   ]
  },
  {
   "source": [
    "__3.__ The next step requires the computation of the term frequency (TF) of each token within its respective\n",
    "document.  \n",
    "Although there exist different techniques to evaluate the frequency, we will now assume\n",
    "that the TF of a token t in a document d is equal to the number of occurrences of t in d.  \n",
    "Compute the TF for all your reviews."
   ],
   "cell_type": "markdown",
   "metadata": {}
  },
  {
   "cell_type": "code",
   "execution_count": 16,
   "metadata": {},
   "outputs": [],
   "source": [
    "from collections import Counter as cnt"
   ]
  },
  {
   "cell_type": "code",
   "execution_count": 17,
   "metadata": {},
   "outputs": [],
   "source": [
    "docs = [row[0] for row in imdb_data]\n",
    "tokens = tokenize(docs)"
   ]
  },
  {
   "cell_type": "code",
   "execution_count": 20,
   "metadata": {},
   "outputs": [
    {
     "output_type": "stream",
     "name": "stdout",
     "text": [
      "[['for', 'a', 'movie', 'that', 'gets', 'no', 'respect', 'there', 'sure', 'are',\n  'a', 'lot', 'of', 'memorable', 'quotes', 'listed', 'for', 'this', 'gem',\n  'imagine', 'a', 'movie', 'where', 'joe', 'piscopo', 'is', 'actually', 'funny',\n  'maureen', 'stapleton', 'is', 'a', 'scene', 'stealer', 'the', 'moroni',\n  'character', 'is', 'an', 'absolute', 'scream', 'watch', 'for', 'alan', 'the',\n  'skipper', 'hale', 'jr', 'as', 'a', 'police', 'sgt'],\n ['working', 'with', 'one', 'of', 'the', 'best', 'shakespeare', 'sources',\n  'this', 'film', 'manages', 'to', 'be', 'creditable', 'to', 'it', 's',\n  'source', 'whilst', 'still', 'appealing', 'to', 'a', 'wider', 'audience',\n  'br', 'br', 'branagh', 'steals', 'the', 'film', 'from', 'under', 'fishburne',\n  's', 'nose', 'and', 'there', 's', 'a', 'talented', 'cast', 'on', 'good',\n  'form']]\n"
     ]
    }
   ],
   "source": [
    "pprint(tokens[:2], compact= True)"
   ]
  },
  {
   "cell_type": "code",
   "execution_count": 25,
   "metadata": {},
   "outputs": [],
   "source": [
    "TFs = [dict(cnt(row)) for row in tokens]\n"
   ]
  },
  {
   "cell_type": "code",
   "execution_count": 26,
   "metadata": {},
   "outputs": [
    {
     "output_type": "stream",
     "name": "stdout",
     "text": [
      "[{'a': 5,\n  'absolute': 1,\n  'actually': 1,\n  'alan': 1,\n  'an': 1,\n  'are': 1,\n  'as': 1,\n  'character': 1,\n  'for': 3,\n  'funny': 1,\n  'gem': 1,\n  'gets': 1,\n  'hale': 1,\n  'imagine': 1,\n  'is': 3,\n  'joe': 1,\n  'jr': 1,\n  'listed': 1,\n  'lot': 1,\n  'maureen': 1,\n  'memorable': 1,\n  'moroni': 1,\n  'movie': 2,\n  'no': 1,\n  'of': 1,\n  'piscopo': 1,\n  'police': 1,\n  'quotes': 1,\n  'respect': 1,\n  'scene': 1,\n  'scream': 1,\n  'sgt': 1,\n  'skipper': 1,\n  'stapleton': 1,\n  'stealer': 1,\n  'sure': 1,\n  'that': 1,\n  'the': 2,\n  'there': 1,\n  'this': 1,\n  'watch': 1,\n  'where': 1},\n {'a': 2,\n  'and': 1,\n  'appealing': 1,\n  'audience': 1,\n  'be': 1,\n  'best': 1,\n  'br': 2,\n  'branagh': 1,\n  'cast': 1,\n  'creditable': 1,\n  'film': 2,\n  'fishburne': 1,\n  'form': 1,\n  'from': 1,\n  'good': 1,\n  'it': 1,\n  'manages': 1,\n  'nose': 1,\n  'of': 1,\n  'on': 1,\n  'one': 1,\n  's': 3,\n  'shakespeare': 1,\n  'source': 1,\n  'sources': 1,\n  'steals': 1,\n  'still': 1,\n  'talented': 1,\n  'the': 2,\n  'there': 1,\n  'this': 1,\n  'to': 3,\n  'under': 1,\n  'whilst': 1,\n  'wider': 1,\n  'with': 1,\n  'working': 1}]\n"
     ]
    }
   ],
   "source": [
    "pprint(TFs[:2], compact= True)"
   ]
  },
  {
   "source": [
    "__4.__ We will now compute the inverse document frequency (IDF).  \n",
    "While the TF gives an idea of the weight of a token within a document, the IDF is used to find its significance among the entire collection of documents (i.e. your reviews).  \n",
    "One possible way of computing it is:\n",
    "\n",
    "    IDFt = log N / DFt\n"
   ],
   "cell_type": "markdown",
   "metadata": {}
  },
  {
   "cell_type": "code",
   "execution_count": 28,
   "metadata": {},
   "outputs": [
    {
     "output_type": "execute_result",
     "data": {
      "text/plain": [
       "25000"
      ]
     },
     "metadata": {},
     "execution_count": 28
    }
   ],
   "source": [
    "# where N is the number of documents\n",
    "N = len(docs)\n",
    "N"
   ]
  },
  {
   "source": [
    "__DFt is the document frequency of a token__  \n",
    "i.e. the number of documents in which t appears at least once.\n",
    "As you can see, IDFt ∈ \\[0, log N\\].  \n",
    "Furthermore, __a low value means that the token appears in the majority of the documents, hence its presence is not relevant to characterize any subset of them, whereas an high value indicates relevance for a few\n",
    "documents.__"
   ],
   "cell_type": "markdown",
   "metadata": {}
  },
  {
   "source": [
    "\n"
   ],
   "cell_type": "markdown",
   "metadata": {}
  },
  {
   "source": [
    "__ (a) Compute the DF for all of your tokens;__\n"
   ],
   "cell_type": "markdown",
   "metadata": {}
  },
  {
   "source": [
    "<span style=\"color:DarkSlateGray\">\n",
    "<br>\n",
    "we take all unique tokens from a document, and merge them with unique tokens of other document<br>\n",
    "unique tokens of a doc are keys of TFs dicts"
   ],
   "cell_type": "markdown",
   "metadata": {}
  },
  {
   "cell_type": "code",
   "execution_count": 32,
   "metadata": {},
   "outputs": [],
   "source": [
    "# we take all unique tokens from a document, and merge them with unique tokens of other document\n",
    "# unique tokens of a doc are keys of TFs dicts\n",
    "all_tokens = []\n",
    "for tokens_dict in TFs:\n",
    "    all_tokens.extend(tokens_dict.keys())"
   ]
  },
  {
   "cell_type": "code",
   "execution_count": 37,
   "metadata": {},
   "outputs": [],
   "source": [
    "# we count the occurance of tokens in this new list\n",
    "DFt = dict(cnt(all_tokens))"
   ]
  },
  {
   "cell_type": "code",
   "execution_count": 45,
   "metadata": {},
   "outputs": [
    {
     "output_type": "execute_result",
     "data": {
      "text/plain": [
       "(37, 22427, 24793, 388, 23475, 761)"
      ]
     },
     "metadata": {},
     "execution_count": 45
    }
   ],
   "source": [
    "DFt[\"data\"], DFt[\"is\"], DFt[\"the\"], DFt[\"key\"], DFt[\"to\"], DFt[\"future\"]"
   ]
  },
  {
   "source": [
    "__(b) Compute the IDF for all of your tokens;__\n"
   ],
   "cell_type": "markdown",
   "metadata": {}
  },
  {
   "cell_type": "code",
   "execution_count": 53,
   "metadata": {},
   "outputs": [],
   "source": [
    "IDFt = {token: log(N/DFt[token]).__round__(5) for token in DFt}"
   ]
  },
  {
   "cell_type": "code",
   "execution_count": 54,
   "metadata": {},
   "outputs": [
    {
     "output_type": "execute_result",
     "data": {
      "text/plain": [
       "(6.51571, 0.10861, 0.00831, 4.16563, 0.06294, 3.492)"
      ]
     },
     "metadata": {},
     "execution_count": 54
    }
   ],
   "source": [
    "IDFt[\"data\"], IDFt[\"is\"], IDFt[\"the\"], IDFt[\"key\"], IDFt[\"to\"], IDFt[\"future\"]"
   ]
  },
  {
   "source": [
    "__(c) Try to sort the IDF values in ascending order.__  \n",
    "Which tokens (i.e. words) came to the top? Can\n",
    "you figure out why?\n"
   ],
   "cell_type": "markdown",
   "metadata": {}
  },
  {
   "source": [
    "<span style=\"color:DarkSlateGray\">\n",
    " As we have seen above, the most frequent words are usually the words which are spoken very commonly and do not participate in the classification of any phrase.\n",
    "\n"
   ],
   "cell_type": "markdown",
   "metadata": {}
  },
  {
   "cell_type": "code",
   "execution_count": 64,
   "metadata": {},
   "outputs": [],
   "source": [
    "IDFt_sorted = dict(sorted(IDFt.items(), key= lambda x: x[1]))"
   ]
  },
  {
   "cell_type": "code",
   "execution_count": 68,
   "metadata": {},
   "outputs": [
    {
     "output_type": "execute_result",
     "data": {
      "text/plain": [
       "['the', 'a', 'and', 'of', 'to', 'this', 'is', 'it', 'in', 'that']"
      ]
     },
     "metadata": {},
     "execution_count": 68
    }
   ],
   "source": [
    "# 10 tokens with lowest IDFt\n",
    "list(IDFt_sorted)[:10]\n",
    "    "
   ]
  },
  {
   "cell_type": "code",
   "execution_count": 69,
   "metadata": {},
   "outputs": [
    {
     "output_type": "execute_result",
     "data": {
      "text/plain": [
       "['ant1',\n",
       " 'infantalising',\n",
       " 'roué',\n",
       " 'orientalist',\n",
       " 'imy',\n",
       " 'jayden',\n",
       " 'repleat',\n",
       " 'jowls',\n",
       " 'camora',\n",
       " 'capiche']"
      ]
     },
     "metadata": {},
     "execution_count": 69
    }
   ],
   "source": [
    "#10 tokens with highest IDFt\n",
    "list(IDFt_sorted)[-10:]"
   ]
  },
  {
   "source": [
    "<span style=\"color:DarkSlateGray\">\n",
    "apprantly, the ones with max values, are the ones with spelling mistakes."
   ],
   "cell_type": "markdown",
   "metadata": {}
  },
  {
   "source": [
    "__5. Compute the T F-IDF.__  \n",
    "Combine the definitions of term frequency (TF) and inverse document frequency (IDF), to produce a composite weight for each term in each document.  \n",
    "The TF-IDF weighting scheme assigns to a term t a weight in the document d given by:  \n",
    "\n",
    "    TF-IDF (t,d) = TF (t,d) × IDFt  \n",
    "    \n",
    "In other words, TF-IDF (t,d) assigns to term t a weight in document d that is\n",
    "\n",
    "• high when t occurs many times within a small number of documents;  \n",
    "• low when the term occurs fewer times in a document, or occurs in many documents (thus offering a less pronounced relevance signal);  \n",
    "• lowest when the term occurs in virtually all documents.  \n",
    "For dictionary terms that do not occur in a document, the weight is zero.\n",
    "The suggested output structure is a list of dictionaries. Each dictionary represents a document and\n",
    "contains its tokens as key and weights as values:  \n",
    "\n",
    "    TF_IDF = [{ \"token_1\": weight_1, ... \"token_N\": weight_N}, { ... }, ... ]\n"
   ],
   "cell_type": "markdown",
   "metadata": {}
  },
  {
   "cell_type": "code",
   "execution_count": 80,
   "metadata": {},
   "outputs": [],
   "source": [
    "TF_IDF = []\n",
    "for doc_tokens_dict in TFs:\n",
    "    tf_idf = dict()\n",
    "    for k, v in doc_tokens_dict.items():\n",
    "        tf_idf[k]  = v * IDFt[k]\n",
    "    TF_IDF.append(tf_idf)"
   ]
  },
  {
   "cell_type": "code",
   "execution_count": 81,
   "metadata": {},
   "outputs": [
    {
     "output_type": "execute_result",
     "data": {
      "text/plain": [
       "[{'for': 1.00509,\n",
       "  'a': 0.1676,\n",
       "  'movie': 0.9814,\n",
       "  'that': 0.20722,\n",
       "  'gets': 2.25723,\n",
       "  'no': 1.11413,\n",
       "  'respect': 3.98459,\n",
       "  'there': 0.83739,\n",
       "  'sure': 2.35304,\n",
       "  'are': 0.58684,\n",
       "  'lot': 2.03195,\n",
       "  'of': 0.05226,\n",
       "  'memorable': 3.69369,\n",
       "  'quotes': 5.59403,\n",
       "  'listed': 5.33914,\n",
       "  'this': 0.09925,\n",
       "  'gem': 4.29182,\n",
       "  'imagine': 3.58705,\n",
       "  'where': 1.6559,\n",
       "  'joe': 4.13767,\n",
       "  'piscopo': 7.41858,\n",
       "  'is': 0.32583,\n",
       "  'actually': 1.98253,\n",
       "  'funny': 2.07433,\n",
       "  'maureen': 6.43775,\n",
       "  'stapleton': 7.56168,\n",
       "  'scene': 1.87679,\n",
       "  'stealer': 7.48757,\n",
       "  'the': 0.01662,\n",
       "  'moroni': 8.74034,\n",
       "  'character': 1.64155,\n",
       "  'an': 0.71662,\n",
       "  'absolute': 4.31549,\n",
       "  'scream': 4.7061,\n",
       "  'watch': 1.51996,\n",
       "  'alan': 4.62537,\n",
       "  'skipper': 7.92941,\n",
       "  'hale': 6.51571,\n",
       "  'jr': 4.59324,\n",
       "  'as': 0.43894,\n",
       "  'police': 3.46095,\n",
       "  'sgt': 6.46307}]"
      ]
     },
     "metadata": {},
     "execution_count": 81
    }
   ],
   "source": [
    "TF_IDF[:1]"
   ]
  },
  {
   "cell_type": "code",
   "execution_count": null,
   "metadata": {},
   "outputs": [],
   "source": []
  }
 ],
 "metadata": {
  "kernelspec": {
   "display_name": "Python 3.8.3 32-bit",
   "language": "python",
   "name": "python38332bit0f62fba450d94ecaa85a463da0aca8d7"
  },
  "language_info": {
   "codemirror_mode": {
    "name": "ipython",
    "version": 3
   },
   "file_extension": ".py",
   "mimetype": "text/x-python",
   "name": "python",
   "nbconvert_exporter": "python",
   "pygments_lexer": "ipython3",
   "version": "3.8.3-final"
  }
 },
 "nbformat": 4,
 "nbformat_minor": 2
}