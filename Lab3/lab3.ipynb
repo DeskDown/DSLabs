{
 "metadata": {
  "language_info": {
   "codemirror_mode": {
    "name": "ipython",
    "version": 3
   },
   "file_extension": ".py",
   "mimetype": "text/x-python",
   "name": "python",
   "nbconvert_exporter": "python",
   "pygments_lexer": "ipython3",
   "version": "3.8.3-final"
  },
  "orig_nbformat": 2,
  "kernelspec": {
   "name": "Python 3.8.3 64-bit ('base': conda)",
   "display_name": "Python 3.8.3 64-bit ('base': conda)",
   "metadata": {
    "interpreter": {
     "hash": "b3ba2566441a7c06988d0923437866b63cedc61552a5af99d1f4fb67d367b25f"
    }
   }
  }
 },
 "nbformat": 4,
 "nbformat_minor": 2,
 "cells": [
  {
   "cell_type": "code",
   "execution_count": 1,
   "metadata": {},
   "outputs": [],
   "source": [
    "from mlxtend.frequent_patterns import fpgrowth, association_rules, apriori\n",
    "import timeit\n",
    "import pandas as pd\n",
    "import json\n",
    "import csv"
   ]
  },
  {
   "cell_type": "code",
   "execution_count": 6,
   "metadata": {},
   "outputs": [
    {
     "output_type": "execute_result",
     "data": {
      "text/plain": [
       "0"
      ]
     },
     "metadata": {},
     "execution_count": 6
    }
   ],
   "source": [
    "#! pip install mlxtend\n"
   ]
  },
  {
   "cell_type": "code",
   "execution_count": 29,
   "metadata": {},
   "outputs": [
    {
     "output_type": "execute_result",
     "data": {
      "text/plain": [
       "0"
      ]
     },
     "metadata": {},
     "execution_count": 29
    }
   ],
   "source": [
    "#! python -m wget 'https://github.com/dbdmg/data-science-lab/raw/master/datasets/online_retail.csv' -o online_retail.csv\n",
    "0"
   ]
  },
  {
   "cell_type": "code",
   "execution_count": 16,
   "metadata": {},
   "outputs": [
    {
     "output_type": "stream",
     "name": "stdout",
     "text": [
      "\nSaved under coco.json\n"
     ]
    }
   ],
   "source": [
    "! python -m wget \"https://raw.githubusercontent.com/dbdmg/data-science-lab/master/datasets/modified_coco.json\" -o coco.json"
   ]
  },
  {
   "cell_type": "code",
   "execution_count": 19,
   "metadata": {},
   "outputs": [],
   "source": [
    "file = \"coco.json\"\n",
    "with open(file) as f:\n",
    "    coco_data = json.load(f)\n"
   ]
  },
  {
   "cell_type": "code",
   "execution_count": 22,
   "metadata": {},
   "outputs": [
    {
     "output_type": "execute_result",
     "data": {
      "text/plain": [
       "{'file_name': '000000095096.png',\n",
       " 'image_id': 95096,\n",
       " 'annotations': ['car', 'car', 'train', 'stop sign']}"
      ]
     },
     "metadata": {},
     "execution_count": 22
    }
   ],
   "source": [
    "coco_data[0]"
   ]
  },
  {
   "source": [
    "{  \n",
    "\"file_name\": \"000000465265.png\",  \n",
    "\"image_id\": 465265,  \n",
    "\"annotations\": \\[  \n",
    "    \"person\",  \n",
    "    \"person\",  \n",
    "    \"person\",  \n",
    "    \"fire hydrant\",  \n",
    "    \"handbag\",  \n",
    "    \"chair\",  \n",
    "    \"cell phone\"  \n",
    "]  \n",
    "}  \n",
    "This means that the image contains 3 people, a fire hydrant, a handbag, a chair and a cell phone. "
   ],
   "cell_type": "markdown",
   "metadata": {}
  },
  {
   "cell_type": "code",
   "execution_count": 23,
   "metadata": {},
   "outputs": [
    {
     "output_type": "execute_result",
     "data": {
      "text/plain": [
       "5000"
      ]
     },
     "metadata": {},
     "execution_count": 23
    }
   ],
   "source": [
    "len(coco_data)"
   ]
  },
  {
   "source": [
    "## 2.1 Association rules from frequent itemsets"
   ],
   "cell_type": "markdown",
   "metadata": {}
  },
  {
   "source": [
    "This exercise will work on the Online Retail Data Set.  \n",
    "In particular, you will do some data preprocessing on the dataset to extract all itemsets available (where each itemset is the collection of items contained in a single invoice).  \n",
    "Then, using FP-Growth and Apriori implementations, you will extract a list of frequent itemsets.  \n",
    "From those, you will finally extract several different association rules."
   ],
   "cell_type": "markdown",
   "metadata": {}
  },
  {
   "source": [
    "1. First, you need to load the dataset into memory, using the csv module.  \n",
    "Make sure you identify all valid rows.  \n",
    "Also consider that rows having an InvoiceNo that starts with C should be discarded, as they indicate that the invoice is about a cancelled purchase."
   ],
   "cell_type": "markdown",
   "metadata": {}
  },
  {
   "source": [
    "• InvoiceNo: Invoice number. Nominal, a 6-digit integral number uniquely assigned to each transaction. If this code starts with letter §c’, it indicates a cancellation.  \n",
    "• StockCode: Product (item) code. Nominal, a 5-digit integral number uniquely assigned to each\n",
    "distinct product.  \n",
    "• Description: Product (item) name. Nominal.  \n",
    "• Quantity: The quantities of each product (item) per transaction. Numeric.  \n",
    "• InvoiceDate: Invice Date and time. Numeric, the day and time when each transaction was generated.  \n",
    "• UnitPrice: Unit price. Numeric, Product price per unit in sterling.  \n",
    "• CustomerID: Customer number. Nominal, a 5-digit integral number uniquely assigned to each customer.  \n",
    "• Country: Country name. Nominal, the name of the country where each customer resides.  "
   ],
   "cell_type": "markdown",
   "metadata": {}
  },
  {
   "cell_type": "code",
   "execution_count": 2,
   "metadata": {},
   "outputs": [
    {
     "output_type": "execute_result",
     "data": {
      "text/plain": [
       "{0: 'InvoiceNo',\n",
       " 1: 'StockCode',\n",
       " 2: 'Description',\n",
       " 3: 'Quantity',\n",
       " 4: 'InvoiceDate',\n",
       " 5: 'UnitPrice',\n",
       " 6: 'CustomerID',\n",
       " 7: 'Country'}"
      ]
     },
     "metadata": {},
     "execution_count": 2
    }
   ],
   "source": [
    "file = \"online_retail.csv\"\n",
    "retail_data = []\n",
    "with open(file) as f:\n",
    "    label = next(f)\n",
    "    labels_index = {i: k for i, k in enumerate(label.strip().split(\",\"))}\n",
    "    for row in csv.reader(f):\n",
    "        if len(row) == 8 and row[0][0] not in (\"c\", \"C\"):\n",
    "            retail_data.append(list([\n",
    "                row[0],\n",
    "                row[1],\n",
    "                row[2],\n",
    "                float(row[3]),\n",
    "                row[4],\n",
    "                float(row[5]),\n",
    "                row[6],\n",
    "                row[7],]\n",
    "            ))\n",
    "\n",
    "labels_index"
   ]
  },
  {
   "cell_type": "code",
   "execution_count": 24,
   "metadata": {},
   "outputs": [
    {
     "output_type": "execute_result",
     "data": {
      "text/plain": [
       "532621"
      ]
     },
     "metadata": {},
     "execution_count": 24
    }
   ],
   "source": [
    "len(retail_data)"
   ]
  },
  {
   "source": [
    "2. Now that you have a dataset of items, you should aggregate it at an “invoice” level.  \n",
    "For each invoice (identified by InvoiceNo) there can be multiple items (from multiple rows) in the dataset.  \n",
    "For each invoice, you should build a list of all items belonging to it."
   ],
   "cell_type": "markdown",
   "metadata": {}
  },
  {
   "cell_type": "code",
   "execution_count": 25,
   "metadata": {},
   "outputs": [
    {
     "output_type": "execute_result",
     "data": {
      "text/plain": [
       "{'0', '1', '2', '3', '4', '5', '6', '7', '8', '9', 'A'}"
      ]
     },
     "metadata": {},
     "execution_count": 25
    }
   ],
   "source": [
    "# chars of invoice\n",
    "set([y for x in retail_data for y in x[0]])"
   ]
  },
  {
   "cell_type": "code",
   "execution_count": 3,
   "metadata": {},
   "outputs": [],
   "source": [
    "invoice_itemset = {}\n",
    "global_itemset = set()\n",
    "for row in retail_data:\n",
    "    invoice = row[0]\n",
    "    stock_desc = row[2]\n",
    "    if row[0] in invoice_itemset:\n",
    "        invoice_itemset[invoice].append(stock_desc)\n",
    "    else:\n",
    "        invoice_itemset[invoice] = [stock_desc]\n",
    "    global_itemset.add(stock_desc)"
   ]
  },
  {
   "cell_type": "code",
   "execution_count": 4,
   "metadata": {},
   "outputs": [
    {
     "output_type": "execute_result",
     "data": {
      "text/plain": [
       "['GARDENERS KNEELING PAD KEEP CALM ',\n",
       " 'HOT WATER BOTTLE KEEP CALM',\n",
       " 'DOORMAT KEEP CALM AND COME IN']"
      ]
     },
     "metadata": {},
     "execution_count": 4
    }
   ],
   "source": [
    "invoice_itemset[\"574021\"]"
   ]
  },
  {
   "cell_type": "code",
   "execution_count": 5,
   "metadata": {},
   "outputs": [
    {
     "output_type": "execute_result",
     "data": {
      "text/plain": [
       "(4208, 22064)"
      ]
     },
     "metadata": {},
     "execution_count": 5
    }
   ],
   "source": [
    "len(global_itemset), len(invoice_itemset)"
   ]
  },
  {
   "source": [
    "3. You should now have a list (one for each invoice) of lists (each list containing the items bought for\n",
    "that invoice).  \n",
    "Now, we need to convert this into a matrix form.  \n",
    "Of the many possible formats, we will use the one expected by the Mlxtend library, which is as follows.  \n",
    "Given an ordered list of M\n",
    "possible items (in this case, all possible products that can be bought), and given N itemsets (in this\n",
    "case, invoices), we should build a matrix of N rows and M columns.  \n",
    "The element at the ith row and jth column should be 1 if the ith itemset (invoice) contains the jth item (product), 0 otherwise."
   ],
   "cell_type": "markdown",
   "metadata": {}
  },
  {
   "cell_type": "code",
   "execution_count": 6,
   "metadata": {},
   "outputs": [],
   "source": [
    "mat = []\n",
    "for inv in invoice_itemset.values():\n",
    "    row = []\n",
    "    for gx in global_itemset:\n",
    "        if gx in inv:\n",
    "            row.append(1)\n",
    "        else:\n",
    "            row.append(0)\n",
    "    mat.append(row)        "
   ]
  },
  {
   "cell_type": "code",
   "execution_count": 7,
   "metadata": {},
   "outputs": [
    {
     "output_type": "execute_result",
     "data": {
      "text/plain": [
       "(4208, 22064)"
      ]
     },
     "metadata": {},
     "execution_count": 7
    }
   ],
   "source": [
    "len(mat[0]), len(mat)"
   ]
  },
  {
   "cell_type": "code",
   "execution_count": 8,
   "metadata": {},
   "outputs": [],
   "source": [
    "df = pd.DataFrame(data= mat, columns= global_itemset)"
   ]
  },
  {
   "cell_type": "code",
   "execution_count": 9,
   "metadata": {},
   "outputs": [
    {
     "output_type": "execute_result",
     "data": {
      "text/plain": [
       "      SILVER LATTICE VANILLA CANDLE POT  MAGNETS PACK OF 4 RETRO PHOTO  \\\n",
       "0  0                                  0                              0   \n",
       "1  0                                  0                              0   \n",
       "2  0                                  0                              0   \n",
       "3  0                                  0                              0   \n",
       "4  0                                  0                              0   \n",
       "\n",
       "   IVORY PAPER CUP CAKE CASES   BINGO SET  CREAM CLIMBING HYDRANGA ART FLOWER  \\\n",
       "0                            0          0                                   0   \n",
       "1                            0          0                                   0   \n",
       "2                            0          0                                   0   \n",
       "3                            0          0                                   0   \n",
       "4                            0          0                                   0   \n",
       "\n",
       "   ALPHABET HEARTS STICKER SHEET  BLUE BUNNY EASTER EGG BASKET  \\\n",
       "0                              0                             0   \n",
       "1                              0                             0   \n",
       "2                              0                             0   \n",
       "3                              0                             0   \n",
       "4                              0                             0   \n",
       "\n",
       "   3 TIER CAKE TIN RED AND CREAM  ENCHANTED BIRD COATHANGER 5 HOOK  ...  \\\n",
       "0                              0                                 0  ...   \n",
       "1                              0                                 0  ...   \n",
       "2                              0                                 0  ...   \n",
       "3                              0                                 0  ...   \n",
       "4                              0                                 0  ...   \n",
       "\n",
       "   VICTORIAN  METAL POSTCARD SPRING  PACKING CHARGE  \\\n",
       "0                                 0               0   \n",
       "1                                 0               0   \n",
       "2                                 0               0   \n",
       "3                                 0               0   \n",
       "4                                 0               0   \n",
       "\n",
       "   ROSE FLOWER CANDLE+INCENSE 16X16CM  VINTAGE UNION JACK DOORSTOP  \\\n",
       "0                                   0                            0   \n",
       "1                                   0                            0   \n",
       "2                                   0                            0   \n",
       "3                                   0                            0   \n",
       "4                                   0                            0   \n",
       "\n",
       "   LOVE GARLAND PAINTED ZINC   FOLKART ZINC STAR CHRISTMAS DEC  \\\n",
       "0                           0                                0   \n",
       "1                           0                                0   \n",
       "2                           0                                0   \n",
       "3                           0                                0   \n",
       "4                           0                                0   \n",
       "\n",
       "   REGENCY SUGAR BOWL GREEN  NUMBER TILE VINTAGE FONT 0  \\\n",
       "0                         0                           0   \n",
       "1                         0                           0   \n",
       "2                         0                           0   \n",
       "3                         0                           0   \n",
       "4                         0                           0   \n",
       "\n",
       "   REGENCY TEA PLATE GREEN   ETCHED GLASS STAR TREE DECORATION  \n",
       "0                         0                                  0  \n",
       "1                         0                                  0  \n",
       "2                         0                                  0  \n",
       "3                         0                                  0  \n",
       "4                         0                                  0  \n",
       "\n",
       "[5 rows x 4208 columns]"
      ],
      "text/html": "<div>\n<style scoped>\n    .dataframe tbody tr th:only-of-type {\n        vertical-align: middle;\n    }\n\n    .dataframe tbody tr th {\n        vertical-align: top;\n    }\n\n    .dataframe thead th {\n        text-align: right;\n    }\n</style>\n<table border=\"1\" class=\"dataframe\">\n  <thead>\n    <tr style=\"text-align: right;\">\n      <th></th>\n      <th></th>\n      <th>SILVER LATTICE VANILLA CANDLE POT</th>\n      <th>MAGNETS PACK OF 4 RETRO PHOTO</th>\n      <th>IVORY PAPER CUP CAKE CASES</th>\n      <th>BINGO SET</th>\n      <th>CREAM CLIMBING HYDRANGA ART FLOWER</th>\n      <th>ALPHABET HEARTS STICKER SHEET</th>\n      <th>BLUE BUNNY EASTER EGG BASKET</th>\n      <th>3 TIER CAKE TIN RED AND CREAM</th>\n      <th>ENCHANTED BIRD COATHANGER 5 HOOK</th>\n      <th>...</th>\n      <th>VICTORIAN  METAL POSTCARD SPRING</th>\n      <th>PACKING CHARGE</th>\n      <th>ROSE FLOWER CANDLE+INCENSE 16X16CM</th>\n      <th>VINTAGE UNION JACK DOORSTOP</th>\n      <th>LOVE GARLAND PAINTED ZINC</th>\n      <th>FOLKART ZINC STAR CHRISTMAS DEC</th>\n      <th>REGENCY SUGAR BOWL GREEN</th>\n      <th>NUMBER TILE VINTAGE FONT 0</th>\n      <th>REGENCY TEA PLATE GREEN</th>\n      <th>ETCHED GLASS STAR TREE DECORATION</th>\n    </tr>\n  </thead>\n  <tbody>\n    <tr>\n      <th>0</th>\n      <td>0</td>\n      <td>0</td>\n      <td>0</td>\n      <td>0</td>\n      <td>0</td>\n      <td>0</td>\n      <td>0</td>\n      <td>0</td>\n      <td>0</td>\n      <td>0</td>\n      <td>...</td>\n      <td>0</td>\n      <td>0</td>\n      <td>0</td>\n      <td>0</td>\n      <td>0</td>\n      <td>0</td>\n      <td>0</td>\n      <td>0</td>\n      <td>0</td>\n      <td>0</td>\n    </tr>\n    <tr>\n      <th>1</th>\n      <td>0</td>\n      <td>0</td>\n      <td>0</td>\n      <td>0</td>\n      <td>0</td>\n      <td>0</td>\n      <td>0</td>\n      <td>0</td>\n      <td>0</td>\n      <td>0</td>\n      <td>...</td>\n      <td>0</td>\n      <td>0</td>\n      <td>0</td>\n      <td>0</td>\n      <td>0</td>\n      <td>0</td>\n      <td>0</td>\n      <td>0</td>\n      <td>0</td>\n      <td>0</td>\n    </tr>\n    <tr>\n      <th>2</th>\n      <td>0</td>\n      <td>0</td>\n      <td>0</td>\n      <td>0</td>\n      <td>0</td>\n      <td>0</td>\n      <td>0</td>\n      <td>0</td>\n      <td>0</td>\n      <td>0</td>\n      <td>...</td>\n      <td>0</td>\n      <td>0</td>\n      <td>0</td>\n      <td>0</td>\n      <td>0</td>\n      <td>0</td>\n      <td>0</td>\n      <td>0</td>\n      <td>0</td>\n      <td>0</td>\n    </tr>\n    <tr>\n      <th>3</th>\n      <td>0</td>\n      <td>0</td>\n      <td>0</td>\n      <td>0</td>\n      <td>0</td>\n      <td>0</td>\n      <td>0</td>\n      <td>0</td>\n      <td>0</td>\n      <td>0</td>\n      <td>...</td>\n      <td>0</td>\n      <td>0</td>\n      <td>0</td>\n      <td>0</td>\n      <td>0</td>\n      <td>0</td>\n      <td>0</td>\n      <td>0</td>\n      <td>0</td>\n      <td>0</td>\n    </tr>\n    <tr>\n      <th>4</th>\n      <td>0</td>\n      <td>0</td>\n      <td>0</td>\n      <td>0</td>\n      <td>0</td>\n      <td>0</td>\n      <td>0</td>\n      <td>0</td>\n      <td>0</td>\n      <td>0</td>\n      <td>...</td>\n      <td>0</td>\n      <td>0</td>\n      <td>0</td>\n      <td>0</td>\n      <td>0</td>\n      <td>0</td>\n      <td>0</td>\n      <td>0</td>\n      <td>0</td>\n      <td>0</td>\n    </tr>\n  </tbody>\n</table>\n<p>5 rows × 4208 columns</p>\n</div>"
     },
     "metadata": {},
     "execution_count": 9
    }
   ],
   "source": [
    "df.head()"
   ]
  },
  {
   "source": [
    "4. With the df that you defined in the previous exercise,  \n",
    "you can now use the fp_growth function. This function, which is described in the detail in the official documentation.  \n",
    "The first argument required is the previously built DataFrame, df.  \n",
    "The second is the minimum support (minsup), i.e. the minimum fraction of the entire dataset in which the itemset should show up for it to be considered “frequent”.  \n",
    "Try using different values of minsup, such as 0.5, 0.1, 0.05, 0.02, 0.01.  \n",
    "How many results do you obtain as minsup varies?  \n",
    "You can check the number of frequent itemsets identified and print them all with the following code snipped:\n",
    "```\n",
    "    fi = fpgrowth(df, 0.05)\n",
    "    print(len(fi))\n",
    "    print(fi.to_string())\n"
   ],
   "cell_type": "markdown",
   "metadata": {}
  },
  {
   "cell_type": "code",
   "execution_count": 10,
   "metadata": {},
   "outputs": [
    {
     "output_type": "stream",
     "name": "stdout",
     "text": [
      "0.5 0\n",
      "0.1 1\n",
      "0.05 23\n",
      "0.02 303\n",
      "0.01 1472\n"
     ]
    }
   ],
   "source": [
    "for x in (0.5,0.1,0.05,0.02,0.01):\n",
    "    print(x, len(fpgrowth(df, x)))"
   ]
  },
  {
   "cell_type": "code",
   "execution_count": 11,
   "metadata": {},
   "outputs": [],
   "source": [
    "fi = fpgrowth(df, 0.1, use_colnames= True)\n"
   ]
  },
  {
   "cell_type": "code",
   "execution_count": 12,
   "metadata": {},
   "outputs": [
    {
     "output_type": "execute_result",
     "data": {
      "text/plain": [
       "    support                              itemsets\n",
       "0  0.102429  (WHITE HANGING HEART T-LIGHT HOLDER)"
      ],
      "text/html": "<div>\n<style scoped>\n    .dataframe tbody tr th:only-of-type {\n        vertical-align: middle;\n    }\n\n    .dataframe tbody tr th {\n        vertical-align: top;\n    }\n\n    .dataframe thead th {\n        text-align: right;\n    }\n</style>\n<table border=\"1\" class=\"dataframe\">\n  <thead>\n    <tr style=\"text-align: right;\">\n      <th></th>\n      <th>support</th>\n      <th>itemsets</th>\n    </tr>\n  </thead>\n  <tbody>\n    <tr>\n      <th>0</th>\n      <td>0.102429</td>\n      <td>(WHITE HANGING HEART T-LIGHT HOLDER)</td>\n    </tr>\n  </tbody>\n</table>\n</div>"
     },
     "metadata": {},
     "execution_count": 12
    }
   ],
   "source": [
    "fi"
   ]
  },
  {
   "cell_type": "code",
   "execution_count": 101,
   "metadata": {},
   "outputs": [],
   "source": [
    "def get_desc(item):\n",
    "    for row in retail_data:\n",
    "        if row[1] == item:\n",
    "            return row[2]\n",
    "\n",
    "def itemCode_to_desc(items_Set):\n",
    "    return [get_desc(i) for i in items_Set]\n",
    "    "
   ]
  },
  {
   "cell_type": "code",
   "execution_count": 102,
   "metadata": {},
   "outputs": [],
   "source": [
    "# lets add description to the items\n",
    "fi[\"description\"] = fi.itemsets.apply(itemCode_to_desc)"
   ]
  },
  {
   "cell_type": "code",
   "execution_count": 115,
   "metadata": {},
   "outputs": [],
   "source": [
    "pd.set_option(\"max_colwidth\", 100)\n"
   ]
  },
  {
   "cell_type": "code",
   "execution_count": 116,
   "metadata": {},
   "outputs": [
    {
     "output_type": "execute_result",
     "data": {
      "text/plain": [
       "      support               itemsets  \\\n",
       "0    0.086718               (85123A)   \n",
       "1    0.056680                (84879)   \n",
       "2    0.030386                (21754)   \n",
       "3    0.024363                (21755)   \n",
       "4    0.023243                (48187)   \n",
       "..        ...                    ...   \n",
       "215  0.021197  (22697, 22699, 22698)   \n",
       "216  0.021429        (23199, 85099B)   \n",
       "217  0.020000         (23202, 23203)   \n",
       "218  0.022471        (85099B, 23203)   \n",
       "219  0.021197         (23301, 23300)   \n",
       "\n",
       "                                                                                             description  \n",
       "0                                                                   [WHITE HANGING HEART T-LIGHT HOLDER]  \n",
       "1                                                                        [ASSORTED COLOUR BIRD ORNAMENT]  \n",
       "2                                                                             [HOME BUILDING BLOCK WORD]  \n",
       "3                                                                             [LOVE BUILDING BLOCK WORD]  \n",
       "4                                                                                  [DOORMAT NEW ENGLAND]  \n",
       "..                                                                                                   ...  \n",
       "215  [GREEN REGENCY TEACUP AND SAUCER, ROSES REGENCY TEACUP AND SAUCER , PINK REGENCY TEACUP AND SAUCER]  \n",
       "216                                                          [JUMBO BAG APPLES, JUMBO BAG RED RETROSPOT]  \n",
       "217                                                                                   [mailout, mailout]  \n",
       "218                                                                   [JUMBO BAG RED RETROSPOT, mailout]  \n",
       "219                              [GARDENERS KNEELING PAD KEEP CALM , GARDENERS KNEELING PAD CUP OF TEA ]  \n",
       "\n",
       "[220 rows x 3 columns]"
      ],
      "text/html": "<div>\n<style scoped>\n    .dataframe tbody tr th:only-of-type {\n        vertical-align: middle;\n    }\n\n    .dataframe tbody tr th {\n        vertical-align: top;\n    }\n\n    .dataframe thead th {\n        text-align: right;\n    }\n</style>\n<table border=\"1\" class=\"dataframe\">\n  <thead>\n    <tr style=\"text-align: right;\">\n      <th></th>\n      <th>support</th>\n      <th>itemsets</th>\n      <th>description</th>\n    </tr>\n  </thead>\n  <tbody>\n    <tr>\n      <th>0</th>\n      <td>0.086718</td>\n      <td>(85123A)</td>\n      <td>[WHITE HANGING HEART T-LIGHT HOLDER]</td>\n    </tr>\n    <tr>\n      <th>1</th>\n      <td>0.056680</td>\n      <td>(84879)</td>\n      <td>[ASSORTED COLOUR BIRD ORNAMENT]</td>\n    </tr>\n    <tr>\n      <th>2</th>\n      <td>0.030386</td>\n      <td>(21754)</td>\n      <td>[HOME BUILDING BLOCK WORD]</td>\n    </tr>\n    <tr>\n      <th>3</th>\n      <td>0.024363</td>\n      <td>(21755)</td>\n      <td>[LOVE BUILDING BLOCK WORD]</td>\n    </tr>\n    <tr>\n      <th>4</th>\n      <td>0.023243</td>\n      <td>(48187)</td>\n      <td>[DOORMAT NEW ENGLAND]</td>\n    </tr>\n    <tr>\n      <th>...</th>\n      <td>...</td>\n      <td>...</td>\n      <td>...</td>\n    </tr>\n    <tr>\n      <th>215</th>\n      <td>0.021197</td>\n      <td>(22697, 22699, 22698)</td>\n      <td>[GREEN REGENCY TEACUP AND SAUCER, ROSES REGENCY TEACUP AND SAUCER , PINK REGENCY TEACUP AND SAUCER]</td>\n    </tr>\n    <tr>\n      <th>216</th>\n      <td>0.021429</td>\n      <td>(23199, 85099B)</td>\n      <td>[JUMBO BAG APPLES, JUMBO BAG RED RETROSPOT]</td>\n    </tr>\n    <tr>\n      <th>217</th>\n      <td>0.020000</td>\n      <td>(23202, 23203)</td>\n      <td>[mailout, mailout]</td>\n    </tr>\n    <tr>\n      <th>218</th>\n      <td>0.022471</td>\n      <td>(85099B, 23203)</td>\n      <td>[JUMBO BAG RED RETROSPOT, mailout]</td>\n    </tr>\n    <tr>\n      <th>219</th>\n      <td>0.021197</td>\n      <td>(23301, 23300)</td>\n      <td>[GARDENERS KNEELING PAD KEEP CALM , GARDENERS KNEELING PAD CUP OF TEA ]</td>\n    </tr>\n  </tbody>\n</table>\n<p>220 rows × 3 columns</p>\n</div>"
     },
     "metadata": {},
     "execution_count": 116
    }
   ],
   "source": [
    "fi"
   ]
  },
  {
   "cell_type": "code",
   "execution_count": 142,
   "metadata": {},
   "outputs": [
    {
     "output_type": "execute_result",
     "data": {
      "text/plain": [
       "(36, 3)"
      ]
     },
     "metadata": {},
     "execution_count": 142
    }
   ],
   "source": [
    "filt = fi.itemsets.apply(len) > 1\n",
    "fi[filt].shape"
   ]
  },
  {
   "source": [
    "given a tupple (23199, 85099B), we can check if\n",
    "23199 ==> 85099B  \n",
    "or \n",
    "85099B ==> 23199  \n",
    "\n",
    "lets say minconf = 0.5"
   ],
   "cell_type": "markdown",
   "metadata": {}
  },
  {
   "cell_type": "code",
   "execution_count": 133,
   "metadata": {},
   "outputs": [],
   "source": [
    "# Get all the supports\n",
    "filt = fi.itemsets == frozenset([\"23199\", \"85099B\"])\n",
    "P_23199_85099B = fi.loc[filt, \"support\"].values[0]\n",
    "filt = fi.itemsets == frozenset([\"23199\"])\n",
    "P_23199 = fi.loc[filt, \"support\"].values[0]\n",
    "filt = fi.itemsets == frozenset([\"85099B\"])\n",
    "P_85099B = fi.loc[filt, \"support\"].values[0]\n"
   ]
  },
  {
   "cell_type": "code",
   "execution_count": 135,
   "metadata": {},
   "outputs": [
    {
     "output_type": "execute_result",
     "data": {
      "text/plain": [
       "0.5555555555555556"
      ]
     },
     "metadata": {},
     "execution_count": 135
    }
   ],
   "source": [
    "# 23199 ==> 85099B\n",
    "conf = P_23199_85099B / P_23199\n",
    "conf"
   ]
  },
  {
   "cell_type": "code",
   "execution_count": 136,
   "metadata": {},
   "outputs": [
    {
     "output_type": "execute_result",
     "data": {
      "text/plain": [
       "0.25995316159250587"
      ]
     },
     "metadata": {},
     "execution_count": 136
    }
   ],
   "source": [
    "# 85099B ==> 23199\n",
    "conf = P_23199_85099B / P_85099B\n",
    "conf"
   ]
  },
  {
   "source": [
    "we can say that 23199 ==> 85099B holds with a probability of above 50%"
   ],
   "cell_type": "markdown",
   "metadata": {}
  },
  {
   "cell_type": "code",
   "execution_count": 151,
   "metadata": {},
   "outputs": [
    {
     "output_type": "execute_result",
     "data": {
      "text/plain": [
       "       antecedents     consequents  antecedent support  consequent support  \\\n",
       "0          (22726)         (22727)            0.038726            0.041737   \n",
       "1          (22727)         (22726)            0.041737            0.038726   \n",
       "2          (22386)        (85099B)            0.047529            0.082432   \n",
       "3          (21931)        (85099B)            0.046371            0.082432   \n",
       "4         (85099C)        (85099B)            0.036564            0.082432   \n",
       "5          (21929)        (85099B)            0.033861            0.082432   \n",
       "6          (22411)        (85099B)            0.045830            0.082432   \n",
       "7          (22910)         (22086)            0.032124            0.045174   \n",
       "8          (22384)         (20725)            0.042857            0.062085   \n",
       "9          (20726)         (20725)            0.040039            0.062085   \n",
       "10         (22383)         (20725)            0.050425            0.062085   \n",
       "11         (20727)         (20725)            0.050000            0.062085   \n",
       "12        (85099F)        (85099B)            0.032046            0.082432   \n",
       "13         (22629)         (22630)            0.035058            0.033205   \n",
       "14         (22630)         (22629)            0.033205            0.035058   \n",
       "15         (22697)         (22699)            0.040811            0.043243   \n",
       "16         (22699)         (22697)            0.043243            0.040811   \n",
       "17         (20712)        (85099B)            0.033668            0.082432   \n",
       "18         (21928)        (85099B)            0.031506            0.082432   \n",
       "19         (22356)         (20724)            0.029344            0.040541   \n",
       "20         (20724)         (22356)            0.040541            0.029344   \n",
       "21         (22697)         (22698)            0.040811            0.030965   \n",
       "22         (22698)         (22697)            0.030965            0.040811   \n",
       "23         (22698)         (22699)            0.030965            0.043243   \n",
       "24         (22699)         (22698)            0.043243            0.030965   \n",
       "25  (22697, 22699)         (22698)            0.030270            0.030965   \n",
       "26  (22697, 22698)         (22699)            0.024865            0.043243   \n",
       "27  (22698, 22699)         (22697)            0.023707            0.040811   \n",
       "28         (22697)  (22698, 22699)            0.040811            0.023707   \n",
       "29         (22698)  (22697, 22699)            0.030965            0.030270   \n",
       "30         (23199)        (85099B)            0.038571            0.082432   \n",
       "31         (23202)         (23203)            0.034208            0.048224   \n",
       "32         (23301)         (23300)            0.035676            0.029537   \n",
       "33         (23300)         (23301)            0.029537            0.035676   \n",
       "\n",
       "     support  confidence       lift  leverage  conviction  \n",
       "0   0.024942    0.644068  15.431412  0.023326    2.692261  \n",
       "1   0.024942    0.597595  15.431412  0.023326    2.388821  \n",
       "2   0.032162    0.676686   8.208973  0.028244    2.838004  \n",
       "3   0.028301    0.610325   7.403939  0.024479    2.354698  \n",
       "4   0.022896    0.626188   7.596379  0.019882    2.454623  \n",
       "5   0.020154    0.595211   7.220592  0.017363    2.266780  \n",
       "6   0.026371    0.575400   6.980264  0.022593    2.161017  \n",
       "7   0.021429    0.667067  14.766704  0.019977    2.867926  \n",
       "8   0.023668    0.552252   8.895108  0.021007    2.094740  \n",
       "9   0.020541    0.513018   8.263168  0.018055    1.925976  \n",
       "10  0.025598    0.507657   8.176813  0.022468    1.905003  \n",
       "11  0.025019    0.500386   8.059701  0.021915    1.877280  \n",
       "12  0.021042    0.656627   7.965633  0.018401    2.672214  \n",
       "13  0.020772    0.592511  17.844227  0.019608    2.372568  \n",
       "14  0.020772    0.625581  17.844227  0.019608    2.577175  \n",
       "15  0.030270    0.741722  17.152318  0.028505    3.704366  \n",
       "16  0.030270    0.700000  17.152318  0.028505    3.197297  \n",
       "17  0.020772    0.616972   7.484584  0.017997    2.395566  \n",
       "18  0.021081    0.669118   8.117165  0.018484    2.773093  \n",
       "19  0.020309    0.692105  17.071930  0.019119    3.116193  \n",
       "20  0.020309    0.500952  17.071930  0.019119    1.945018  \n",
       "21  0.024865    0.609272  19.675976  0.023601    2.480072  \n",
       "22  0.024865    0.802993  19.675976  0.023601    4.868796  \n",
       "23  0.023707    0.765586  17.704177  0.022368    4.081484  \n",
       "24  0.023707    0.548214  17.704177  0.022368    2.144899  \n",
       "25  0.021197    0.700255  22.614223  0.020260    3.232865  \n",
       "26  0.021197    0.852484  19.713703  0.020122    6.485804  \n",
       "27  0.021197    0.894137  21.909313  0.020229    9.060649  \n",
       "28  0.021197    0.519395  21.909313  0.020229    2.031382  \n",
       "29  0.021197    0.684539  22.614223  0.020260    3.074005  \n",
       "30  0.021429    0.555556   6.739526  0.018249    2.064527  \n",
       "31  0.020000    0.584650  12.123649  0.018350    2.291504  \n",
       "32  0.021197    0.594156  20.115865  0.020143    2.391222  \n",
       "33  0.021197    0.717647  20.115865  0.020143    3.415315  "
      ],
      "text/html": "<div>\n<style scoped>\n    .dataframe tbody tr th:only-of-type {\n        vertical-align: middle;\n    }\n\n    .dataframe tbody tr th {\n        vertical-align: top;\n    }\n\n    .dataframe thead th {\n        text-align: right;\n    }\n</style>\n<table border=\"1\" class=\"dataframe\">\n  <thead>\n    <tr style=\"text-align: right;\">\n      <th></th>\n      <th>antecedents</th>\n      <th>consequents</th>\n      <th>antecedent support</th>\n      <th>consequent support</th>\n      <th>support</th>\n      <th>confidence</th>\n      <th>lift</th>\n      <th>leverage</th>\n      <th>conviction</th>\n    </tr>\n  </thead>\n  <tbody>\n    <tr>\n      <th>0</th>\n      <td>(22726)</td>\n      <td>(22727)</td>\n      <td>0.038726</td>\n      <td>0.041737</td>\n      <td>0.024942</td>\n      <td>0.644068</td>\n      <td>15.431412</td>\n      <td>0.023326</td>\n      <td>2.692261</td>\n    </tr>\n    <tr>\n      <th>1</th>\n      <td>(22727)</td>\n      <td>(22726)</td>\n      <td>0.041737</td>\n      <td>0.038726</td>\n      <td>0.024942</td>\n      <td>0.597595</td>\n      <td>15.431412</td>\n      <td>0.023326</td>\n      <td>2.388821</td>\n    </tr>\n    <tr>\n      <th>2</th>\n      <td>(22386)</td>\n      <td>(85099B)</td>\n      <td>0.047529</td>\n      <td>0.082432</td>\n      <td>0.032162</td>\n      <td>0.676686</td>\n      <td>8.208973</td>\n      <td>0.028244</td>\n      <td>2.838004</td>\n    </tr>\n    <tr>\n      <th>3</th>\n      <td>(21931)</td>\n      <td>(85099B)</td>\n      <td>0.046371</td>\n      <td>0.082432</td>\n      <td>0.028301</td>\n      <td>0.610325</td>\n      <td>7.403939</td>\n      <td>0.024479</td>\n      <td>2.354698</td>\n    </tr>\n    <tr>\n      <th>4</th>\n      <td>(85099C)</td>\n      <td>(85099B)</td>\n      <td>0.036564</td>\n      <td>0.082432</td>\n      <td>0.022896</td>\n      <td>0.626188</td>\n      <td>7.596379</td>\n      <td>0.019882</td>\n      <td>2.454623</td>\n    </tr>\n    <tr>\n      <th>5</th>\n      <td>(21929)</td>\n      <td>(85099B)</td>\n      <td>0.033861</td>\n      <td>0.082432</td>\n      <td>0.020154</td>\n      <td>0.595211</td>\n      <td>7.220592</td>\n      <td>0.017363</td>\n      <td>2.266780</td>\n    </tr>\n    <tr>\n      <th>6</th>\n      <td>(22411)</td>\n      <td>(85099B)</td>\n      <td>0.045830</td>\n      <td>0.082432</td>\n      <td>0.026371</td>\n      <td>0.575400</td>\n      <td>6.980264</td>\n      <td>0.022593</td>\n      <td>2.161017</td>\n    </tr>\n    <tr>\n      <th>7</th>\n      <td>(22910)</td>\n      <td>(22086)</td>\n      <td>0.032124</td>\n      <td>0.045174</td>\n      <td>0.021429</td>\n      <td>0.667067</td>\n      <td>14.766704</td>\n      <td>0.019977</td>\n      <td>2.867926</td>\n    </tr>\n    <tr>\n      <th>8</th>\n      <td>(22384)</td>\n      <td>(20725)</td>\n      <td>0.042857</td>\n      <td>0.062085</td>\n      <td>0.023668</td>\n      <td>0.552252</td>\n      <td>8.895108</td>\n      <td>0.021007</td>\n      <td>2.094740</td>\n    </tr>\n    <tr>\n      <th>9</th>\n      <td>(20726)</td>\n      <td>(20725)</td>\n      <td>0.040039</td>\n      <td>0.062085</td>\n      <td>0.020541</td>\n      <td>0.513018</td>\n      <td>8.263168</td>\n      <td>0.018055</td>\n      <td>1.925976</td>\n    </tr>\n    <tr>\n      <th>10</th>\n      <td>(22383)</td>\n      <td>(20725)</td>\n      <td>0.050425</td>\n      <td>0.062085</td>\n      <td>0.025598</td>\n      <td>0.507657</td>\n      <td>8.176813</td>\n      <td>0.022468</td>\n      <td>1.905003</td>\n    </tr>\n    <tr>\n      <th>11</th>\n      <td>(20727)</td>\n      <td>(20725)</td>\n      <td>0.050000</td>\n      <td>0.062085</td>\n      <td>0.025019</td>\n      <td>0.500386</td>\n      <td>8.059701</td>\n      <td>0.021915</td>\n      <td>1.877280</td>\n    </tr>\n    <tr>\n      <th>12</th>\n      <td>(85099F)</td>\n      <td>(85099B)</td>\n      <td>0.032046</td>\n      <td>0.082432</td>\n      <td>0.021042</td>\n      <td>0.656627</td>\n      <td>7.965633</td>\n      <td>0.018401</td>\n      <td>2.672214</td>\n    </tr>\n    <tr>\n      <th>13</th>\n      <td>(22629)</td>\n      <td>(22630)</td>\n      <td>0.035058</td>\n      <td>0.033205</td>\n      <td>0.020772</td>\n      <td>0.592511</td>\n      <td>17.844227</td>\n      <td>0.019608</td>\n      <td>2.372568</td>\n    </tr>\n    <tr>\n      <th>14</th>\n      <td>(22630)</td>\n      <td>(22629)</td>\n      <td>0.033205</td>\n      <td>0.035058</td>\n      <td>0.020772</td>\n      <td>0.625581</td>\n      <td>17.844227</td>\n      <td>0.019608</td>\n      <td>2.577175</td>\n    </tr>\n    <tr>\n      <th>15</th>\n      <td>(22697)</td>\n      <td>(22699)</td>\n      <td>0.040811</td>\n      <td>0.043243</td>\n      <td>0.030270</td>\n      <td>0.741722</td>\n      <td>17.152318</td>\n      <td>0.028505</td>\n      <td>3.704366</td>\n    </tr>\n    <tr>\n      <th>16</th>\n      <td>(22699)</td>\n      <td>(22697)</td>\n      <td>0.043243</td>\n      <td>0.040811</td>\n      <td>0.030270</td>\n      <td>0.700000</td>\n      <td>17.152318</td>\n      <td>0.028505</td>\n      <td>3.197297</td>\n    </tr>\n    <tr>\n      <th>17</th>\n      <td>(20712)</td>\n      <td>(85099B)</td>\n      <td>0.033668</td>\n      <td>0.082432</td>\n      <td>0.020772</td>\n      <td>0.616972</td>\n      <td>7.484584</td>\n      <td>0.017997</td>\n      <td>2.395566</td>\n    </tr>\n    <tr>\n      <th>18</th>\n      <td>(21928)</td>\n      <td>(85099B)</td>\n      <td>0.031506</td>\n      <td>0.082432</td>\n      <td>0.021081</td>\n      <td>0.669118</td>\n      <td>8.117165</td>\n      <td>0.018484</td>\n      <td>2.773093</td>\n    </tr>\n    <tr>\n      <th>19</th>\n      <td>(22356)</td>\n      <td>(20724)</td>\n      <td>0.029344</td>\n      <td>0.040541</td>\n      <td>0.020309</td>\n      <td>0.692105</td>\n      <td>17.071930</td>\n      <td>0.019119</td>\n      <td>3.116193</td>\n    </tr>\n    <tr>\n      <th>20</th>\n      <td>(20724)</td>\n      <td>(22356)</td>\n      <td>0.040541</td>\n      <td>0.029344</td>\n      <td>0.020309</td>\n      <td>0.500952</td>\n      <td>17.071930</td>\n      <td>0.019119</td>\n      <td>1.945018</td>\n    </tr>\n    <tr>\n      <th>21</th>\n      <td>(22697)</td>\n      <td>(22698)</td>\n      <td>0.040811</td>\n      <td>0.030965</td>\n      <td>0.024865</td>\n      <td>0.609272</td>\n      <td>19.675976</td>\n      <td>0.023601</td>\n      <td>2.480072</td>\n    </tr>\n    <tr>\n      <th>22</th>\n      <td>(22698)</td>\n      <td>(22697)</td>\n      <td>0.030965</td>\n      <td>0.040811</td>\n      <td>0.024865</td>\n      <td>0.802993</td>\n      <td>19.675976</td>\n      <td>0.023601</td>\n      <td>4.868796</td>\n    </tr>\n    <tr>\n      <th>23</th>\n      <td>(22698)</td>\n      <td>(22699)</td>\n      <td>0.030965</td>\n      <td>0.043243</td>\n      <td>0.023707</td>\n      <td>0.765586</td>\n      <td>17.704177</td>\n      <td>0.022368</td>\n      <td>4.081484</td>\n    </tr>\n    <tr>\n      <th>24</th>\n      <td>(22699)</td>\n      <td>(22698)</td>\n      <td>0.043243</td>\n      <td>0.030965</td>\n      <td>0.023707</td>\n      <td>0.548214</td>\n      <td>17.704177</td>\n      <td>0.022368</td>\n      <td>2.144899</td>\n    </tr>\n    <tr>\n      <th>25</th>\n      <td>(22697, 22699)</td>\n      <td>(22698)</td>\n      <td>0.030270</td>\n      <td>0.030965</td>\n      <td>0.021197</td>\n      <td>0.700255</td>\n      <td>22.614223</td>\n      <td>0.020260</td>\n      <td>3.232865</td>\n    </tr>\n    <tr>\n      <th>26</th>\n      <td>(22697, 22698)</td>\n      <td>(22699)</td>\n      <td>0.024865</td>\n      <td>0.043243</td>\n      <td>0.021197</td>\n      <td>0.852484</td>\n      <td>19.713703</td>\n      <td>0.020122</td>\n      <td>6.485804</td>\n    </tr>\n    <tr>\n      <th>27</th>\n      <td>(22698, 22699)</td>\n      <td>(22697)</td>\n      <td>0.023707</td>\n      <td>0.040811</td>\n      <td>0.021197</td>\n      <td>0.894137</td>\n      <td>21.909313</td>\n      <td>0.020229</td>\n      <td>9.060649</td>\n    </tr>\n    <tr>\n      <th>28</th>\n      <td>(22697)</td>\n      <td>(22698, 22699)</td>\n      <td>0.040811</td>\n      <td>0.023707</td>\n      <td>0.021197</td>\n      <td>0.519395</td>\n      <td>21.909313</td>\n      <td>0.020229</td>\n      <td>2.031382</td>\n    </tr>\n    <tr>\n      <th>29</th>\n      <td>(22698)</td>\n      <td>(22697, 22699)</td>\n      <td>0.030965</td>\n      <td>0.030270</td>\n      <td>0.021197</td>\n      <td>0.684539</td>\n      <td>22.614223</td>\n      <td>0.020260</td>\n      <td>3.074005</td>\n    </tr>\n    <tr>\n      <th>30</th>\n      <td>(23199)</td>\n      <td>(85099B)</td>\n      <td>0.038571</td>\n      <td>0.082432</td>\n      <td>0.021429</td>\n      <td>0.555556</td>\n      <td>6.739526</td>\n      <td>0.018249</td>\n      <td>2.064527</td>\n    </tr>\n    <tr>\n      <th>31</th>\n      <td>(23202)</td>\n      <td>(23203)</td>\n      <td>0.034208</td>\n      <td>0.048224</td>\n      <td>0.020000</td>\n      <td>0.584650</td>\n      <td>12.123649</td>\n      <td>0.018350</td>\n      <td>2.291504</td>\n    </tr>\n    <tr>\n      <th>32</th>\n      <td>(23301)</td>\n      <td>(23300)</td>\n      <td>0.035676</td>\n      <td>0.029537</td>\n      <td>0.021197</td>\n      <td>0.594156</td>\n      <td>20.115865</td>\n      <td>0.020143</td>\n      <td>2.391222</td>\n    </tr>\n    <tr>\n      <th>33</th>\n      <td>(23300)</td>\n      <td>(23301)</td>\n      <td>0.029537</td>\n      <td>0.035676</td>\n      <td>0.021197</td>\n      <td>0.717647</td>\n      <td>20.115865</td>\n      <td>0.020143</td>\n      <td>3.415315</td>\n    </tr>\n  </tbody>\n</table>\n</div>"
     },
     "metadata": {},
     "execution_count": 151
    }
   ],
   "source": [
    "association_rules(fi, min_threshold=0.5)"
   ]
  },
  {
   "source": [
    "7. Extract the association rules from the frequent itemsets extracted with minsup = 0.01.  \n",
    "You can find the documentation for association_rules() on the official documentation.  \n",
    "You can use the confidence as the metric to identify the rules, and a minimum threshold of 0.85  \n",
    "(feel free to vary\n",
    "these values and observe how the results vary).\n"
   ],
   "cell_type": "markdown",
   "metadata": {}
  },
  {
   "cell_type": "code",
   "execution_count": 143,
   "metadata": {},
   "outputs": [],
   "source": [
    "fi2 = fpgrowth(df, min_support= 0.01, use_colnames= True)"
   ]
  },
  {
   "cell_type": "code",
   "execution_count": 145,
   "metadata": {},
   "outputs": [
    {
     "output_type": "stream",
     "text": [
      "\u001b[1;31mSignature:\u001b[0m\n",
      " \u001b[0massociation_rules\u001b[0m\u001b[1;33m(\u001b[0m\u001b[1;33m\n",
      "\u001b[0m    \u001b[0mdf\u001b[0m\u001b[1;33m,\u001b[0m\u001b[1;33m\n",
      "\u001b[0m    \u001b[0mmetric\u001b[0m\u001b[1;33m=\u001b[0m\u001b[1;34m'confidence'\u001b[0m\u001b[1;33m,\u001b[0m\u001b[1;33m\n",
      "\u001b[0m    \u001b[0mmin_threshold\u001b[0m\u001b[1;33m=\u001b[0m\u001b[1;36m0.8\u001b[0m\u001b[1;33m,\u001b[0m\u001b[1;33m\n",
      "\u001b[0m    \u001b[0msupport_only\u001b[0m\u001b[1;33m=\u001b[0m\u001b[1;32mFalse\u001b[0m\u001b[1;33m,\u001b[0m\u001b[1;33m\n",
      "\u001b[0m\u001b[1;33m)\u001b[0m\u001b[1;33m\u001b[0m\u001b[1;33m\u001b[0m\u001b[0m\n",
      "\u001b[1;31mDocstring:\u001b[0m\n",
      "Generates a DataFrame of association rules including the\n",
      "metrics 'score', 'confidence', and 'lift'\n",
      "\n",
      "Parameters\n",
      "-----------\n",
      "df : pandas DataFrame\n",
      "  pandas DataFrame of frequent itemsets\n",
      "  with columns ['support', 'itemsets']\n",
      "\n",
      "metric : string (default: 'confidence')\n",
      "  Metric to evaluate if a rule is of interest.\n",
      "  **Automatically set to 'support' if `support_only=True`.**\n",
      "  Otherwise, supported metrics are 'support', 'confidence', 'lift',\n",
      "  'leverage', and 'conviction'\n",
      "  These metrics are computed as follows:\n",
      "\n",
      "  - support(A->C) = support(A+C) [aka 'support'], range: [0, 1]\n",
      "\n",
      "  - confidence(A->C) = support(A+C) / support(A), range: [0, 1]\n",
      "\n",
      "  - lift(A->C) = confidence(A->C) / support(C), range: [0, inf]\n",
      "\n",
      "  - leverage(A->C) = support(A->C) - support(A)*support(C),\n",
      "    range: [-1, 1]\n",
      "\n",
      "  - conviction = [1 - support(C)] / [1 - confidence(A->C)],\n",
      "    range: [0, inf]\n",
      "\n",
      "\n",
      "min_threshold : float (default: 0.8)\n",
      "  Minimal threshold for the evaluation metric,\n",
      "  via the `metric` parameter,\n",
      "  to decide whether a candidate rule is of interest.\n",
      "\n",
      "support_only : bool (default: False)\n",
      "  Only computes the rule support and fills the other\n",
      "  metric columns with NaNs. This is useful if:\n",
      "\n",
      "  a) the input DataFrame is incomplete, e.g., does\n",
      "  not contain support values for all rule antecedents\n",
      "  and consequents\n",
      "\n",
      "  b) you simply want to speed up the computation because\n",
      "  you don't need the other metrics.\n",
      "\n",
      "Returns\n",
      "----------\n",
      "pandas DataFrame with columns \"antecedents\" and \"consequents\"\n",
      "  that store itemsets, plus the scoring metric columns:\n",
      "  \"antecedent support\", \"consequent support\",\n",
      "  \"support\", \"confidence\", \"lift\",\n",
      "  \"leverage\", \"conviction\"\n",
      "  of all rules for which\n",
      "  metric(rule) >= min_threshold.\n",
      "  Each entry in the \"antecedents\" and \"consequents\" columns are\n",
      "  of type `frozenset`, which is a Python built-in type that\n",
      "  behaves similarly to sets except that it is immutable\n",
      "  (For more info, see\n",
      "  https://docs.python.org/3.6/library/stdtypes.html#frozenset).\n",
      "\n",
      "Examples\n",
      "-----------\n",
      "For usage examples, please see\n",
      "http://rasbt.github.io/mlxtend/user_guide/frequent_patterns/association_rules/\n",
      "\u001b[1;31mFile:\u001b[0m      c:\\programdata\\anaconda3\\lib\\site-packages\\mlxtend\\frequent_patterns\\association_rules.py\n",
      "\u001b[1;31mType:\u001b[0m      function\n"
     ],
     "name": "stdout"
    }
   ],
   "source": [
    "? association_rules"
   ]
  },
  {
   "cell_type": "code",
   "execution_count": 156,
   "metadata": {},
   "outputs": [
    {
     "output_type": "execute_result",
     "data": {
      "text/plain": [
       "              antecedents consequents  antecedent support  consequent support  \\\n",
       "0          (20723, 22356)     (20724)            0.014749            0.040541   \n",
       "1   (20723, 22355, 20719)     (20724)            0.011737            0.040541   \n",
       "2   (21931, 22386, 22411)    (85099B)            0.011969            0.082432   \n",
       "3          (21086, 21080)     (21094)            0.011429            0.020347   \n",
       "4          (22698, 22423)     (22697)            0.015521            0.040811   \n",
       "5   (22697, 22698, 22423)     (22699)            0.013359            0.043243   \n",
       "6   (22698, 22699, 22423)     (22697)            0.013012            0.040811   \n",
       "7          (22697, 22698)     (22699)            0.024865            0.043243   \n",
       "8          (22698, 22699)     (22697)            0.023707            0.040811   \n",
       "9                 (23172)     (23171)            0.012124            0.014903   \n",
       "10                (23172)     (23170)            0.012124            0.017645   \n",
       "\n",
       "     support  confidence       lift  leverage  conviction  \n",
       "0   0.012664    0.858639  21.179756  0.012066    6.787287  \n",
       "1   0.010077    0.858553  21.177632  0.009601    6.783155  \n",
       "2   0.010386    0.867742  10.526705  0.009399    6.937706  \n",
       "3   0.010232    0.895270  43.999051  0.009999    9.354101  \n",
       "4   0.013359    0.860697  21.089915  0.012726    6.885608  \n",
       "5   0.011699    0.875723  20.251084  0.011121    7.698554  \n",
       "6   0.011699    0.899110  22.031167  0.011168    9.507258  \n",
       "7   0.021197    0.852484  19.713703  0.020122    6.485804  \n",
       "8   0.021197    0.894137  21.909313  0.020229    9.060649  \n",
       "9   0.010888    0.898089  60.260387  0.010707    9.666260  \n",
       "10  0.010502    0.866242  49.093367  0.010288    7.344275  "
      ],
      "text/html": "<div>\n<style scoped>\n    .dataframe tbody tr th:only-of-type {\n        vertical-align: middle;\n    }\n\n    .dataframe tbody tr th {\n        vertical-align: top;\n    }\n\n    .dataframe thead th {\n        text-align: right;\n    }\n</style>\n<table border=\"1\" class=\"dataframe\">\n  <thead>\n    <tr style=\"text-align: right;\">\n      <th></th>\n      <th>antecedents</th>\n      <th>consequents</th>\n      <th>antecedent support</th>\n      <th>consequent support</th>\n      <th>support</th>\n      <th>confidence</th>\n      <th>lift</th>\n      <th>leverage</th>\n      <th>conviction</th>\n    </tr>\n  </thead>\n  <tbody>\n    <tr>\n      <th>0</th>\n      <td>(20723, 22356)</td>\n      <td>(20724)</td>\n      <td>0.014749</td>\n      <td>0.040541</td>\n      <td>0.012664</td>\n      <td>0.858639</td>\n      <td>21.179756</td>\n      <td>0.012066</td>\n      <td>6.787287</td>\n    </tr>\n    <tr>\n      <th>1</th>\n      <td>(20723, 22355, 20719)</td>\n      <td>(20724)</td>\n      <td>0.011737</td>\n      <td>0.040541</td>\n      <td>0.010077</td>\n      <td>0.858553</td>\n      <td>21.177632</td>\n      <td>0.009601</td>\n      <td>6.783155</td>\n    </tr>\n    <tr>\n      <th>2</th>\n      <td>(21931, 22386, 22411)</td>\n      <td>(85099B)</td>\n      <td>0.011969</td>\n      <td>0.082432</td>\n      <td>0.010386</td>\n      <td>0.867742</td>\n      <td>10.526705</td>\n      <td>0.009399</td>\n      <td>6.937706</td>\n    </tr>\n    <tr>\n      <th>3</th>\n      <td>(21086, 21080)</td>\n      <td>(21094)</td>\n      <td>0.011429</td>\n      <td>0.020347</td>\n      <td>0.010232</td>\n      <td>0.895270</td>\n      <td>43.999051</td>\n      <td>0.009999</td>\n      <td>9.354101</td>\n    </tr>\n    <tr>\n      <th>4</th>\n      <td>(22698, 22423)</td>\n      <td>(22697)</td>\n      <td>0.015521</td>\n      <td>0.040811</td>\n      <td>0.013359</td>\n      <td>0.860697</td>\n      <td>21.089915</td>\n      <td>0.012726</td>\n      <td>6.885608</td>\n    </tr>\n    <tr>\n      <th>5</th>\n      <td>(22697, 22698, 22423)</td>\n      <td>(22699)</td>\n      <td>0.013359</td>\n      <td>0.043243</td>\n      <td>0.011699</td>\n      <td>0.875723</td>\n      <td>20.251084</td>\n      <td>0.011121</td>\n      <td>7.698554</td>\n    </tr>\n    <tr>\n      <th>6</th>\n      <td>(22698, 22699, 22423)</td>\n      <td>(22697)</td>\n      <td>0.013012</td>\n      <td>0.040811</td>\n      <td>0.011699</td>\n      <td>0.899110</td>\n      <td>22.031167</td>\n      <td>0.011168</td>\n      <td>9.507258</td>\n    </tr>\n    <tr>\n      <th>7</th>\n      <td>(22697, 22698)</td>\n      <td>(22699)</td>\n      <td>0.024865</td>\n      <td>0.043243</td>\n      <td>0.021197</td>\n      <td>0.852484</td>\n      <td>19.713703</td>\n      <td>0.020122</td>\n      <td>6.485804</td>\n    </tr>\n    <tr>\n      <th>8</th>\n      <td>(22698, 22699)</td>\n      <td>(22697)</td>\n      <td>0.023707</td>\n      <td>0.040811</td>\n      <td>0.021197</td>\n      <td>0.894137</td>\n      <td>21.909313</td>\n      <td>0.020229</td>\n      <td>9.060649</td>\n    </tr>\n    <tr>\n      <th>9</th>\n      <td>(23172)</td>\n      <td>(23171)</td>\n      <td>0.012124</td>\n      <td>0.014903</td>\n      <td>0.010888</td>\n      <td>0.898089</td>\n      <td>60.260387</td>\n      <td>0.010707</td>\n      <td>9.666260</td>\n    </tr>\n    <tr>\n      <th>10</th>\n      <td>(23172)</td>\n      <td>(23170)</td>\n      <td>0.012124</td>\n      <td>0.017645</td>\n      <td>0.010502</td>\n      <td>0.866242</td>\n      <td>49.093367</td>\n      <td>0.010288</td>\n      <td>7.344275</td>\n    </tr>\n  </tbody>\n</table>\n</div>"
     },
     "metadata": {},
     "execution_count": 156
    }
   ],
   "source": [
    "association_rules(fi2, min_threshold=0.85)"
   ]
  },
  {
   "source": [
    "8. (*) Rerun the experiments from point 4 with apriori()\n",
    "Do the results match with the ones found by FP-Growth?  \n",
    "Is Apriori faster or slower than FP-Growth?\n",
    "You can measure how long a function call takes with the following code snippet:\n",
    "```\n",
    "    import timeit\n",
    "    # number=1 means that it executes the function only once\n",
    "    timeit.timeit(lambda: apriori(df, 0.01), number=1)\n"
   ],
   "cell_type": "markdown",
   "metadata": {}
  },
  {
   "cell_type": "code",
   "execution_count": 158,
   "metadata": {},
   "outputs": [
    {
     "output_type": "stream",
     "text": [
      "\u001b[1;31mSignature:\u001b[0m\n",
      " \u001b[0mapriori\u001b[0m\u001b[1;33m(\u001b[0m\u001b[1;33m\n",
      "\u001b[0m    \u001b[0mdf\u001b[0m\u001b[1;33m,\u001b[0m\u001b[1;33m\n",
      "\u001b[0m    \u001b[0mmin_support\u001b[0m\u001b[1;33m=\u001b[0m\u001b[1;36m0.5\u001b[0m\u001b[1;33m,\u001b[0m\u001b[1;33m\n",
      "\u001b[0m    \u001b[0muse_colnames\u001b[0m\u001b[1;33m=\u001b[0m\u001b[1;32mFalse\u001b[0m\u001b[1;33m,\u001b[0m\u001b[1;33m\n",
      "\u001b[0m    \u001b[0mmax_len\u001b[0m\u001b[1;33m=\u001b[0m\u001b[1;32mNone\u001b[0m\u001b[1;33m,\u001b[0m\u001b[1;33m\n",
      "\u001b[0m    \u001b[0mverbose\u001b[0m\u001b[1;33m=\u001b[0m\u001b[1;36m0\u001b[0m\u001b[1;33m,\u001b[0m\u001b[1;33m\n",
      "\u001b[0m    \u001b[0mlow_memory\u001b[0m\u001b[1;33m=\u001b[0m\u001b[1;32mFalse\u001b[0m\u001b[1;33m,\u001b[0m\u001b[1;33m\n",
      "\u001b[0m\u001b[1;33m)\u001b[0m\u001b[1;33m\u001b[0m\u001b[1;33m\u001b[0m\u001b[0m\n",
      "\u001b[1;31mDocstring:\u001b[0m\n",
      "Get frequent itemsets from a one-hot DataFrame\n",
      "\n",
      "Parameters\n",
      "-----------\n",
      "df : pandas DataFrame\n",
      "  pandas DataFrame the encoded format. Also supports\n",
      "  DataFrames with sparse data; for more info, please\n",
      "  see (https://pandas.pydata.org/pandas-docs/stable/\n",
      "       user_guide/sparse.html#sparse-data-structures)\n",
      "\n",
      "  Please note that the old pandas SparseDataFrame format\n",
      "  is no longer supported in mlxtend >= 0.17.2.\n",
      "\n",
      "  The allowed values are either 0/1 or True/False.\n",
      "  For example,\n",
      "\n",
      "```\n",
      "         Apple  Bananas   Beer  Chicken   Milk   Rice\n",
      "    0     True    False   True     True  False   True\n",
      "    1     True    False   True    False  False   True\n",
      "    2     True    False   True    False  False  False\n",
      "    3     True     True  False    False  False  False\n",
      "    4    False    False   True     True   True   True\n",
      "    5    False    False   True    False   True   True\n",
      "    6    False    False   True    False   True  False\n",
      "    7     True     True  False    False  False  False\n",
      "```\n",
      "\n",
      "min_support : float (default: 0.5)\n",
      "  A float between 0 and 1 for minumum support of the itemsets returned.\n",
      "  The support is computed as the fraction\n",
      "  `transactions_where_item(s)_occur / total_transactions`.\n",
      "\n",
      "use_colnames : bool (default: False)\n",
      "  If `True`, uses the DataFrames' column names in the returned DataFrame\n",
      "  instead of column indices.\n",
      "\n",
      "max_len : int (default: None)\n",
      "  Maximum length of the itemsets generated. If `None` (default) all\n",
      "  possible itemsets lengths (under the apriori condition) are evaluated.\n",
      "\n",
      "verbose : int (default: 0)\n",
      "  Shows the number of iterations if >= 1 and `low_memory` is `True`. If\n",
      "  >=1 and `low_memory` is `False`, shows the number of combinations.\n",
      "\n",
      "low_memory : bool (default: False)\n",
      "  If `True`, uses an iterator to search for combinations above\n",
      "  `min_support`.\n",
      "  Note that while `low_memory=True` should only be used for large dataset\n",
      "  if memory resources are limited, because this implementation is approx.\n",
      "  3-6x slower than the default.\n",
      "\n",
      "\n",
      "Returns\n",
      "-----------\n",
      "pandas DataFrame with columns ['support', 'itemsets'] of all itemsets\n",
      "  that are >= `min_support` and < than `max_len`\n",
      "  (if `max_len` is not None).\n",
      "  Each itemset in the 'itemsets' column is of type `frozenset`,\n",
      "  which is a Python built-in type that behaves similarly to\n",
      "  sets except that it is immutable\n",
      "  (For more info, see\n",
      "  https://docs.python.org/3.6/library/stdtypes.html#frozenset).\n",
      "\n",
      "Examples\n",
      "-----------\n",
      "For usage examples, please see\n",
      "http://rasbt.github.io/mlxtend/user_guide/frequent_patterns/apriori/\n",
      "\u001b[1;31mFile:\u001b[0m      c:\\programdata\\anaconda3\\lib\\site-packages\\mlxtend\\frequent_patterns\\apriori.py\n",
      "\u001b[1;31mType:\u001b[0m      function\n"
     ],
     "name": "stdout"
    }
   ],
   "source": [
    "? apriori"
   ]
  },
  {
   "cell_type": "code",
   "execution_count": 161,
   "metadata": {},
   "outputs": [
    {
     "output_type": "execute_result",
     "data": {
      "text/plain": [
       "      support            itemsets\n",
       "0    0.033861                 (0)\n",
       "1    0.020077                 (8)\n",
       "2    0.021158                 (9)\n",
       "3    0.020193                (15)\n",
       "4    0.048880                (23)\n",
       "..        ...                 ...\n",
       "215  0.021081        (2698, 3366)\n",
       "216  0.032162        (2698, 3371)\n",
       "217  0.021429        (3666, 2884)\n",
       "218  0.030270        (4057, 3972)\n",
       "219  0.021197  (4057, 2002, 3972)\n",
       "\n",
       "[220 rows x 2 columns]"
      ],
      "text/html": "<div>\n<style scoped>\n    .dataframe tbody tr th:only-of-type {\n        vertical-align: middle;\n    }\n\n    .dataframe tbody tr th {\n        vertical-align: top;\n    }\n\n    .dataframe thead th {\n        text-align: right;\n    }\n</style>\n<table border=\"1\" class=\"dataframe\">\n  <thead>\n    <tr style=\"text-align: right;\">\n      <th></th>\n      <th>support</th>\n      <th>itemsets</th>\n    </tr>\n  </thead>\n  <tbody>\n    <tr>\n      <th>0</th>\n      <td>0.033861</td>\n      <td>(0)</td>\n    </tr>\n    <tr>\n      <th>1</th>\n      <td>0.020077</td>\n      <td>(8)</td>\n    </tr>\n    <tr>\n      <th>2</th>\n      <td>0.021158</td>\n      <td>(9)</td>\n    </tr>\n    <tr>\n      <th>3</th>\n      <td>0.020193</td>\n      <td>(15)</td>\n    </tr>\n    <tr>\n      <th>4</th>\n      <td>0.048880</td>\n      <td>(23)</td>\n    </tr>\n    <tr>\n      <th>...</th>\n      <td>...</td>\n      <td>...</td>\n    </tr>\n    <tr>\n      <th>215</th>\n      <td>0.021081</td>\n      <td>(2698, 3366)</td>\n    </tr>\n    <tr>\n      <th>216</th>\n      <td>0.032162</td>\n      <td>(2698, 3371)</td>\n    </tr>\n    <tr>\n      <th>217</th>\n      <td>0.021429</td>\n      <td>(3666, 2884)</td>\n    </tr>\n    <tr>\n      <th>218</th>\n      <td>0.030270</td>\n      <td>(4057, 3972)</td>\n    </tr>\n    <tr>\n      <th>219</th>\n      <td>0.021197</td>\n      <td>(4057, 2002, 3972)</td>\n    </tr>\n  </tbody>\n</table>\n<p>220 rows × 2 columns</p>\n</div>"
     },
     "metadata": {},
     "execution_count": 161
    }
   ],
   "source": [
    "ap_fi = apriori(df, min_support= 0.02)\n",
    "ap_fi"
   ]
  },
  {
   "cell_type": "code",
   "execution_count": 162,
   "metadata": {},
   "outputs": [
    {
     "output_type": "stream",
     "text": [
      "\u001b[1;31mSignature:\u001b[0m\n",
      " \u001b[0mtimeit\u001b[0m\u001b[1;33m.\u001b[0m\u001b[0mtimeit\u001b[0m\u001b[1;33m(\u001b[0m\u001b[1;33m\n",
      "\u001b[0m    \u001b[0mstmt\u001b[0m\u001b[1;33m=\u001b[0m\u001b[1;34m'pass'\u001b[0m\u001b[1;33m,\u001b[0m\u001b[1;33m\n",
      "\u001b[0m    \u001b[0msetup\u001b[0m\u001b[1;33m=\u001b[0m\u001b[1;34m'pass'\u001b[0m\u001b[1;33m,\u001b[0m\u001b[1;33m\n",
      "\u001b[0m    \u001b[0mtimer\u001b[0m\u001b[1;33m=\u001b[0m\u001b[1;33m<\u001b[0m\u001b[0mbuilt\u001b[0m\u001b[1;33m-\u001b[0m\u001b[1;32min\u001b[0m \u001b[0mfunction\u001b[0m \u001b[0mperf_counter\u001b[0m\u001b[1;33m>\u001b[0m\u001b[1;33m,\u001b[0m\u001b[1;33m\n",
      "\u001b[0m    \u001b[0mnumber\u001b[0m\u001b[1;33m=\u001b[0m\u001b[1;36m1000000\u001b[0m\u001b[1;33m,\u001b[0m\u001b[1;33m\n",
      "\u001b[0m    \u001b[0mglobals\u001b[0m\u001b[1;33m=\u001b[0m\u001b[1;32mNone\u001b[0m\u001b[1;33m,\u001b[0m\u001b[1;33m\n",
      "\u001b[0m\u001b[1;33m)\u001b[0m\u001b[1;33m\u001b[0m\u001b[1;33m\u001b[0m\u001b[0m\n",
      "\u001b[1;31mDocstring:\u001b[0m Convenience function to create Timer object and call timeit method.\n",
      "\u001b[1;31mFile:\u001b[0m      c:\\programdata\\anaconda3\\lib\\timeit.py\n",
      "\u001b[1;31mType:\u001b[0m      function\n"
     ],
     "name": "stdout"
    }
   ],
   "source": [
    "? timeit.timeit"
   ]
  },
  {
   "cell_type": "code",
   "execution_count": 166,
   "metadata": {},
   "outputs": [
    {
     "output_type": "execute_result",
     "data": {
      "text/plain": [
       "44.723913699999684"
      ]
     },
     "metadata": {},
     "execution_count": 166
    }
   ],
   "source": [
    "timeit.timeit(lambda: apriori(df, 0.02), number=1)\n"
   ]
  },
  {
   "cell_type": "code",
   "execution_count": 167,
   "metadata": {},
   "outputs": [
    {
     "output_type": "execute_result",
     "data": {
      "text/plain": [
       "11.427067700000407"
      ]
     },
     "metadata": {},
     "execution_count": 167
    }
   ],
   "source": [
    "timeit.timeit(lambda: fpgrowth(df, 0.02), number=1)\n"
   ]
  },
  {
   "source": [
    "## 2.2 Apriori implementation"
   ],
   "cell_type": "markdown",
   "metadata": {}
  },
  {
   "cell_type": "code",
   "execution_count": 2,
   "metadata": {},
   "outputs": [],
   "source": [
    " from itertools import combinations, permutations\n",
    " from collections import defaultdict"
   ]
  },
  {
   "cell_type": "code",
   "execution_count": 3,
   "metadata": {},
   "outputs": [],
   "source": [
    "data = [\n",
    "    {'a','b'},\n",
    "    {'b','c','d'},\n",
    "    {'a','c','d','e'},\n",
    "    {'a','d','e'},\n",
    "    {'a','b','c'},\n",
    "    {'a','b','c','d'},\n",
    "    {'b','c'},\n",
    "    {'a','b','c'},\n",
    "    {'a','b','d'},\n",
    "    {'b','c','e'}\n",
    "]"
   ]
  },
  {
   "cell_type": "code",
   "execution_count": 229,
   "metadata": {},
   "outputs": [],
   "source": [
    "def scan(data, itemset, limit):\n",
    "    \"\"\"Scans dataset and computes support for given itemsets\n",
    "    Parameters:\n",
    "    data: list of all transactions\n",
    "    itemset: list of transactions to be evaluated\n",
    "    limit: float; minsup threshold\n",
    "\n",
    "    Returns:\n",
    "    a list of dictionaries, where each row is a frequent item with values as support \n",
    "    \"\"\"\n",
    "    N = len(data)\n",
    "    C = defaultdict(lambda: 0)\n",
    "    for items in itemset:\n",
    "        #items = line.split(\"_\")\n",
    "        support_count = 0\n",
    "        for t in data:\n",
    "            if len(t) >= len(items):\n",
    "                # only the transactions with same or larger N. of items\n",
    "                support_count += all([x in t for x in items])\n",
    "        if support_count/N >= limit:\n",
    "            C[tuple(items)] = support_count/N\n",
    "    return dict(C)\n"
   ]
  },
  {
   "cell_type": "code",
   "execution_count": 220,
   "metadata": {},
   "outputs": [],
   "source": [
    "def prune_by_subset(f_subsets, new_cands):\n",
    "    for items in new_cands:\n",
    "        combs = combinations(items, len(items) - 1)\n",
    "        all_combs = [tuple(i) for i in combs]\n",
    "        for c in all_combs:\n",
    "            if c not in f_subsets:\n",
    "                if items in new_cands:\n",
    "                    new_cands.remove(items)\n",
    "                continue\n",
    "    return new_cands\n"
   ]
  },
  {
   "cell_type": "code",
   "execution_count": 187,
   "metadata": {},
   "outputs": [],
   "source": [
    "def pref_matching(itemset):\n",
    "    new_cands = []\n",
    "    pref_main = \"\"\n",
    "\n",
    "    # Edge case, when creating candidates for level 2\n",
    "    if len(itemset[0]) == 1:\n",
    "        combs = combinations([t for l in itemset for t in l], 2)\n",
    "        return list(combs)\n",
    "\n",
    "    for i in range(len(itemset)):\n",
    "        main_pref = itemset[i][:-1]\n",
    "        for j in range(i+1, len(itemset)):\n",
    "            pref = itemset[j][:-1]\n",
    "            if set(pref) == set(main_pref):\n",
    "                new_cand = itemset[i] + (itemset[j][-1],)\n",
    "                new_cands.append(new_cand)\n",
    "    return new_cands\n",
    "\n",
    "#pref_matching([('a', 'b'), ('a', 'c'), ('a', 'd'), ('a', 'e'), ('b', 'c'), ('b', 'd'), ('c', 'd'), ('c', 'e'), ('d', 'e')])\n",
    "\n"
   ]
  },
  {
   "cell_type": "code",
   "execution_count": 210,
   "metadata": {},
   "outputs": [],
   "source": [
    "def main_apriori(data,minsup = 0.1):\n",
    "    \"\"\" Apriori algorithm to find frequent transactions\n",
    "    __parameters:__  \n",
    "         data: unorderd list of transactions with unique, unordered items  \n",
    "         minsup: minimum support level for a transaction to be frequent  \n",
    "         where support(t) = freq(t) / |data|\n",
    "\n",
    "     __returns:__\n",
    "         A list of dictionaries,  \n",
    "         where keys are the tuples representing frequent transactions and values as their Support.\n",
    "    \"\"\"\n",
    "\n",
    "    from itertools import combinations\n",
    "    from collections import defaultdict\n",
    "\n",
    "    # level: 1\n",
    "    candidates = []\n",
    "    fr_items = []\n",
    "    new_cands = [tuple([w], ) for w in sorted(set([x for subset in data for x in subset ]))]\n",
    "    fr_items.append(scan(data, new_cands, minsup))\n",
    "    if fr_items[0] == {}:\n",
    "        return fr_items\n",
    "\n",
    "    # levels > 1\n",
    "    i = 0\n",
    "    while(fr_items[i] != {}):\n",
    "        i += 1\n",
    "        prev_fr_items = list(fr_items[i-1].keys())\n",
    "        new_cands = pref_matching(prev_fr_items)\n",
    "        new_cands = prune_by_subset(prev_fr_items, new_cands)\n",
    "        fr_items.append(scan(data, new_cands, minsup))\n",
    "\n",
    "    return fr_items[:-1]\n",
    "\n"
   ]
  },
  {
   "cell_type": "code",
   "execution_count": 8,
   "metadata": {},
   "outputs": [],
   "source": [
    "from pprint import PrettyPrinter\n",
    "pp = PrettyPrinter(width=20, compact=True, indent = 4)"
   ]
  },
  {
   "cell_type": "code",
   "execution_count": 230,
   "metadata": {},
   "outputs": [
    {
     "output_type": "stream",
     "name": "stdout",
     "text": [
      "[   {   ('a',): 0.7,\n        ('b',): 0.8,\n        ('c',): 0.7,\n        ('d',): 0.5,\n        ('e',): 0.3},\n    {   ('a', 'b'): 0.5,\n        ('a', 'c'): 0.4,\n        ('a', 'd'): 0.4,\n        ('a', 'e'): 0.2,\n        ('b', 'c'): 0.6,\n        ('b', 'd'): 0.3,\n        ('c', 'd'): 0.3,\n        ('c', 'e'): 0.2,\n        ('d', 'e'): 0.2},\n    {   ('a', 'b', 'c'): 0.3,\n        ('a', 'b', 'd'): 0.2,\n        ('a', 'c', 'd'): 0.2,\n        ('a', 'd', 'e'): 0.2,\n        ('b', 'c', 'd'): 0.2}]\n"
     ]
    }
   ],
   "source": [
    "fi = main_apriori(data, 0.2)\n",
    "pp.pprint(fi)"
   ]
  },
  {
   "cell_type": "code",
   "execution_count": 66,
   "metadata": {},
   "outputs": [],
   "source": [
    "file = \"coco.json\"\n",
    "with open(file) as f:\n",
    "    coco_data = json.load(f)"
   ]
  },
  {
   "cell_type": "code",
   "execution_count": 67,
   "metadata": {},
   "outputs": [],
   "source": [
    "coco_data_items = [set(image['annotations']) for image in coco_data]"
   ]
  },
  {
   "cell_type": "code",
   "execution_count": 68,
   "metadata": {},
   "outputs": [
    {
     "output_type": "execute_result",
     "data": {
      "text/plain": [
       "[{'car', 'stop sign', 'train'},\n",
       " {'bench', 'chair', 'dining table', 'person', 'potted plant'}]"
      ]
     },
     "metadata": {},
     "execution_count": 68
    }
   ],
   "source": [
    "coco_data_items[:2]"
   ]
  },
  {
   "cell_type": "code",
   "execution_count": 222,
   "metadata": {},
   "outputs": [
    {
     "output_type": "execute_result",
     "data": {
      "text/plain": [
       "144"
      ]
     },
     "metadata": {},
     "execution_count": 222
    }
   ],
   "source": [
    "coco_fi = main_apriori(coco_data_items, 0.02)\n",
    "#pp.pprint(coco_fi)\n",
    "sum([len(x) for x in coco_fi])"
   ]
  },
  {
   "cell_type": "code",
   "execution_count": 75,
   "metadata": {},
   "outputs": [],
   "source": [
    "global_itemset = set([x for t in coco_data_items for x in t ])"
   ]
  },
  {
   "cell_type": "code",
   "execution_count": 76,
   "metadata": {},
   "outputs": [
    {
     "output_type": "execute_result",
     "data": {
      "text/plain": [
       "78"
      ]
     },
     "metadata": {},
     "execution_count": 76
    }
   ],
   "source": [
    "global_itemset.__len__()"
   ]
  },
  {
   "cell_type": "code",
   "execution_count": 77,
   "metadata": {},
   "outputs": [],
   "source": [
    "\n",
    "mat = []\n",
    "for inv in coco_data_items:\n",
    "    row = []\n",
    "    for gx in global_itemset:\n",
    "        if gx in inv:\n",
    "            row.append(1)\n",
    "        else:\n",
    "            row.append(0)\n",
    "    mat.append(row)   "
   ]
  },
  {
   "cell_type": "code",
   "execution_count": 78,
   "metadata": {},
   "outputs": [
    {
     "output_type": "execute_result",
     "data": {
      "text/plain": [
       "   person  scissors  mouse  tennis racket  banana  car  vase  skateboard  \\\n",
       "0       0         0      0              0       0    1     0           0   \n",
       "1       1         0      0              0       0    0     0           0   \n",
       "2       0         0      0              0       0    0     0           0   \n",
       "3       1         0      0              0       0    0     0           0   \n",
       "4       0         0      0              0       0    0     0           0   \n",
       "\n",
       "   fire hydrant  oven  ...  umbrella  bird  fork  couch  handbag  toothbrush  \\\n",
       "0             0     0  ...         0     0     0      0        0           0   \n",
       "1             0     0  ...         0     0     0      0        0           0   \n",
       "2             0     0  ...         0     0     0      0        0           0   \n",
       "3             1     0  ...         0     0     0      0        0           0   \n",
       "4             1     0  ...         0     0     0      0        0           0   \n",
       "\n",
       "   airplane  bear  clock  horse  \n",
       "0         0     0      0      0  \n",
       "1         0     0      0      0  \n",
       "2         0     0      0      0  \n",
       "3         0     0      0      0  \n",
       "4         0     0      0      0  \n",
       "\n",
       "[5 rows x 78 columns]"
      ],
      "text/html": "<div>\n<style scoped>\n    .dataframe tbody tr th:only-of-type {\n        vertical-align: middle;\n    }\n\n    .dataframe tbody tr th {\n        vertical-align: top;\n    }\n\n    .dataframe thead th {\n        text-align: right;\n    }\n</style>\n<table border=\"1\" class=\"dataframe\">\n  <thead>\n    <tr style=\"text-align: right;\">\n      <th></th>\n      <th>person</th>\n      <th>scissors</th>\n      <th>mouse</th>\n      <th>tennis racket</th>\n      <th>banana</th>\n      <th>car</th>\n      <th>vase</th>\n      <th>skateboard</th>\n      <th>fire hydrant</th>\n      <th>oven</th>\n      <th>...</th>\n      <th>umbrella</th>\n      <th>bird</th>\n      <th>fork</th>\n      <th>couch</th>\n      <th>handbag</th>\n      <th>toothbrush</th>\n      <th>airplane</th>\n      <th>bear</th>\n      <th>clock</th>\n      <th>horse</th>\n    </tr>\n  </thead>\n  <tbody>\n    <tr>\n      <th>0</th>\n      <td>0</td>\n      <td>0</td>\n      <td>0</td>\n      <td>0</td>\n      <td>0</td>\n      <td>1</td>\n      <td>0</td>\n      <td>0</td>\n      <td>0</td>\n      <td>0</td>\n      <td>...</td>\n      <td>0</td>\n      <td>0</td>\n      <td>0</td>\n      <td>0</td>\n      <td>0</td>\n      <td>0</td>\n      <td>0</td>\n      <td>0</td>\n      <td>0</td>\n      <td>0</td>\n    </tr>\n    <tr>\n      <th>1</th>\n      <td>1</td>\n      <td>0</td>\n      <td>0</td>\n      <td>0</td>\n      <td>0</td>\n      <td>0</td>\n      <td>0</td>\n      <td>0</td>\n      <td>0</td>\n      <td>0</td>\n      <td>...</td>\n      <td>0</td>\n      <td>0</td>\n      <td>0</td>\n      <td>0</td>\n      <td>0</td>\n      <td>0</td>\n      <td>0</td>\n      <td>0</td>\n      <td>0</td>\n      <td>0</td>\n    </tr>\n    <tr>\n      <th>2</th>\n      <td>0</td>\n      <td>0</td>\n      <td>0</td>\n      <td>0</td>\n      <td>0</td>\n      <td>0</td>\n      <td>0</td>\n      <td>0</td>\n      <td>0</td>\n      <td>0</td>\n      <td>...</td>\n      <td>0</td>\n      <td>0</td>\n      <td>0</td>\n      <td>0</td>\n      <td>0</td>\n      <td>0</td>\n      <td>0</td>\n      <td>0</td>\n      <td>0</td>\n      <td>0</td>\n    </tr>\n    <tr>\n      <th>3</th>\n      <td>1</td>\n      <td>0</td>\n      <td>0</td>\n      <td>0</td>\n      <td>0</td>\n      <td>0</td>\n      <td>0</td>\n      <td>0</td>\n      <td>1</td>\n      <td>0</td>\n      <td>...</td>\n      <td>0</td>\n      <td>0</td>\n      <td>0</td>\n      <td>0</td>\n      <td>0</td>\n      <td>0</td>\n      <td>0</td>\n      <td>0</td>\n      <td>0</td>\n      <td>0</td>\n    </tr>\n    <tr>\n      <th>4</th>\n      <td>0</td>\n      <td>0</td>\n      <td>0</td>\n      <td>0</td>\n      <td>0</td>\n      <td>0</td>\n      <td>0</td>\n      <td>0</td>\n      <td>1</td>\n      <td>0</td>\n      <td>...</td>\n      <td>0</td>\n      <td>0</td>\n      <td>0</td>\n      <td>0</td>\n      <td>0</td>\n      <td>0</td>\n      <td>0</td>\n      <td>0</td>\n      <td>0</td>\n      <td>0</td>\n    </tr>\n  </tbody>\n</table>\n<p>5 rows × 78 columns</p>\n</div>"
     },
     "metadata": {},
     "execution_count": 78
    }
   ],
   "source": [
    "df = pd.DataFrame(data = mat, columns= global_itemset)\n",
    "df.head()"
   ]
  },
  {
   "cell_type": "code",
   "execution_count": 88,
   "metadata": {},
   "outputs": [
    {
     "output_type": "stream",
     "name": "stdout",
     "text": [
      "    support                      itemsets\n0    0.3704                         (car)\n1    0.1332                   (stop sign)\n2    0.5886                      (person)\n3    0.4338                       (bench)\n4    0.1346                (fire hydrant)\n5    0.1286                       (truck)\n6    0.3230               (traffic light)\n7    0.1230                     (handbag)\n8    0.2386                 (car, person)\n9    0.3208               (person, bench)\n10   0.1032                  (car, truck)\n11   0.1978          (traffic light, car)\n12   0.1902       (traffic light, person)\n13   0.1362  (traffic light, car, person)\n14   0.1224             (person, handbag)\n"
     ]
    }
   ],
   "source": [
    "print(fpgrowth(df, 0.1, use_colnames= True).to_string())"
   ]
  },
  {
   "cell_type": "code",
   "execution_count": 83,
   "metadata": {},
   "outputs": [
    {
     "output_type": "stream",
     "name": "stdout",
     "text": [
      "     support                                       itemsets\n0     0.5886                                       (person)\n1     0.0214                                (tennis racket)\n2     0.3704                                          (car)\n3     0.0344                                   (skateboard)\n4     0.1346                                 (fire hydrant)\n5     0.3230                                (traffic light)\n6     0.0354                                   (cell phone)\n7     0.4338                                        (bench)\n8     0.0602                                        (chair)\n9     0.0852                                     (backpack)\n10    0.0300                               (baseball glove)\n11    0.1286                                        (truck)\n12    0.0368                                  (sports ball)\n13    0.0762                                      (bicycle)\n14    0.0276                                          (dog)\n15    0.0410                                   (motorcycle)\n16    0.0492                                        (train)\n17    0.0202                                     (suitcase)\n18    0.1332                                    (stop sign)\n19    0.0386                                 (dining table)\n20    0.0554                                (parking meter)\n21    0.0912                                          (bus)\n22    0.0280                                       (bottle)\n23    0.0334                                 (baseball bat)\n24    0.0418                                 (potted plant)\n25    0.0222                                          (cup)\n26    0.0474                                     (umbrella)\n27    0.0200                                         (bird)\n28    0.1230                                      (handbag)\n29    0.0332                                        (clock)\n30    0.0212                        (tennis racket, person)\n31    0.2386                                  (car, person)\n32    0.0342                           (person, skateboard)\n33    0.0538                         (person, fire hydrant)\n34    0.1902                        (traffic light, person)\n35    0.0350                           (person, cell phone)\n36    0.3208                                (person, bench)\n37    0.0474                                (person, chair)\n38    0.0826                             (person, backpack)\n39    0.0298                       (person, baseball glove)\n40    0.0828                                (truck, person)\n41    0.0360                          (sports ball, person)\n42    0.0666                              (person, bicycle)\n43    0.0202                                  (person, dog)\n44    0.0342                           (person, motorcycle)\n45    0.0268                                (person, train)\n46    0.0470                            (stop sign, person)\n47    0.0292                         (person, dining table)\n48    0.0274                        (person, parking meter)\n49    0.0762                                  (person, bus)\n50    0.0226                               (person, bottle)\n51    0.0332                         (person, baseball bat)\n52    0.0228                         (potted plant, person)\n53    0.0430                             (person, umbrella)\n54    0.1224                              (person, handbag)\n55    0.0224                                (clock, person)\n56    0.0210                         (tennis racket, bench)\n57    0.0622                            (car, fire hydrant)\n58    0.1978                           (traffic light, car)\n59    0.0712                                   (car, bench)\n60    0.0356                                (car, backpack)\n61    0.1032                                   (car, truck)\n62    0.0420                                 (car, bicycle)\n63    0.0302                              (car, motorcycle)\n64    0.0576                               (stop sign, car)\n65    0.0390                           (car, parking meter)\n66    0.0656                                     (car, bus)\n67    0.0204                                (car, umbrella)\n68    0.0574                                 (car, handbag)\n69    0.0254                            (skateboard, bench)\n70    0.0204                  (traffic light, fire hydrant)\n71    0.0210                          (truck, fire hydrant)\n72    0.0352                      (traffic light, backpack)\n73    0.0778                         (traffic light, truck)\n74    0.0348                       (traffic light, bicycle)\n75    0.0244                    (traffic light, motorcycle)\n76    0.0276                         (traffic light, train)\n77    0.0668                           (traffic light, bus)\n78    0.0518                       (traffic light, handbag)\n79    0.0240                            (cell phone, bench)\n80    0.0506                                 (bench, chair)\n81    0.0400                              (backpack, bench)\n82    0.0292                        (baseball glove, bench)\n83    0.0350                           (sports ball, bench)\n84    0.0252                               (bench, bicycle)\n85    0.0206                                   (dog, bench)\n86    0.0206                                 (train, bench)\n87    0.0340                          (dining table, bench)\n88    0.0244                                (bottle, bench)\n89    0.0324                          (bench, baseball bat)\n90    0.0286                          (potted plant, bench)\n91    0.0272                              (umbrella, bench)\n92    0.0584                               (handbag, bench)\n93    0.0316                            (backpack, handbag)\n94    0.0242                 (baseball glove, baseball bat)\n95    0.0230                                   (truck, bus)\n96    0.0208                                 (bus, handbag)\n97    0.0208                 (tennis racket, person, bench)\n98    0.0318                    (car, person, fire hydrant)\n99    0.1362                   (traffic light, car, person)\n100   0.0604                           (car, person, bench)\n101   0.0350                        (car, person, backpack)\n102   0.0656                           (truck, car, person)\n103   0.0388                         (car, person, bicycle)\n104   0.0252                      (car, person, motorcycle)\n105   0.0278                       (stop sign, car, person)\n106   0.0212                   (car, person, parking meter)\n107   0.0544                             (car, person, bus)\n108   0.0572                         (car, person, handbag)\n109   0.0254                    (person, skateboard, bench)\n110   0.0348              (traffic light, person, backpack)\n111   0.0520                 (traffic light, truck, person)\n112   0.0328               (traffic light, person, bicycle)\n113   0.0220            (traffic light, person, motorcycle)\n114   0.0558                   (traffic light, person, bus)\n115   0.0518               (traffic light, person, handbag)\n116   0.0238                    (person, cell phone, bench)\n117   0.0394                         (person, bench, chair)\n118   0.0380                      (person, backpack, bench)\n119   0.0290                (person, baseball glove, bench)\n120   0.0342                   (sports ball, person, bench)\n121   0.0220                       (person, bench, bicycle)\n122   0.0254                  (person, dining table, bench)\n123   0.0202                        (person, bottle, bench)\n124   0.0322                  (person, bench, baseball bat)\n125   0.0238                      (person, umbrella, bench)\n126   0.0580                       (person, handbag, bench)\n127   0.0314                    (backpack, person, handbag)\n128   0.0242         (person, baseball glove, baseball bat)\n129   0.0208                         (person, bus, handbag)\n130   0.0226                 (traffic light, car, backpack)\n131   0.0660                    (traffic light, car, truck)\n132   0.0260                  (traffic light, car, bicycle)\n133   0.0200               (traffic light, car, motorcycle)\n134   0.0526                      (traffic light, car, bus)\n135   0.0366                  (traffic light, car, handbag)\n136   0.0202                              (car, truck, bus)\n137   0.0238          (baseball glove, bench, baseball bat)\n138   0.0224         (traffic light, car, person, backpack)\n139   0.0436            (traffic light, car, person, truck)\n140   0.0246          (traffic light, car, person, bicycle)\n141   0.0438              (traffic light, car, person, bus)\n142   0.0366          (traffic light, car, person, handbag)\n143   0.0238  (person, baseball glove, bench, baseball bat)\n"
     ]
    }
   ],
   "source": [
    "print(apriori(df, 0.02, use_colnames= True).to_string())"
   ]
  },
  {
   "cell_type": "code",
   "execution_count": 233,
   "metadata": {},
   "outputs": [
    {
     "output_type": "execute_result",
     "data": {
      "text/plain": [
       "3.0361205699999116"
      ]
     },
     "metadata": {},
     "execution_count": 233
    }
   ],
   "source": [
    "timeit.timeit(lambda: main_apriori(coco_data_items, 0.02), number= 10)/10"
   ]
  },
  {
   "cell_type": "code",
   "execution_count": 224,
   "metadata": {},
   "outputs": [
    {
     "output_type": "execute_result",
     "data": {
      "text/plain": [
       "0.38145710000026156"
      ]
     },
     "metadata": {},
     "execution_count": 224
    }
   ],
   "source": [
    "timeit.timeit(lambda: apriori(df, 0.02, use_colnames= True), number= 1)"
   ]
  },
  {
   "cell_type": "code",
   "execution_count": 225,
   "metadata": {},
   "outputs": [
    {
     "output_type": "execute_result",
     "data": {
      "text/plain": [
       "0.22929500000100234"
      ]
     },
     "metadata": {},
     "execution_count": 225
    }
   ],
   "source": [
    "timeit.timeit(lambda: fpgrowth(df, 0.02, use_colnames= True), number= 1)"
   ]
  },
  {
   "cell_type": "code",
   "execution_count": 1,
   "metadata": {},
   "outputs": [
    {
     "output_type": "execute_result",
     "data": {
      "text/plain": [
       "4"
      ]
     },
     "metadata": {},
     "execution_count": 1
    }
   ],
   "source": [
    "2 + 2 "
   ]
  }
 ]
}