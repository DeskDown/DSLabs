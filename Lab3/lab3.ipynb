{
 "metadata": {
  "language_info": {
   "codemirror_mode": {
    "name": "ipython",
    "version": 3
   },
   "file_extension": ".py",
   "mimetype": "text/x-python",
   "name": "python",
   "nbconvert_exporter": "python",
   "pygments_lexer": "ipython3",
   "version": "3.8.3-final"
  },
  "orig_nbformat": 2,
  "kernelspec": {
   "name": "Python 3.8.3 64-bit ('base': conda)",
   "display_name": "Python 3.8.3 64-bit ('base': conda)",
   "metadata": {
    "interpreter": {
     "hash": "b3ba2566441a7c06988d0923437866b63cedc61552a5af99d1f4fb67d367b25f"
    }
   }
  }
 },
 "nbformat": 4,
 "nbformat_minor": 2,
 "cells": [
  {
   "cell_type": "code",
   "execution_count": 1,
   "metadata": {},
   "outputs": [],
   "source": [
    "from mlxtend.frequent_patterns import fpgrowth, association_rules, apriori\n",
    "import timeit\n",
    "import pandas as pd\n",
    "import json\n",
    "import csv"
   ]
  },
  {
   "cell_type": "code",
   "execution_count": 6,
   "metadata": {},
   "outputs": [
    {
     "output_type": "execute_result",
     "data": {
      "text/plain": [
       "0"
      ]
     },
     "metadata": {},
     "execution_count": 6
    }
   ],
   "source": [
    "#! pip install mlxtend\n"
   ]
  },
  {
   "cell_type": "code",
   "execution_count": 29,
   "metadata": {},
   "outputs": [
    {
     "output_type": "execute_result",
     "data": {
      "text/plain": [
       "0"
      ]
     },
     "metadata": {},
     "execution_count": 29
    }
   ],
   "source": [
    "#! python -m wget 'https://github.com/dbdmg/data-science-lab/raw/master/datasets/online_retail.csv' -o online_retail.csv\n",
    "0"
   ]
  },
  {
   "cell_type": "code",
   "execution_count": 16,
   "metadata": {},
   "outputs": [
    {
     "output_type": "stream",
     "name": "stdout",
     "text": [
      "\nSaved under coco.json\n"
     ]
    }
   ],
   "source": [
    "! python -m wget \"https://raw.githubusercontent.com/dbdmg/data-science-lab/master/datasets/modified_coco.json\" -o coco.json"
   ]
  },
  {
   "cell_type": "code",
   "execution_count": 19,
   "metadata": {},
   "outputs": [],
   "source": [
    "file = \"coco.json\"\n",
    "with open(file) as f:\n",
    "    coco_data = json.load(f)\n"
   ]
  },
  {
   "cell_type": "code",
   "execution_count": 22,
   "metadata": {},
   "outputs": [
    {
     "output_type": "execute_result",
     "data": {
      "text/plain": [
       "{'file_name': '000000095096.png',\n",
       " 'image_id': 95096,\n",
       " 'annotations': ['car', 'car', 'train', 'stop sign']}"
      ]
     },
     "metadata": {},
     "execution_count": 22
    }
   ],
   "source": [
    "coco_data[0]"
   ]
  },
  {
   "source": [
    "{  \n",
    "\"file_name\": \"000000465265.png\",  \n",
    "\"image_id\": 465265,  \n",
    "\"annotations\": \\[  \n",
    "    \"person\",  \n",
    "    \"person\",  \n",
    "    \"person\",  \n",
    "    \"fire hydrant\",  \n",
    "    \"handbag\",  \n",
    "    \"chair\",  \n",
    "    \"cell phone\"  \n",
    "]  \n",
    "}  \n",
    "This means that the image contains 3 people, a fire hydrant, a handbag, a chair and a cell phone. "
   ],
   "cell_type": "markdown",
   "metadata": {}
  },
  {
   "cell_type": "code",
   "execution_count": 23,
   "metadata": {},
   "outputs": [
    {
     "output_type": "execute_result",
     "data": {
      "text/plain": [
       "5000"
      ]
     },
     "metadata": {},
     "execution_count": 23
    }
   ],
   "source": [
    "len(coco_data)"
   ]
  },
  {
   "source": [
    "## 2.1 Association rules from frequent itemsets"
   ],
   "cell_type": "markdown",
   "metadata": {}
  },
  {
   "source": [
    "This exercise will work on the Online Retail Data Set.  \n",
    "In particular, you will do some data preprocessing on the dataset to extract all itemsets available (where each itemset is the collection of items contained in a single invoice).  \n",
    "Then, using FP-Growth and Apriori implementations, you will extract a list of frequent itemsets.  \n",
    "From those, you will finally extract several different association rules."
   ],
   "cell_type": "markdown",
   "metadata": {}
  },
  {
   "source": [
    "1. First, you need to load the dataset into memory, using the csv module.  \n",
    "Make sure you identify all valid rows.  \n",
    "Also consider that rows having an InvoiceNo that starts with C should be discarded, as they indicate that the invoice is about a cancelled purchase."
   ],
   "cell_type": "markdown",
   "metadata": {}
  },
  {
   "source": [
    "• InvoiceNo: Invoice number. Nominal, a 6-digit integral number uniquely assigned to each transaction. If this code starts with letter §c’, it indicates a cancellation.  \n",
    "• StockCode: Product (item) code. Nominal, a 5-digit integral number uniquely assigned to each\n",
    "distinct product.  \n",
    "• Description: Product (item) name. Nominal.  \n",
    "• Quantity: The quantities of each product (item) per transaction. Numeric.  \n",
    "• InvoiceDate: Invice Date and time. Numeric, the day and time when each transaction was generated.  \n",
    "• UnitPrice: Unit price. Numeric, Product price per unit in sterling.  \n",
    "• CustomerID: Customer number. Nominal, a 5-digit integral number uniquely assigned to each customer.  \n",
    "• Country: Country name. Nominal, the name of the country where each customer resides.  "
   ],
   "cell_type": "markdown",
   "metadata": {}
  },
  {
   "cell_type": "code",
   "execution_count": 2,
   "metadata": {},
   "outputs": [
    {
     "output_type": "execute_result",
     "data": {
      "text/plain": [
       "{0: 'InvoiceNo',\n",
       " 1: 'StockCode',\n",
       " 2: 'Description',\n",
       " 3: 'Quantity',\n",
       " 4: 'InvoiceDate',\n",
       " 5: 'UnitPrice',\n",
       " 6: 'CustomerID',\n",
       " 7: 'Country'}"
      ]
     },
     "metadata": {},
     "execution_count": 2
    }
   ],
   "source": [
    "file = \"online_retail.csv\"\n",
    "retail_data = []\n",
    "with open(file) as f:\n",
    "    label = next(f)\n",
    "    labels_index = {i: k for i, k in enumerate(label.strip().split(\",\"))}\n",
    "    for row in csv.reader(f):\n",
    "        if len(row) == 8 and row[0][0] not in (\"c\", \"C\"):\n",
    "            retail_data.append(list([\n",
    "                row[0],\n",
    "                row[1],\n",
    "                row[2].lower().strip(),\n",
    "                float(row[3]),\n",
    "                row[4],\n",
    "                float(row[5]),\n",
    "                row[6],\n",
    "                row[7],]\n",
    "            ))\n",
    "\n",
    "labels_index"
   ]
  },
  {
   "cell_type": "code",
   "execution_count": 3,
   "metadata": {},
   "outputs": [
    {
     "output_type": "execute_result",
     "data": {
      "text/plain": [
       "532621"
      ]
     },
     "metadata": {},
     "execution_count": 3
    }
   ],
   "source": [
    "len(retail_data)"
   ]
  },
  {
   "source": [
    "2. Now that you have a dataset of items, you should aggregate it at an “invoice” level.  \n",
    "For each invoice (identified by InvoiceNo) there can be multiple items (from multiple rows) in the dataset.  \n",
    "For each invoice, you should build a list of all items belonging to it."
   ],
   "cell_type": "markdown",
   "metadata": {}
  },
  {
   "cell_type": "code",
   "execution_count": 25,
   "metadata": {},
   "outputs": [
    {
     "output_type": "execute_result",
     "data": {
      "text/plain": [
       "{'0', '1', '2', '3', '4', '5', '6', '7', '8', '9', 'A'}"
      ]
     },
     "metadata": {},
     "execution_count": 25
    }
   ],
   "source": [
    "# chars of invoice\n",
    "set([y for x in retail_data for y in x[0]])"
   ]
  },
  {
   "cell_type": "code",
   "execution_count": 9,
   "metadata": {},
   "outputs": [],
   "source": [
    "invoice_itemset = {}\n",
    "global_itemset = set()\n",
    "for row in retail_data:\n",
    "    invoice = row[0]\n",
    "    stock_desc = row[2]\n",
    "    if row[0] in invoice_itemset:\n",
    "        invoice_itemset[invoice].append(stock_desc)\n",
    "    else:\n",
    "        invoice_itemset[invoice] = [stock_desc]\n",
    "    global_itemset.add(stock_desc)"
   ]
  },
  {
   "cell_type": "code",
   "execution_count": 12,
   "metadata": {},
   "outputs": [
    {
     "output_type": "execute_result",
     "data": {
      "text/plain": [
       "['gardeners kneeling pad keep calm',\n",
       " 'hot water bottle keep calm',\n",
       " 'doormat keep calm and come in']"
      ]
     },
     "metadata": {},
     "execution_count": 12
    }
   ],
   "source": [
    "invoice_itemset[\"574021\"]"
   ]
  },
  {
   "cell_type": "code",
   "execution_count": 8,
   "metadata": {},
   "outputs": [
    {
     "output_type": "execute_result",
     "data": {
      "text/plain": [
       "(22064, 22064)"
      ]
     },
     "metadata": {},
     "execution_count": 8
    }
   ],
   "source": [
    "len(global_itemset), len(invoice_itemset)"
   ]
  },
  {
   "source": [
    "3. You should now have a list (one for each invoice) of lists (each list containing the items bought for\n",
    "that invoice).  \n",
    "Now, we need to convert this into a matrix form.  \n",
    "Of the many possible formats, we will use the one expected by the Mlxtend library, which is as follows.  \n",
    "Given an ordered list of M\n",
    "possible items (in this case, all possible products that can be bought), and given N itemsets (in this\n",
    "case, invoices), we should build a matrix of N rows and M columns.  \n",
    "The element at the ith row and jth column should be 1 if the ith itemset (invoice) contains the jth item (product), 0 otherwise."
   ],
   "cell_type": "markdown",
   "metadata": {}
  },
  {
   "cell_type": "code",
   "execution_count": 10,
   "metadata": {},
   "outputs": [],
   "source": [
    "mat = []\n",
    "for inv in invoice_itemset.values():\n",
    "    row = []\n",
    "    for gx in global_itemset:\n",
    "        if gx in inv:\n",
    "            row.append(1)\n",
    "        else:\n",
    "            row.append(0)\n",
    "    mat.append(row)        "
   ]
  },
  {
   "cell_type": "code",
   "execution_count": 11,
   "metadata": {},
   "outputs": [
    {
     "output_type": "execute_result",
     "data": {
      "text/plain": [
       "(4179, 22064)"
      ]
     },
     "metadata": {},
     "execution_count": 11
    }
   ],
   "source": [
    "len(mat[0]), len(mat)"
   ]
  },
  {
   "cell_type": "code",
   "execution_count": 13,
   "metadata": {},
   "outputs": [],
   "source": [
    "df = pd.DataFrame(data= mat, columns= global_itemset)"
   ]
  },
  {
   "cell_type": "code",
   "execution_count": 14,
   "metadata": {},
   "outputs": [
    {
     "output_type": "execute_result",
     "data": {
      "text/plain": [
       "      blue leaves and beads phone charm  pink flock suede cushion cover  \\\n",
       "0  0                                  0                               0   \n",
       "1  0                                  0                               0   \n",
       "2  0                                  0                               0   \n",
       "3  0                                  0                               0   \n",
       "4  0                                  0                               0   \n",
       "\n",
       "   60 teatime fairy cake cases  red polkadot beaker  wrap alphabet poster  \\\n",
       "0                            0                    0                     0   \n",
       "1                            0                    0                     0   \n",
       "2                            0                    0                     0   \n",
       "3                            0                    0                     0   \n",
       "4                            0                    0                     0   \n",
       "\n",
       "   metal herb gerden container  paper bunting retrospot  wrongly coded-23343  \\\n",
       "0                            0                        0                    0   \n",
       "1                            0                        0                    0   \n",
       "2                            0                        0                    0   \n",
       "3                            0                        0                    0   \n",
       "4                            0                        0                    0   \n",
       "\n",
       "   parisienne jewellery drawer  ...  natural slate rectangle chalkboard  \\\n",
       "0                            0  ...                                   0   \n",
       "1                            0  ...                                   0   \n",
       "2                            0  ...                                   0   \n",
       "3                            0  ...                                   0   \n",
       "4                            0  ...                                   0   \n",
       "\n",
       "   eau de nile jewelled t-light holder  christmas pudding trinket pot  \\\n",
       "0                                    0                              0   \n",
       "1                                    0                              0   \n",
       "2                                    0                              0   \n",
       "3                                    0                              0   \n",
       "4                                    0                              0   \n",
       "\n",
       "   3 black cats w hearts blank card  silver black orbit bracelet  \\\n",
       "0                                 0                            0   \n",
       "1                                 0                            0   \n",
       "2                                 0                            0   \n",
       "3                                 0                            0   \n",
       "4                                 0                            0   \n",
       "\n",
       "   fridge magnets la vie en rose  set of 3 black flying ducks  \\\n",
       "0                              0                            0   \n",
       "1                              0                            0   \n",
       "2                              0                            0   \n",
       "3                              0                            0   \n",
       "4                              0                            0   \n",
       "\n",
       "   set/6 fruit salad paper cups  vintage kitchen print fruits  \\\n",
       "0                             0                             0   \n",
       "1                             0                             0   \n",
       "2                             0                             0   \n",
       "3                             0                             0   \n",
       "4                             0                             0   \n",
       "\n",
       "   botanical lavender birthday card  \n",
       "0                                 0  \n",
       "1                                 0  \n",
       "2                                 0  \n",
       "3                                 0  \n",
       "4                                 0  \n",
       "\n",
       "[5 rows x 4179 columns]"
      ],
      "text/html": "<div>\n<style scoped>\n    .dataframe tbody tr th:only-of-type {\n        vertical-align: middle;\n    }\n\n    .dataframe tbody tr th {\n        vertical-align: top;\n    }\n\n    .dataframe thead th {\n        text-align: right;\n    }\n</style>\n<table border=\"1\" class=\"dataframe\">\n  <thead>\n    <tr style=\"text-align: right;\">\n      <th></th>\n      <th></th>\n      <th>blue leaves and beads phone charm</th>\n      <th>pink flock suede cushion cover</th>\n      <th>60 teatime fairy cake cases</th>\n      <th>red polkadot beaker</th>\n      <th>wrap alphabet poster</th>\n      <th>metal herb gerden container</th>\n      <th>paper bunting retrospot</th>\n      <th>wrongly coded-23343</th>\n      <th>parisienne jewellery drawer</th>\n      <th>...</th>\n      <th>natural slate rectangle chalkboard</th>\n      <th>eau de nile jewelled t-light holder</th>\n      <th>christmas pudding trinket pot</th>\n      <th>3 black cats w hearts blank card</th>\n      <th>silver black orbit bracelet</th>\n      <th>fridge magnets la vie en rose</th>\n      <th>set of 3 black flying ducks</th>\n      <th>set/6 fruit salad paper cups</th>\n      <th>vintage kitchen print fruits</th>\n      <th>botanical lavender birthday card</th>\n    </tr>\n  </thead>\n  <tbody>\n    <tr>\n      <th>0</th>\n      <td>0</td>\n      <td>0</td>\n      <td>0</td>\n      <td>0</td>\n      <td>0</td>\n      <td>0</td>\n      <td>0</td>\n      <td>0</td>\n      <td>0</td>\n      <td>0</td>\n      <td>...</td>\n      <td>0</td>\n      <td>0</td>\n      <td>0</td>\n      <td>0</td>\n      <td>0</td>\n      <td>0</td>\n      <td>0</td>\n      <td>0</td>\n      <td>0</td>\n      <td>0</td>\n    </tr>\n    <tr>\n      <th>1</th>\n      <td>0</td>\n      <td>0</td>\n      <td>0</td>\n      <td>0</td>\n      <td>0</td>\n      <td>0</td>\n      <td>0</td>\n      <td>0</td>\n      <td>0</td>\n      <td>0</td>\n      <td>...</td>\n      <td>0</td>\n      <td>0</td>\n      <td>0</td>\n      <td>0</td>\n      <td>0</td>\n      <td>0</td>\n      <td>0</td>\n      <td>0</td>\n      <td>0</td>\n      <td>0</td>\n    </tr>\n    <tr>\n      <th>2</th>\n      <td>0</td>\n      <td>0</td>\n      <td>0</td>\n      <td>0</td>\n      <td>0</td>\n      <td>0</td>\n      <td>0</td>\n      <td>0</td>\n      <td>0</td>\n      <td>0</td>\n      <td>...</td>\n      <td>0</td>\n      <td>0</td>\n      <td>0</td>\n      <td>0</td>\n      <td>0</td>\n      <td>0</td>\n      <td>0</td>\n      <td>0</td>\n      <td>0</td>\n      <td>0</td>\n    </tr>\n    <tr>\n      <th>3</th>\n      <td>0</td>\n      <td>0</td>\n      <td>0</td>\n      <td>0</td>\n      <td>0</td>\n      <td>0</td>\n      <td>0</td>\n      <td>0</td>\n      <td>0</td>\n      <td>0</td>\n      <td>...</td>\n      <td>0</td>\n      <td>0</td>\n      <td>0</td>\n      <td>0</td>\n      <td>0</td>\n      <td>0</td>\n      <td>0</td>\n      <td>0</td>\n      <td>0</td>\n      <td>0</td>\n    </tr>\n    <tr>\n      <th>4</th>\n      <td>0</td>\n      <td>0</td>\n      <td>0</td>\n      <td>0</td>\n      <td>0</td>\n      <td>0</td>\n      <td>0</td>\n      <td>0</td>\n      <td>0</td>\n      <td>0</td>\n      <td>...</td>\n      <td>0</td>\n      <td>0</td>\n      <td>0</td>\n      <td>0</td>\n      <td>0</td>\n      <td>0</td>\n      <td>0</td>\n      <td>0</td>\n      <td>0</td>\n      <td>0</td>\n    </tr>\n  </tbody>\n</table>\n<p>5 rows × 4179 columns</p>\n</div>"
     },
     "metadata": {},
     "execution_count": 14
    }
   ],
   "source": [
    "df.head()"
   ]
  },
  {
   "source": [
    "4. With the df that you defined in the previous exercise,  \n",
    "you can now use the fp_growth function. This function, which is described in the detail in the official documentation.  \n",
    "The first argument required is the previously built DataFrame, df.  \n",
    "The second is the minimum support (minsup), i.e. the minimum fraction of the entire dataset in which the itemset should show up for it to be considered “frequent”.  \n",
    "Try using different values of minsup, such as 0.5, 0.1, 0.05, 0.02, 0.01.  \n",
    "How many results do you obtain as minsup varies?  \n",
    "You can check the number of frequent itemsets identified and print them all with the following code snipped:\n",
    "```\n",
    "    fi = fpgrowth(df, 0.05)\n",
    "    print(len(fi))\n",
    "    print(fi.to_string())\n"
   ],
   "cell_type": "markdown",
   "metadata": {}
  },
  {
   "cell_type": "code",
   "execution_count": 15,
   "metadata": {},
   "outputs": [
    {
     "output_type": "stream",
     "name": "stdout",
     "text": [
      "0.5 0\n",
      "0.1 1\n",
      "0.05 23\n",
      "0.02 304\n",
      "0.01 1471\n"
     ]
    }
   ],
   "source": [
    "for x in (0.5,0.1,0.05,0.02,0.01):\n",
    "    print(x, len(fpgrowth(df, x)))"
   ]
  },
  {
   "cell_type": "code",
   "execution_count": 16,
   "metadata": {},
   "outputs": [],
   "source": [
    "fi = fpgrowth(df, 0.02, use_colnames= True)\n"
   ]
  },
  {
   "cell_type": "code",
   "execution_count": 17,
   "metadata": {},
   "outputs": [
    {
     "output_type": "execute_result",
     "data": {
      "text/plain": [
       "      support                                           itemsets\n",
       "0    0.102429               (white hanging heart t-light holder)\n",
       "1    0.020803              (knitted union flag hot water bottle)\n",
       "2    0.021710                           (hand warmer union jack)\n",
       "3    0.065945                    (assorted colour bird ornament)\n",
       "4    0.035216                         (home building block word)\n",
       "..        ...                                                ...\n",
       "299  0.022072  (lunch bag apple design, lunch bag red retrospot)\n",
       "300  0.020350    (lunch bag apple design, lunch bag suki design)\n",
       "301  0.024746        (jumbo bag red retrospot, jumbo bag apples)\n",
       "302  0.021891                    (spotty bunting, party bunting)\n",
       "303  0.024746  (gardeners kneeling pad cup of tea, gardeners ...\n",
       "\n",
       "[304 rows x 2 columns]"
      ],
      "text/html": "<div>\n<style scoped>\n    .dataframe tbody tr th:only-of-type {\n        vertical-align: middle;\n    }\n\n    .dataframe tbody tr th {\n        vertical-align: top;\n    }\n\n    .dataframe thead th {\n        text-align: right;\n    }\n</style>\n<table border=\"1\" class=\"dataframe\">\n  <thead>\n    <tr style=\"text-align: right;\">\n      <th></th>\n      <th>support</th>\n      <th>itemsets</th>\n    </tr>\n  </thead>\n  <tbody>\n    <tr>\n      <th>0</th>\n      <td>0.102429</td>\n      <td>(white hanging heart t-light holder)</td>\n    </tr>\n    <tr>\n      <th>1</th>\n      <td>0.020803</td>\n      <td>(knitted union flag hot water bottle)</td>\n    </tr>\n    <tr>\n      <th>2</th>\n      <td>0.021710</td>\n      <td>(hand warmer union jack)</td>\n    </tr>\n    <tr>\n      <th>3</th>\n      <td>0.065945</td>\n      <td>(assorted colour bird ornament)</td>\n    </tr>\n    <tr>\n      <th>4</th>\n      <td>0.035216</td>\n      <td>(home building block word)</td>\n    </tr>\n    <tr>\n      <th>...</th>\n      <td>...</td>\n      <td>...</td>\n    </tr>\n    <tr>\n      <th>299</th>\n      <td>0.022072</td>\n      <td>(lunch bag apple design, lunch bag red retrospot)</td>\n    </tr>\n    <tr>\n      <th>300</th>\n      <td>0.020350</td>\n      <td>(lunch bag apple design, lunch bag suki design)</td>\n    </tr>\n    <tr>\n      <th>301</th>\n      <td>0.024746</td>\n      <td>(jumbo bag red retrospot, jumbo bag apples)</td>\n    </tr>\n    <tr>\n      <th>302</th>\n      <td>0.021891</td>\n      <td>(spotty bunting, party bunting)</td>\n    </tr>\n    <tr>\n      <th>303</th>\n      <td>0.024746</td>\n      <td>(gardeners kneeling pad cup of tea, gardeners ...</td>\n    </tr>\n  </tbody>\n</table>\n<p>304 rows × 2 columns</p>\n</div>"
     },
     "metadata": {},
     "execution_count": 17
    }
   ],
   "source": [
    "fi"
   ]
  },
  {
   "source": [
    "given a tupple (spotty bunting, party bunting), we can check if\n",
    "spotty bunting ==> party bunting  \n",
    "or \n",
    "party bunting ==> spotty bunting  \n",
    "\n",
    "lets say minconf = 0.5"
   ],
   "cell_type": "markdown",
   "metadata": {}
  },
  {
   "cell_type": "code",
   "execution_count": 19,
   "metadata": {},
   "outputs": [],
   "source": [
    "# Get all the supports\n",
    "filt = fi.itemsets == frozenset(('spotty bunting', 'party bunting'))\n",
    "P_sp = fi.loc[filt, \"support\"].values[0]\n",
    "filt = fi.itemsets == frozenset(['spotty bunting'])\n",
    "P_s = fi.loc[filt, \"support\"].values[0]\n",
    "filt = fi.itemsets == frozenset(['party bunting'])\n",
    "P_p = fi.loc[filt, \"support\"].values[0]\n"
   ]
  },
  {
   "cell_type": "code",
   "execution_count": 20,
   "metadata": {},
   "outputs": [
    {
     "output_type": "execute_result",
     "data": {
      "text/plain": [
       "0.4233128834355828"
      ]
     },
     "metadata": {},
     "execution_count": 20
    }
   ],
   "source": [
    "# spotty bunting ==> party bunting\n",
    "conf = P_sp / P_s\n",
    "conf"
   ]
  },
  {
   "cell_type": "code",
   "execution_count": 21,
   "metadata": {},
   "outputs": [
    {
     "output_type": "execute_result",
     "data": {
      "text/plain": [
       "0.2864768683274021"
      ]
     },
     "metadata": {},
     "execution_count": 21
    }
   ],
   "source": [
    "# party bunting ==> spotty bunting\n",
    "conf = P_sp / P_p\n",
    "conf"
   ]
  },
  {
   "source": [
    "we can say that [ spotty bunting ==> party bunting ] holds with a probability of above 40%"
   ],
   "cell_type": "markdown",
   "metadata": {}
  },
  {
   "cell_type": "code",
   "execution_count": 22,
   "metadata": {},
   "outputs": [
    {
     "output_type": "execute_result",
     "data": {
      "text/plain": [
       "                                          antecedents  \\\n",
       "0                          (alarm clock bakelike red)   \n",
       "1                        (alarm clock bakelike green)   \n",
       "2                         (alarm clock bakelike pink)   \n",
       "3                        (wooden frame antique white)   \n",
       "4                  (red hanging heart t-light holder)   \n",
       "5                           (jumbo bag pink polkadot)   \n",
       "6                            (jumbo storage bag suki)   \n",
       "7                    (jumbo  bag baroque black white)   \n",
       "8                    (jumbo bag pink vintage paisley)   \n",
       "9                       (60 teatime fairy cake cases)   \n",
       "10                         (strawberry charlotte bag)   \n",
       "11                (jumbo shopper vintage red paisley)   \n",
       "12                            (heart of wicker large)   \n",
       "13                (paper chain kit vintage christmas)   \n",
       "14                          (lunch bag pink polkadot)   \n",
       "15                               (lunch bag woodland)   \n",
       "16                          (lunch bag  black skull.)   \n",
       "17                             (jumbo bag strawberry)   \n",
       "18                               (spaceboy lunch box)   \n",
       "19                             (dolly girl lunch box)   \n",
       "20                  (roses regency teacup and saucer)   \n",
       "21                  (green regency teacup and saucer)   \n",
       "22                  (green regency teacup and saucer)   \n",
       "23                       (jumbo bag woodland animals)   \n",
       "24                       (jumbo bag woodland animals)   \n",
       "25                        (charlotte bag suki design)   \n",
       "26                           (woodland charlotte bag)   \n",
       "27                           (woodland charlotte bag)   \n",
       "28                        (charlotte bag suki design)   \n",
       "29                      (charlotte bag pink polkadot)   \n",
       "30                      (red retrospot charlotte bag)   \n",
       "31                                   (dotcom postage)   \n",
       "32                   (pink regency teacup and saucer)   \n",
       "33                  (green regency teacup and saucer)   \n",
       "34                  (roses regency teacup and saucer)   \n",
       "35                   (pink regency teacup and saucer)   \n",
       "36  (roses regency teacup and saucer, pink regency...   \n",
       "37  (roses regency teacup and saucer, green regenc...   \n",
       "38  (pink regency teacup and saucer, green regency...   \n",
       "39                  (roses regency teacup and saucer)   \n",
       "40                   (pink regency teacup and saucer)   \n",
       "41                  (green regency teacup and saucer)   \n",
       "42                            (lunch bag suki design)   \n",
       "43              (jumbo bag scandinavian blue paisley)   \n",
       "44                                 (jumbo bag apples)   \n",
       "45                (gardeners kneeling pad cup of tea)   \n",
       "46                 (gardeners kneeling pad keep calm)   \n",
       "\n",
       "                                          consequents  antecedent support  \\\n",
       "0                        (alarm clock bakelike green)            0.047634   \n",
       "1                          (alarm clock bakelike red)            0.044416   \n",
       "2                          (alarm clock bakelike red)            0.035488   \n",
       "3                 (wooden picture frame white finish)            0.044008   \n",
       "4                (white hanging heart t-light holder)            0.033584   \n",
       "5                           (jumbo bag red retrospot)            0.055203   \n",
       "6                           (jumbo bag red retrospot)            0.053662   \n",
       "7                           (jumbo bag red retrospot)            0.042286   \n",
       "8                           (jumbo bag red retrospot)            0.039204   \n",
       "9                   (pack of 72 retrospot cake cases)            0.037527   \n",
       "10                      (red retrospot charlotte bag)            0.032723   \n",
       "11                          (jumbo bag red retrospot)            0.053254   \n",
       "12                            (heart of wicker small)            0.041969   \n",
       "13                   (paper chain kit 50's christmas)            0.037165   \n",
       "14                          (lunch bag red retrospot)            0.049402   \n",
       "15                          (lunch bag red retrospot)            0.046139   \n",
       "16                          (lunch bag red retrospot)            0.057696   \n",
       "17                          (jumbo bag red retrospot)            0.037391   \n",
       "18                             (dolly girl lunch box)            0.040790   \n",
       "19                               (spaceboy lunch box)            0.038524   \n",
       "20                  (green regency teacup and saucer)            0.048314   \n",
       "21                  (roses regency teacup and saucer)            0.046003   \n",
       "22                         (regency cakestand 3 tier)            0.046003   \n",
       "23                          (jumbo bag red retrospot)            0.039113   \n",
       "24                           (jumbo storage bag suki)            0.039113   \n",
       "25                      (red retrospot charlotte bag)            0.039975   \n",
       "26                      (red retrospot charlotte bag)            0.037844   \n",
       "27                        (charlotte bag suki design)            0.037844   \n",
       "28                           (woodland charlotte bag)            0.039975   \n",
       "29                      (red retrospot charlotte bag)            0.033675   \n",
       "30                      (charlotte bag pink polkadot)            0.046864   \n",
       "31                          (jumbo bag red retrospot)            0.032088   \n",
       "32                  (green regency teacup and saucer)            0.034717   \n",
       "33                   (pink regency teacup and saucer)            0.046003   \n",
       "34                   (pink regency teacup and saucer)            0.048314   \n",
       "35                  (roses regency teacup and saucer)            0.034717   \n",
       "36                  (green regency teacup and saucer)            0.027148   \n",
       "37                   (pink regency teacup and saucer)            0.034808   \n",
       "38                  (roses regency teacup and saucer)            0.028689   \n",
       "39  (pink regency teacup and saucer, green regency...            0.048314   \n",
       "40  (roses regency teacup and saucer, green regenc...            0.034717   \n",
       "41  (roses regency teacup and saucer, pink regency...            0.046003   \n",
       "42                          (lunch bag red retrospot)            0.049175   \n",
       "43                          (jumbo bag red retrospot)            0.030004   \n",
       "44                          (jumbo bag red retrospot)            0.044326   \n",
       "45                 (gardeners kneeling pad keep calm)            0.034355   \n",
       "46                (gardeners kneeling pad cup of tea)            0.041380   \n",
       "\n",
       "    consequent support   support  confidence       lift  leverage  conviction  \n",
       "0             0.044416  0.029007    0.608944  13.709936  0.026891    2.443597  \n",
       "1             0.047634  0.029007    0.653061  13.709936  0.026891    2.745054  \n",
       "2             0.047634  0.021302    0.600255  12.601366  0.019611    2.382436  \n",
       "3             0.049855  0.024429    0.555098  11.134253  0.022235    2.135627  \n",
       "4             0.102429  0.022435    0.668016   6.521730  0.018995    2.703658  \n",
       "5             0.094815  0.037391    0.677340   7.143799  0.032157    2.805382  \n",
       "6             0.094815  0.032814    0.611486   6.449253  0.027726    2.329867  \n",
       "7             0.094815  0.026514    0.627010   6.612974  0.022504    2.426832  \n",
       "8             0.094815  0.023477    0.598844   6.315914  0.019760    2.256441  \n",
       "9             0.059826  0.020531    0.547101   9.144884  0.018286    2.075904  \n",
       "10            0.046864  0.022027    0.673130  14.363583  0.020493    2.915951  \n",
       "11            0.094815  0.030819    0.578723   6.103706  0.025770    2.148671  \n",
       "12            0.054433  0.022344    0.532397   9.780863  0.020060    2.022160  \n",
       "13            0.052574  0.025018    0.673171  12.804172  0.023064    2.898840  \n",
       "14            0.070885  0.027466    0.555963   7.843206  0.023964    2.092429  \n",
       "15            0.070885  0.023840    0.516699   7.289294  0.020569    1.922438  \n",
       "16            0.070885  0.029052    0.503535   7.103578  0.024962    1.871462  \n",
       "17            0.094815  0.024338    0.650909   6.865037  0.020793    2.592978  \n",
       "18            0.038524  0.024384    0.597778  15.516905  0.022812    2.390409  \n",
       "19            0.040790  0.024384    0.632941  15.516905  0.022812    2.613231  \n",
       "20            0.046003  0.034808    0.720450  15.661099  0.032585    3.412622  \n",
       "21            0.048314  0.034808    0.756650  15.661099  0.032585    3.910774  \n",
       "22            0.090147  0.023069    0.501478   5.562899  0.018922    1.825101  \n",
       "23            0.094815  0.024248    0.619930   6.538311  0.020539    2.381630  \n",
       "24            0.053662  0.020350    0.520278   9.695453  0.018251    1.972680  \n",
       "25            0.046864  0.022979    0.574830  12.266004  0.021105    2.241777  \n",
       "26            0.046864  0.022933    0.605988  12.930870  0.021160    2.419054  \n",
       "27            0.039975  0.020667    0.546108  13.661363  0.019154    2.115095  \n",
       "28            0.037844  0.020667    0.517007  13.661363  0.019154    1.992069  \n",
       "29            0.046864  0.023658    0.702557  14.991511  0.022080    3.204436  \n",
       "30            0.033675  0.023658    0.504836  14.991511  0.022080    1.951524  \n",
       "31            0.094815  0.021982    0.685028   7.224887  0.018939    2.873861  \n",
       "32            0.046003  0.028689    0.826371  17.963591  0.027092    5.494452  \n",
       "33            0.034717  0.028689    0.623645  17.963591  0.027092    2.564822  \n",
       "34            0.034717  0.027148    0.561914  16.185462  0.025471    2.203408  \n",
       "35            0.048314  0.027148    0.781984  16.185462  0.025471    4.365218  \n",
       "36            0.046003  0.024565    0.904841  19.669380  0.023316   10.025342  \n",
       "37            0.034717  0.024565    0.705729  20.327948  0.023356    3.280253  \n",
       "38            0.048314  0.024565    0.856240  17.722404  0.023179    6.619970  \n",
       "39            0.028689  0.024565    0.508443  17.722404  0.023179    1.975987  \n",
       "40            0.034808  0.024565    0.707572  20.327948  0.023356    3.300613  \n",
       "41            0.027148  0.024565    0.533990  19.669380  0.023316    2.087620  \n",
       "42            0.070885  0.025199    0.512442   7.229239  0.021714    1.905652  \n",
       "43            0.094815  0.020305    0.676737   7.137442  0.017460    2.800151  \n",
       "44            0.094815  0.024746    0.558282   5.888116  0.020543    2.049238  \n",
       "45            0.041380  0.024746    0.720317  17.407520  0.023325    3.427520  \n",
       "46            0.034355  0.024746    0.598028  17.407520  0.023325    2.402273  "
      ],
      "text/html": "<div>\n<style scoped>\n    .dataframe tbody tr th:only-of-type {\n        vertical-align: middle;\n    }\n\n    .dataframe tbody tr th {\n        vertical-align: top;\n    }\n\n    .dataframe thead th {\n        text-align: right;\n    }\n</style>\n<table border=\"1\" class=\"dataframe\">\n  <thead>\n    <tr style=\"text-align: right;\">\n      <th></th>\n      <th>antecedents</th>\n      <th>consequents</th>\n      <th>antecedent support</th>\n      <th>consequent support</th>\n      <th>support</th>\n      <th>confidence</th>\n      <th>lift</th>\n      <th>leverage</th>\n      <th>conviction</th>\n    </tr>\n  </thead>\n  <tbody>\n    <tr>\n      <th>0</th>\n      <td>(alarm clock bakelike red)</td>\n      <td>(alarm clock bakelike green)</td>\n      <td>0.047634</td>\n      <td>0.044416</td>\n      <td>0.029007</td>\n      <td>0.608944</td>\n      <td>13.709936</td>\n      <td>0.026891</td>\n      <td>2.443597</td>\n    </tr>\n    <tr>\n      <th>1</th>\n      <td>(alarm clock bakelike green)</td>\n      <td>(alarm clock bakelike red)</td>\n      <td>0.044416</td>\n      <td>0.047634</td>\n      <td>0.029007</td>\n      <td>0.653061</td>\n      <td>13.709936</td>\n      <td>0.026891</td>\n      <td>2.745054</td>\n    </tr>\n    <tr>\n      <th>2</th>\n      <td>(alarm clock bakelike pink)</td>\n      <td>(alarm clock bakelike red)</td>\n      <td>0.035488</td>\n      <td>0.047634</td>\n      <td>0.021302</td>\n      <td>0.600255</td>\n      <td>12.601366</td>\n      <td>0.019611</td>\n      <td>2.382436</td>\n    </tr>\n    <tr>\n      <th>3</th>\n      <td>(wooden frame antique white)</td>\n      <td>(wooden picture frame white finish)</td>\n      <td>0.044008</td>\n      <td>0.049855</td>\n      <td>0.024429</td>\n      <td>0.555098</td>\n      <td>11.134253</td>\n      <td>0.022235</td>\n      <td>2.135627</td>\n    </tr>\n    <tr>\n      <th>4</th>\n      <td>(red hanging heart t-light holder)</td>\n      <td>(white hanging heart t-light holder)</td>\n      <td>0.033584</td>\n      <td>0.102429</td>\n      <td>0.022435</td>\n      <td>0.668016</td>\n      <td>6.521730</td>\n      <td>0.018995</td>\n      <td>2.703658</td>\n    </tr>\n    <tr>\n      <th>5</th>\n      <td>(jumbo bag pink polkadot)</td>\n      <td>(jumbo bag red retrospot)</td>\n      <td>0.055203</td>\n      <td>0.094815</td>\n      <td>0.037391</td>\n      <td>0.677340</td>\n      <td>7.143799</td>\n      <td>0.032157</td>\n      <td>2.805382</td>\n    </tr>\n    <tr>\n      <th>6</th>\n      <td>(jumbo storage bag suki)</td>\n      <td>(jumbo bag red retrospot)</td>\n      <td>0.053662</td>\n      <td>0.094815</td>\n      <td>0.032814</td>\n      <td>0.611486</td>\n      <td>6.449253</td>\n      <td>0.027726</td>\n      <td>2.329867</td>\n    </tr>\n    <tr>\n      <th>7</th>\n      <td>(jumbo  bag baroque black white)</td>\n      <td>(jumbo bag red retrospot)</td>\n      <td>0.042286</td>\n      <td>0.094815</td>\n      <td>0.026514</td>\n      <td>0.627010</td>\n      <td>6.612974</td>\n      <td>0.022504</td>\n      <td>2.426832</td>\n    </tr>\n    <tr>\n      <th>8</th>\n      <td>(jumbo bag pink vintage paisley)</td>\n      <td>(jumbo bag red retrospot)</td>\n      <td>0.039204</td>\n      <td>0.094815</td>\n      <td>0.023477</td>\n      <td>0.598844</td>\n      <td>6.315914</td>\n      <td>0.019760</td>\n      <td>2.256441</td>\n    </tr>\n    <tr>\n      <th>9</th>\n      <td>(60 teatime fairy cake cases)</td>\n      <td>(pack of 72 retrospot cake cases)</td>\n      <td>0.037527</td>\n      <td>0.059826</td>\n      <td>0.020531</td>\n      <td>0.547101</td>\n      <td>9.144884</td>\n      <td>0.018286</td>\n      <td>2.075904</td>\n    </tr>\n    <tr>\n      <th>10</th>\n      <td>(strawberry charlotte bag)</td>\n      <td>(red retrospot charlotte bag)</td>\n      <td>0.032723</td>\n      <td>0.046864</td>\n      <td>0.022027</td>\n      <td>0.673130</td>\n      <td>14.363583</td>\n      <td>0.020493</td>\n      <td>2.915951</td>\n    </tr>\n    <tr>\n      <th>11</th>\n      <td>(jumbo shopper vintage red paisley)</td>\n      <td>(jumbo bag red retrospot)</td>\n      <td>0.053254</td>\n      <td>0.094815</td>\n      <td>0.030819</td>\n      <td>0.578723</td>\n      <td>6.103706</td>\n      <td>0.025770</td>\n      <td>2.148671</td>\n    </tr>\n    <tr>\n      <th>12</th>\n      <td>(heart of wicker large)</td>\n      <td>(heart of wicker small)</td>\n      <td>0.041969</td>\n      <td>0.054433</td>\n      <td>0.022344</td>\n      <td>0.532397</td>\n      <td>9.780863</td>\n      <td>0.020060</td>\n      <td>2.022160</td>\n    </tr>\n    <tr>\n      <th>13</th>\n      <td>(paper chain kit vintage christmas)</td>\n      <td>(paper chain kit 50's christmas)</td>\n      <td>0.037165</td>\n      <td>0.052574</td>\n      <td>0.025018</td>\n      <td>0.673171</td>\n      <td>12.804172</td>\n      <td>0.023064</td>\n      <td>2.898840</td>\n    </tr>\n    <tr>\n      <th>14</th>\n      <td>(lunch bag pink polkadot)</td>\n      <td>(lunch bag red retrospot)</td>\n      <td>0.049402</td>\n      <td>0.070885</td>\n      <td>0.027466</td>\n      <td>0.555963</td>\n      <td>7.843206</td>\n      <td>0.023964</td>\n      <td>2.092429</td>\n    </tr>\n    <tr>\n      <th>15</th>\n      <td>(lunch bag woodland)</td>\n      <td>(lunch bag red retrospot)</td>\n      <td>0.046139</td>\n      <td>0.070885</td>\n      <td>0.023840</td>\n      <td>0.516699</td>\n      <td>7.289294</td>\n      <td>0.020569</td>\n      <td>1.922438</td>\n    </tr>\n    <tr>\n      <th>16</th>\n      <td>(lunch bag  black skull.)</td>\n      <td>(lunch bag red retrospot)</td>\n      <td>0.057696</td>\n      <td>0.070885</td>\n      <td>0.029052</td>\n      <td>0.503535</td>\n      <td>7.103578</td>\n      <td>0.024962</td>\n      <td>1.871462</td>\n    </tr>\n    <tr>\n      <th>17</th>\n      <td>(jumbo bag strawberry)</td>\n      <td>(jumbo bag red retrospot)</td>\n      <td>0.037391</td>\n      <td>0.094815</td>\n      <td>0.024338</td>\n      <td>0.650909</td>\n      <td>6.865037</td>\n      <td>0.020793</td>\n      <td>2.592978</td>\n    </tr>\n    <tr>\n      <th>18</th>\n      <td>(spaceboy lunch box)</td>\n      <td>(dolly girl lunch box)</td>\n      <td>0.040790</td>\n      <td>0.038524</td>\n      <td>0.024384</td>\n      <td>0.597778</td>\n      <td>15.516905</td>\n      <td>0.022812</td>\n      <td>2.390409</td>\n    </tr>\n    <tr>\n      <th>19</th>\n      <td>(dolly girl lunch box)</td>\n      <td>(spaceboy lunch box)</td>\n      <td>0.038524</td>\n      <td>0.040790</td>\n      <td>0.024384</td>\n      <td>0.632941</td>\n      <td>15.516905</td>\n      <td>0.022812</td>\n      <td>2.613231</td>\n    </tr>\n    <tr>\n      <th>20</th>\n      <td>(roses regency teacup and saucer)</td>\n      <td>(green regency teacup and saucer)</td>\n      <td>0.048314</td>\n      <td>0.046003</td>\n      <td>0.034808</td>\n      <td>0.720450</td>\n      <td>15.661099</td>\n      <td>0.032585</td>\n      <td>3.412622</td>\n    </tr>\n    <tr>\n      <th>21</th>\n      <td>(green regency teacup and saucer)</td>\n      <td>(roses regency teacup and saucer)</td>\n      <td>0.046003</td>\n      <td>0.048314</td>\n      <td>0.034808</td>\n      <td>0.756650</td>\n      <td>15.661099</td>\n      <td>0.032585</td>\n      <td>3.910774</td>\n    </tr>\n    <tr>\n      <th>22</th>\n      <td>(green regency teacup and saucer)</td>\n      <td>(regency cakestand 3 tier)</td>\n      <td>0.046003</td>\n      <td>0.090147</td>\n      <td>0.023069</td>\n      <td>0.501478</td>\n      <td>5.562899</td>\n      <td>0.018922</td>\n      <td>1.825101</td>\n    </tr>\n    <tr>\n      <th>23</th>\n      <td>(jumbo bag woodland animals)</td>\n      <td>(jumbo bag red retrospot)</td>\n      <td>0.039113</td>\n      <td>0.094815</td>\n      <td>0.024248</td>\n      <td>0.619930</td>\n      <td>6.538311</td>\n      <td>0.020539</td>\n      <td>2.381630</td>\n    </tr>\n    <tr>\n      <th>24</th>\n      <td>(jumbo bag woodland animals)</td>\n      <td>(jumbo storage bag suki)</td>\n      <td>0.039113</td>\n      <td>0.053662</td>\n      <td>0.020350</td>\n      <td>0.520278</td>\n      <td>9.695453</td>\n      <td>0.018251</td>\n      <td>1.972680</td>\n    </tr>\n    <tr>\n      <th>25</th>\n      <td>(charlotte bag suki design)</td>\n      <td>(red retrospot charlotte bag)</td>\n      <td>0.039975</td>\n      <td>0.046864</td>\n      <td>0.022979</td>\n      <td>0.574830</td>\n      <td>12.266004</td>\n      <td>0.021105</td>\n      <td>2.241777</td>\n    </tr>\n    <tr>\n      <th>26</th>\n      <td>(woodland charlotte bag)</td>\n      <td>(red retrospot charlotte bag)</td>\n      <td>0.037844</td>\n      <td>0.046864</td>\n      <td>0.022933</td>\n      <td>0.605988</td>\n      <td>12.930870</td>\n      <td>0.021160</td>\n      <td>2.419054</td>\n    </tr>\n    <tr>\n      <th>27</th>\n      <td>(woodland charlotte bag)</td>\n      <td>(charlotte bag suki design)</td>\n      <td>0.037844</td>\n      <td>0.039975</td>\n      <td>0.020667</td>\n      <td>0.546108</td>\n      <td>13.661363</td>\n      <td>0.019154</td>\n      <td>2.115095</td>\n    </tr>\n    <tr>\n      <th>28</th>\n      <td>(charlotte bag suki design)</td>\n      <td>(woodland charlotte bag)</td>\n      <td>0.039975</td>\n      <td>0.037844</td>\n      <td>0.020667</td>\n      <td>0.517007</td>\n      <td>13.661363</td>\n      <td>0.019154</td>\n      <td>1.992069</td>\n    </tr>\n    <tr>\n      <th>29</th>\n      <td>(charlotte bag pink polkadot)</td>\n      <td>(red retrospot charlotte bag)</td>\n      <td>0.033675</td>\n      <td>0.046864</td>\n      <td>0.023658</td>\n      <td>0.702557</td>\n      <td>14.991511</td>\n      <td>0.022080</td>\n      <td>3.204436</td>\n    </tr>\n    <tr>\n      <th>30</th>\n      <td>(red retrospot charlotte bag)</td>\n      <td>(charlotte bag pink polkadot)</td>\n      <td>0.046864</td>\n      <td>0.033675</td>\n      <td>0.023658</td>\n      <td>0.504836</td>\n      <td>14.991511</td>\n      <td>0.022080</td>\n      <td>1.951524</td>\n    </tr>\n    <tr>\n      <th>31</th>\n      <td>(dotcom postage)</td>\n      <td>(jumbo bag red retrospot)</td>\n      <td>0.032088</td>\n      <td>0.094815</td>\n      <td>0.021982</td>\n      <td>0.685028</td>\n      <td>7.224887</td>\n      <td>0.018939</td>\n      <td>2.873861</td>\n    </tr>\n    <tr>\n      <th>32</th>\n      <td>(pink regency teacup and saucer)</td>\n      <td>(green regency teacup and saucer)</td>\n      <td>0.034717</td>\n      <td>0.046003</td>\n      <td>0.028689</td>\n      <td>0.826371</td>\n      <td>17.963591</td>\n      <td>0.027092</td>\n      <td>5.494452</td>\n    </tr>\n    <tr>\n      <th>33</th>\n      <td>(green regency teacup and saucer)</td>\n      <td>(pink regency teacup and saucer)</td>\n      <td>0.046003</td>\n      <td>0.034717</td>\n      <td>0.028689</td>\n      <td>0.623645</td>\n      <td>17.963591</td>\n      <td>0.027092</td>\n      <td>2.564822</td>\n    </tr>\n    <tr>\n      <th>34</th>\n      <td>(roses regency teacup and saucer)</td>\n      <td>(pink regency teacup and saucer)</td>\n      <td>0.048314</td>\n      <td>0.034717</td>\n      <td>0.027148</td>\n      <td>0.561914</td>\n      <td>16.185462</td>\n      <td>0.025471</td>\n      <td>2.203408</td>\n    </tr>\n    <tr>\n      <th>35</th>\n      <td>(pink regency teacup and saucer)</td>\n      <td>(roses regency teacup and saucer)</td>\n      <td>0.034717</td>\n      <td>0.048314</td>\n      <td>0.027148</td>\n      <td>0.781984</td>\n      <td>16.185462</td>\n      <td>0.025471</td>\n      <td>4.365218</td>\n    </tr>\n    <tr>\n      <th>36</th>\n      <td>(roses regency teacup and saucer, pink regency...</td>\n      <td>(green regency teacup and saucer)</td>\n      <td>0.027148</td>\n      <td>0.046003</td>\n      <td>0.024565</td>\n      <td>0.904841</td>\n      <td>19.669380</td>\n      <td>0.023316</td>\n      <td>10.025342</td>\n    </tr>\n    <tr>\n      <th>37</th>\n      <td>(roses regency teacup and saucer, green regenc...</td>\n      <td>(pink regency teacup and saucer)</td>\n      <td>0.034808</td>\n      <td>0.034717</td>\n      <td>0.024565</td>\n      <td>0.705729</td>\n      <td>20.327948</td>\n      <td>0.023356</td>\n      <td>3.280253</td>\n    </tr>\n    <tr>\n      <th>38</th>\n      <td>(pink regency teacup and saucer, green regency...</td>\n      <td>(roses regency teacup and saucer)</td>\n      <td>0.028689</td>\n      <td>0.048314</td>\n      <td>0.024565</td>\n      <td>0.856240</td>\n      <td>17.722404</td>\n      <td>0.023179</td>\n      <td>6.619970</td>\n    </tr>\n    <tr>\n      <th>39</th>\n      <td>(roses regency teacup and saucer)</td>\n      <td>(pink regency teacup and saucer, green regency...</td>\n      <td>0.048314</td>\n      <td>0.028689</td>\n      <td>0.024565</td>\n      <td>0.508443</td>\n      <td>17.722404</td>\n      <td>0.023179</td>\n      <td>1.975987</td>\n    </tr>\n    <tr>\n      <th>40</th>\n      <td>(pink regency teacup and saucer)</td>\n      <td>(roses regency teacup and saucer, green regenc...</td>\n      <td>0.034717</td>\n      <td>0.034808</td>\n      <td>0.024565</td>\n      <td>0.707572</td>\n      <td>20.327948</td>\n      <td>0.023356</td>\n      <td>3.300613</td>\n    </tr>\n    <tr>\n      <th>41</th>\n      <td>(green regency teacup and saucer)</td>\n      <td>(roses regency teacup and saucer, pink regency...</td>\n      <td>0.046003</td>\n      <td>0.027148</td>\n      <td>0.024565</td>\n      <td>0.533990</td>\n      <td>19.669380</td>\n      <td>0.023316</td>\n      <td>2.087620</td>\n    </tr>\n    <tr>\n      <th>42</th>\n      <td>(lunch bag suki design)</td>\n      <td>(lunch bag red retrospot)</td>\n      <td>0.049175</td>\n      <td>0.070885</td>\n      <td>0.025199</td>\n      <td>0.512442</td>\n      <td>7.229239</td>\n      <td>0.021714</td>\n      <td>1.905652</td>\n    </tr>\n    <tr>\n      <th>43</th>\n      <td>(jumbo bag scandinavian blue paisley)</td>\n      <td>(jumbo bag red retrospot)</td>\n      <td>0.030004</td>\n      <td>0.094815</td>\n      <td>0.020305</td>\n      <td>0.676737</td>\n      <td>7.137442</td>\n      <td>0.017460</td>\n      <td>2.800151</td>\n    </tr>\n    <tr>\n      <th>44</th>\n      <td>(jumbo bag apples)</td>\n      <td>(jumbo bag red retrospot)</td>\n      <td>0.044326</td>\n      <td>0.094815</td>\n      <td>0.024746</td>\n      <td>0.558282</td>\n      <td>5.888116</td>\n      <td>0.020543</td>\n      <td>2.049238</td>\n    </tr>\n    <tr>\n      <th>45</th>\n      <td>(gardeners kneeling pad cup of tea)</td>\n      <td>(gardeners kneeling pad keep calm)</td>\n      <td>0.034355</td>\n      <td>0.041380</td>\n      <td>0.024746</td>\n      <td>0.720317</td>\n      <td>17.407520</td>\n      <td>0.023325</td>\n      <td>3.427520</td>\n    </tr>\n    <tr>\n      <th>46</th>\n      <td>(gardeners kneeling pad keep calm)</td>\n      <td>(gardeners kneeling pad cup of tea)</td>\n      <td>0.041380</td>\n      <td>0.034355</td>\n      <td>0.024746</td>\n      <td>0.598028</td>\n      <td>17.407520</td>\n      <td>0.023325</td>\n      <td>2.402273</td>\n    </tr>\n  </tbody>\n</table>\n</div>"
     },
     "metadata": {},
     "execution_count": 22
    }
   ],
   "source": [
    "association_rules(fi, min_threshold=0.5)"
   ]
  },
  {
   "source": [
    "7. Extract the association rules from the frequent itemsets extracted with minsup = 0.01.  \n",
    "You can find the documentation for association_rules() on the official documentation.  \n",
    "You can use the confidence as the metric to identify the rules, and a minimum threshold of 0.85  \n",
    "(feel free to vary\n",
    "these values and observe how the results vary).\n"
   ],
   "cell_type": "markdown",
   "metadata": {}
  },
  {
   "cell_type": "code",
   "execution_count": 23,
   "metadata": {},
   "outputs": [],
   "source": [
    "fi2 = fpgrowth(df, min_support= 0.01, use_colnames= True)"
   ]
  },
  {
   "cell_type": "code",
   "execution_count": 145,
   "metadata": {},
   "outputs": [
    {
     "output_type": "stream",
     "text": [
      "\u001b[1;31mSignature:\u001b[0m\n",
      " \u001b[0massociation_rules\u001b[0m\u001b[1;33m(\u001b[0m\u001b[1;33m\n",
      "\u001b[0m    \u001b[0mdf\u001b[0m\u001b[1;33m,\u001b[0m\u001b[1;33m\n",
      "\u001b[0m    \u001b[0mmetric\u001b[0m\u001b[1;33m=\u001b[0m\u001b[1;34m'confidence'\u001b[0m\u001b[1;33m,\u001b[0m\u001b[1;33m\n",
      "\u001b[0m    \u001b[0mmin_threshold\u001b[0m\u001b[1;33m=\u001b[0m\u001b[1;36m0.8\u001b[0m\u001b[1;33m,\u001b[0m\u001b[1;33m\n",
      "\u001b[0m    \u001b[0msupport_only\u001b[0m\u001b[1;33m=\u001b[0m\u001b[1;32mFalse\u001b[0m\u001b[1;33m,\u001b[0m\u001b[1;33m\n",
      "\u001b[0m\u001b[1;33m)\u001b[0m\u001b[1;33m\u001b[0m\u001b[1;33m\u001b[0m\u001b[0m\n",
      "\u001b[1;31mDocstring:\u001b[0m\n",
      "Generates a DataFrame of association rules including the\n",
      "metrics 'score', 'confidence', and 'lift'\n",
      "\n",
      "Parameters\n",
      "-----------\n",
      "df : pandas DataFrame\n",
      "  pandas DataFrame of frequent itemsets\n",
      "  with columns ['support', 'itemsets']\n",
      "\n",
      "metric : string (default: 'confidence')\n",
      "  Metric to evaluate if a rule is of interest.\n",
      "  **Automatically set to 'support' if `support_only=True`.**\n",
      "  Otherwise, supported metrics are 'support', 'confidence', 'lift',\n",
      "  'leverage', and 'conviction'\n",
      "  These metrics are computed as follows:\n",
      "\n",
      "  - support(A->C) = support(A+C) [aka 'support'], range: [0, 1]\n",
      "\n",
      "  - confidence(A->C) = support(A+C) / support(A), range: [0, 1]\n",
      "\n",
      "  - lift(A->C) = confidence(A->C) / support(C), range: [0, inf]\n",
      "\n",
      "  - leverage(A->C) = support(A->C) - support(A)*support(C),\n",
      "    range: [-1, 1]\n",
      "\n",
      "  - conviction = [1 - support(C)] / [1 - confidence(A->C)],\n",
      "    range: [0, inf]\n",
      "\n",
      "\n",
      "min_threshold : float (default: 0.8)\n",
      "  Minimal threshold for the evaluation metric,\n",
      "  via the `metric` parameter,\n",
      "  to decide whether a candidate rule is of interest.\n",
      "\n",
      "support_only : bool (default: False)\n",
      "  Only computes the rule support and fills the other\n",
      "  metric columns with NaNs. This is useful if:\n",
      "\n",
      "  a) the input DataFrame is incomplete, e.g., does\n",
      "  not contain support values for all rule antecedents\n",
      "  and consequents\n",
      "\n",
      "  b) you simply want to speed up the computation because\n",
      "  you don't need the other metrics.\n",
      "\n",
      "Returns\n",
      "----------\n",
      "pandas DataFrame with columns \"antecedents\" and \"consequents\"\n",
      "  that store itemsets, plus the scoring metric columns:\n",
      "  \"antecedent support\", \"consequent support\",\n",
      "  \"support\", \"confidence\", \"lift\",\n",
      "  \"leverage\", \"conviction\"\n",
      "  of all rules for which\n",
      "  metric(rule) >= min_threshold.\n",
      "  Each entry in the \"antecedents\" and \"consequents\" columns are\n",
      "  of type `frozenset`, which is a Python built-in type that\n",
      "  behaves similarly to sets except that it is immutable\n",
      "  (For more info, see\n",
      "  https://docs.python.org/3.6/library/stdtypes.html#frozenset).\n",
      "\n",
      "Examples\n",
      "-----------\n",
      "For usage examples, please see\n",
      "http://rasbt.github.io/mlxtend/user_guide/frequent_patterns/association_rules/\n",
      "\u001b[1;31mFile:\u001b[0m      c:\\programdata\\anaconda3\\lib\\site-packages\\mlxtend\\frequent_patterns\\association_rules.py\n",
      "\u001b[1;31mType:\u001b[0m      function\n"
     ],
     "name": "stdout"
    }
   ],
   "source": [
    "? association_rules"
   ]
  },
  {
   "cell_type": "code",
   "execution_count": 24,
   "metadata": {},
   "outputs": [
    {
     "output_type": "execute_result",
     "data": {
      "text/plain": [
       "                                          antecedents  \\\n",
       "0   (charlotte bag pink polkadot, strawberry charl...   \n",
       "1   (charlotte bag pink polkadot, charlotte bag su...   \n",
       "2   (charlotte bag pink polkadot, strawberry charl...   \n",
       "3   (woodland charlotte bag, charlotte bag suki de...   \n",
       "4   (jumbo shopper vintage red paisley, jumbo stor...   \n",
       "5   (set/20 red retrospot paper napkins, set/6 red...   \n",
       "6                              (herb marker rosemary)   \n",
       "7                                 (herb marker thyme)   \n",
       "8   (charlotte bag pink polkadot, charlotte bag su...   \n",
       "9       (suki  shoulder bag, jumbo bag red retrospot)   \n",
       "10  (wooden tree christmas scandinavian, wooden he...   \n",
       "11  (poppy's playhouse kitchen, poppy's playhouse ...   \n",
       "12  (poppy's playhouse livingroom, poppy's playhou...   \n",
       "13  (regency cakestand 3 tier, pink regency teacup...   \n",
       "14  (roses regency teacup and saucer, regency cake...   \n",
       "15  (regency cakestand 3 tier, pink regency teacup...   \n",
       "16  (roses regency teacup and saucer, pink regency...   \n",
       "17  (pink regency teacup and saucer, green regency...   \n",
       "18                           (regency tea plate pink)   \n",
       "19                           (regency tea plate pink)   \n",
       "20  (regency tea plate roses, regency tea plate pink)   \n",
       "21  (regency tea plate pink, regency tea plate green)   \n",
       "\n",
       "                             consequents  antecedent support  \\\n",
       "0          (red retrospot charlotte bag)            0.017177   \n",
       "1          (red retrospot charlotte bag)            0.012282   \n",
       "2          (red retrospot charlotte bag)            0.011920   \n",
       "3          (red retrospot charlotte bag)            0.013733   \n",
       "4              (jumbo bag red retrospot)            0.014005   \n",
       "5        (set/6 red spotty paper plates)            0.013416   \n",
       "6                    (herb marker thyme)            0.010877   \n",
       "7                 (herb marker rosemary)            0.010741   \n",
       "8          (red retrospot charlotte bag)            0.013234   \n",
       "9                       (dotcom postage)            0.012781   \n",
       "10  (wooden star christmas scandinavian)            0.011285   \n",
       "11           (poppy's playhouse bedroom)            0.011875   \n",
       "12           (poppy's playhouse kitchen)            0.011784   \n",
       "13     (green regency teacup and saucer)            0.017766   \n",
       "14     (green regency teacup and saucer)            0.015002   \n",
       "15     (roses regency teacup and saucer)            0.015546   \n",
       "16     (green regency teacup and saucer)            0.027148   \n",
       "17     (roses regency teacup and saucer)            0.028689   \n",
       "18             (regency tea plate green)            0.013823   \n",
       "19             (regency tea plate roses)            0.013823   \n",
       "20             (regency tea plate green)            0.012192   \n",
       "21             (regency tea plate roses)            0.012600   \n",
       "\n",
       "    consequent support   support  confidence       lift  leverage  conviction  \n",
       "0             0.046864  0.014775    0.860158  18.354481  0.013970    6.815824  \n",
       "1             0.046864  0.011104    0.904059  19.291256  0.010528    9.934613  \n",
       "2             0.046864  0.010968    0.920152  19.634657  0.010409   11.936898  \n",
       "3             0.046864  0.011784    0.858086  18.310257  0.011140    6.716286  \n",
       "4             0.094815  0.012146    0.867314   9.147426  0.010819    6.822003  \n",
       "5             0.023885  0.012011    0.895270  37.482435  0.011690    9.320323  \n",
       "6             0.010741  0.010016    0.920833  85.726864  0.009899   12.495897  \n",
       "7             0.010877  0.010016    0.932489  85.726864  0.009899   14.651378  \n",
       "8             0.046864  0.011376    0.859589  18.342333  0.010756    6.788190  \n",
       "9             0.032088  0.011285    0.882979  27.517009  0.010875    8.271244  \n",
       "10            0.023205  0.010470    0.927711  39.978539  0.010208   13.512328  \n",
       "11            0.019172  0.010152    0.854962  44.595456  0.009925    6.762554  \n",
       "12            0.019761  0.010152    0.861538  43.598589  0.009919    7.079506  \n",
       "13            0.046003  0.015546    0.875000  19.020690  0.014728    7.631980  \n",
       "14            0.046003  0.013642    0.909366  19.767726  0.012952   10.525772  \n",
       "15            0.048314  0.013642    0.877551  18.163495  0.012891    7.772102  \n",
       "16            0.046003  0.024565    0.904841  19.669380  0.023316   10.025342  \n",
       "17            0.048314  0.024565    0.856240  17.722404  0.023179    6.619970  \n",
       "18            0.017268  0.012600    0.911475  52.784235  0.012361   11.101232  \n",
       "19            0.020169  0.012192    0.881967  43.729718  0.011913    8.301349  \n",
       "20            0.017268  0.011557    0.947955  54.896818  0.011347   18.882494  \n",
       "21            0.020169  0.011557    0.917266  45.479913  0.011303   11.843180  "
      ],
      "text/html": "<div>\n<style scoped>\n    .dataframe tbody tr th:only-of-type {\n        vertical-align: middle;\n    }\n\n    .dataframe tbody tr th {\n        vertical-align: top;\n    }\n\n    .dataframe thead th {\n        text-align: right;\n    }\n</style>\n<table border=\"1\" class=\"dataframe\">\n  <thead>\n    <tr style=\"text-align: right;\">\n      <th></th>\n      <th>antecedents</th>\n      <th>consequents</th>\n      <th>antecedent support</th>\n      <th>consequent support</th>\n      <th>support</th>\n      <th>confidence</th>\n      <th>lift</th>\n      <th>leverage</th>\n      <th>conviction</th>\n    </tr>\n  </thead>\n  <tbody>\n    <tr>\n      <th>0</th>\n      <td>(charlotte bag pink polkadot, strawberry charl...</td>\n      <td>(red retrospot charlotte bag)</td>\n      <td>0.017177</td>\n      <td>0.046864</td>\n      <td>0.014775</td>\n      <td>0.860158</td>\n      <td>18.354481</td>\n      <td>0.013970</td>\n      <td>6.815824</td>\n    </tr>\n    <tr>\n      <th>1</th>\n      <td>(charlotte bag pink polkadot, charlotte bag su...</td>\n      <td>(red retrospot charlotte bag)</td>\n      <td>0.012282</td>\n      <td>0.046864</td>\n      <td>0.011104</td>\n      <td>0.904059</td>\n      <td>19.291256</td>\n      <td>0.010528</td>\n      <td>9.934613</td>\n    </tr>\n    <tr>\n      <th>2</th>\n      <td>(charlotte bag pink polkadot, strawberry charl...</td>\n      <td>(red retrospot charlotte bag)</td>\n      <td>0.011920</td>\n      <td>0.046864</td>\n      <td>0.010968</td>\n      <td>0.920152</td>\n      <td>19.634657</td>\n      <td>0.010409</td>\n      <td>11.936898</td>\n    </tr>\n    <tr>\n      <th>3</th>\n      <td>(woodland charlotte bag, charlotte bag suki de...</td>\n      <td>(red retrospot charlotte bag)</td>\n      <td>0.013733</td>\n      <td>0.046864</td>\n      <td>0.011784</td>\n      <td>0.858086</td>\n      <td>18.310257</td>\n      <td>0.011140</td>\n      <td>6.716286</td>\n    </tr>\n    <tr>\n      <th>4</th>\n      <td>(jumbo shopper vintage red paisley, jumbo stor...</td>\n      <td>(jumbo bag red retrospot)</td>\n      <td>0.014005</td>\n      <td>0.094815</td>\n      <td>0.012146</td>\n      <td>0.867314</td>\n      <td>9.147426</td>\n      <td>0.010819</td>\n      <td>6.822003</td>\n    </tr>\n    <tr>\n      <th>5</th>\n      <td>(set/20 red retrospot paper napkins, set/6 red...</td>\n      <td>(set/6 red spotty paper plates)</td>\n      <td>0.013416</td>\n      <td>0.023885</td>\n      <td>0.012011</td>\n      <td>0.895270</td>\n      <td>37.482435</td>\n      <td>0.011690</td>\n      <td>9.320323</td>\n    </tr>\n    <tr>\n      <th>6</th>\n      <td>(herb marker rosemary)</td>\n      <td>(herb marker thyme)</td>\n      <td>0.010877</td>\n      <td>0.010741</td>\n      <td>0.010016</td>\n      <td>0.920833</td>\n      <td>85.726864</td>\n      <td>0.009899</td>\n      <td>12.495897</td>\n    </tr>\n    <tr>\n      <th>7</th>\n      <td>(herb marker thyme)</td>\n      <td>(herb marker rosemary)</td>\n      <td>0.010741</td>\n      <td>0.010877</td>\n      <td>0.010016</td>\n      <td>0.932489</td>\n      <td>85.726864</td>\n      <td>0.009899</td>\n      <td>14.651378</td>\n    </tr>\n    <tr>\n      <th>8</th>\n      <td>(charlotte bag pink polkadot, charlotte bag su...</td>\n      <td>(red retrospot charlotte bag)</td>\n      <td>0.013234</td>\n      <td>0.046864</td>\n      <td>0.011376</td>\n      <td>0.859589</td>\n      <td>18.342333</td>\n      <td>0.010756</td>\n      <td>6.788190</td>\n    </tr>\n    <tr>\n      <th>9</th>\n      <td>(suki  shoulder bag, jumbo bag red retrospot)</td>\n      <td>(dotcom postage)</td>\n      <td>0.012781</td>\n      <td>0.032088</td>\n      <td>0.011285</td>\n      <td>0.882979</td>\n      <td>27.517009</td>\n      <td>0.010875</td>\n      <td>8.271244</td>\n    </tr>\n    <tr>\n      <th>10</th>\n      <td>(wooden tree christmas scandinavian, wooden he...</td>\n      <td>(wooden star christmas scandinavian)</td>\n      <td>0.011285</td>\n      <td>0.023205</td>\n      <td>0.010470</td>\n      <td>0.927711</td>\n      <td>39.978539</td>\n      <td>0.010208</td>\n      <td>13.512328</td>\n    </tr>\n    <tr>\n      <th>11</th>\n      <td>(poppy's playhouse kitchen, poppy's playhouse ...</td>\n      <td>(poppy's playhouse bedroom)</td>\n      <td>0.011875</td>\n      <td>0.019172</td>\n      <td>0.010152</td>\n      <td>0.854962</td>\n      <td>44.595456</td>\n      <td>0.009925</td>\n      <td>6.762554</td>\n    </tr>\n    <tr>\n      <th>12</th>\n      <td>(poppy's playhouse livingroom, poppy's playhou...</td>\n      <td>(poppy's playhouse kitchen)</td>\n      <td>0.011784</td>\n      <td>0.019761</td>\n      <td>0.010152</td>\n      <td>0.861538</td>\n      <td>43.598589</td>\n      <td>0.009919</td>\n      <td>7.079506</td>\n    </tr>\n    <tr>\n      <th>13</th>\n      <td>(regency cakestand 3 tier, pink regency teacup...</td>\n      <td>(green regency teacup and saucer)</td>\n      <td>0.017766</td>\n      <td>0.046003</td>\n      <td>0.015546</td>\n      <td>0.875000</td>\n      <td>19.020690</td>\n      <td>0.014728</td>\n      <td>7.631980</td>\n    </tr>\n    <tr>\n      <th>14</th>\n      <td>(roses regency teacup and saucer, regency cake...</td>\n      <td>(green regency teacup and saucer)</td>\n      <td>0.015002</td>\n      <td>0.046003</td>\n      <td>0.013642</td>\n      <td>0.909366</td>\n      <td>19.767726</td>\n      <td>0.012952</td>\n      <td>10.525772</td>\n    </tr>\n    <tr>\n      <th>15</th>\n      <td>(regency cakestand 3 tier, pink regency teacup...</td>\n      <td>(roses regency teacup and saucer)</td>\n      <td>0.015546</td>\n      <td>0.048314</td>\n      <td>0.013642</td>\n      <td>0.877551</td>\n      <td>18.163495</td>\n      <td>0.012891</td>\n      <td>7.772102</td>\n    </tr>\n    <tr>\n      <th>16</th>\n      <td>(roses regency teacup and saucer, pink regency...</td>\n      <td>(green regency teacup and saucer)</td>\n      <td>0.027148</td>\n      <td>0.046003</td>\n      <td>0.024565</td>\n      <td>0.904841</td>\n      <td>19.669380</td>\n      <td>0.023316</td>\n      <td>10.025342</td>\n    </tr>\n    <tr>\n      <th>17</th>\n      <td>(pink regency teacup and saucer, green regency...</td>\n      <td>(roses regency teacup and saucer)</td>\n      <td>0.028689</td>\n      <td>0.048314</td>\n      <td>0.024565</td>\n      <td>0.856240</td>\n      <td>17.722404</td>\n      <td>0.023179</td>\n      <td>6.619970</td>\n    </tr>\n    <tr>\n      <th>18</th>\n      <td>(regency tea plate pink)</td>\n      <td>(regency tea plate green)</td>\n      <td>0.013823</td>\n      <td>0.017268</td>\n      <td>0.012600</td>\n      <td>0.911475</td>\n      <td>52.784235</td>\n      <td>0.012361</td>\n      <td>11.101232</td>\n    </tr>\n    <tr>\n      <th>19</th>\n      <td>(regency tea plate pink)</td>\n      <td>(regency tea plate roses)</td>\n      <td>0.013823</td>\n      <td>0.020169</td>\n      <td>0.012192</td>\n      <td>0.881967</td>\n      <td>43.729718</td>\n      <td>0.011913</td>\n      <td>8.301349</td>\n    </tr>\n    <tr>\n      <th>20</th>\n      <td>(regency tea plate roses, regency tea plate pink)</td>\n      <td>(regency tea plate green)</td>\n      <td>0.012192</td>\n      <td>0.017268</td>\n      <td>0.011557</td>\n      <td>0.947955</td>\n      <td>54.896818</td>\n      <td>0.011347</td>\n      <td>18.882494</td>\n    </tr>\n    <tr>\n      <th>21</th>\n      <td>(regency tea plate pink, regency tea plate green)</td>\n      <td>(regency tea plate roses)</td>\n      <td>0.012600</td>\n      <td>0.020169</td>\n      <td>0.011557</td>\n      <td>0.917266</td>\n      <td>45.479913</td>\n      <td>0.011303</td>\n      <td>11.843180</td>\n    </tr>\n  </tbody>\n</table>\n</div>"
     },
     "metadata": {},
     "execution_count": 24
    }
   ],
   "source": [
    "association_rules(fi2, min_threshold=0.85)"
   ]
  },
  {
   "source": [
    "8. (*) Rerun the experiments from point 4 with apriori()\n",
    "Do the results match with the ones found by FP-Growth?  \n",
    "Is Apriori faster or slower than FP-Growth?\n",
    "You can measure how long a function call takes with the following code snippet:\n",
    "```\n",
    "    import timeit\n",
    "    # number=1 means that it executes the function only once\n",
    "    timeit.timeit(lambda: apriori(df, 0.01), number=1)\n"
   ],
   "cell_type": "markdown",
   "metadata": {}
  },
  {
   "cell_type": "code",
   "execution_count": 158,
   "metadata": {},
   "outputs": [
    {
     "output_type": "stream",
     "text": [
      "\u001b[1;31mSignature:\u001b[0m\n",
      " \u001b[0mapriori\u001b[0m\u001b[1;33m(\u001b[0m\u001b[1;33m\n",
      "\u001b[0m    \u001b[0mdf\u001b[0m\u001b[1;33m,\u001b[0m\u001b[1;33m\n",
      "\u001b[0m    \u001b[0mmin_support\u001b[0m\u001b[1;33m=\u001b[0m\u001b[1;36m0.5\u001b[0m\u001b[1;33m,\u001b[0m\u001b[1;33m\n",
      "\u001b[0m    \u001b[0muse_colnames\u001b[0m\u001b[1;33m=\u001b[0m\u001b[1;32mFalse\u001b[0m\u001b[1;33m,\u001b[0m\u001b[1;33m\n",
      "\u001b[0m    \u001b[0mmax_len\u001b[0m\u001b[1;33m=\u001b[0m\u001b[1;32mNone\u001b[0m\u001b[1;33m,\u001b[0m\u001b[1;33m\n",
      "\u001b[0m    \u001b[0mverbose\u001b[0m\u001b[1;33m=\u001b[0m\u001b[1;36m0\u001b[0m\u001b[1;33m,\u001b[0m\u001b[1;33m\n",
      "\u001b[0m    \u001b[0mlow_memory\u001b[0m\u001b[1;33m=\u001b[0m\u001b[1;32mFalse\u001b[0m\u001b[1;33m,\u001b[0m\u001b[1;33m\n",
      "\u001b[0m\u001b[1;33m)\u001b[0m\u001b[1;33m\u001b[0m\u001b[1;33m\u001b[0m\u001b[0m\n",
      "\u001b[1;31mDocstring:\u001b[0m\n",
      "Get frequent itemsets from a one-hot DataFrame\n",
      "\n",
      "Parameters\n",
      "-----------\n",
      "df : pandas DataFrame\n",
      "  pandas DataFrame the encoded format. Also supports\n",
      "  DataFrames with sparse data; for more info, please\n",
      "  see (https://pandas.pydata.org/pandas-docs/stable/\n",
      "       user_guide/sparse.html#sparse-data-structures)\n",
      "\n",
      "  Please note that the old pandas SparseDataFrame format\n",
      "  is no longer supported in mlxtend >= 0.17.2.\n",
      "\n",
      "  The allowed values are either 0/1 or True/False.\n",
      "  For example,\n",
      "\n",
      "```\n",
      "         Apple  Bananas   Beer  Chicken   Milk   Rice\n",
      "    0     True    False   True     True  False   True\n",
      "    1     True    False   True    False  False   True\n",
      "    2     True    False   True    False  False  False\n",
      "    3     True     True  False    False  False  False\n",
      "    4    False    False   True     True   True   True\n",
      "    5    False    False   True    False   True   True\n",
      "    6    False    False   True    False   True  False\n",
      "    7     True     True  False    False  False  False\n",
      "```\n",
      "\n",
      "min_support : float (default: 0.5)\n",
      "  A float between 0 and 1 for minumum support of the itemsets returned.\n",
      "  The support is computed as the fraction\n",
      "  `transactions_where_item(s)_occur / total_transactions`.\n",
      "\n",
      "use_colnames : bool (default: False)\n",
      "  If `True`, uses the DataFrames' column names in the returned DataFrame\n",
      "  instead of column indices.\n",
      "\n",
      "max_len : int (default: None)\n",
      "  Maximum length of the itemsets generated. If `None` (default) all\n",
      "  possible itemsets lengths (under the apriori condition) are evaluated.\n",
      "\n",
      "verbose : int (default: 0)\n",
      "  Shows the number of iterations if >= 1 and `low_memory` is `True`. If\n",
      "  >=1 and `low_memory` is `False`, shows the number of combinations.\n",
      "\n",
      "low_memory : bool (default: False)\n",
      "  If `True`, uses an iterator to search for combinations above\n",
      "  `min_support`.\n",
      "  Note that while `low_memory=True` should only be used for large dataset\n",
      "  if memory resources are limited, because this implementation is approx.\n",
      "  3-6x slower than the default.\n",
      "\n",
      "\n",
      "Returns\n",
      "-----------\n",
      "pandas DataFrame with columns ['support', 'itemsets'] of all itemsets\n",
      "  that are >= `min_support` and < than `max_len`\n",
      "  (if `max_len` is not None).\n",
      "  Each itemset in the 'itemsets' column is of type `frozenset`,\n",
      "  which is a Python built-in type that behaves similarly to\n",
      "  sets except that it is immutable\n",
      "  (For more info, see\n",
      "  https://docs.python.org/3.6/library/stdtypes.html#frozenset).\n",
      "\n",
      "Examples\n",
      "-----------\n",
      "For usage examples, please see\n",
      "http://rasbt.github.io/mlxtend/user_guide/frequent_patterns/apriori/\n",
      "\u001b[1;31mFile:\u001b[0m      c:\\programdata\\anaconda3\\lib\\site-packages\\mlxtend\\frequent_patterns\\apriori.py\n",
      "\u001b[1;31mType:\u001b[0m      function\n"
     ],
     "name": "stdout"
    }
   ],
   "source": [
    "? apriori"
   ]
  },
  {
   "cell_type": "code",
   "execution_count": 25,
   "metadata": {},
   "outputs": [
    {
     "output_type": "execute_result",
     "data": {
      "text/plain": [
       "      support           itemsets\n",
       "0    0.065899                (0)\n",
       "1    0.037527                (3)\n",
       "2    0.036213                (7)\n",
       "3    0.052438               (19)\n",
       "4    0.023885               (50)\n",
       "..        ...                ...\n",
       "299  0.020305       (3720, 2655)\n",
       "300  0.021347       (3844, 2655)\n",
       "301  0.023794       (4048, 2813)\n",
       "302  0.020350       (3844, 3189)\n",
       "303  0.024565  (4048, 642, 2612)\n",
       "\n",
       "[304 rows x 2 columns]"
      ],
      "text/html": "<div>\n<style scoped>\n    .dataframe tbody tr th:only-of-type {\n        vertical-align: middle;\n    }\n\n    .dataframe tbody tr th {\n        vertical-align: top;\n    }\n\n    .dataframe thead th {\n        text-align: right;\n    }\n</style>\n<table border=\"1\" class=\"dataframe\">\n  <thead>\n    <tr style=\"text-align: right;\">\n      <th></th>\n      <th>support</th>\n      <th>itemsets</th>\n    </tr>\n  </thead>\n  <tbody>\n    <tr>\n      <th>0</th>\n      <td>0.065899</td>\n      <td>(0)</td>\n    </tr>\n    <tr>\n      <th>1</th>\n      <td>0.037527</td>\n      <td>(3)</td>\n    </tr>\n    <tr>\n      <th>2</th>\n      <td>0.036213</td>\n      <td>(7)</td>\n    </tr>\n    <tr>\n      <th>3</th>\n      <td>0.052438</td>\n      <td>(19)</td>\n    </tr>\n    <tr>\n      <th>4</th>\n      <td>0.023885</td>\n      <td>(50)</td>\n    </tr>\n    <tr>\n      <th>...</th>\n      <td>...</td>\n      <td>...</td>\n    </tr>\n    <tr>\n      <th>299</th>\n      <td>0.020305</td>\n      <td>(3720, 2655)</td>\n    </tr>\n    <tr>\n      <th>300</th>\n      <td>0.021347</td>\n      <td>(3844, 2655)</td>\n    </tr>\n    <tr>\n      <th>301</th>\n      <td>0.023794</td>\n      <td>(4048, 2813)</td>\n    </tr>\n    <tr>\n      <th>302</th>\n      <td>0.020350</td>\n      <td>(3844, 3189)</td>\n    </tr>\n    <tr>\n      <th>303</th>\n      <td>0.024565</td>\n      <td>(4048, 642, 2612)</td>\n    </tr>\n  </tbody>\n</table>\n<p>304 rows × 2 columns</p>\n</div>"
     },
     "metadata": {},
     "execution_count": 25
    }
   ],
   "source": [
    "ap_fi = apriori(df, min_support= 0.02)\n",
    "ap_fi"
   ]
  },
  {
   "cell_type": "code",
   "execution_count": 162,
   "metadata": {},
   "outputs": [
    {
     "output_type": "stream",
     "text": [
      "\u001b[1;31mSignature:\u001b[0m\n",
      " \u001b[0mtimeit\u001b[0m\u001b[1;33m.\u001b[0m\u001b[0mtimeit\u001b[0m\u001b[1;33m(\u001b[0m\u001b[1;33m\n",
      "\u001b[0m    \u001b[0mstmt\u001b[0m\u001b[1;33m=\u001b[0m\u001b[1;34m'pass'\u001b[0m\u001b[1;33m,\u001b[0m\u001b[1;33m\n",
      "\u001b[0m    \u001b[0msetup\u001b[0m\u001b[1;33m=\u001b[0m\u001b[1;34m'pass'\u001b[0m\u001b[1;33m,\u001b[0m\u001b[1;33m\n",
      "\u001b[0m    \u001b[0mtimer\u001b[0m\u001b[1;33m=\u001b[0m\u001b[1;33m<\u001b[0m\u001b[0mbuilt\u001b[0m\u001b[1;33m-\u001b[0m\u001b[1;32min\u001b[0m \u001b[0mfunction\u001b[0m \u001b[0mperf_counter\u001b[0m\u001b[1;33m>\u001b[0m\u001b[1;33m,\u001b[0m\u001b[1;33m\n",
      "\u001b[0m    \u001b[0mnumber\u001b[0m\u001b[1;33m=\u001b[0m\u001b[1;36m1000000\u001b[0m\u001b[1;33m,\u001b[0m\u001b[1;33m\n",
      "\u001b[0m    \u001b[0mglobals\u001b[0m\u001b[1;33m=\u001b[0m\u001b[1;32mNone\u001b[0m\u001b[1;33m,\u001b[0m\u001b[1;33m\n",
      "\u001b[0m\u001b[1;33m)\u001b[0m\u001b[1;33m\u001b[0m\u001b[1;33m\u001b[0m\u001b[0m\n",
      "\u001b[1;31mDocstring:\u001b[0m Convenience function to create Timer object and call timeit method.\n",
      "\u001b[1;31mFile:\u001b[0m      c:\\programdata\\anaconda3\\lib\\timeit.py\n",
      "\u001b[1;31mType:\u001b[0m      function\n"
     ],
     "name": "stdout"
    }
   ],
   "source": [
    "? timeit.timeit"
   ]
  },
  {
   "cell_type": "code",
   "execution_count": 26,
   "metadata": {},
   "outputs": [
    {
     "output_type": "execute_result",
     "data": {
      "text/plain": [
       "63.1158604000002"
      ]
     },
     "metadata": {},
     "execution_count": 26
    }
   ],
   "source": [
    "timeit.timeit(lambda: apriori(df, 0.02), number=1)\n"
   ]
  },
  {
   "cell_type": "code",
   "execution_count": 27,
   "metadata": {},
   "outputs": [
    {
     "output_type": "execute_result",
     "data": {
      "text/plain": [
       "8.867982900000015"
      ]
     },
     "metadata": {},
     "execution_count": 27
    }
   ],
   "source": [
    "timeit.timeit(lambda: fpgrowth(df, 0.02), number=1)\n"
   ]
  },
  {
   "source": [
    "## 2.2 Apriori implementation"
   ],
   "cell_type": "markdown",
   "metadata": {}
  },
  {
   "cell_type": "code",
   "execution_count": 2,
   "metadata": {},
   "outputs": [],
   "source": [
    " from itertools import combinations, permutations\n",
    " from collections import defaultdict"
   ]
  },
  {
   "cell_type": "code",
   "execution_count": 3,
   "metadata": {},
   "outputs": [],
   "source": [
    "data = [\n",
    "    {'a','b'},\n",
    "    {'b','c','d'},\n",
    "    {'a','c','d','e'},\n",
    "    {'a','d','e'},\n",
    "    {'a','b','c'},\n",
    "    {'a','b','c','d'},\n",
    "    {'b','c'},\n",
    "    {'a','b','c'},\n",
    "    {'a','b','d'},\n",
    "    {'b','c','e'}\n",
    "]"
   ]
  },
  {
   "cell_type": "code",
   "execution_count": 229,
   "metadata": {},
   "outputs": [],
   "source": [
    "def scan(data, itemset, limit):\n",
    "    \"\"\"Scans dataset and computes support for given itemsets\n",
    "    Parameters:\n",
    "    data: list of all transactions\n",
    "    itemset: list of transactions to be evaluated\n",
    "    limit: float; minsup threshold\n",
    "\n",
    "    Returns:\n",
    "    a list of dictionaries, where each row is a frequent item with values as support \n",
    "    \"\"\"\n",
    "    N = len(data)\n",
    "    C = defaultdict(lambda: 0)\n",
    "    for items in itemset:\n",
    "        #items = line.split(\"_\")\n",
    "        support_count = 0\n",
    "        for t in data:\n",
    "            if len(t) >= len(items):\n",
    "                # only the transactions with same or larger N. of items\n",
    "                support_count += all([x in t for x in items])\n",
    "        if support_count/N >= limit:\n",
    "            C[tuple(items)] = support_count/N\n",
    "    return dict(C)\n"
   ]
  },
  {
   "cell_type": "code",
   "execution_count": 220,
   "metadata": {},
   "outputs": [],
   "source": [
    "def prune_by_subset(f_subsets, new_cands):\n",
    "    for items in new_cands:\n",
    "        combs = combinations(items, len(items) - 1)\n",
    "        all_combs = [tuple(i) for i in combs]\n",
    "        for c in all_combs:\n",
    "            if c not in f_subsets:\n",
    "                if items in new_cands:\n",
    "                    new_cands.remove(items)\n",
    "                continue\n",
    "    return new_cands\n"
   ]
  },
  {
   "cell_type": "code",
   "execution_count": 187,
   "metadata": {},
   "outputs": [],
   "source": [
    "def pref_matching(itemset):\n",
    "    new_cands = []\n",
    "    pref_main = \"\"\n",
    "\n",
    "    # Edge case, when creating candidates for level 2\n",
    "    if len(itemset[0]) == 1:\n",
    "        combs = combinations([t for l in itemset for t in l], 2)\n",
    "        return list(combs)\n",
    "\n",
    "    for i in range(len(itemset)):\n",
    "        main_pref = itemset[i][:-1]\n",
    "        for j in range(i+1, len(itemset)):\n",
    "            pref = itemset[j][:-1]\n",
    "            if set(pref) == set(main_pref):\n",
    "                new_cand = itemset[i] + (itemset[j][-1],)\n",
    "                new_cands.append(new_cand)\n",
    "    return new_cands\n",
    "\n",
    "#pref_matching([('a', 'b'), ('a', 'c'), ('a', 'd'), ('a', 'e'), ('b', 'c'), ('b', 'd'), ('c', 'd'), ('c', 'e'), ('d', 'e')])\n",
    "\n"
   ]
  },
  {
   "cell_type": "code",
   "execution_count": 210,
   "metadata": {},
   "outputs": [],
   "source": [
    "def main_apriori(data,minsup = 0.1):\n",
    "    \"\"\" Apriori algorithm to find frequent transactions\n",
    "    __parameters:__  \n",
    "         data: unorderd list of transactions with unique, unordered items  \n",
    "         minsup: minimum support level for a transaction to be frequent  \n",
    "         where support(t) = freq(t) / |data|\n",
    "\n",
    "     __returns:__\n",
    "         A list of dictionaries,  \n",
    "         where keys are the tuples representing frequent transactions and values as their Support.\n",
    "    \"\"\"\n",
    "\n",
    "    from itertools import combinations\n",
    "    from collections import defaultdict\n",
    "\n",
    "    # level: 1\n",
    "    candidates = []\n",
    "    fr_items = []\n",
    "    new_cands = [tuple([w], ) for w in sorted(set([x for subset in data for x in subset ]))]\n",
    "    fr_items.append(scan(data, new_cands, minsup))\n",
    "    if fr_items[0] == {}:\n",
    "        return fr_items\n",
    "\n",
    "    # levels > 1\n",
    "    i = 0\n",
    "    while(fr_items[i] != {}):\n",
    "        i += 1\n",
    "        prev_fr_items = list(fr_items[i-1].keys())\n",
    "        new_cands = pref_matching(prev_fr_items)\n",
    "        new_cands = prune_by_subset(prev_fr_items, new_cands)\n",
    "        fr_items.append(scan(data, new_cands, minsup))\n",
    "\n",
    "    return fr_items[:-1]\n",
    "\n"
   ]
  },
  {
   "cell_type": "code",
   "execution_count": 8,
   "metadata": {},
   "outputs": [],
   "source": [
    "from pprint import PrettyPrinter\n",
    "pp = PrettyPrinter(width=20, compact=True, indent = 4)"
   ]
  },
  {
   "cell_type": "code",
   "execution_count": 230,
   "metadata": {},
   "outputs": [
    {
     "output_type": "stream",
     "name": "stdout",
     "text": [
      "[   {   ('a',): 0.7,\n        ('b',): 0.8,\n        ('c',): 0.7,\n        ('d',): 0.5,\n        ('e',): 0.3},\n    {   ('a', 'b'): 0.5,\n        ('a', 'c'): 0.4,\n        ('a', 'd'): 0.4,\n        ('a', 'e'): 0.2,\n        ('b', 'c'): 0.6,\n        ('b', 'd'): 0.3,\n        ('c', 'd'): 0.3,\n        ('c', 'e'): 0.2,\n        ('d', 'e'): 0.2},\n    {   ('a', 'b', 'c'): 0.3,\n        ('a', 'b', 'd'): 0.2,\n        ('a', 'c', 'd'): 0.2,\n        ('a', 'd', 'e'): 0.2,\n        ('b', 'c', 'd'): 0.2}]\n"
     ]
    }
   ],
   "source": [
    "fi = main_apriori(data, 0.2)\n",
    "pp.pprint(fi)"
   ]
  },
  {
   "cell_type": "code",
   "execution_count": 66,
   "metadata": {},
   "outputs": [],
   "source": [
    "file = \"coco.json\"\n",
    "with open(file) as f:\n",
    "    coco_data = json.load(f)"
   ]
  },
  {
   "cell_type": "code",
   "execution_count": 67,
   "metadata": {},
   "outputs": [],
   "source": [
    "coco_data_items = [set(image['annotations']) for image in coco_data]"
   ]
  },
  {
   "cell_type": "code",
   "execution_count": 68,
   "metadata": {},
   "outputs": [
    {
     "output_type": "execute_result",
     "data": {
      "text/plain": [
       "[{'car', 'stop sign', 'train'},\n",
       " {'bench', 'chair', 'dining table', 'person', 'potted plant'}]"
      ]
     },
     "metadata": {},
     "execution_count": 68
    }
   ],
   "source": [
    "coco_data_items[:2]"
   ]
  },
  {
   "cell_type": "code",
   "execution_count": 222,
   "metadata": {},
   "outputs": [
    {
     "output_type": "execute_result",
     "data": {
      "text/plain": [
       "144"
      ]
     },
     "metadata": {},
     "execution_count": 222
    }
   ],
   "source": [
    "coco_fi = main_apriori(coco_data_items, 0.02)\n",
    "#pp.pprint(coco_fi)\n",
    "sum([len(x) for x in coco_fi])"
   ]
  },
  {
   "cell_type": "code",
   "execution_count": 75,
   "metadata": {},
   "outputs": [],
   "source": [
    "global_itemset = set([x for t in coco_data_items for x in t ])"
   ]
  },
  {
   "cell_type": "code",
   "execution_count": 76,
   "metadata": {},
   "outputs": [
    {
     "output_type": "execute_result",
     "data": {
      "text/plain": [
       "78"
      ]
     },
     "metadata": {},
     "execution_count": 76
    }
   ],
   "source": [
    "global_itemset.__len__()"
   ]
  },
  {
   "cell_type": "code",
   "execution_count": 77,
   "metadata": {},
   "outputs": [],
   "source": [
    "\n",
    "mat = []\n",
    "for inv in coco_data_items:\n",
    "    row = []\n",
    "    for gx in global_itemset:\n",
    "        if gx in inv:\n",
    "            row.append(1)\n",
    "        else:\n",
    "            row.append(0)\n",
    "    mat.append(row)   "
   ]
  },
  {
   "cell_type": "code",
   "execution_count": 78,
   "metadata": {},
   "outputs": [
    {
     "output_type": "execute_result",
     "data": {
      "text/plain": [
       "   person  scissors  mouse  tennis racket  banana  car  vase  skateboard  \\\n",
       "0       0         0      0              0       0    1     0           0   \n",
       "1       1         0      0              0       0    0     0           0   \n",
       "2       0         0      0              0       0    0     0           0   \n",
       "3       1         0      0              0       0    0     0           0   \n",
       "4       0         0      0              0       0    0     0           0   \n",
       "\n",
       "   fire hydrant  oven  ...  umbrella  bird  fork  couch  handbag  toothbrush  \\\n",
       "0             0     0  ...         0     0     0      0        0           0   \n",
       "1             0     0  ...         0     0     0      0        0           0   \n",
       "2             0     0  ...         0     0     0      0        0           0   \n",
       "3             1     0  ...         0     0     0      0        0           0   \n",
       "4             1     0  ...         0     0     0      0        0           0   \n",
       "\n",
       "   airplane  bear  clock  horse  \n",
       "0         0     0      0      0  \n",
       "1         0     0      0      0  \n",
       "2         0     0      0      0  \n",
       "3         0     0      0      0  \n",
       "4         0     0      0      0  \n",
       "\n",
       "[5 rows x 78 columns]"
      ],
      "text/html": "<div>\n<style scoped>\n    .dataframe tbody tr th:only-of-type {\n        vertical-align: middle;\n    }\n\n    .dataframe tbody tr th {\n        vertical-align: top;\n    }\n\n    .dataframe thead th {\n        text-align: right;\n    }\n</style>\n<table border=\"1\" class=\"dataframe\">\n  <thead>\n    <tr style=\"text-align: right;\">\n      <th></th>\n      <th>person</th>\n      <th>scissors</th>\n      <th>mouse</th>\n      <th>tennis racket</th>\n      <th>banana</th>\n      <th>car</th>\n      <th>vase</th>\n      <th>skateboard</th>\n      <th>fire hydrant</th>\n      <th>oven</th>\n      <th>...</th>\n      <th>umbrella</th>\n      <th>bird</th>\n      <th>fork</th>\n      <th>couch</th>\n      <th>handbag</th>\n      <th>toothbrush</th>\n      <th>airplane</th>\n      <th>bear</th>\n      <th>clock</th>\n      <th>horse</th>\n    </tr>\n  </thead>\n  <tbody>\n    <tr>\n      <th>0</th>\n      <td>0</td>\n      <td>0</td>\n      <td>0</td>\n      <td>0</td>\n      <td>0</td>\n      <td>1</td>\n      <td>0</td>\n      <td>0</td>\n      <td>0</td>\n      <td>0</td>\n      <td>...</td>\n      <td>0</td>\n      <td>0</td>\n      <td>0</td>\n      <td>0</td>\n      <td>0</td>\n      <td>0</td>\n      <td>0</td>\n      <td>0</td>\n      <td>0</td>\n      <td>0</td>\n    </tr>\n    <tr>\n      <th>1</th>\n      <td>1</td>\n      <td>0</td>\n      <td>0</td>\n      <td>0</td>\n      <td>0</td>\n      <td>0</td>\n      <td>0</td>\n      <td>0</td>\n      <td>0</td>\n      <td>0</td>\n      <td>...</td>\n      <td>0</td>\n      <td>0</td>\n      <td>0</td>\n      <td>0</td>\n      <td>0</td>\n      <td>0</td>\n      <td>0</td>\n      <td>0</td>\n      <td>0</td>\n      <td>0</td>\n    </tr>\n    <tr>\n      <th>2</th>\n      <td>0</td>\n      <td>0</td>\n      <td>0</td>\n      <td>0</td>\n      <td>0</td>\n      <td>0</td>\n      <td>0</td>\n      <td>0</td>\n      <td>0</td>\n      <td>0</td>\n      <td>...</td>\n      <td>0</td>\n      <td>0</td>\n      <td>0</td>\n      <td>0</td>\n      <td>0</td>\n      <td>0</td>\n      <td>0</td>\n      <td>0</td>\n      <td>0</td>\n      <td>0</td>\n    </tr>\n    <tr>\n      <th>3</th>\n      <td>1</td>\n      <td>0</td>\n      <td>0</td>\n      <td>0</td>\n      <td>0</td>\n      <td>0</td>\n      <td>0</td>\n      <td>0</td>\n      <td>1</td>\n      <td>0</td>\n      <td>...</td>\n      <td>0</td>\n      <td>0</td>\n      <td>0</td>\n      <td>0</td>\n      <td>0</td>\n      <td>0</td>\n      <td>0</td>\n      <td>0</td>\n      <td>0</td>\n      <td>0</td>\n    </tr>\n    <tr>\n      <th>4</th>\n      <td>0</td>\n      <td>0</td>\n      <td>0</td>\n      <td>0</td>\n      <td>0</td>\n      <td>0</td>\n      <td>0</td>\n      <td>0</td>\n      <td>1</td>\n      <td>0</td>\n      <td>...</td>\n      <td>0</td>\n      <td>0</td>\n      <td>0</td>\n      <td>0</td>\n      <td>0</td>\n      <td>0</td>\n      <td>0</td>\n      <td>0</td>\n      <td>0</td>\n      <td>0</td>\n    </tr>\n  </tbody>\n</table>\n<p>5 rows × 78 columns</p>\n</div>"
     },
     "metadata": {},
     "execution_count": 78
    }
   ],
   "source": [
    "df = pd.DataFrame(data = mat, columns= global_itemset)\n",
    "df.head()"
   ]
  },
  {
   "cell_type": "code",
   "execution_count": 88,
   "metadata": {},
   "outputs": [
    {
     "output_type": "stream",
     "name": "stdout",
     "text": [
      "    support                      itemsets\n0    0.3704                         (car)\n1    0.1332                   (stop sign)\n2    0.5886                      (person)\n3    0.4338                       (bench)\n4    0.1346                (fire hydrant)\n5    0.1286                       (truck)\n6    0.3230               (traffic light)\n7    0.1230                     (handbag)\n8    0.2386                 (car, person)\n9    0.3208               (person, bench)\n10   0.1032                  (car, truck)\n11   0.1978          (traffic light, car)\n12   0.1902       (traffic light, person)\n13   0.1362  (traffic light, car, person)\n14   0.1224             (person, handbag)\n"
     ]
    }
   ],
   "source": [
    "print(fpgrowth(df, 0.1, use_colnames= True).to_string())"
   ]
  },
  {
   "cell_type": "code",
   "execution_count": 83,
   "metadata": {},
   "outputs": [
    {
     "output_type": "stream",
     "name": "stdout",
     "text": [
      "     support                                       itemsets\n0     0.5886                                       (person)\n1     0.0214                                (tennis racket)\n2     0.3704                                          (car)\n3     0.0344                                   (skateboard)\n4     0.1346                                 (fire hydrant)\n5     0.3230                                (traffic light)\n6     0.0354                                   (cell phone)\n7     0.4338                                        (bench)\n8     0.0602                                        (chair)\n9     0.0852                                     (backpack)\n10    0.0300                               (baseball glove)\n11    0.1286                                        (truck)\n12    0.0368                                  (sports ball)\n13    0.0762                                      (bicycle)\n14    0.0276                                          (dog)\n15    0.0410                                   (motorcycle)\n16    0.0492                                        (train)\n17    0.0202                                     (suitcase)\n18    0.1332                                    (stop sign)\n19    0.0386                                 (dining table)\n20    0.0554                                (parking meter)\n21    0.0912                                          (bus)\n22    0.0280                                       (bottle)\n23    0.0334                                 (baseball bat)\n24    0.0418                                 (potted plant)\n25    0.0222                                          (cup)\n26    0.0474                                     (umbrella)\n27    0.0200                                         (bird)\n28    0.1230                                      (handbag)\n29    0.0332                                        (clock)\n30    0.0212                        (tennis racket, person)\n31    0.2386                                  (car, person)\n32    0.0342                           (person, skateboard)\n33    0.0538                         (person, fire hydrant)\n34    0.1902                        (traffic light, person)\n35    0.0350                           (person, cell phone)\n36    0.3208                                (person, bench)\n37    0.0474                                (person, chair)\n38    0.0826                             (person, backpack)\n39    0.0298                       (person, baseball glove)\n40    0.0828                                (truck, person)\n41    0.0360                          (sports ball, person)\n42    0.0666                              (person, bicycle)\n43    0.0202                                  (person, dog)\n44    0.0342                           (person, motorcycle)\n45    0.0268                                (person, train)\n46    0.0470                            (stop sign, person)\n47    0.0292                         (person, dining table)\n48    0.0274                        (person, parking meter)\n49    0.0762                                  (person, bus)\n50    0.0226                               (person, bottle)\n51    0.0332                         (person, baseball bat)\n52    0.0228                         (potted plant, person)\n53    0.0430                             (person, umbrella)\n54    0.1224                              (person, handbag)\n55    0.0224                                (clock, person)\n56    0.0210                         (tennis racket, bench)\n57    0.0622                            (car, fire hydrant)\n58    0.1978                           (traffic light, car)\n59    0.0712                                   (car, bench)\n60    0.0356                                (car, backpack)\n61    0.1032                                   (car, truck)\n62    0.0420                                 (car, bicycle)\n63    0.0302                              (car, motorcycle)\n64    0.0576                               (stop sign, car)\n65    0.0390                           (car, parking meter)\n66    0.0656                                     (car, bus)\n67    0.0204                                (car, umbrella)\n68    0.0574                                 (car, handbag)\n69    0.0254                            (skateboard, bench)\n70    0.0204                  (traffic light, fire hydrant)\n71    0.0210                          (truck, fire hydrant)\n72    0.0352                      (traffic light, backpack)\n73    0.0778                         (traffic light, truck)\n74    0.0348                       (traffic light, bicycle)\n75    0.0244                    (traffic light, motorcycle)\n76    0.0276                         (traffic light, train)\n77    0.0668                           (traffic light, bus)\n78    0.0518                       (traffic light, handbag)\n79    0.0240                            (cell phone, bench)\n80    0.0506                                 (bench, chair)\n81    0.0400                              (backpack, bench)\n82    0.0292                        (baseball glove, bench)\n83    0.0350                           (sports ball, bench)\n84    0.0252                               (bench, bicycle)\n85    0.0206                                   (dog, bench)\n86    0.0206                                 (train, bench)\n87    0.0340                          (dining table, bench)\n88    0.0244                                (bottle, bench)\n89    0.0324                          (bench, baseball bat)\n90    0.0286                          (potted plant, bench)\n91    0.0272                              (umbrella, bench)\n92    0.0584                               (handbag, bench)\n93    0.0316                            (backpack, handbag)\n94    0.0242                 (baseball glove, baseball bat)\n95    0.0230                                   (truck, bus)\n96    0.0208                                 (bus, handbag)\n97    0.0208                 (tennis racket, person, bench)\n98    0.0318                    (car, person, fire hydrant)\n99    0.1362                   (traffic light, car, person)\n100   0.0604                           (car, person, bench)\n101   0.0350                        (car, person, backpack)\n102   0.0656                           (truck, car, person)\n103   0.0388                         (car, person, bicycle)\n104   0.0252                      (car, person, motorcycle)\n105   0.0278                       (stop sign, car, person)\n106   0.0212                   (car, person, parking meter)\n107   0.0544                             (car, person, bus)\n108   0.0572                         (car, person, handbag)\n109   0.0254                    (person, skateboard, bench)\n110   0.0348              (traffic light, person, backpack)\n111   0.0520                 (traffic light, truck, person)\n112   0.0328               (traffic light, person, bicycle)\n113   0.0220            (traffic light, person, motorcycle)\n114   0.0558                   (traffic light, person, bus)\n115   0.0518               (traffic light, person, handbag)\n116   0.0238                    (person, cell phone, bench)\n117   0.0394                         (person, bench, chair)\n118   0.0380                      (person, backpack, bench)\n119   0.0290                (person, baseball glove, bench)\n120   0.0342                   (sports ball, person, bench)\n121   0.0220                       (person, bench, bicycle)\n122   0.0254                  (person, dining table, bench)\n123   0.0202                        (person, bottle, bench)\n124   0.0322                  (person, bench, baseball bat)\n125   0.0238                      (person, umbrella, bench)\n126   0.0580                       (person, handbag, bench)\n127   0.0314                    (backpack, person, handbag)\n128   0.0242         (person, baseball glove, baseball bat)\n129   0.0208                         (person, bus, handbag)\n130   0.0226                 (traffic light, car, backpack)\n131   0.0660                    (traffic light, car, truck)\n132   0.0260                  (traffic light, car, bicycle)\n133   0.0200               (traffic light, car, motorcycle)\n134   0.0526                      (traffic light, car, bus)\n135   0.0366                  (traffic light, car, handbag)\n136   0.0202                              (car, truck, bus)\n137   0.0238          (baseball glove, bench, baseball bat)\n138   0.0224         (traffic light, car, person, backpack)\n139   0.0436            (traffic light, car, person, truck)\n140   0.0246          (traffic light, car, person, bicycle)\n141   0.0438              (traffic light, car, person, bus)\n142   0.0366          (traffic light, car, person, handbag)\n143   0.0238  (person, baseball glove, bench, baseball bat)\n"
     ]
    }
   ],
   "source": [
    "print(apriori(df, 0.02, use_colnames= True).to_string())"
   ]
  },
  {
   "cell_type": "code",
   "execution_count": 233,
   "metadata": {},
   "outputs": [
    {
     "output_type": "execute_result",
     "data": {
      "text/plain": [
       "3.0361205699999116"
      ]
     },
     "metadata": {},
     "execution_count": 233
    }
   ],
   "source": [
    "timeit.timeit(lambda: main_apriori(coco_data_items, 0.02), number= 10)/10"
   ]
  },
  {
   "cell_type": "code",
   "execution_count": 224,
   "metadata": {},
   "outputs": [
    {
     "output_type": "execute_result",
     "data": {
      "text/plain": [
       "0.38145710000026156"
      ]
     },
     "metadata": {},
     "execution_count": 224
    }
   ],
   "source": [
    "timeit.timeit(lambda: apriori(df, 0.02, use_colnames= True), number= 1)"
   ]
  },
  {
   "cell_type": "code",
   "execution_count": 225,
   "metadata": {},
   "outputs": [
    {
     "output_type": "execute_result",
     "data": {
      "text/plain": [
       "0.22929500000100234"
      ]
     },
     "metadata": {},
     "execution_count": 225
    }
   ],
   "source": [
    "timeit.timeit(lambda: fpgrowth(df, 0.02, use_colnames= True), number= 1)"
   ]
  },
  {
   "cell_type": "code",
   "execution_count": 1,
   "metadata": {},
   "outputs": [
    {
     "output_type": "execute_result",
     "data": {
      "text/plain": [
       "4"
      ]
     },
     "metadata": {},
     "execution_count": 1
    }
   ],
   "source": [
    "2 + 2 "
   ]
  }
 ]
}